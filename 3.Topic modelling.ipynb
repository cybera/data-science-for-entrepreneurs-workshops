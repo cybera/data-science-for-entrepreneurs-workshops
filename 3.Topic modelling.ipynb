{
 "cells": [
  {
   "cell_type": "markdown",
   "metadata": {},
   "source": [
    "### Step1. Getting the cleaned tiwitter data from object storage and displaying first 5 rows"
   ]
  },
  {
   "cell_type": "code",
   "execution_count": 1,
   "metadata": {},
   "outputs": [
    {
     "data": {
      "text/html": [
       "<div>\n",
       "<style>\n",
       "    .dataframe thead tr:only-child th {\n",
       "        text-align: right;\n",
       "    }\n",
       "\n",
       "    .dataframe thead th {\n",
       "        text-align: left;\n",
       "    }\n",
       "\n",
       "    .dataframe tbody tr th {\n",
       "        vertical-align: top;\n",
       "    }\n",
       "</style>\n",
       "<table border=\"1\" class=\"dataframe\">\n",
       "  <thead>\n",
       "    <tr style=\"text-align: right;\">\n",
       "      <th></th>\n",
       "      <th>created_at_date</th>\n",
       "      <th>hashtags_string</th>\n",
       "      <th>user_string</th>\n",
       "      <th>user_location</th>\n",
       "      <th>lang</th>\n",
       "      <th>longitude</th>\n",
       "      <th>latitude</th>\n",
       "      <th>name</th>\n",
       "      <th>screen_name</th>\n",
       "      <th>extended_tweet</th>\n",
       "      <th>extended_tweet_cleaned</th>\n",
       "    </tr>\n",
       "  </thead>\n",
       "  <tbody>\n",
       "    <tr>\n",
       "      <th>0</th>\n",
       "      <td>2018-11-02 21:01:56</td>\n",
       "      <td></td>\n",
       "      <td>Symin16</td>\n",
       "      <td>Toronto ✈ Calgary</td>\n",
       "      <td>en</td>\n",
       "      <td>NaN</td>\n",
       "      <td>NaN</td>\n",
       "      <td>♠</td>\n",
       "      <td>jessmayumba85</td>\n",
       "      <td>@Symin16 I’d like to know who</td>\n",
       "      <td>I’d like to know who</td>\n",
       "    </tr>\n",
       "    <tr>\n",
       "      <th>1</th>\n",
       "      <td>2018-11-02 21:02:01</td>\n",
       "      <td></td>\n",
       "      <td>TwoCanSamAdams</td>\n",
       "      <td>YYC</td>\n",
       "      <td>en</td>\n",
       "      <td>NaN</td>\n",
       "      <td>NaN</td>\n",
       "      <td>hannahrae cuddleslug</td>\n",
       "      <td>thimblewad</td>\n",
       "      <td>@TwoCanSamAdams Legit. There are still chunks ...</td>\n",
       "      <td>Legit. There are still chunks in the sink an...</td>\n",
       "    </tr>\n",
       "    <tr>\n",
       "      <th>2</th>\n",
       "      <td>2018-11-02 21:02:05</td>\n",
       "      <td>job Calgary SupplyChain Hiring CareerArc</td>\n",
       "      <td></td>\n",
       "      <td>Calgary</td>\n",
       "      <td>en</td>\n",
       "      <td>51.004583</td>\n",
       "      <td>-114.007914</td>\n",
       "      <td>TMJ - CAL Manuf Jobs</td>\n",
       "      <td>tmj_cal_manuf</td>\n",
       "      <td>Can you recommend anyone for this #job in #Cal...</td>\n",
       "      <td>Can you recommend anyone for this   in  , AB? ...</td>\n",
       "    </tr>\n",
       "    <tr>\n",
       "      <th>3</th>\n",
       "      <td>2018-11-02 21:02:10</td>\n",
       "      <td></td>\n",
       "      <td></td>\n",
       "      <td>🌎📱</td>\n",
       "      <td>en</td>\n",
       "      <td>NaN</td>\n",
       "      <td>NaN</td>\n",
       "      <td>Sunny Rai</td>\n",
       "      <td>TheSunsRay</td>\n",
       "      <td>Kids See Ghosts:  love this track</td>\n",
       "      <td>Kids See Ghosts:  love this track</td>\n",
       "    </tr>\n",
       "    <tr>\n",
       "      <th>4</th>\n",
       "      <td>2018-11-02 21:02:13</td>\n",
       "      <td>Calgary job</td>\n",
       "      <td></td>\n",
       "      <td>Calgary</td>\n",
       "      <td>en</td>\n",
       "      <td>50.997882</td>\n",
       "      <td>-114.074005</td>\n",
       "      <td>TMJ-CAL Retail Jobs</td>\n",
       "      <td>tmj_cal_retail</td>\n",
       "      <td>See our latest #Calgary, AB #job and click to ...</td>\n",
       "      <td>See our latest  , AB   and click to apply: bar...</td>\n",
       "    </tr>\n",
       "  </tbody>\n",
       "</table>\n",
       "</div>"
      ],
      "text/plain": [
       "      created_at_date                           hashtags_string  \\\n",
       "0 2018-11-02 21:01:56                                             \n",
       "1 2018-11-02 21:02:01                                             \n",
       "2 2018-11-02 21:02:05  job Calgary SupplyChain Hiring CareerArc   \n",
       "3 2018-11-02 21:02:10                                             \n",
       "4 2018-11-02 21:02:13                               Calgary job   \n",
       "\n",
       "      user_string      user_location lang  longitude    latitude  \\\n",
       "0         Symin16  Toronto ✈ Calgary   en        NaN         NaN   \n",
       "1  TwoCanSamAdams                YYC   en        NaN         NaN   \n",
       "2                            Calgary   en  51.004583 -114.007914   \n",
       "3                                 🌎📱   en        NaN         NaN   \n",
       "4                            Calgary   en  50.997882 -114.074005   \n",
       "\n",
       "                   name     screen_name  \\\n",
       "0                     ♠   jessmayumba85   \n",
       "1  hannahrae cuddleslug      thimblewad   \n",
       "2  TMJ - CAL Manuf Jobs   tmj_cal_manuf   \n",
       "3             Sunny Rai      TheSunsRay   \n",
       "4   TMJ-CAL Retail Jobs  tmj_cal_retail   \n",
       "\n",
       "                                      extended_tweet  \\\n",
       "0                      @Symin16 I’d like to know who   \n",
       "1  @TwoCanSamAdams Legit. There are still chunks ...   \n",
       "2  Can you recommend anyone for this #job in #Cal...   \n",
       "3                  Kids See Ghosts:  love this track   \n",
       "4  See our latest #Calgary, AB #job and click to ...   \n",
       "\n",
       "                              extended_tweet_cleaned  \n",
       "0                               I’d like to know who  \n",
       "1    Legit. There are still chunks in the sink an...  \n",
       "2  Can you recommend anyone for this   in  , AB? ...  \n",
       "3                  Kids See Ghosts:  love this track  \n",
       "4  See our latest  , AB   and click to apply: bar...  "
      ]
     },
     "execution_count": 1,
     "metadata": {},
     "output_type": "execute_result"
    }
   ],
   "source": [
    "import urllib.request\n",
    "import pandas as pd \n",
    "\n",
    "import gensim\n",
    "import gensim.corpora as corpora\n",
    "from gensim.utils import simple_preprocess\n",
    "\n",
    "import nltk\n",
    "from nltk.corpus import wordnet as wn\n",
    "\n",
    "target_url=\"https://swift-yeg.cloud.cybera.ca:8080/v1/AUTH_233e84cd313945c992b4b585f7b9125d/geeky-summit/tweets_cleaned.csv\"\n",
    "file_name=\"tweets_cleaned1.csv\"\n",
    "urllib.request.urlretrieve(target_url, file_name)\n",
    "\n",
    "tweets = pd.read_csv(file_name,parse_dates=['created_at_date']) \n",
    "tweets.head()"
   ]
  },
  {
   "cell_type": "markdown",
   "metadata": {},
   "source": [
    "### Step2 Prepare data for LDA\n",
    "#### Subsetting by day"
   ]
  },
  {
   "cell_type": "code",
   "execution_count": 2,
   "metadata": {
    "collapsed": true
   },
   "outputs": [],
   "source": [
    "tweets_subset_nov5=tweets.loc[tweets[\"created_at_date\"].dt.day==5]"
   ]
  },
  {
   "cell_type": "markdown",
   "metadata": {},
   "source": [
    "#### Splitting \"extended_tweet_cleaned\" column into tokens (words)"
   ]
  },
  {
   "cell_type": "code",
   "execution_count": 3,
   "metadata": {},
   "outputs": [
    {
     "name": "stdout",
     "output_type": "stream",
     "text": [
      "['Here some the   :)  ', 'this is the most beautiful picture i have ever seen']\n"
     ]
    }
   ],
   "source": [
    "data=tweets_subset_nov5[\"extended_tweet_cleaned\"].tolist()\n",
    "print (data[:2])"
   ]
  },
  {
   "cell_type": "code",
   "execution_count": 4,
   "metadata": {},
   "outputs": [
    {
     "name": "stdout",
     "output_type": "stream",
     "text": [
      "[['here', 'some'], ['this', 'most', 'beautiful', 'picture', 'have', 'ever', 'seen']]\n"
     ]
    }
   ],
   "source": [
    "def sent_to_words(sentences):\n",
    "    for sentence in sentences:\n",
    "        yield(gensim.utils.simple_preprocess(sentence,min_len=4, max_len=15))  \n",
    "\n",
    "data_tokens = list(sent_to_words(data))\n",
    "\n",
    "print(data_tokens[:2])"
   ]
  },
  {
   "cell_type": "markdown",
   "metadata": {},
   "source": [
    "#### Excluding stopwords and lemmatizing"
   ]
  },
  {
   "cell_type": "code",
   "execution_count": 5,
   "metadata": {},
   "outputs": [
    {
     "name": "stdout",
     "output_type": "stream",
     "text": [
      "[nltk_data] Downloading package stopwords to\n",
      "[nltk_data]     /Users/tatianameleshko/nltk_data...\n",
      "[nltk_data]   Package stopwords is already up-to-date!\n",
      "{\"you've\", 'some', 'yourselves', 't', 'we', 'hadn', 'above', 'this', 'same', 'further', 'our', 'y', 'while', 'were', 'yourself', 'his', 'wasn', 'they', 'not', 'so', \"you'd\", 'are', 's', 'isn', 'over', 'for', 'or', \"doesn't\", \"shouldn't\", 'against', 'whom', 'does', 'down', 'each', 'nor', 'me', 'where', 'a', 'up', 'own', 'you', \"don't\", 'below', 'been', 'very', 'will', 'having', 'at', 'ourselves', 'has', 'shan', 'itself', 'yours', 'mustn', 'theirs', 'too', \"you're\", 'no', 'ain', 'under', 'on', 'when', 'mightn', 'than', 'more', \"didn't\", 'here', 'wouldn', 'your', 'am', 'do', 're', \"won't\", 'have', 'herself', 'from', 'by', 'doesn', 'i', 'all', 'won', 'about', 'was', 'did', 'as', 'of', 'such', 'only', 'but', 'doing', 'both', 'these', \"wouldn't\", 'most', 'ours', 'just', 'm', \"hadn't\", 'in', \"you'll\", \"hasn't\", \"wasn't\", \"mustn't\", 'because', 'don', 'hasn', 'haven', 'd', \"shan't\", 'other', 'to', 'why', 'is', 'didn', 'into', 'off', 'out', \"it's\", 'o', \"couldn't\", 'she', \"aren't\", 'after', 'myself', 'once', \"isn't\", 'them', 'then', 'him', 'himself', \"weren't\", \"haven't\", 've', 'which', 'be', 'there', 'he', 'being', 'again', 'their', 'what', 'and', 'hers', 'who', 'if', \"she's\", \"mightn't\", 'any', 'll', 'her', 'aren', 'before', 'weren', 'it', 'between', 'ma', \"that'll\", 'had', 'with', 'how', 'that', 'through', 'now', 'an', 'the', 'couldn', 'themselves', 'my', \"should've\", 'those', 'few', 'needn', 'its', 'should', 'can', 'shouldn', 'during', \"needn't\", 'until'}\n"
     ]
    }
   ],
   "source": [
    "nltk.download('stopwords')\n",
    "\n",
    "stop_words = set(nltk.corpus.stopwords.words('english'))\n",
    "#stop_words.add('calgary')\n",
    "print(stop_words)"
   ]
  },
  {
   "cell_type": "code",
   "execution_count": 6,
   "metadata": {},
   "outputs": [
    {
     "name": "stdout",
     "output_type": "stream",
     "text": [
      "[nltk_data] Downloading package wordnet to\n",
      "[nltk_data]     /Users/tatianameleshko/nltk_data...\n",
      "[nltk_data]   Package wordnet is already up-to-date!\n"
     ]
    }
   ],
   "source": [
    "nltk.download('wordnet')\n",
    "\n",
    "def get_lemma(word):\n",
    "    lemma = wn.morphy(word)\n",
    "    if lemma is None:\n",
    "        return word\n",
    "    else:\n",
    "        return lemma"
   ]
  },
  {
   "cell_type": "code",
   "execution_count": 7,
   "metadata": {},
   "outputs": [
    {
     "name": "stdout",
     "output_type": "stream",
     "text": [
      "go\n"
     ]
    }
   ],
   "source": [
    "print(get_lemma(\"goes\"))"
   ]
  },
  {
   "cell_type": "code",
   "execution_count": 8,
   "metadata": {
    "scrolled": false
   },
   "outputs": [
    {
     "name": "stdout",
     "output_type": "stream",
     "text": [
      "[[], ['beautiful', 'picture', 'ever', 'see']]\n"
     ]
    }
   ],
   "source": [
    "def tokens_to_lda(data_tokens):\n",
    "    for data_token in data_tokens:\n",
    "        tokens = [token for token in data_token if token not in stop_words]\n",
    "        tokens = [get_lemma(token) for token in tokens]\n",
    "        yield tokens\n",
    "tokens = list(tokens_to_lda(data_tokens))\n",
    "print(tokens[:2])"
   ]
  },
  {
   "cell_type": "markdown",
   "metadata": {},
   "source": [
    "#### Creating dictionary and corpus objects for LDA model"
   ]
  },
  {
   "cell_type": "code",
   "execution_count": 9,
   "metadata": {},
   "outputs": [],
   "source": [
    "from gensim import corpora\n",
    "\n",
    "dictionary = corpora.Dictionary(tokens)\n",
    "corpus = [dictionary.doc2bow(text) for text in tokens]"
   ]
  },
  {
   "cell_type": "markdown",
   "metadata": {},
   "source": [
    "### Step3 Building LDA model with 7 topics and displaying top 8 words for every topic"
   ]
  },
  {
   "cell_type": "code",
   "execution_count": 10,
   "metadata": {},
   "outputs": [
    {
     "name": "stdout",
     "output_type": "stream",
     "text": [
      "(0, '0.026*\"calgary\" + 0.018*\"click\" + 0.017*\"want\" + 0.015*\"work\" + 0.012*\"alberta\" + 0.012*\"latest\" + 0.012*\"apply\" + 0.012*\"like\"')\n",
      "(1, '0.013*\"anyone\" + 0.013*\"would\" + 0.009*\"recommend\" + 0.008*\"check\" + 0.008*\"come\" + 0.008*\"make\" + 0.007*\"work\" + 0.007*\"calgary\"')\n",
      "(2, '0.008*\"scotty\" + 0.006*\"support\" + 0.006*\"ever\" + 0.005*\"different\" + 0.005*\"say\" + 0.005*\"think\" + 0.005*\"need\" + 0.005*\"like\"')\n",
      "(3, '0.015*\"request\" + 0.013*\"close\" + 0.011*\"good\" + 0.009*\"love\" + 0.008*\"people\" + 0.007*\"make\" + 0.006*\"open\" + 0.006*\"snow\"')\n",
      "(4, '0.013*\"great\" + 0.011*\"request\" + 0.009*\"happy\" + 0.009*\"time\" + 0.009*\"open\" + 0.008*\"birthday\" + 0.007*\"close\" + 0.007*\"amaze\"')\n",
      "(5, '0.011*\"know\" + 0.010*\"great\" + 0.010*\"interest\" + 0.010*\"could\" + 0.008*\"want\" + 0.007*\"make\" + 0.007*\"year\" + 0.006*\"years\"')\n",
      "(6, '0.011*\"know\" + 0.009*\"right\" + 0.008*\"like\" + 0.007*\"need\" + 0.006*\"contact\" + 0.006*\"canadian\" + 0.005*\"question\" + 0.005*\"people\"')\n"
     ]
    }
   ],
   "source": [
    "NUM_TOPICS = 7\n",
    "ldamodel = gensim.models.ldamodel.LdaModel(corpus, num_topics = NUM_TOPICS, id2word=dictionary, random_state=100,passes=15)\n",
    "\n",
    "topics = ldamodel.print_topics(num_words=8)\n",
    "for topic in topics:\n",
    "    print(topic)"
   ]
  },
  {
   "cell_type": "markdown",
   "metadata": {},
   "source": [
    "### Step4 Visualizing the model "
   ]
  },
  {
   "cell_type": "code",
   "execution_count": 11,
   "metadata": {},
   "outputs": [
    {
     "data": {
      "text/html": [
       "\n",
       "<link rel=\"stylesheet\" type=\"text/css\" href=\"https://cdn.rawgit.com/bmabey/pyLDAvis/files/ldavis.v1.0.0.css\">\n",
       "\n",
       "\n",
       "<div id=\"ldavis_el804141124226208807882762266\"></div>\n",
       "<script type=\"text/javascript\">\n",
       "\n",
       "var ldavis_el804141124226208807882762266_data = {\"mdsDat\": {\"Freq\": [17.79657620220203, 16.99084436147549, 14.21564843272659, 14.01382092735374, 13.123470825401629, 12.938296776817722, 10.9213424740228], \"cluster\": [1, 1, 1, 1, 1, 1, 1], \"topics\": [1, 2, 3, 4, 5, 6, 7], \"x\": [-0.002922110793386633, -0.10587940067269441, -0.10115262104572673, 0.10203667363799444, -0.04031456651516459, 0.18979984133323446, -0.04156781594425669], \"y\": [0.10123426271200714, 0.012175158299831247, -0.19461927845838609, 0.03616619053820006, 0.09032586986012109, -0.08658273992230826, 0.04130053697053502]}, \"tinfo\": {\"Category\": [\"Default\", \"Default\", \"Default\", \"Default\", \"Default\", \"Default\", \"Default\", \"Default\", \"Default\", \"Default\", \"Default\", \"Default\", \"Default\", \"Default\", \"Default\", \"Default\", \"Default\", \"Default\", \"Default\", \"Default\", \"Default\", \"Default\", \"Default\", \"Default\", \"Default\", \"Default\", \"Default\", \"Default\", \"Default\", \"Default\", \"Topic1\", \"Topic1\", \"Topic1\", \"Topic1\", \"Topic1\", \"Topic1\", \"Topic1\", \"Topic1\", \"Topic1\", \"Topic1\", \"Topic1\", \"Topic1\", \"Topic1\", \"Topic1\", \"Topic1\", \"Topic1\", \"Topic1\", \"Topic1\", \"Topic1\", \"Topic1\", \"Topic1\", \"Topic1\", \"Topic1\", \"Topic1\", \"Topic1\", \"Topic1\", \"Topic1\", \"Topic1\", \"Topic1\", \"Topic1\", \"Topic1\", \"Topic1\", \"Topic1\", \"Topic1\", \"Topic1\", \"Topic1\", \"Topic1\", \"Topic1\", \"Topic1\", \"Topic1\", \"Topic1\", \"Topic1\", \"Topic1\", \"Topic1\", \"Topic1\", \"Topic1\", \"Topic1\", \"Topic1\", \"Topic1\", \"Topic1\", \"Topic1\", \"Topic1\", \"Topic1\", \"Topic1\", \"Topic1\", \"Topic1\", \"Topic1\", \"Topic1\", \"Topic1\", \"Topic2\", \"Topic2\", \"Topic2\", \"Topic2\", \"Topic2\", \"Topic2\", \"Topic2\", \"Topic2\", \"Topic2\", \"Topic2\", \"Topic2\", \"Topic2\", \"Topic2\", \"Topic2\", \"Topic2\", \"Topic2\", \"Topic2\", \"Topic2\", \"Topic2\", \"Topic2\", \"Topic2\", \"Topic2\", \"Topic2\", \"Topic2\", \"Topic2\", \"Topic2\", \"Topic2\", \"Topic2\", \"Topic2\", \"Topic2\", \"Topic2\", \"Topic2\", \"Topic2\", \"Topic2\", \"Topic2\", \"Topic2\", \"Topic2\", \"Topic2\", \"Topic2\", \"Topic2\", \"Topic2\", \"Topic2\", \"Topic2\", \"Topic2\", \"Topic2\", \"Topic2\", \"Topic2\", \"Topic2\", \"Topic2\", \"Topic2\", \"Topic2\", \"Topic2\", \"Topic2\", \"Topic2\", \"Topic2\", \"Topic2\", \"Topic2\", \"Topic2\", \"Topic2\", \"Topic2\", \"Topic2\", \"Topic2\", \"Topic3\", \"Topic3\", \"Topic3\", \"Topic3\", \"Topic3\", \"Topic3\", \"Topic3\", \"Topic3\", \"Topic3\", \"Topic3\", \"Topic3\", \"Topic3\", \"Topic3\", \"Topic3\", \"Topic3\", \"Topic3\", \"Topic3\", \"Topic3\", \"Topic3\", \"Topic3\", \"Topic3\", \"Topic3\", \"Topic3\", \"Topic3\", \"Topic3\", \"Topic3\", \"Topic3\", \"Topic3\", \"Topic3\", \"Topic3\", \"Topic3\", \"Topic3\", \"Topic3\", \"Topic3\", \"Topic3\", \"Topic3\", \"Topic3\", \"Topic3\", \"Topic3\", \"Topic3\", \"Topic3\", \"Topic3\", \"Topic3\", \"Topic3\", \"Topic3\", \"Topic3\", \"Topic3\", \"Topic3\", \"Topic3\", \"Topic3\", \"Topic3\", \"Topic3\", \"Topic3\", \"Topic3\", \"Topic3\", \"Topic3\", \"Topic3\", \"Topic3\", \"Topic4\", \"Topic4\", \"Topic4\", \"Topic4\", \"Topic4\", \"Topic4\", \"Topic4\", \"Topic4\", \"Topic4\", \"Topic4\", \"Topic4\", \"Topic4\", \"Topic4\", \"Topic4\", \"Topic4\", \"Topic4\", \"Topic4\", \"Topic4\", \"Topic4\", \"Topic4\", \"Topic4\", \"Topic4\", \"Topic4\", \"Topic4\", \"Topic4\", \"Topic4\", \"Topic4\", \"Topic4\", \"Topic4\", \"Topic4\", \"Topic4\", \"Topic4\", \"Topic4\", \"Topic4\", \"Topic4\", \"Topic4\", \"Topic4\", \"Topic4\", \"Topic4\", \"Topic4\", \"Topic4\", \"Topic4\", \"Topic4\", \"Topic4\", \"Topic4\", \"Topic4\", \"Topic4\", \"Topic4\", \"Topic4\", \"Topic4\", \"Topic4\", \"Topic4\", \"Topic4\", \"Topic4\", \"Topic4\", \"Topic4\", \"Topic4\", \"Topic4\", \"Topic4\", \"Topic4\", \"Topic4\", \"Topic4\", \"Topic4\", \"Topic4\", \"Topic4\", \"Topic5\", \"Topic5\", \"Topic5\", \"Topic5\", \"Topic5\", \"Topic5\", \"Topic5\", \"Topic5\", \"Topic5\", \"Topic5\", \"Topic5\", \"Topic5\", \"Topic5\", \"Topic5\", \"Topic5\", \"Topic5\", \"Topic5\", \"Topic5\", \"Topic5\", \"Topic5\", \"Topic5\", \"Topic5\", \"Topic5\", \"Topic5\", \"Topic5\", \"Topic5\", \"Topic5\", \"Topic5\", \"Topic5\", \"Topic5\", \"Topic5\", \"Topic5\", \"Topic5\", \"Topic5\", \"Topic5\", \"Topic5\", \"Topic5\", \"Topic5\", \"Topic5\", \"Topic5\", \"Topic5\", \"Topic5\", \"Topic5\", \"Topic5\", \"Topic5\", \"Topic5\", \"Topic5\", \"Topic5\", \"Topic5\", \"Topic5\", \"Topic5\", \"Topic5\", \"Topic5\", \"Topic5\", \"Topic5\", \"Topic5\", \"Topic5\", \"Topic5\", \"Topic5\", \"Topic5\", \"Topic5\", \"Topic5\", \"Topic5\", \"Topic5\", \"Topic5\", \"Topic5\", \"Topic5\", \"Topic5\", \"Topic5\", \"Topic5\", \"Topic6\", \"Topic6\", \"Topic6\", \"Topic6\", \"Topic6\", \"Topic6\", \"Topic6\", \"Topic6\", \"Topic6\", \"Topic6\", \"Topic6\", \"Topic6\", \"Topic6\", \"Topic6\", \"Topic6\", \"Topic6\", \"Topic6\", \"Topic6\", \"Topic6\", \"Topic6\", \"Topic6\", \"Topic6\", \"Topic6\", \"Topic6\", \"Topic6\", \"Topic6\", \"Topic6\", \"Topic6\", \"Topic6\", \"Topic6\", \"Topic6\", \"Topic6\", \"Topic6\", \"Topic6\", \"Topic6\", \"Topic6\", \"Topic6\", \"Topic6\", \"Topic6\", \"Topic6\", \"Topic6\", \"Topic6\", \"Topic6\", \"Topic6\", \"Topic6\", \"Topic6\", \"Topic6\", \"Topic6\", \"Topic6\", \"Topic6\", \"Topic6\", \"Topic6\", \"Topic6\", \"Topic6\", \"Topic6\", \"Topic6\", \"Topic6\", \"Topic6\", \"Topic6\", \"Topic6\", \"Topic6\", \"Topic6\", \"Topic6\", \"Topic6\", \"Topic6\", \"Topic6\", \"Topic7\", \"Topic7\", \"Topic7\", \"Topic7\", \"Topic7\", \"Topic7\", \"Topic7\", \"Topic7\", \"Topic7\", \"Topic7\", \"Topic7\", \"Topic7\", \"Topic7\", \"Topic7\", \"Topic7\", \"Topic7\", \"Topic7\", \"Topic7\", \"Topic7\", \"Topic7\", \"Topic7\", \"Topic7\", \"Topic7\", \"Topic7\", \"Topic7\", \"Topic7\", \"Topic7\", \"Topic7\", \"Topic7\", \"Topic7\", \"Topic7\", \"Topic7\", \"Topic7\", \"Topic7\", \"Topic7\", \"Topic7\", \"Topic7\", \"Topic7\", \"Topic7\", \"Topic7\", \"Topic7\", \"Topic7\", \"Topic7\", \"Topic7\", \"Topic7\", \"Topic7\", \"Topic7\", \"Topic7\", \"Topic7\", \"Topic7\", \"Topic7\", \"Topic7\", \"Topic7\", \"Topic7\", \"Topic7\", \"Topic7\", \"Topic7\", \"Topic7\", \"Topic7\", \"Topic7\", \"Topic7\", \"Topic7\"], \"Freq\": [61.0, 138.0, 85.0, 66.0, 58.0, 88.0, 100.0, 114.0, 59.0, 41.0, 44.0, 111.0, 37.0, 62.0, 47.0, 57.0, 80.0, 24.0, 49.0, 24.0, 72.0, 38.0, 73.0, 62.0, 38.0, 20.0, 22.0, 47.0, 26.0, 56.0, 18.75040247708849, 17.384579230973895, 14.628833983744055, 42.86726683016324, 12.822358913752039, 12.72065587940932, 11.859091075371534, 11.53582492274015, 11.234214261585903, 10.287792287164732, 9.119760470690304, 9.395266175201689, 8.799242259464052, 8.58938052397067, 16.703819821323165, 8.269319816272724, 8.058022298429867, 8.056550986551064, 7.533065715344198, 6.679874685992081, 6.364923416634743, 6.3644873281652075, 6.3632272466388375, 6.154992082200351, 6.154706872553981, 6.1542625100844655, 6.152607223382579, 6.1486936213920265, 5.834893411443675, 5.626662627358119, 17.010199226701197, 27.00530022469015, 39.96840766539653, 11.952344895617003, 17.85703825759806, 12.057863704068158, 16.48509809196882, 28.57248342796571, 16.140921107858503, 12.881348639962575, 43.08807944798313, 44.397458439645746, 15.85620692807523, 25.17185775523382, 21.49534772081499, 22.66891240974665, 23.38016686308847, 20.671074321393064, 33.46945128955594, 29.118843875587945, 16.088582704220144, 21.524902448743646, 17.353521555284164, 19.10641420140553, 15.096076496733755, 20.372069483526644, 19.634207793072587, 16.479460091041254, 17.081526946999595, 36.53380693167408, 16.155080151300922, 10.90564924118802, 10.573838263309831, 9.989703771804976, 9.477210318569535, 8.855492348071147, 8.85540777804102, 8.749652490695306, 8.649890523396802, 8.235687890672033, 53.776888884642226, 7.315568750901017, 7.315351285109259, 7.002946805792998, 6.492010928057501, 6.383952733737528, 6.181377772668978, 5.978182476489324, 5.978011013076592, 5.978011013076592, 5.977751726940265, 5.871288281759852, 5.667411313963725, 5.460170596452777, 5.357670325926005, 22.650368865031627, 5.1531316673447, 5.153081947601712, 4.640121035848091, 8.216176376578186, 11.58635713105325, 7.822928524505382, 15.392030791002592, 8.775886857513841, 15.125757869109735, 33.446112382010725, 51.05512792600227, 14.311669101617598, 27.706182731882627, 13.57752875150823, 23.72573534659312, 31.72863447125709, 22.630051612299088, 17.5711523333599, 15.02334635064755, 23.323862280788237, 15.575123047547997, 21.961091521893746, 31.090054537828543, 29.344040282623105, 17.864690261229665, 21.20621199824219, 26.53665356248991, 28.865054218797223, 21.3006869446462, 17.96331006845094, 21.25568081916219, 16.178551587354942, 16.889813420962174, 14.653848736925891, 16.640898730088367, 61.23111418296939, 23.916948409216932, 14.319816087925972, 11.023671876680826, 10.092902686487143, 38.741215400157074, 7.391734542616716, 7.074418275778474, 6.970768890902898, 6.657421225374491, 6.558184421304814, 6.451357589475349, 6.24559797456213, 6.0409969050939845, 6.038246331596033, 6.0377327616185354, 5.824988828275537, 5.619049988714607, 5.41373007678742, 12.35779916046505, 5.2079311957366325, 5.2079059254500795, 5.099684951350134, 4.689005861358193, 4.68846274458411, 4.6871343050586685, 4.684980499097022, 4.684025671038935, 4.581038367671062, 4.6712972220886995, 7.833487143275897, 7.690684365187791, 9.363352623873455, 13.340894949864838, 88.1895678451717, 41.228685560173695, 18.428515866414276, 41.310673255415516, 30.868483890637055, 51.271769237428124, 56.341977760221205, 11.055957194781723, 12.948792630678918, 16.538270440502007, 38.487420858241826, 15.239324838431365, 8.968446469201, 21.411492025552366, 8.90236583618422, 13.009318465937573, 18.20871724661279, 13.607503470930961, 12.660279047680845, 12.165747315299427, 14.102970592688502, 12.041317201856716, 10.456465132813054, 9.734039735912926, 11.440282981445977, 9.963156902018024, 9.533333705496013, 9.115041855406004, 7.838417406993085, 7.527084083965128, 7.416828805972203, 6.674494930126066, 6.152295638089171, 6.151708109703095, 6.150687887548017, 6.04195297818364, 5.513989929200757, 5.5137737739432575, 5.304492176981311, 4.772941104025536, 4.772648297967504, 4.771533795327772, 8.425373211589246, 7.94805717905774, 4.456381346163319, 4.247049542927025, 3.927747985929786, 3.9277391710877247, 3.9276207456009034, 3.927163523575731, 3.9269810946704653, 3.9249605795684475, 10.027792689566452, 3.60803021508566, 14.323834741415375, 18.493759398609328, 10.76678689003342, 10.955265842985042, 8.916973887307854, 9.231585565074555, 43.28576484134639, 50.99889574836227, 14.036113697491235, 35.11910647774405, 8.99453836538198, 7.900099839197023, 9.80099446841298, 8.586644196384105, 15.616075257420635, 29.486802588636458, 13.2405642368679, 15.722011262803594, 25.65736691946874, 12.4141306356943, 16.49103954644293, 10.658708494775597, 19.18778793996033, 10.735156937193977, 22.268786796543573, 10.426094010877772, 13.939601141525653, 12.984906222806206, 10.844604315749299, 12.355183104053337, 11.130307910603442, 11.652123565383675, 11.067005846984268, 10.451960590025228, 10.443525935934712, 19.01384912941145, 14.682139416741833, 10.636717736236301, 7.6151162274807, 7.094289160491797, 6.780608104920981, 6.573014898555501, 6.054437444672742, 6.052406763282416, 6.051113989445732, 10.97611357799554, 5.734120245781472, 5.21854179750097, 5.218164230017297, 5.111386207550456, 5.088717084543069, 4.90551107679747, 4.904953339278812, 4.904061820619645, 15.886104500164883, 4.699738592717803, 4.6981755638286415, 4.696701902148069, 4.695808947871093, 4.590902971026724, 4.384763686596947, 4.382275043125664, 4.3720401648633915, 4.178626555593884, 5.064031636323444, 6.938935214947239, 6.5693519197167465, 7.215540004992025, 9.167390185827953, 8.435283245940973, 7.477867575929851, 6.054540091346061, 10.21175691965519, 5.93716720945143, 9.65175614952183, 13.162513560789847, 7.9898124755366755, 8.115032803277805, 18.9790612386724, 14.813188352786053, 14.04922290029856, 6.21913726215157, 9.177336863815139, 27.25421926328179, 11.28662335382706, 33.99176314079689, 10.609654187116655, 11.329799559422018, 22.034551223609938, 24.793845977885937, 10.04555831718414, 8.840807233010857, 12.41249226407771, 15.52886680027982, 11.152366529789425, 12.697720810299018, 11.516888554435546, 13.03155506866757, 11.128940836196884, 13.410875441685189, 11.11938321063584, 9.965599429905023, 9.870747443479036, 10.035060361958433, 9.953737637761105, 23.894784571801633, 21.397075720758963, 11.600672000537175, 9.902505552621914, 9.097107093207125, 8.908459989813291, 8.90462789980771, 7.306715720171409, 7.202564962959721, 10.800009339149597, 5.809150868802201, 5.8069103522818555, 5.507256836657116, 5.2059586715082835, 5.008156659091885, 5.003452706687989, 4.706987291797349, 8.107650838558463, 4.706334456519389, 4.508192757454297, 4.506260789639849, 4.505713398759089, 4.504346867678613, 4.207008882709139, 4.010242914571258, 4.0098427212382655, 4.009299930280872, 4.00695361552307, 3.706750585976016, 3.706642664697004, 7.851171142142487, 22.203327642878598, 14.534304266251597, 16.972771765762012, 9.749592776990184, 5.205636676872542, 9.106372046550256, 7.537171880894825, 28.695454256746487, 7.224038820601334, 11.206685733368785, 20.262236411191292, 40.65968509289528, 11.943535427077101, 26.27135691783687, 17.390558036435053, 32.913167868812856, 19.16228433580554, 17.769417632528782, 13.740000821999779, 14.773682862947378, 26.516231361436315, 22.610000498695197, 14.511580644814996, 14.069818158188296, 17.099524423361185, 11.092916182554907, 16.56995152268602, 17.847218613329062, 13.440509011373429, 13.751053376331663, 12.107956503294382, 12.16166096245292, 11.738143894944203, 12.079756850008625, 11.629831976286011, 19.710673019188814, 13.934420200411573, 10.345042701244317, 9.848411912171665, 8.264607977887902, 8.26408528786505, 7.964111990350245, 7.069082684339646, 7.066766719518393, 6.773672620064345, 5.480737619137345, 5.479565001406079, 4.9835769717215275, 4.98357906248162, 4.979772983075217, 4.880253101404218, 4.487360153146974, 4.4872084237003405, 4.186868645809513, 4.186286518464063, 4.1847611596373735, 3.9905597138269044, 3.9905597138269044, 3.9905597138269044, 3.9905597138269044, 3.9905597138269044, 3.8869359687764837, 3.8864622622757734, 3.6904263238251, 3.6898603252003546, 10.957441863378353, 7.513172074955193, 8.967327975970756, 5.455528428675202, 6.436088340585192, 6.960326123264819, 8.597795090214813, 10.908128598502381, 7.036933962454107, 7.632600472896592, 9.407428793691924, 8.189785647816677, 14.234615118496066, 15.099928152647474, 9.73532210146739, 13.405612016172126, 7.318573086047343, 6.994977783659786, 9.872476560823769, 10.173096201886832, 13.042044367636983, 12.310181563320008, 8.742530645662637, 10.751220040442353, 11.674615584653122, 9.423850818169893, 9.716434772161637, 8.977980697316491, 8.592362100777283, 7.791805282897012, 7.924807492711857, 7.879743847061678], \"Term\": [\"click\", \"calgary\", \"request\", \"close\", \"anyone\", \"work\", \"great\", \"want\", \"latest\", \"apply\", \"interest\", \"know\", \"recommend\", \"alberta\", \"opening\", \"open\", \"would\", \"birthday\", \"year\", \"details\", \"good\", \"concern\", \"right\", \"could\", \"team\", \"scotty\", \"link\", \"check\", \"amaze\", \"come\", \"remember\", \"gift\", \"ticket\", \"interest\", \"election\", \"american\", \"brewing\", \"sick\", \"found\", \"inner\", \"receive\", \"student\", \"catch\", \"supporting\", \"voting\", \"evidence\", \"management\", \"congratulations\", \"poppy\", \"means\", \"text\", \"million\", \"immediately\", \"vaccination\", \"fighting\", \"incredibly\", \"field\", \"trade\", \"sometimes\", \"purchase\", \"happen\", \"years\", \"could\", \"break\", \"family\", \"drinking\", \"long\", \"year\", \"another\", \"do\", \"great\", \"know\", \"live\", \"week\", \"city\", \"best\", \"still\", \"last\", \"want\", \"make\", \"please\", \"time\", \"thanks\", \"vote\", \"beautiful\", \"people\", \"like\", \"take\", \"back\", \"recommend\", \"company\", \"ride\", \"data\", \"podcast\", \"asylum\", \"leaders\", \"beer\", \"sound\", \"buying\", \"allow\", \"anyone\", \"platform\", \"administrator\", \"youth\", \"credible\", \"eagle\", \"central\", \"highly\", \"baker\", \"hughes\", \"refugee\", \"congrats\", \"dog\", \"seeker\", \"wednesday\", \"join\", \"exist\", \"learning\", \"inspire\", \"final\", \"surprise\", \"comment\", \"olympic\", \"process\", \"maybe\", \"check\", \"would\", \"miss\", \"even\", \"cool\", \"team\", \"come\", \"looking\", \"also\", \"trump\", \"much\", \"park\", \"going\", \"make\", \"work\", \"start\", \"canada\", \"need\", \"calgary\", \"love\", \"latest\", \"know\", \"opening\", \"think\", \"never\", \"like\", \"click\", \"details\", \"manager\", \"door\", \"access\", \"apply\", \"yeah\", \"chair\", \"prison\", \"lying\", \"quick\", \"okay\", \"pumpkin\", \"estate\", \"milk\", \"university\", \"lock\", \"swamp\", \"developer\", \"rally\", \"dumb\", \"role\", \"mandate\", \"engineer\", \"reasonable\", \"four\", \"edge\", \"fitness\", \"bath\", \"pattern\", \"lead\", \"dream\", \"account\", \"matter\", \"calgary\", \"latest\", \"view\", \"alberta\", \"opening\", \"work\", \"want\", \"meeting\", \"wrong\", \"show\", \"like\", \"left\", \"market\", \"right\", \"current\", \"read\", \"good\", \"going\", \"vote\", \"still\", \"great\", \"need\", \"week\", \"best\", \"streetlight\", \"health\", \"properly\", \"own\", \"immigration\", \"values\", \"information\", \"volunteer\", \"stream\", \"designer\", \"speech\", \"coach\", \"property\", \"poor\", \"attack\", \"income\", \"requirement\", \"application\", \"smoke\", \"wind\", \"cycling\", \"cheque\", \"maximum\", \"employee\", \"tone\", \"product\", \"elbow\", \"judges\", \"hill\", \"connection\", \"garbage\", \"snow\", \"least\", \"driver\", \"piece\", \"else\", \"close\", \"request\", \"learn\", \"good\", \"girl\", \"write\", \"drive\", \"tree\", \"working\", \"love\", \"iphone\", \"getting\", \"people\", \"complete\", \"concern\", \"provide\", \"open\", \"business\", \"make\", \"light\", \"looking\", \"city\", \"change\", \"today\", \"life\", \"think\", \"know\", \"right\", \"like\", \"contact\", \"mortgage\", \"effort\", \"olympics\", \"fast\", \"obama\", \"instagram\", \"sister\", \"old\", \"hook\", \"private\", \"trail\", \"boxing\", \"inspiration\", \"texas\", \"wonderful\", \"focus\", \"listening\", \"terrible\", \"question\", \"dare\", \"depression\", \"distance\", \"technical\", \"disgust\", \"huge\", \"achieve\", \"anyways\", \"indigenous\", \"abuse\", \"alternative\", \"leave\", \"afternoon\", \"thinking\", \"chocolate\", \"lady\", \"ponzi\", \"note\", \"apple\", \"message\", \"hear\", \"send\", \"coffee\", \"canadian\", \"watch\", \"kid\", \"clear\", \"care\", \"right\", \"idea\", \"know\", \"tweet\", \"shit\", \"need\", \"like\", \"group\", \"child\", \"many\", \"people\", \"really\", \"well\", \"help\", \"love\", \"thanks\", \"want\", \"today\", \"support\", \"things\", \"would\", \"could\", \"birthday\", \"link\", \"fall\", \"general\", \"resource\", \"backlane\", \"maintenance\", \"remind\", \"ahead\", \"replace\", \"duck\", \"skill\", \"boy\", \"pull\", \"alley\", \"education\", \"spring\", \"human\", \"otherwise\", \"shoot\", \"joining\", \"belong\", \"thats\", \"correct\", \"sailorgeoffrey\", \"barca\", \"studio\", \"dembele\", \"self\", \"malt\", \"space\", \"amaze\", \"season\", \"wait\", \"sidewalk\", \"death\", \"lane\", \"create\", \"happy\", \"works\", \"repair\", \"concern\", \"great\", \"point\", \"open\", \"list\", \"request\", \"better\", \"might\", \"street\", \"report\", \"time\", \"close\", \"go\", \"next\", \"year\", \"fuck\", \"well\", \"back\", \"first\", \"team\", \"try\", \"thank\", \"sign\", \"game\", \"last\", \"scotty\", \"different\", \"fuel\", \"fossil\", \"timing\", \"tire\", \"review\", \"science\", \"vehicle\", \"pic\", \"representative\", \"shopping\", \"essential\", \"kicking\", \"numbers\", \"brain\", \"chicken\", \"similar\", \"housing\", \"wild\", \"mountain\", \"stylize\", \"rouge\", \"font\", \"blanc\", \"bleu\", \"hahaha\", \"tech\", \"champion\", \"challenge\", \"walk\", \"weird\", \"order\", \"increase\", \"beat\", \"choice\", \"signal\", \"agree\", \"past\", \"safety\", \"service\", \"food\", \"ever\", \"support\", \"awesome\", \"say\", \"issue\", \"traffic\", \"tell\", \"monday\", \"think\", \"need\", \"sign\", \"right\", \"like\", \"look\", \"alberta\", \"good\", \"open\", \"post\", \"still\", \"calgary\"], \"Total\": [61.0, 138.0, 85.0, 66.0, 58.0, 88.0, 100.0, 114.0, 59.0, 41.0, 44.0, 111.0, 37.0, 62.0, 47.0, 57.0, 80.0, 24.0, 49.0, 24.0, 72.0, 38.0, 73.0, 62.0, 38.0, 20.0, 22.0, 47.0, 26.0, 56.0, 19.432144000952047, 18.06542752579286, 15.310402249345863, 44.98320805723415, 13.50327075065918, 13.403885569726848, 12.555156007518322, 12.235321099096296, 11.916304360831074, 10.968454521912147, 9.800400839458895, 10.117500927523269, 9.480793194928726, 9.271341522225477, 18.042176309830463, 8.95182021235082, 8.742385205359877, 8.74231133912724, 8.21345783075566, 7.364806395213707, 7.045389663014775, 7.0453715351153985, 7.045376601295937, 6.835909713560421, 6.835902565661711, 6.835911659312127, 6.835843637504784, 6.835547446426934, 6.51635294381531, 6.306964410899867, 19.318638758953664, 38.31192013111542, 62.020247256037884, 15.023655502817245, 25.151088463077222, 15.6047166071135, 23.06855815881285, 49.969892378215754, 23.97310971621232, 18.295022669327707, 100.38958697381291, 111.38864301425187, 24.84703659787155, 51.00765809601422, 40.554168254552266, 44.56403427896585, 53.647238051958546, 43.27995606190707, 114.57444426992946, 94.45638379963302, 29.86757805949878, 77.69134178722594, 43.444006119975704, 58.129134463404064, 29.51314019710137, 80.63074776482406, 129.7587811233945, 53.161644969152285, 71.82712488154522, 37.217623275158275, 16.84018110883718, 11.59604204826757, 11.286382961317805, 10.675381045839918, 10.161580276153575, 9.540952549361469, 9.540929854680428, 9.433999428534332, 9.337514817758228, 8.92025222510778, 58.692586997426346, 7.999727046143722, 7.999706443798968, 7.689411851021766, 7.175649929627227, 7.06873003283386, 6.865316419427048, 6.6619148337225225, 6.661915863368955, 6.661915863368955, 6.661898432638413, 6.554980569728611, 6.35158351896003, 6.148042209353177, 6.04124566918455, 25.551573854939704, 5.837829465186884, 5.837839432545628, 5.324117858710338, 9.440805602324211, 13.51809508387741, 9.042384997927986, 19.366734214911624, 10.391405334973514, 19.224637819214816, 47.38463156869513, 80.4318352562901, 18.473669818139093, 41.24662860959825, 17.76327737551109, 38.05189916196585, 56.90682310533672, 41.861697227021985, 29.74510434173438, 23.627473119150533, 46.428245599214826, 26.99087125765231, 49.97632373858531, 94.45638379963302, 88.36760191197345, 38.1974650562656, 57.31654291702357, 92.881404780059, 138.0366563529839, 85.21323169029553, 59.7662190708147, 111.38864301425187, 47.618452913561285, 64.41792628426434, 36.139831441913046, 129.7587811233945, 61.92179252170947, 24.60016409346013, 15.040570437808087, 11.70909043695609, 10.77880026786589, 41.69467529257137, 8.075220449256541, 7.761645768416326, 7.65355703673372, 7.339981070591977, 7.242518593251072, 7.134465335472748, 6.928925111175915, 6.7233798834220515, 6.723286164919663, 6.723369464523239, 6.507280821478137, 6.301745877175037, 6.0962063027445, 13.964864834218709, 5.890669595984716, 5.8906737411303185, 5.7826051033317185, 5.371547545862369, 5.371531237952491, 5.371576119652714, 5.371547281420562, 5.371402658664736, 5.263498242401595, 5.370798978332045, 9.114778027038495, 8.998862714157225, 11.178114887241751, 16.819184669882844, 138.0366563529839, 59.7662190708147, 24.994716817550866, 62.41577704068847, 47.618452913561285, 88.36760191197345, 114.57444426992946, 16.307130899265726, 20.60092715178032, 30.448897934582536, 129.7587811233945, 30.043484513530807, 13.356688572626139, 73.07502840767903, 13.561521677862679, 33.224880530654254, 72.82662252242069, 49.97632373858531, 58.129134463404064, 53.647238051958546, 100.38958697381291, 92.881404780059, 51.00765809601422, 44.56403427896585, 12.120420826677659, 10.64424743885311, 10.214835228833987, 9.796124384882193, 8.518587882734291, 8.209905627361028, 8.099842819198646, 7.3614550762378155, 6.833087797775838, 6.8330548941655325, 6.833017522020609, 6.723019827655674, 6.194312713248232, 6.194304942493787, 5.9849651280988185, 5.456137211230986, 5.456111605145346, 5.45611385836982, 9.669637306742292, 9.125397953556872, 5.136832972625705, 4.92751100217749, 4.6081154936739335, 4.608115678656489, 4.608110782374061, 4.608089615834771, 4.608062639597714, 4.608025131007649, 11.889163577049395, 4.288707657547465, 17.146586619232256, 23.151991182566988, 13.460006470380835, 13.798891811048541, 11.224789725897917, 11.874732182673236, 66.47081911668813, 85.28496202812241, 19.37441319303036, 72.82662252242069, 12.44110463422704, 10.67915369955984, 14.431325962659788, 12.051336843376898, 31.158474602694326, 85.21323169029553, 24.80473229983393, 33.92788884415403, 80.63074776482406, 22.970379077193375, 38.85995925344826, 17.880733865149836, 57.781824270524766, 18.17156959770324, 94.45638379963302, 18.663920759801165, 41.861697227021985, 40.554168254552266, 26.819140411614814, 55.451186643390514, 44.06531770914762, 64.41792628426434, 111.38864301425187, 73.07502840767903, 129.7587811233945, 19.744244014628908, 15.364679125989804, 11.321332600672715, 8.297388030465008, 7.777086188831481, 7.462827294384509, 7.256854523378648, 6.736558925594411, 6.736583868759282, 6.7364653684949864, 12.263538985209767, 6.422071873248117, 5.901962117713156, 5.901967058519458, 5.7937147034923555, 5.7927714367550545, 5.587717103856594, 5.587714462643783, 5.587720335421003, 18.12797756925716, 5.3817262735353495, 5.381713934254809, 5.381723627179619, 5.381707648821461, 5.273428330345877, 5.067443146245118, 5.067381290663557, 5.067398457456016, 4.861429786806852, 5.895020060724865, 8.163439623699473, 7.755841528250555, 8.623252097970196, 11.345243096766348, 10.469591392302226, 9.21622210984688, 7.255673098515604, 13.563154884967128, 7.157117963437964, 13.133771016550735, 19.464234889226343, 10.406988227530576, 10.724459634142482, 34.24987728177047, 24.537678891598784, 23.675655735293155, 7.634168078567473, 13.561323164877388, 73.07502840767903, 19.245433246390842, 111.38864301425187, 18.11400103777465, 21.850086411665796, 92.881404780059, 129.7587811233945, 20.10958372239045, 14.805210747525198, 39.57776556614006, 80.63074776482406, 36.28348718201049, 57.13557004615062, 42.135281074424896, 85.21323169029553, 43.444006119975704, 114.57444426992946, 55.451186643390514, 36.35995526787897, 33.5831898900456, 80.4318352562901, 62.020247256037884, 24.582259287435516, 22.086190453202146, 12.289266612301388, 10.594094413984953, 9.793088203271942, 9.595447194016144, 9.595591500137274, 7.993877763593036, 7.889981833894089, 12.017454598994954, 6.496196726086486, 6.496297335107389, 6.194655129291755, 5.893086598712898, 5.695434256903152, 5.695567887802381, 5.3938525860329545, 9.291449063716739, 5.393878372458402, 5.196218936333741, 5.1962190648833095, 5.196407013396265, 5.196303615101957, 4.894663216421171, 4.696969568239091, 4.696984447338265, 4.6969943659589735, 4.697105925311032, 4.395487344855103, 4.3955259153027075, 9.338541884690239, 26.973837437568733, 18.04328966310594, 22.538520551116573, 13.136797682154032, 6.389922409400998, 12.436724114959963, 10.06036449346213, 55.858472167371225, 9.545852267364381, 17.181227705350658, 38.85995925344826, 100.38958697381291, 19.163736218095536, 57.781824270524766, 33.14243012685211, 85.28496202812241, 39.29722940059059, 35.41716067560051, 24.94538090853357, 28.615351292461746, 77.69134178722594, 66.47081911668813, 29.555135498367463, 31.36533712368406, 49.969892378215754, 19.995782174968625, 57.13557004615062, 71.82712488154522, 34.04478801794672, 38.05189916196585, 28.488963311918184, 35.285348451164374, 28.665349310946713, 44.123087637514324, 43.27995606190707, 20.398096856324685, 14.623473238971401, 11.032497721254973, 10.535714572247413, 8.95212147504755, 8.952148508778258, 8.652057373655865, 7.762100901505321, 7.762310225686188, 7.461836663313751, 6.168162189457889, 6.168229166703823, 5.671402923525886, 5.671408737039931, 5.671581054059267, 5.568015843718041, 5.174610469621031, 5.174620997985702, 4.87454429017302, 4.874555425125323, 4.874650861956869, 4.677840101326849, 4.677840101326849, 4.677840101326849, 4.677840101326849, 4.677840101326849, 4.574457092081342, 4.574448652446027, 4.37775565372209, 4.377782378403399, 13.75853534709373, 9.399654069794138, 11.548692143269896, 6.698757070388514, 8.204072546230126, 9.03657448915276, 12.422465776202667, 18.119538675996605, 10.059351434319973, 11.35759955835741, 16.1830097863568, 13.377013472303132, 32.23183142596295, 36.35995526787897, 19.350626052664985, 38.61510494470089, 12.349751297794878, 12.206170636587617, 27.367454535463757, 31.320160656882347, 64.41792628426434, 92.881404780059, 28.665349310946713, 73.07502840767903, 129.7587811233945, 43.36848296578684, 62.41577704068847, 72.82662252242069, 57.781824270524766, 29.705040459593533, 53.647238051958546, 138.0366563529839], \"loglift\": [30.0, 29.0, 28.0, 27.0, 26.0, 25.0, 24.0, 23.0, 22.0, 21.0, 20.0, 19.0, 18.0, 17.0, 16.0, 15.0, 14.0, 13.0, 12.0, 11.0, 10.0, 9.0, 8.0, 7.0, 6.0, 5.0, 4.0, 3.0, 2.0, 1.0, 1.6905, 1.6877, 1.6806, 1.678, 1.6744, 1.6738, 1.6691, 1.6673, 1.6672, 1.6621, 1.6542, 1.6521, 1.6516, 1.6498, 1.6491, 1.6469, 1.6446, 1.6445, 1.6397, 1.6286, 1.6246, 1.6245, 1.6243, 1.6212, 1.6212, 1.6211, 1.6209, 1.6203, 1.6157, 1.612, 1.5989, 1.3764, 1.2868, 1.4975, 1.3837, 1.4683, 1.3902, 1.1672, 1.3306, 1.3753, 0.8804, 0.8063, 1.277, 1.0199, 1.0914, 1.0502, 0.8956, 0.9872, 0.4956, 0.5494, 1.1075, 0.4426, 0.8085, 0.6135, 1.0558, 0.3504, -0.1622, 0.5549, 0.2899, 1.754, 1.731, 1.7111, 1.7073, 1.7061, 1.7028, 1.6979, 1.6979, 1.6972, 1.696, 1.6926, 1.685, 1.6831, 1.6831, 1.679, 1.6724, 1.6706, 1.6676, 1.6642, 1.6642, 1.6642, 1.6641, 1.6623, 1.6585, 1.6538, 1.6524, 1.652, 1.6477, 1.6477, 1.635, 1.6336, 1.6183, 1.6276, 1.5428, 1.6035, 1.5327, 1.4241, 1.318, 1.5172, 1.3746, 1.5038, 1.3001, 1.1883, 1.1574, 1.2461, 1.3197, 1.0841, 1.2227, 0.9502, 0.6612, 0.6701, 1.0126, 0.7782, 0.5197, 0.2076, 0.3861, 0.5704, 0.1161, 0.693, 0.4338, 0.8698, -0.2813, 1.9396, 1.9227, 1.9017, 1.8905, 1.8851, 1.8774, 1.8624, 1.8581, 1.8574, 1.8532, 1.8516, 1.8502, 1.847, 1.8438, 1.8434, 1.8433, 1.8401, 1.8362, 1.8321, 1.8286, 1.8276, 1.8276, 1.8252, 1.8149, 1.8148, 1.8145, 1.8141, 1.8139, 1.812, 1.8113, 1.7993, 1.7937, 1.7737, 1.7191, 1.5028, 1.5795, 1.6461, 1.5381, 1.5173, 1.4065, 1.241, 1.5622, 1.4865, 1.3405, 0.7355, 1.2721, 1.5525, 0.7233, 1.5299, 1.0132, 0.5646, 0.6499, 0.4266, 0.467, -0.0118, -0.0922, 0.3661, 0.4295, 1.9074, 1.899, 1.8961, 1.8931, 1.8819, 1.8783, 1.877, 1.8672, 1.8602, 1.8601, 1.8599, 1.8583, 1.8488, 1.8487, 1.8444, 1.8313, 1.8313, 1.8311, 1.8274, 1.827, 1.823, 1.8165, 1.8054, 1.8054, 1.8053, 1.8052, 1.8052, 1.8047, 1.7949, 1.7923, 1.7853, 1.7405, 1.7419, 1.7344, 1.735, 1.7133, 1.5362, 1.4509, 1.6428, 1.2358, 1.6407, 1.6637, 1.5782, 1.6262, 1.2743, 0.9039, 1.3374, 1.196, 0.8201, 1.3498, 1.108, 1.4478, 0.8627, 1.4388, 0.5202, 1.3828, 0.8655, 0.8263, 1.0597, 0.4637, 0.5891, 0.2552, -0.3439, 0.0204, -0.5546, 1.9931, 1.9853, 1.9684, 1.945, 1.9389, 1.9349, 1.9318, 1.924, 1.9237, 1.9235, 1.9199, 1.9175, 1.9077, 1.9076, 1.9055, 1.9012, 1.9006, 1.9004, 1.9003, 1.8988, 1.8953, 1.8949, 1.8946, 1.8944, 1.8922, 1.8861, 1.8855, 1.8832, 1.8794, 1.8788, 1.8683, 1.8647, 1.8525, 1.8176, 1.8147, 1.8218, 1.8498, 1.747, 1.8439, 1.7227, 1.6396, 1.7665, 1.752, 1.4404, 1.5261, 1.5089, 1.8258, 1.6403, 1.0445, 1.4971, 0.8439, 1.4958, 1.374, 0.5921, 0.3757, 1.3367, 1.5152, 0.8712, 0.3836, 0.8511, 0.5268, 0.7337, 0.153, 0.6688, -0.1144, 0.424, 0.7364, 0.8063, -0.0506, 0.2013, 2.0166, 2.0133, 1.9873, 1.9775, 1.9713, 1.9707, 1.9702, 1.9551, 1.9538, 1.9382, 1.9332, 1.9328, 1.9274, 1.921, 1.9164, 1.9154, 1.9088, 1.9087, 1.9086, 1.9029, 1.9025, 1.9024, 1.9021, 1.8936, 1.8869, 1.8868, 1.8867, 1.8861, 1.8746, 1.8745, 1.8715, 1.8504, 1.8287, 1.7614, 1.7468, 1.84, 1.7333, 1.7562, 1.3789, 1.7663, 1.6177, 1.3938, 1.1412, 1.5721, 1.2568, 1.4001, 1.0929, 1.3268, 1.3553, 1.4486, 1.3839, 0.97, 0.9666, 1.3337, 1.2433, 0.9726, 1.4558, 0.8071, 0.6526, 1.1156, 1.0271, 1.1893, 0.9798, 1.1521, 0.7495, 0.7309, 2.1802, 2.1662, 2.1501, 2.147, 2.1345, 2.1345, 2.1316, 2.1209, 2.1206, 2.1177, 2.0963, 2.0961, 2.0852, 2.0852, 2.0844, 2.0826, 2.072, 2.0719, 2.0624, 2.0622, 2.0619, 2.0555, 2.0555, 2.0555, 2.0555, 2.0555, 2.0516, 2.0515, 2.0437, 2.0435, 1.9868, 1.9904, 1.9615, 2.0092, 1.9717, 1.9534, 1.8465, 1.707, 1.8571, 1.817, 1.672, 1.7238, 1.3972, 1.3357, 1.5275, 1.1565, 1.6912, 1.6577, 1.1948, 1.0899, 0.6172, 0.1936, 1.027, 0.298, -0.1938, 0.688, 0.3545, 0.1211, 0.3087, 0.8762, 0.302, -0.6488], \"logprob\": [30.0, 29.0, 28.0, 27.0, 26.0, 25.0, 24.0, 23.0, 22.0, 21.0, 20.0, 19.0, 18.0, 17.0, 16.0, 15.0, 14.0, 13.0, 12.0, 11.0, 10.0, 9.0, 8.0, 7.0, 6.0, 5.0, 4.0, 3.0, 2.0, 1.0, -5.4070000648498535, -5.482699871063232, -5.655300140380859, -4.580100059509277, -5.787099838256836, -5.795000076293945, -5.865200042724609, -5.8927998542785645, -5.919300079345703, -6.007299900054932, -6.127799987792969, -6.0980000495910645, -6.163599967956543, -6.187699794769287, -5.522600173950195, -6.2256999015808105, -6.2515997886657715, -6.251800060272217, -6.318900108337402, -6.439199924468994, -6.487400054931641, -6.487500190734863, -6.48769998550415, -6.520999908447266, -6.520999908447266, -6.521100044250488, -6.521399974822998, -6.521999835968018, -6.574399948120117, -6.6107001304626465, -5.50439977645874, -5.042200088500977, -4.650199890136719, -5.8572998046875, -5.455900192260742, -5.848499774932861, -5.535799980163574, -4.985799789428711, -5.5569000244140625, -5.78249979019165, -4.574999809265137, -4.545100212097168, -5.574699878692627, -5.112500190734863, -5.270400047302246, -5.217299938201904, -5.186399936676025, -5.309500217437744, -4.827600002288818, -4.966899871826172, -5.560100078582764, -5.269000053405762, -5.484499931335449, -5.388199806213379, -5.623799800872803, -5.324100017547607, -5.361000061035156, -5.536099910736084, -5.50029993057251, -4.693699836730957, -5.509699821472168, -5.902599811553955, -5.933499813079834, -5.9903998374938965, -6.043000221252441, -6.110899925231934, -6.110899925231934, -6.122900009155273, -6.134399890899658, -6.1834001541137695, -4.30709981918335, -6.3018999099731445, -6.3018999099731445, -6.345600128173828, -6.421299934387207, -6.4380998611450195, -6.470399856567383, -6.503799915313721, -6.503799915313721, -6.503799915313721, -6.503900051116943, -6.5218000411987305, -6.557199954986572, -6.594399929046631, -6.613399982452393, -5.1717000007629395, -6.652299880981445, -6.652299880981445, -6.757199764251709, -6.185800075531006, -5.842100143432617, -6.234899997711182, -5.55810022354126, -6.119900226593018, -5.575500011444092, -4.7820000648498535, -4.359000205993652, -5.630799770355225, -4.970300197601318, -5.683499813079834, -5.125400066375732, -4.834700107574463, -5.172599792480469, -5.4257001876831055, -5.582300186157227, -5.142399787902832, -5.546199798583984, -5.202600002288818, -4.855000019073486, -4.912799835205078, -5.40910005569458, -5.237599849700928, -5.013400077819824, -4.929299831390381, -5.2332000732421875, -5.403600215911865, -5.235300064086914, -5.508200168609619, -5.465199947357178, -5.6072001457214355, -5.480100154876709, -3.9988999366760254, -4.939000129699707, -5.451900005340576, -5.713500022888184, -5.801799774169922, -4.456699848175049, -6.1132001876831055, -6.157100200653076, -6.171899795532227, -6.217899799346924, -6.232900142669678, -6.249300003051758, -6.281700134277344, -6.315000057220459, -6.315499782562256, -6.3155999183654785, -6.351399898529053, -6.387400150299072, -6.424600124359131, -5.599299907684326, -6.463399887084961, -6.463399887084961, -6.484399795532227, -6.568399906158447, -6.56850004196167, -6.56879997253418, -6.569200038909912, -6.569399833679199, -6.591700077056885, -6.572199821472168, -6.055200099945068, -6.073599815368652, -5.876800060272217, -5.522799968719482, -3.6340999603271484, -4.394499778747559, -5.199699878692627, -4.392499923706055, -4.683899879455566, -4.176400184631348, -4.082099914550781, -5.710599899291992, -5.552599906921387, -5.3078999519348145, -4.4633002281188965, -5.389699935913086, -5.919899940490723, -5.049699783325195, -5.927299976348877, -5.547900199890137, -5.211699962615967, -5.502999782562256, -5.575099945068359, -5.614999771118164, -5.467199802398682, -5.625199794769287, -5.76639986038208, -5.8379998207092285, -5.662099838256836, -5.8003997802734375, -5.8445000648498535, -5.889400005340576, -6.040299892425537, -6.0808000564575195, -6.0954999923706055, -6.201000213623047, -6.28249979019165, -6.282599925994873, -6.282700061798096, -6.300600051879883, -6.392000198364258, -6.392000198364258, -6.430699825286865, -6.536300182342529, -6.536399841308594, -6.536600112915039, -5.9679999351501465, -6.026400089263916, -6.605000019073486, -6.65310001373291, -6.731200218200684, -6.731200218200684, -6.731299877166748, -6.731400012969971, -6.731400012969971, -6.731900215148926, -5.793900012969971, -6.816100120544434, -5.437399864196777, -5.1819000244140625, -5.722799777984619, -5.70550012588501, -5.911300182342529, -5.876699924468994, -4.331500053405762, -4.167500019073486, -5.457699775695801, -4.540500164031982, -5.902699947357178, -6.032400131225586, -5.816800117492676, -5.949100017547607, -5.35099983215332, -4.7153000831604, -5.515999794006348, -5.344200134277344, -4.854499816894531, -5.58050012588501, -5.296500205993652, -5.732900142669678, -5.144999980926514, -5.725800037384033, -4.996099948883057, -5.755000114440918, -5.464600086212158, -5.5355000495910645, -5.71560001373291, -5.58519983291626, -5.689599990844727, -5.643799781799316, -5.695300102233887, -5.752500057220459, -5.753300189971924, -5.088500022888184, -5.3470001220703125, -5.669300079345703, -6.003499984741211, -6.074399948120117, -6.11959981918335, -6.150700092315674, -6.232900142669678, -6.2332000732421875, -6.233399868011475, -5.637899875640869, -6.287199974060059, -6.381400108337402, -6.381499767303467, -6.402200222015381, -6.406599998474121, -6.443299770355225, -6.443399906158447, -6.443600177764893, -5.268199920654297, -6.486100196838379, -6.486499786376953, -6.486800193786621, -6.486999988555908, -6.5096001625061035, -6.555500030517578, -6.556099891662598, -6.5584001541137695, -6.603700160980225, -6.411499977111816, -6.096499919891357, -6.151199817657471, -6.057400226593018, -5.817999839782715, -5.901199817657471, -6.021699905395508, -6.232800006866455, -5.710100173950195, -6.252399921417236, -5.766499996185303, -5.456299781799316, -5.95550012588501, -5.939899921417236, -5.0903000831604, -5.338099956512451, -5.39109992980957, -6.205999851226807, -5.81689977645874, -4.728400230407715, -5.610000133514404, -4.507500171661377, -5.671899795532227, -5.606200218200684, -4.940999984741211, -4.8231000900268555, -5.726500034332275, -5.854300022125244, -5.514900207519531, -5.290900230407715, -5.622000217437744, -5.492199897766113, -5.589799880981445, -5.466300010681152, -5.624100208282471, -5.437600135803223, -5.625, -5.734499931335449, -5.744100093841553, -5.72760009765625, -5.7357001304626465, -4.845799922943115, -4.956200122833252, -5.568399906158447, -5.726600170135498, -5.811500072479248, -5.832399845123291, -5.832900047302246, -6.030600070953369, -6.045000076293945, -5.639900207519531, -6.260000228881836, -6.26039981842041, -6.313399791717529, -6.36959981918335, -6.408400058746338, -6.409299850463867, -6.470399856567383, -5.926599979400635, -6.4704999923706055, -6.513500213623047, -6.513999938964844, -6.514100074768066, -6.514400005340576, -6.582699775695801, -6.6305999755859375, -6.63070011138916, -6.630799770355225, -6.631400108337402, -6.7093000411987305, -6.7093000411987305, -5.958799839019775, -4.9191999435424805, -5.342899799346924, -5.18779993057251, -5.742199897766113, -6.369699954986572, -5.810500144958496, -5.999599933624268, -4.662700176239014, -6.041999816894531, -5.60290002822876, -5.010700225830078, -4.314199924468994, -5.5391998291015625, -4.750999927520752, -5.16349983215332, -4.525599956512451, -5.066500186920166, -5.142000198364258, -5.399099826812744, -5.326600074768066, -4.741700172424316, -4.901000022888184, -5.3445000648498535, -5.375400066375732, -5.1803998947143555, -5.613100051879883, -5.2118000984191895, -5.137599945068359, -5.421199798583984, -5.3983001708984375, -5.525599956512451, -5.521100044250488, -5.556600093841553, -5.527900218963623, -5.565899848937988, -4.868800163269043, -5.21560001373291, -5.513500213623047, -5.562699794769287, -5.73799991607666, -5.73799991607666, -5.775000095367432, -5.894199848175049, -5.894599914550781, -5.9369001388549805, -6.14870023727417, -6.148900032043457, -6.243800163269043, -6.243800163269043, -6.24459981918335, -6.264800071716309, -6.348700046539307, -6.348700046539307, -6.418000221252441, -6.4182000160217285, -6.418499946594238, -6.466000080108643, -6.466000080108643, -6.466000080108643, -6.466000080108643, -6.466000080108643, -6.492300033569336, -6.492499828338623, -6.5441999435424805, -6.544400215148926, -5.455900192260742, -5.8333001136779785, -5.656400203704834, -6.153299808502197, -5.98799991607666, -5.9096999168396, -5.698500156402588, -5.4604997634887695, -5.898799896240234, -5.817500114440918, -5.608500003814697, -5.747099876403809, -5.194300174713135, -5.135300159454346, -5.57420015335083, -5.254300117492676, -5.859499931335449, -5.904799938201904, -5.560200214385986, -5.530200004577637, -5.281799793243408, -5.3394999504089355, -5.68179988861084, -5.474899768829346, -5.392499923706055, -5.6066999435424805, -5.576099872589111, -5.655200004577637, -5.699100017547607, -5.796899795532227, -5.78000020980835, -5.785699844360352]}, \"token.table\": {\"Topic\": [5, 3, 2, 3, 5, 2, 4, 5, 2, 7, 6, 2, 3, 6, 7, 6, 2, 1, 2, 6, 7, 5, 7, 1, 2, 4, 6, 1, 1, 2, 4, 5, 2, 6, 5, 4, 5, 4, 3, 4, 2, 4, 1, 2, 4, 5, 7, 1, 2, 3, 4, 5, 6, 6, 2, 6, 3, 5, 7, 1, 2, 4, 5, 6, 7, 2, 6, 1, 3, 5, 7, 1, 3, 6, 7, 6, 7, 7, 5, 6, 7, 1, 3, 6, 1, 1, 2, 4, 7, 2, 2, 3, 4, 5, 6, 7, 1, 2, 3, 4, 5, 6, 7, 3, 4, 5, 7, 2, 5, 1, 2, 3, 7, 7, 1, 2, 3, 4, 5, 1, 2, 5, 6, 4, 7, 3, 4, 5, 2, 5, 1, 7, 1, 2, 4, 5, 7, 3, 4, 6, 4, 1, 5, 1, 2, 4, 5, 2, 4, 2, 4, 6, 4, 5, 6, 2, 1, 4, 5, 1, 2, 4, 6, 1, 2, 4, 5, 4, 6, 7, 2, 2, 3, 4, 4, 5, 2, 6, 7, 6, 5, 4, 3, 3, 7, 5, 5, 1, 5, 2, 3, 2, 3, 1, 2, 5, 7, 4, 6, 4, 6, 6, 3, 2, 3, 6, 5, 4, 1, 3, 4, 4, 3, 7, 3, 2, 3, 4, 5, 7, 1, 2, 3, 7, 1, 2, 6, 1, 5, 5, 1, 1, 2, 5, 1, 2, 3, 4, 5, 6, 7, 3, 5, 7, 1, 3, 6, 7, 7, 1, 3, 1, 4, 6, 7, 7, 1, 2, 3, 5, 6, 7, 2, 4, 6, 2, 3, 4, 6, 1, 1, 4, 1, 3, 4, 5, 6, 1, 2, 3, 4, 6, 1, 2, 3, 4, 5, 7, 1, 3, 6, 7, 1, 4, 5, 7, 1, 4, 1, 2, 3, 4, 5, 6, 4, 2, 4, 5, 1, 2, 4, 5, 6, 7, 2, 3, 4, 5, 7, 5, 2, 6, 7, 1, 2, 3, 5, 1, 4, 4, 1, 7, 1, 5, 4, 1, 5, 2, 5, 1, 7, 4, 6, 7, 2, 4, 7, 1, 2, 6, 4, 7, 2, 4, 5, 6, 1, 2, 4, 5, 2, 5, 4, 6, 1, 2, 4, 6, 7, 2, 3, 3, 5, 2, 1, 4, 5, 2, 3, 4, 5, 6, 1, 3, 5, 6, 1, 2, 3, 4, 5, 6, 7, 2, 4, 5, 7, 1, 2, 3, 4, 5, 6, 7, 6, 3, 4, 5, 6, 7, 5, 1, 2, 3, 5, 6, 3, 1, 3, 7, 1, 2, 3, 4, 5, 7, 1, 2, 3, 4, 6, 1, 2, 3, 4, 5, 6, 3, 6, 1, 2, 4, 5, 7, 6, 1, 3, 3, 1, 2, 3, 5, 6, 7, 3, 5, 7, 1, 3, 5, 4, 2, 5, 6, 7, 1, 3, 6, 1, 4, 5, 2, 3, 5, 6, 7, 3, 1, 1, 2, 3, 2, 3, 5, 7, 5, 7, 1, 2, 3, 4, 5, 7, 1, 2, 3, 4, 5, 7, 1, 2, 3, 4, 5, 7, 1, 2, 3, 4, 5, 6, 1, 5, 6, 7, 5, 3, 5, 2, 4, 7, 5, 2, 4, 6, 7, 2, 3, 6, 7, 6, 4, 1, 2, 3, 4, 5, 7, 3, 1, 2, 3, 4, 5, 6, 7, 7, 2, 4, 2, 1, 2, 4, 7, 2, 3, 4, 5, 6, 3, 5, 4, 1, 1, 2, 4, 5, 6, 7, 3, 1, 5, 2, 4, 4, 4, 4, 1, 2, 4, 5, 6, 3, 1, 5, 6, 3, 3, 6, 1, 2, 3, 5, 7, 1, 2, 4, 5, 6, 3, 1, 2, 2, 1, 6, 4, 6, 1, 6, 3, 4, 6, 7, 4, 6, 7, 4, 6, 7, 2, 3, 4, 5, 6, 7, 3, 7, 6, 7, 6, 1, 2, 4, 6, 7, 7, 7, 1, 6, 2, 6, 1, 5, 1, 4, 7, 2, 3, 4, 5, 6, 7, 2, 3, 4, 7, 1, 4, 6, 1, 3, 5, 6, 7, 4, 7, 7, 5, 6, 2, 4, 2, 3, 4, 1, 2, 4, 6, 4, 6, 1, 2, 4, 5, 6, 7, 1, 2, 3, 4, 7, 4, 4, 6, 7, 4, 1, 6, 7, 2, 4, 5, 7, 1, 2, 6, 3, 1, 2, 3, 4, 5, 6, 2, 6, 7, 5, 1, 3, 4, 5, 7, 5, 5, 1, 1, 3, 4, 5, 6, 7, 1, 4, 5, 6, 6, 1, 3, 5, 6, 1, 2, 3, 4, 5, 7, 4, 5, 1, 1, 2, 3, 4, 5, 6, 7, 7, 7, 1, 2, 3, 4, 5, 6, 7, 4, 1, 4, 7, 5, 4, 7, 1, 2, 3, 1, 2, 5, 6, 2, 3, 4, 5, 6, 3, 1, 4, 7, 1, 3, 5, 6, 4, 1, 2, 3, 5, 6, 7, 1, 3, 2, 3, 6, 1, 7, 1, 2, 3, 4, 5, 2, 5, 2, 1, 3, 4, 6, 5, 7, 1, 2, 3, 4, 5, 6, 7, 7, 4, 7, 5, 2, 3, 4, 5, 1, 4, 5, 6, 7, 2, 3, 6, 1, 2, 3, 4, 5, 7, 1, 3, 4, 6, 1, 3, 5, 7, 3, 1, 2, 6, 1, 4, 6, 7, 2], \"Freq\": [0.8481735343552315, 0.927747035986215, 0.08946052264513399, 0.8051447038062058, 0.7893623492216456, 0.8750321088877082, 0.11596553001568716, 0.81175871010981, 0.38632330133620185, 0.6070794735283171, 0.8872010287690562, 0.12817272137435456, 0.6568851970435672, 0.048064770515382965, 0.1602159017179432, 0.8778961839371159, 0.8968356273023815, 0.06723795543032826, 0.6051415988729544, 0.1008569331454924, 0.2017138662909848, 0.8574816894190209, 0.12249738420271727, 0.07414592026918765, 0.037072960134593824, 0.037072960134593824, 0.8156051229610641, 0.9698680231470315, 0.6674144568395173, 0.1251402106574095, 0.08342680710493966, 0.08342680710493966, 0.9200480463123544, 0.06815170713424847, 0.7893596751040016, 0.1397210448547147, 0.8383262691282882, 0.9164031634585247, 0.9353712368866566, 0.04796775573777726, 0.8856890124777655, 0.8354267557091511, 0.10335582913735022, 0.05167791456867511, 0.10335582913735022, 0.20671165827470045, 0.5167791456867511, 0.23667938857410492, 0.18099012067431552, 0.12530085277452613, 0.11137853579957878, 0.09745621882463143, 0.25060170554905226, 0.9379448209159577, 0.9006418158162957, 0.8516102288281497, 0.9499385712188692, 0.12189068226359268, 0.731344093581556, 0.5082481870727271, 0.1694160623575757, 0.03388321247151514, 0.10164963741454543, 0.03388321247151514, 0.1694160623575757, 0.9433042834483195, 0.9622033045352432, 0.5161112626388936, 0.22439620114734504, 0.15707734080314154, 0.11219810057367252, 0.15268251964627888, 0.20357669286170516, 0.48349464554654975, 0.15268251964627888, 0.9763138415949782, 0.8550954956466805, 0.8550954956466805, 0.8471758883361589, 0.9685769223259391, 0.8979859505322907, 0.7987403596780925, 0.1331233932796821, 0.06656169663984104, 0.9557826276960731, 0.22012407780699209, 0.11006203890349604, 0.6053412139692282, 0.05503101945174802, 0.9638538921388016, 0.2100891224562983, 0.6375118198673879, 0.021733357495479135, 0.036222262492465226, 0.036222262492465226, 0.05795561998794436, 0.10468181949993258, 0.366386368249764, 0.15702272924989885, 0.03489393983331086, 0.13957575933324343, 0.15702272924989885, 0.05234090974996629, 0.20438029434125174, 0.0875915547176793, 0.554746513211969, 0.14598592452946552, 0.29495646931854275, 0.6636520559667212, 0.9492876613756429, 0.8739582611256739, 0.9018705837471206, 0.9137046235402002, 0.9137102013903147, 0.22372081684622241, 0.18643401403851867, 0.14914721123081495, 0.4101548308847411, 0.03728680280770374, 0.08441555558369306, 0.6964283335654676, 0.12662333337553958, 0.06331166668776979, 0.8117688622577162, 0.7730050452073824, 0.13508757383506445, 0.2026313607525967, 0.6078940822577901, 0.0955147113702308, 0.7641176909618465, 0.11066140175133517, 0.7746298122593461, 0.5178259326682829, 0.12329188873054356, 0.3205589106994133, 0.7859402541639979, 0.13099004236066633, 0.9851136008153141, 0.6469004078995085, 0.3460164972485743, 0.892456091728084, 0.18648958252710307, 0.7459583301084123, 0.24601619341999573, 0.5623227278171331, 0.03514517048857082, 0.14058068195428328, 0.8847223383911609, 0.11059029229889511, 0.9501085467307546, 0.5224119271028684, 0.4353432725857237, 0.4117348630153345, 0.051466857876916815, 0.5146685787691682, 0.9153345210065834, 0.9150898074511556, 0.9326818984643581, 0.9623057730608737, 0.05629591763165426, 0.7881428468431596, 0.16888775289496277, 0.8172165934890774, 0.6449506696558012, 0.06449506696558012, 0.11286636718976521, 0.1612376674139503, 0.0993999770733818, 0.7951998165870544, 0.0993999770733818, 0.8361611922046062, 0.2212141138185907, 0.6636423414557722, 0.07373803793953024, 0.7786899089995892, 0.9290699202944436, 0.9746257979815734, 0.7824821147505465, 0.1564964229501093, 0.8515882042270803, 0.929072050480947, 0.8780845599708493, 0.9756032483694008, 0.8201822168893809, 0.957364900336409, 0.9481497968271538, 0.9290703771461286, 0.7105757798155117, 0.2732983768521199, 0.944646320415921, 0.9394410316690297, 0.11112515345153295, 0.8890012276122636, 0.7689982652123096, 0.06408318876769246, 0.06408318876769246, 0.06408318876769246, 0.692937019500108, 0.2771748078000432, 0.7971654644898719, 0.14493917536179488, 0.9236173491954252, 0.8487999400625309, 0.8488087636860274, 0.9308304922297356, 0.8778755865078866, 0.9716170691201474, 0.8680437556615337, 0.962729714900028, 0.16842485112365377, 0.7579118300564419, 0.8680337645443426, 0.9308304464048601, 0.881616077612684, 0.8924082982123767, 0.6788433611149566, 0.02424440575410559, 0.09697762301642236, 0.12122202877052796, 0.09697762301642236, 0.3102523051775747, 0.03102523051775747, 0.2171766136243023, 0.4343532272486046, 0.8936729972483592, 0.8564827098524943, 0.9764618490730899, 0.7156747918255983, 0.27831797459884383, 0.9000800338374237, 0.8777263375483113, 0.8777187712035804, 0.8473853119092398, 0.10592316398865498, 0.058746143431578995, 0.11749228686315799, 0.029373071715789498, 0.14686535857894747, 0.058746143431578995, 0.38184993230526343, 0.176238430294737, 0.9308555544489636, 0.8948198176584572, 0.8550954956466805, 0.07475510150830618, 0.14951020301661236, 0.14951020301661236, 0.5980408120664494, 0.9491525165593835, 0.92310498850273, 0.930825494905816, 0.05001054678680351, 0.10002109357360701, 0.5501160146548386, 0.30006328072082106, 0.9064130582809199, 0.24930258939194413, 0.11331935881452006, 0.022663871762904013, 0.20397484586613612, 0.2719664611548481, 0.11331935881452006, 0.11664129102854354, 0.8164890371998048, 0.9439221144564555, 0.20631994027550993, 0.14737138591107854, 0.47158843491545127, 0.17684566309329422, 0.941023951729252, 0.24113614411268783, 0.7234084323380635, 0.33835067345749, 0.033835067345748995, 0.13534026938299598, 0.033835067345748995, 0.507526010186235, 0.16007579992970603, 0.4402084498066916, 0.28013264987698555, 0.10004737495606628, 0.040018949982426506, 0.02746248460697559, 0.06865621151743898, 0.2471623614627803, 0.4805934806220728, 0.041193726910463385, 0.12358118073139016, 0.42833127713949803, 0.13945669488262727, 0.4084088921562656, 0.019922384983232466, 0.3480927351174379, 0.09945506717641082, 0.49727533588205414, 0.8744207059946498, 0.8799791854962329, 0.1035269629995568, 0.08951193625594123, 0.14321909800950594, 0.08951193625594123, 0.07160954900475297, 0.08951193625594123, 0.519169230284459, 0.9394745901432627, 0.10275256188503051, 0.20550512377006103, 0.6678916522526984, 0.21359772073438912, 0.21359772073438912, 0.04746616016319758, 0.2847969609791855, 0.09493232032639516, 0.16613156057119155, 0.9006419550169091, 0.08411020619906182, 0.8411020619906182, 0.8906748081955148, 0.8205895283511767, 0.7893527138955523, 0.9006418158162957, 0.8610067111318654, 0.10762583889148318, 0.15588113614239366, 0.15588113614239366, 0.10392075742826244, 0.5715641658554435, 0.8516223247592402, 0.9391227877351151, 0.9163992411532345, 0.1492814248213963, 0.7464071241069816, 0.8777176035952107, 0.8228032030526008, 0.8642143009748604, 0.9117054713608536, 0.8471751791265129, 0.9391227115342543, 0.9646052538946225, 0.9559122583095713, 0.04446103527021262, 0.524093541621775, 0.36283399035353653, 0.08062977563411923, 0.16194658109083637, 0.24291987163625456, 0.5668130338179274, 0.07827306495303632, 0.9001402469599177, 0.9622381076638238, 0.868050821399342, 0.8816151739064467, 0.21118739248039203, 0.1689499139843136, 0.5913246989450976, 0.0422374784960784, 0.3950133407619511, 0.1885290944545676, 0.09875333519048778, 0.30523758149787134, 0.10850432944010441, 0.7595303060807308, 0.2412210781769567, 0.7236632345308701, 0.485213061907038, 0.06931615170100543, 0.161737687302346, 0.2772646068040217, 0.023105383900335143, 0.301173476921344, 0.6860062529875057, 0.8776955375400732, 0.10971194219250915, 0.9433020396482663, 0.1032289329268289, 0.7226025304878023, 0.15484339939024336, 0.8564812475186075, 0.14858833867584406, 0.8172358627171424, 0.9025455167569616, 0.12893507382242309, 0.1331403485570558, 0.4992763070889593, 0.16642543569631976, 0.19971052283558371, 0.15885508976023685, 0.2496294267660865, 0.02269358425146241, 0.2496294267660865, 0.15885508976023685, 0.13616150550877446, 0.04538716850292482, 0.10715862040668601, 0.5357931020334301, 0.21431724081337203, 0.10715862040668601, 0.1541321506479083, 0.13101232805072205, 0.29285108623102574, 0.07706607532395415, 0.19266518830988535, 0.06165286025916332, 0.09247929038874497, 0.9508203800241763, 0.12069121017046924, 0.21120961779832118, 0.03017280254261731, 0.5129376432244943, 0.09051840762785193, 0.8948202406238005, 0.6439399699427574, 0.08049249624284467, 0.040246248121422336, 0.2012312406071117, 0.040246248121422336, 0.9220441171366403, 0.6935847437819838, 0.08669809297274797, 0.17339618594549594, 0.29975685361776727, 0.11529109754529511, 0.11529109754529511, 0.11529109754529511, 0.11529109754529511, 0.2075239755815312, 0.04777637153968491, 0.5494282727063765, 0.04777637153968491, 0.3344346007777944, 0.023888185769842456, 0.12908793366714585, 0.24644060063727843, 0.035205800091039775, 0.3403227342133845, 0.15255846706117238, 0.09388213357610607, 0.9536809335988442, 0.9379307153572811, 0.30702001107216503, 0.3281938049392109, 0.23291173253750452, 0.07410827853466052, 0.04234758773409173, 0.9100162476745474, 0.9150820756668641, 0.930815759807064, 0.8646621912880043, 0.27793383084291207, 0.12633355947405092, 0.05053342378962037, 0.30320054273772223, 0.20213369515848148, 0.05053342378962037, 0.6738197084601528, 0.22460656948671762, 0.07486885649557254, 0.05945591416156117, 0.7729268841002953, 0.11891182832312235, 0.8680337993896289, 0.7802487693686309, 0.05201658462457539, 0.10403316924915078, 0.05201658462457539, 0.950466261346559, 0.6745515239897477, 0.30661432908624897, 0.15227918908283594, 0.07613959454141797, 0.7613959454141798, 0.0564698005669843, 0.2258792022679372, 0.14117450141746077, 0.5082282051028587, 0.0564698005669843, 0.8924207378389485, 0.8516229371431898, 0.16239328890972887, 0.7578353482454013, 0.054131096303242955, 0.3192831642708251, 0.2234982149895776, 0.12771326570833005, 0.3192831642708251, 0.9762650997785604, 0.8205715882581688, 0.19384751424146435, 0.4953880919504089, 0.021538612693496037, 0.15077028885447227, 0.10769306346748019, 0.021538612693496037, 0.15072984773595613, 0.2906932777764868, 0.12919701234510525, 0.06459850617255262, 0.23686118929935962, 0.12919701234510525, 0.1660218036612512, 0.41505450915312797, 0.13835150305104266, 0.02767030061020853, 0.19369210427145972, 0.05534060122041706, 0.3188232908374822, 0.09564698725124465, 0.09564698725124465, 0.03188232908374822, 0.03188232908374822, 0.44635260717247505, 0.07372915877473028, 0.7372915877473029, 0.14745831754946057, 0.8815883882010991, 0.9379823120477719, 0.8409880373470796, 0.8906591407292992, 0.7745239767090204, 0.05163493178060136, 0.10326986356120273, 0.9641588377724283, 0.05191944072161006, 0.328823124570197, 0.44996848625395386, 0.15575832216483018, 0.3360041962943183, 0.6510081303202417, 0.17317978306015525, 0.7793090237706987, 0.9269767789964308, 0.9187306782148656, 0.11114869065775178, 0.5927930168413428, 0.2963965084206714, 0.09940998746581732, 0.19881997493163464, 0.6958699122607213, 0.9309601830513492, 0.2480443323970411, 0.1364243828183726, 0.012402216619852056, 0.32245763211615347, 0.1984354659176329, 0.02480443323970411, 0.062011083099260275, 0.9381068382822718, 0.1781770571065207, 0.8017967569793432, 0.8750298553466719, 0.535697938685441, 0.23436784817488043, 0.033481121167840064, 0.20088672700704038, 0.9367347129868393, 0.15654567386328466, 0.1043637825755231, 0.1043637825755231, 0.6261826954531386, 0.13782318834135238, 0.8269391300481144, 0.9686316795350471, 0.9740112099977725, 0.10099296124779795, 0.3703075245752592, 0.10099296124779795, 0.033664320415932654, 0.13465728166373062, 0.26931456332746123, 0.9146074127889904, 0.0815425303581644, 0.8969678339398084, 0.866100369476439, 0.096233374386271, 0.8680386740428845, 0.9789683118698225, 0.9686304643883024, 0.16777834861952187, 0.055926116206507295, 0.6151872782715803, 0.16777834861952187, 0.8484518114992649, 0.8659351780729138, 0.9513292939517206, 0.8826136252029598, 0.11032670315036998, 0.9665146053643463, 0.8592994019244558, 0.07160828349370464, 0.18058755679991756, 0.21068548293323716, 0.3912730397331547, 0.060195852266639184, 0.15048963066659796, 0.22048597368464723, 0.22048597368464723, 0.16536448026348544, 0.3031682138163899, 0.11024298684232361, 0.9308332723958783, 0.9183297854271145, 0.9941526820896289, 0.9006441723284767, 0.9777613833588885, 0.8756701324456687, 0.29101529214020466, 0.6402336427084503, 0.08321229689385573, 0.915335265832413, 0.20967766352673098, 0.24462394078118613, 0.5241941588168274, 0.8106142229115806, 0.5979952243302041, 0.38693808633130855, 0.011725396555494198, 0.9164035419079013, 0.9190155151459817, 0.924635569842466, 0.9485995268224628, 0.2873758718620386, 0.13684565326763742, 0.3694832638226211, 0.04105369598029123, 0.1505302185944012, 0.8487993427795216, 0.8550954956466805, 0.2641403216045305, 0.7043741909454146, 0.8516129265660993, 0.2589660189793758, 0.20717281518350067, 0.10358640759175033, 0.07768980569381274, 0.3366558246731886, 0.9018177022979017, 0.9804836275105121, 0.1662667981290716, 0.8313339906453581, 0.813267025459482, 0.910024233076676, 0.19217855889461022, 0.7687142355784409, 0.18537960735395287, 0.18537960735395287, 0.5561388220618586, 0.1372992281805483, 0.1372992281805483, 0.1830656375740644, 0.5034305033286771, 0.9622381314686894, 0.8106054209188694, 0.32841911130853885, 0.558312489224516, 0.032841911130853885, 0.06568382226170777, 0.9807670679673721, 0.22836615685079897, 0.7612205228359965, 0.06977064811961808, 0.03488532405980904, 0.20931194435885428, 0.41862388871770856, 0.31396791653828143, 0.24149794847871564, 0.7244938454361469, 0.773003472439249, 0.8906624385343115, 0.9236030450106876, 0.10341649518774979, 0.8273319615019983, 0.08638565833188301, 0.08638565833188301, 0.7774709249869471, 0.9207604394256481, 0.9539962418036994, 0.10708309844810106, 0.8566647875848085, 0.8780893625201366, 0.9269812106002283, 0.2094379820288034, 0.4712354595648076, 0.1047189910144017, 0.13089873876800212, 0.026179747753600425, 0.07853924326080126, 0.4287266378508431, 0.055920865806631706, 0.22368346322652682, 0.11184173161326341, 0.14912230881768454, 0.8780803316990882, 0.3607882370287314, 0.5612261464891377, 0.08017516378416253, 0.9075592471004343, 0.8895477316455429, 0.8516084304868716, 0.8550954956466805, 0.13751392055251202, 0.16501670466301444, 0.27502784110502404, 0.41254176165753603, 0.9707333052530737, 0.8876990378853014, 0.07397491982377512, 0.9521170984904418, 0.3009688659800539, 0.22572664948504043, 0.11286332474252021, 0.16929498711378033, 0.15048443299002695, 0.01881055412375337, 0.6307175339092879, 0.3679185614470846, 0.8744223192583306, 0.9290731355678432, 0.2557782635914912, 0.18269875970820798, 0.1461590077665664, 0.0730795038832832, 0.36539751941641596, 0.8948193001544124, 0.8630041788191749, 0.8516207459038618, 0.2834037479845268, 0.028340374798452677, 0.11336149919381071, 0.056680749596905354, 0.3400844975814321, 0.1417018739922634, 0.3913082958567981, 0.16112694535279923, 0.25319948555439875, 0.1841450804031991, 0.9622224508723004, 0.2977680212255269, 0.26799121910297424, 0.2977680212255269, 0.11910720849021077, 0.20180717930337302, 0.26390169601210317, 0.06209451670873016, 0.1862835501261905, 0.0776181458859127, 0.20180717930337302, 0.1762853367655071, 0.7932840154447819, 0.979726055247234, 0.2831718373490269, 0.16732881297897045, 0.07722868291337097, 0.02574289430445699, 0.09010013006559947, 0.3475290731101694, 0.02574289430445699, 0.8936429227751859, 0.8936402241490292, 0.16230491256894955, 0.07213551669731091, 0.14427103339462183, 0.21640655009193271, 0.198372670917605, 0.14427103339462183, 0.07213551669731091, 0.8680346868612462, 0.8777643703045774, 0.4096288794302658, 0.5734804312023721, 0.9342779275008886, 0.7468051152305286, 0.24893503841017622, 0.08464722359070045, 0.6348541769302535, 0.2962652825674516, 0.24570918651404886, 0.1053039370774495, 0.210607874154899, 0.421215748309798, 0.16561774473479646, 0.05520591491159882, 0.11041182982319764, 0.6072650640275871, 0.05520591491159882, 0.8924096811367879, 0.8777178534259714, 0.9744326382191923, 0.9017933832168116, 0.12002536463599583, 0.720152187815975, 0.04000845487866528, 0.08001690975733056, 0.9508989632491865, 0.32685847080626484, 0.13762461928684835, 0.22364000634112857, 0.08601538705428022, 0.13762461928684835, 0.06881230964342418, 0.9422366630314646, 0.05542568606067439, 0.13310545353658443, 0.08873696902438961, 0.7542642367073117, 0.1453643101932698, 0.7995037060629839, 0.2880223439902033, 0.017455899635769895, 0.48876518980155714, 0.08727949817884949, 0.11346334763250433, 0.3667828583037421, 0.6113047638395701, 0.8276438790602769, 0.4901224822543563, 0.1960489929017425, 0.1176293957410455, 0.17644409361156826, 0.10638689387660635, 0.8510951510128508, 0.19252455153794515, 0.10501339174797009, 0.08751115978997506, 0.07000892783198005, 0.22752901545393517, 0.2975379432859152, 0.035004463915990026, 0.8205876538776172, 0.8766740958274354, 0.10958426197842942, 0.8631447062238757, 0.32817457272279577, 0.5771345934090547, 0.022632729153296262, 0.05658182288324065, 0.19256398384409903, 0.5135039569175974, 0.09628199192204952, 0.09628199192204952, 0.12837598922939936, 0.10475753992326355, 0.10475753992326355, 0.7333027794628448, 0.08703021605431503, 0.6340772883957237, 0.01243288800775929, 0.08703021605431503, 0.1243288800775929, 0.06216444003879645, 0.09364037901629009, 0.09364037901629009, 0.7491230321303207, 0.09364037901629009, 0.1456245137850867, 0.6310395597353757, 0.0970830091900578, 0.0970830091900578, 0.8668493998383, 0.5803494588401891, 0.08004820121933642, 0.3402048551821798, 0.7047414984056535, 0.10440614791194866, 0.10440614791194866, 0.07830461093396149, 0.9103427070394003], \"Term\": [\"abuse\", \"access\", \"account\", \"account\", \"achieve\", \"administrator\", \"afternoon\", \"afternoon\", \"agree\", \"agree\", \"ahead\", \"alberta\", \"alberta\", \"alberta\", \"alberta\", \"alley\", \"allow\", \"also\", \"also\", \"also\", \"also\", \"alternative\", \"alternative\", \"amaze\", \"amaze\", \"amaze\", \"amaze\", \"american\", \"another\", \"another\", \"another\", \"another\", \"anyone\", \"anyone\", \"anyways\", \"apple\", \"apple\", \"application\", \"apply\", \"apply\", \"asylum\", \"attack\", \"awesome\", \"awesome\", \"awesome\", \"awesome\", \"awesome\", \"back\", \"back\", \"back\", \"back\", \"back\", \"back\", \"backlane\", \"baker\", \"barca\", \"bath\", \"beat\", \"beat\", \"beautiful\", \"beautiful\", \"beautiful\", \"beautiful\", \"beautiful\", \"beautiful\", \"beer\", \"belong\", \"best\", \"best\", \"best\", \"best\", \"better\", \"better\", \"better\", \"better\", \"birthday\", \"blanc\", \"bleu\", \"boxing\", \"boy\", \"brain\", \"break\", \"break\", \"break\", \"brewing\", \"business\", \"business\", \"business\", \"business\", \"buying\", \"calgary\", \"calgary\", \"calgary\", \"calgary\", \"calgary\", \"calgary\", \"canada\", \"canada\", \"canada\", \"canada\", \"canada\", \"canada\", \"canada\", \"canadian\", \"canadian\", \"canadian\", \"canadian\", \"care\", \"care\", \"catch\", \"central\", \"chair\", \"challenge\", \"champion\", \"change\", \"change\", \"change\", \"change\", \"change\", \"check\", \"check\", \"check\", \"check\", \"cheque\", \"chicken\", \"child\", \"child\", \"child\", \"chocolate\", \"chocolate\", \"choice\", \"choice\", \"city\", \"city\", \"city\", \"clear\", \"clear\", \"click\", \"close\", \"close\", \"coach\", \"coffee\", \"coffee\", \"come\", \"come\", \"come\", \"come\", \"comment\", \"comment\", \"company\", \"complete\", \"complete\", \"concern\", \"concern\", \"concern\", \"congrats\", \"congratulations\", \"connection\", \"contact\", \"cool\", \"cool\", \"cool\", \"correct\", \"could\", \"could\", \"could\", \"could\", \"create\", \"create\", \"create\", \"credible\", \"current\", \"current\", \"current\", \"cycling\", \"dare\", \"data\", \"death\", \"death\", \"dembele\", \"depression\", \"designer\", \"details\", \"developer\", \"different\", \"disgust\", \"distance\", \"do\", \"do\", \"dog\", \"door\", \"dream\", \"dream\", \"drinking\", \"drinking\", \"drinking\", \"drinking\", \"drive\", \"drive\", \"driver\", \"driver\", \"duck\", \"dumb\", \"eagle\", \"edge\", \"education\", \"effort\", \"elbow\", \"election\", \"else\", \"else\", \"employee\", \"engineer\", \"essential\", \"estate\", \"even\", \"even\", \"even\", \"even\", \"even\", \"ever\", \"ever\", \"ever\", \"ever\", \"evidence\", \"exist\", \"fall\", \"family\", \"family\", \"fast\", \"field\", \"fighting\", \"final\", \"final\", \"first\", \"first\", \"first\", \"first\", \"first\", \"first\", \"first\", \"fitness\", \"focus\", \"font\", \"food\", \"food\", \"food\", \"food\", \"fossil\", \"found\", \"four\", \"fuck\", \"fuck\", \"fuck\", \"fuck\", \"fuel\", \"game\", \"game\", \"game\", \"game\", \"game\", \"game\", \"garbage\", \"garbage\", \"general\", \"getting\", \"getting\", \"getting\", \"getting\", \"gift\", \"girl\", \"girl\", \"go\", \"go\", \"go\", \"go\", \"go\", \"going\", \"going\", \"going\", \"going\", \"going\", \"good\", \"good\", \"good\", \"good\", \"good\", \"good\", \"great\", \"great\", \"great\", \"great\", \"group\", \"group\", \"group\", \"hahaha\", \"happen\", \"happen\", \"happy\", \"happy\", \"happy\", \"happy\", \"happy\", \"happy\", \"health\", \"hear\", \"hear\", \"hear\", \"help\", \"help\", \"help\", \"help\", \"help\", \"help\", \"highly\", \"hill\", \"hill\", \"hook\", \"housing\", \"huge\", \"hughes\", \"human\", \"human\", \"idea\", \"idea\", \"idea\", \"idea\", \"immediately\", \"immigration\", \"income\", \"increase\", \"increase\", \"incredibly\", \"indigenous\", \"information\", \"inner\", \"inspiration\", \"inspire\", \"instagram\", \"interest\", \"interest\", \"iphone\", \"iphone\", \"iphone\", \"issue\", \"issue\", \"issue\", \"join\", \"join\", \"joining\", \"judges\", \"kicking\", \"kid\", \"kid\", \"kid\", \"kid\", \"know\", \"know\", \"know\", \"know\", \"lady\", \"lady\", \"lane\", \"lane\", \"last\", \"last\", \"last\", \"last\", \"last\", \"latest\", \"latest\", \"lead\", \"lead\", \"leaders\", \"learn\", \"learn\", \"learn\", \"learning\", \"least\", \"least\", \"leave\", \"leave\", \"left\", \"left\", \"left\", \"left\", \"life\", \"life\", \"life\", \"life\", \"life\", \"life\", \"life\", \"light\", \"light\", \"light\", \"light\", \"like\", \"like\", \"like\", \"like\", \"like\", \"like\", \"like\", \"link\", \"list\", \"list\", \"list\", \"list\", \"list\", \"listening\", \"live\", \"live\", \"live\", \"live\", \"live\", \"lock\", \"long\", \"long\", \"long\", \"look\", \"look\", \"look\", \"look\", \"look\", \"look\", \"looking\", \"looking\", \"looking\", \"looking\", \"looking\", \"love\", \"love\", \"love\", \"love\", \"love\", \"love\", \"lying\", \"maintenance\", \"make\", \"make\", \"make\", \"make\", \"make\", \"malt\", \"management\", \"manager\", \"mandate\", \"many\", \"many\", \"many\", \"many\", \"many\", \"many\", \"market\", \"market\", \"market\", \"matter\", \"matter\", \"matter\", \"maximum\", \"maybe\", \"maybe\", \"maybe\", \"maybe\", \"means\", \"meeting\", \"meeting\", \"message\", \"message\", \"message\", \"might\", \"might\", \"might\", \"might\", \"might\", \"milk\", \"million\", \"miss\", \"miss\", \"miss\", \"monday\", \"monday\", \"monday\", \"monday\", \"mortgage\", \"mountain\", \"much\", \"much\", \"much\", \"much\", \"much\", \"much\", \"need\", \"need\", \"need\", \"need\", \"need\", \"need\", \"never\", \"never\", \"never\", \"never\", \"never\", \"never\", \"next\", \"next\", \"next\", \"next\", \"next\", \"next\", \"note\", \"note\", \"note\", \"numbers\", \"obama\", \"okay\", \"old\", \"olympic\", \"olympic\", \"olympic\", \"olympics\", \"open\", \"open\", \"open\", \"open\", \"opening\", \"opening\", \"order\", \"order\", \"otherwise\", \"own\", \"park\", \"park\", \"park\", \"past\", \"past\", \"past\", \"pattern\", \"people\", \"people\", \"people\", \"people\", \"people\", \"people\", \"people\", \"pic\", \"piece\", \"piece\", \"platform\", \"please\", \"please\", \"please\", \"please\", \"podcast\", \"point\", \"point\", \"point\", \"point\", \"ponzi\", \"ponzi\", \"poor\", \"poppy\", \"post\", \"post\", \"post\", \"post\", \"post\", \"post\", \"prison\", \"private\", \"private\", \"process\", \"process\", \"product\", \"properly\", \"property\", \"provide\", \"provide\", \"provide\", \"provide\", \"pull\", \"pumpkin\", \"purchase\", \"question\", \"question\", \"quick\", \"rally\", \"rally\", \"read\", \"read\", \"read\", \"read\", \"read\", \"really\", \"really\", \"really\", \"really\", \"really\", \"reasonable\", \"receive\", \"recommend\", \"refugee\", \"remember\", \"remind\", \"repair\", \"repair\", \"replace\", \"replace\", \"report\", \"report\", \"report\", \"representative\", \"request\", \"request\", \"request\", \"requirement\", \"resource\", \"review\", \"ride\", \"right\", \"right\", \"right\", \"right\", \"right\", \"role\", \"rouge\", \"safety\", \"safety\", \"sailorgeoffrey\", \"say\", \"say\", \"say\", \"say\", \"say\", \"science\", \"scotty\", \"season\", \"season\", \"seeker\", \"self\", \"send\", \"send\", \"service\", \"service\", \"service\", \"shit\", \"shit\", \"shit\", \"shit\", \"shoot\", \"shopping\", \"show\", \"show\", \"show\", \"show\", \"sick\", \"sidewalk\", \"sidewalk\", \"sign\", \"sign\", \"sign\", \"sign\", \"sign\", \"signal\", \"signal\", \"similar\", \"sister\", \"skill\", \"smoke\", \"smoke\", \"snow\", \"snow\", \"snow\", \"sometimes\", \"sound\", \"space\", \"space\", \"speech\", \"spring\", \"start\", \"start\", \"start\", \"start\", \"start\", \"start\", \"still\", \"still\", \"still\", \"still\", \"still\", \"stream\", \"street\", \"street\", \"street\", \"streetlight\", \"student\", \"studio\", \"stylize\", \"support\", \"support\", \"support\", \"support\", \"supporting\", \"surprise\", \"surprise\", \"swamp\", \"take\", \"take\", \"take\", \"take\", \"take\", \"take\", \"team\", \"team\", \"tech\", \"technical\", \"tell\", \"tell\", \"tell\", \"tell\", \"tell\", \"terrible\", \"texas\", \"text\", \"thank\", \"thank\", \"thank\", \"thank\", \"thank\", \"thank\", \"thanks\", \"thanks\", \"thanks\", \"thanks\", \"thats\", \"things\", \"things\", \"things\", \"things\", \"think\", \"think\", \"think\", \"think\", \"think\", \"think\", \"thinking\", \"thinking\", \"ticket\", \"time\", \"time\", \"time\", \"time\", \"time\", \"time\", \"time\", \"timing\", \"tire\", \"today\", \"today\", \"today\", \"today\", \"today\", \"today\", \"today\", \"tone\", \"trade\", \"traffic\", \"traffic\", \"trail\", \"tree\", \"tree\", \"trump\", \"trump\", \"trump\", \"try\", \"try\", \"try\", \"try\", \"tweet\", \"tweet\", \"tweet\", \"tweet\", \"tweet\", \"university\", \"vaccination\", \"values\", \"vehicle\", \"view\", \"view\", \"view\", \"view\", \"volunteer\", \"vote\", \"vote\", \"vote\", \"vote\", \"vote\", \"vote\", \"voting\", \"voting\", \"wait\", \"wait\", \"wait\", \"walk\", \"walk\", \"want\", \"want\", \"want\", \"want\", \"want\", \"watch\", \"watch\", \"wednesday\", \"week\", \"week\", \"week\", \"week\", \"weird\", \"weird\", \"well\", \"well\", \"well\", \"well\", \"well\", \"well\", \"well\", \"wild\", \"wind\", \"wind\", \"wonderful\", \"work\", \"work\", \"work\", \"work\", \"working\", \"working\", \"working\", \"working\", \"working\", \"works\", \"works\", \"works\", \"would\", \"would\", \"would\", \"would\", \"would\", \"would\", \"write\", \"write\", \"write\", \"write\", \"wrong\", \"wrong\", \"wrong\", \"wrong\", \"yeah\", \"year\", \"year\", \"year\", \"years\", \"years\", \"years\", \"years\", \"youth\"]}, \"R\": 30, \"lambda.step\": 0.01, \"plot.opts\": {\"xlab\": \"PC1\", \"ylab\": \"PC2\"}, \"topic.order\": [6, 2, 1, 4, 7, 5, 3]};\n",
       "\n",
       "function LDAvis_load_lib(url, callback){\n",
       "  var s = document.createElement('script');\n",
       "  s.src = url;\n",
       "  s.async = true;\n",
       "  s.onreadystatechange = s.onload = callback;\n",
       "  s.onerror = function(){console.warn(\"failed to load library \" + url);};\n",
       "  document.getElementsByTagName(\"head\")[0].appendChild(s);\n",
       "}\n",
       "\n",
       "if(typeof(LDAvis) !== \"undefined\"){\n",
       "   // already loaded: just create the visualization\n",
       "   !function(LDAvis){\n",
       "       new LDAvis(\"#\" + \"ldavis_el804141124226208807882762266\", ldavis_el804141124226208807882762266_data);\n",
       "   }(LDAvis);\n",
       "}else if(typeof define === \"function\" && define.amd){\n",
       "   // require.js is available: use it to load d3/LDAvis\n",
       "   require.config({paths: {d3: \"https://cdnjs.cloudflare.com/ajax/libs/d3/3.5.5/d3.min\"}});\n",
       "   require([\"d3\"], function(d3){\n",
       "      window.d3 = d3;\n",
       "      LDAvis_load_lib(\"https://cdn.rawgit.com/bmabey/pyLDAvis/files/ldavis.v1.0.0.js\", function(){\n",
       "        new LDAvis(\"#\" + \"ldavis_el804141124226208807882762266\", ldavis_el804141124226208807882762266_data);\n",
       "      });\n",
       "    });\n",
       "}else{\n",
       "    // require.js not available: dynamically load d3 & LDAvis\n",
       "    LDAvis_load_lib(\"https://cdnjs.cloudflare.com/ajax/libs/d3/3.5.5/d3.min.js\", function(){\n",
       "         LDAvis_load_lib(\"https://cdn.rawgit.com/bmabey/pyLDAvis/files/ldavis.v1.0.0.js\", function(){\n",
       "                 new LDAvis(\"#\" + \"ldavis_el804141124226208807882762266\", ldavis_el804141124226208807882762266_data);\n",
       "            })\n",
       "         });\n",
       "}\n",
       "</script>"
      ],
      "text/plain": [
       "<IPython.core.display.HTML object>"
      ]
     },
     "execution_count": 11,
     "metadata": {},
     "output_type": "execute_result"
    }
   ],
   "source": [
    "import pyLDAvis.gensim\n",
    "lda_display = pyLDAvis.gensim.prepare(ldamodel, corpus, dictionary,sort_topics=True)\n",
    "pyLDAvis.display(lda_display)"
   ]
  },
  {
   "cell_type": "markdown",
   "metadata": {},
   "source": [
    "####  Excersise: try diffrent days, try modifying stopwords, number of topics  and min_len /max_len in `gensim.utils.simple_preprocess`"
   ]
  },
  {
   "cell_type": "code",
   "execution_count": null,
   "metadata": {
    "collapsed": true
   },
   "outputs": [],
   "source": []
  }
 ],
 "metadata": {
  "kernelspec": {
   "display_name": "Python 3",
   "language": "python",
   "name": "python3"
  },
  "language_info": {
   "codemirror_mode": {
    "name": "ipython",
    "version": 3
   },
   "file_extension": ".py",
   "mimetype": "text/x-python",
   "name": "python",
   "nbconvert_exporter": "python",
   "pygments_lexer": "ipython3",
   "version": "3.6.3"
  },
  "nbTranslate": {
   "displayLangs": [
    "*"
   ],
   "hotkey": "alt-t",
   "langInMainMenu": true,
   "sourceLang": "en",
   "targetLang": "fr",
   "useGoogleTranslate": true
  }
 },
 "nbformat": 4,
 "nbformat_minor": 2
}

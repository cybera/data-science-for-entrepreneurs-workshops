{
 "cells": [
  {
   "cell_type": "markdown",
   "metadata": {},
   "source": [
    "### Step1. Getting the cleaned tiwitter data from object storage and displaying first 5 rows"
   ]
  },
  {
   "cell_type": "code",
   "execution_count": 27,
   "metadata": {},
   "outputs": [
    {
     "data": {
      "text/html": [
       "<div>\n",
       "<style>\n",
       "    .dataframe thead tr:only-child th {\n",
       "        text-align: right;\n",
       "    }\n",
       "\n",
       "    .dataframe thead th {\n",
       "        text-align: left;\n",
       "    }\n",
       "\n",
       "    .dataframe tbody tr th {\n",
       "        vertical-align: top;\n",
       "    }\n",
       "</style>\n",
       "<table border=\"1\" class=\"dataframe\">\n",
       "  <thead>\n",
       "    <tr style=\"text-align: right;\">\n",
       "      <th></th>\n",
       "      <th>created_at_date</th>\n",
       "      <th>hashtags_string</th>\n",
       "      <th>user_string</th>\n",
       "      <th>user_location</th>\n",
       "      <th>lang</th>\n",
       "      <th>longitude</th>\n",
       "      <th>latitude</th>\n",
       "      <th>name</th>\n",
       "      <th>screen_name</th>\n",
       "      <th>extended_tweet</th>\n",
       "      <th>extended_tweet_cleaned</th>\n",
       "    </tr>\n",
       "  </thead>\n",
       "  <tbody>\n",
       "    <tr>\n",
       "      <th>0</th>\n",
       "      <td>2018-11-02 21:01:56</td>\n",
       "      <td></td>\n",
       "      <td>Symin16</td>\n",
       "      <td>Toronto ✈ Calgary</td>\n",
       "      <td>en</td>\n",
       "      <td>NaN</td>\n",
       "      <td>NaN</td>\n",
       "      <td>♠</td>\n",
       "      <td>jessmayumba85</td>\n",
       "      <td>@Symin16 I’d like to know who</td>\n",
       "      <td>I’d like to know who</td>\n",
       "    </tr>\n",
       "    <tr>\n",
       "      <th>1</th>\n",
       "      <td>2018-11-02 21:02:01</td>\n",
       "      <td></td>\n",
       "      <td>TwoCanSamAdams</td>\n",
       "      <td>YYC</td>\n",
       "      <td>en</td>\n",
       "      <td>NaN</td>\n",
       "      <td>NaN</td>\n",
       "      <td>hannahrae cuddleslug</td>\n",
       "      <td>thimblewad</td>\n",
       "      <td>@TwoCanSamAdams Legit. There are still chunks ...</td>\n",
       "      <td>Legit. There are still chunks in the sink an...</td>\n",
       "    </tr>\n",
       "    <tr>\n",
       "      <th>2</th>\n",
       "      <td>2018-11-02 21:02:05</td>\n",
       "      <td>job Calgary SupplyChain Hiring CareerArc</td>\n",
       "      <td></td>\n",
       "      <td>Calgary</td>\n",
       "      <td>en</td>\n",
       "      <td>51.004583</td>\n",
       "      <td>-114.007914</td>\n",
       "      <td>TMJ - CAL Manuf Jobs</td>\n",
       "      <td>tmj_cal_manuf</td>\n",
       "      <td>Can you recommend anyone for this #job in #Cal...</td>\n",
       "      <td>Can you recommend anyone for this   in  , AB? ...</td>\n",
       "    </tr>\n",
       "    <tr>\n",
       "      <th>3</th>\n",
       "      <td>2018-11-02 21:02:10</td>\n",
       "      <td></td>\n",
       "      <td></td>\n",
       "      <td>🌎📱</td>\n",
       "      <td>en</td>\n",
       "      <td>NaN</td>\n",
       "      <td>NaN</td>\n",
       "      <td>Sunny Rai</td>\n",
       "      <td>TheSunsRay</td>\n",
       "      <td>Kids See Ghosts:  love this track</td>\n",
       "      <td>Kids See Ghosts:  love this track</td>\n",
       "    </tr>\n",
       "    <tr>\n",
       "      <th>4</th>\n",
       "      <td>2018-11-02 21:02:13</td>\n",
       "      <td>Calgary job</td>\n",
       "      <td></td>\n",
       "      <td>Calgary</td>\n",
       "      <td>en</td>\n",
       "      <td>50.997882</td>\n",
       "      <td>-114.074005</td>\n",
       "      <td>TMJ-CAL Retail Jobs</td>\n",
       "      <td>tmj_cal_retail</td>\n",
       "      <td>See our latest #Calgary, AB #job and click to ...</td>\n",
       "      <td>See our latest  , AB   and click to apply: bar...</td>\n",
       "    </tr>\n",
       "  </tbody>\n",
       "</table>\n",
       "</div>"
      ],
      "text/plain": [
       "      created_at_date                           hashtags_string  \\\n",
       "0 2018-11-02 21:01:56                                             \n",
       "1 2018-11-02 21:02:01                                             \n",
       "2 2018-11-02 21:02:05  job Calgary SupplyChain Hiring CareerArc   \n",
       "3 2018-11-02 21:02:10                                             \n",
       "4 2018-11-02 21:02:13                               Calgary job   \n",
       "\n",
       "      user_string      user_location lang  longitude    latitude  \\\n",
       "0         Symin16  Toronto ✈ Calgary   en        NaN         NaN   \n",
       "1  TwoCanSamAdams                YYC   en        NaN         NaN   \n",
       "2                            Calgary   en  51.004583 -114.007914   \n",
       "3                                 🌎📱   en        NaN         NaN   \n",
       "4                            Calgary   en  50.997882 -114.074005   \n",
       "\n",
       "                   name     screen_name  \\\n",
       "0                     ♠   jessmayumba85   \n",
       "1  hannahrae cuddleslug      thimblewad   \n",
       "2  TMJ - CAL Manuf Jobs   tmj_cal_manuf   \n",
       "3             Sunny Rai      TheSunsRay   \n",
       "4   TMJ-CAL Retail Jobs  tmj_cal_retail   \n",
       "\n",
       "                                      extended_tweet  \\\n",
       "0                      @Symin16 I’d like to know who   \n",
       "1  @TwoCanSamAdams Legit. There are still chunks ...   \n",
       "2  Can you recommend anyone for this #job in #Cal...   \n",
       "3                  Kids See Ghosts:  love this track   \n",
       "4  See our latest #Calgary, AB #job and click to ...   \n",
       "\n",
       "                              extended_tweet_cleaned  \n",
       "0                               I’d like to know who  \n",
       "1    Legit. There are still chunks in the sink an...  \n",
       "2  Can you recommend anyone for this   in  , AB? ...  \n",
       "3                  Kids See Ghosts:  love this track  \n",
       "4  See our latest  , AB   and click to apply: bar...  "
      ]
     },
     "execution_count": 27,
     "metadata": {},
     "output_type": "execute_result"
    }
   ],
   "source": [
    "import urllib.request\n",
    "import ast\n",
    "import pandas as pd \n",
    "\n",
    "import gensim\n",
    "import gensim.corpora as corpora\n",
    "from gensim.utils import simple_preprocess\n",
    "from gensim.models import CoherenceModel\n",
    "\n",
    "\n",
    "target_url=\"https://swift-yeg.cloud.cybera.ca:8080/v1/AUTH_233e84cd313945c992b4b585f7b9125d/geeky-summit/tweets_cleaned.csv\"\n",
    "file_name=\"tweets_cleaned1.csv\"\n",
    "urllib.request.urlretrieve(target_url, file_name)\n",
    "\n",
    "tweets = pd.read_csv(file_name,parse_dates=['created_at_date']) \n",
    "tweets.head()"
   ]
  },
  {
   "cell_type": "markdown",
   "metadata": {},
   "source": [
    "### Step2 Prepare dataset for LDA\n",
    "#### Subsetting by day"
   ]
  },
  {
   "cell_type": "code",
   "execution_count": 81,
   "metadata": {
    "collapsed": true
   },
   "outputs": [],
   "source": [
    "tweets_subset_nov5=tweets.loc[tweets[\"created_at_date\"].dt.day==5]"
   ]
  },
  {
   "cell_type": "markdown",
   "metadata": {},
   "source": [
    "#### Splitting \"extended_tweet_cleaned\" column into tokens (words)"
   ]
  },
  {
   "cell_type": "code",
   "execution_count": 103,
   "metadata": {},
   "outputs": [
    {
     "name": "stdout",
     "output_type": "stream",
     "text": [
      "['Here some the   :)  ', 'this is the most beautiful picture i have ever seen']\n"
     ]
    }
   ],
   "source": [
    "data=tweets_subset_nov5[\"extended_tweet_cleaned\"].tolist()\n",
    "print (data[:2])"
   ]
  },
  {
   "cell_type": "code",
   "execution_count": 102,
   "metadata": {},
   "outputs": [
    {
     "name": "stdout",
     "output_type": "stream",
     "text": [
      "[['here', 'some'], ['this', 'most', 'beautiful', 'picture', 'have', 'ever', 'seen']]\n"
     ]
    }
   ],
   "source": [
    "def sent_to_words(sentences):\n",
    "    for sentence in sentences:\n",
    "        yield(gensim.utils.simple_preprocess(sentence,min_len=4, max_len=15))  \n",
    "\n",
    "data_tokens = list(sent_to_words(data))\n",
    "\n",
    "print(data_tokens[:2])"
   ]
  },
  {
   "cell_type": "markdown",
   "metadata": {},
   "source": [
    "#### Excluding stopwords and lemmatizing"
   ]
  },
  {
   "cell_type": "code",
   "execution_count": 93,
   "metadata": {},
   "outputs": [
    {
     "name": "stdout",
     "output_type": "stream",
     "text": [
      "[nltk_data] Downloading package stopwords to\n",
      "[nltk_data]     /Users/tatianameleshko/nltk_data...\n",
      "[nltk_data]   Package stopwords is already up-to-date!\n",
      "{'wasn', 'those', 'too', 'ain', 'whom', 'o', 'don', 'couldn', 'by', 'both', \"haven't\", 'do', 'her', 'while', 'of', 'below', 'such', 'these', 'aren', 'being', 'what', 'we', \"hasn't\", 'she', 'our', 'you', 'them', 'that', 'was', \"isn't\", 'doing', 'out', 'as', 'own', 'at', 'm', \"you'll\", 'any', 'hadn', 'this', \"doesn't\", 'is', 'yourselves', 'should', 'shouldn', \"wasn't\", 'did', 'and', 'their', 'herself', \"couldn't\", 'between', 'myself', 'for', 'in', 'd', 'himself', 'if', \"won't\", 'all', 'wouldn', 'most', 'a', 're', 'some', \"aren't\", \"she's\", 'doesn', 'it', 'off', 'there', 'no', \"you'd\", 'theirs', 'him', 'where', \"that'll\", 'again', 'other', 'haven', \"hadn't\", 'can', 'until', 'ours', \"shan't\", 'or', 'won', 'needn', 'then', 'am', \"mustn't\", 'weren', 'to', 'with', \"weren't\", 'who', 'nor', 'the', 'on', 'over', 'itself', 'very', 'your', \"needn't\", 'shan', 'each', 'ourselves', \"you're\", 'more', 'its', 'now', 'mustn', 'i', 'an', 'yours', \"wouldn't\", 'he', 'because', 'under', 'same', 'up', 'here', 'didn', \"shouldn't\", 'were', 'during', 'than', 'had', 'from', 't', 'against', 'have', 'y', 'but', 'not', 'when', 'mightn', 's', 'me', \"don't\", \"you've\", \"it's\", 'will', 'how', 'themselves', 'only', 'which', 'are', 'they', \"should've\", 'been', 'further', 'my', 'so', 'hasn', \"didn't\", 'hers', 'has', 'why', 'before', 'having', 'isn', 'll', 'few', 'yourself', 'into', 'above', 've', 'about', 'through', 'after', 'his', 'down', 'be', 'once', 'just', 'ma', 'does', \"mightn't\"}\n"
     ]
    }
   ],
   "source": [
    "nltk.download('stopwords')\n",
    "stop_words = set(nltk.corpus.stopwords.words('english'))\n",
    "#stop_words.add('calgary')\n",
    "print(stop_words)"
   ]
  },
  {
   "cell_type": "code",
   "execution_count": 85,
   "metadata": {},
   "outputs": [
    {
     "name": "stdout",
     "output_type": "stream",
     "text": [
      "[nltk_data] Downloading package wordnet to\n",
      "[nltk_data]     /Users/tatianameleshko/nltk_data...\n",
      "[nltk_data]   Package wordnet is already up-to-date!\n"
     ]
    }
   ],
   "source": [
    "import nltk\n",
    "nltk.download('wordnet')\n",
    "from nltk.corpus import wordnet as wn\n",
    "\n",
    "def get_lemma(word):\n",
    "    lemma = wn.morphy(word)\n",
    "    if lemma is None:\n",
    "        return word\n",
    "    else:\n",
    "        return lemma"
   ]
  },
  {
   "cell_type": "code",
   "execution_count": 86,
   "metadata": {},
   "outputs": [
    {
     "name": "stdout",
     "output_type": "stream",
     "text": [
      "go\n"
     ]
    }
   ],
   "source": [
    "print(get_lemma(\"goes\"))"
   ]
  },
  {
   "cell_type": "code",
   "execution_count": 101,
   "metadata": {
    "scrolled": false
   },
   "outputs": [
    {
     "name": "stdout",
     "output_type": "stream",
     "text": [
      "[[], ['beautiful', 'picture', 'ever', 'see']]\n"
     ]
    }
   ],
   "source": [
    "def tokens_to_lda(data_tokens):\n",
    "    for data_token in data_tokens:\n",
    "        tokens = [token for token in data_token if token not in stop_words]\n",
    "        tokens = [get_lemma(token) for token in tokens]\n",
    "        yield tokens\n",
    "tokens = list(tokens_to_lda(data_tokens))\n",
    "print(tokens[:2])"
   ]
  },
  {
   "cell_type": "markdown",
   "metadata": {},
   "source": [
    "#### Creating dictionary and corpus objects for LDA model"
   ]
  },
  {
   "cell_type": "code",
   "execution_count": 95,
   "metadata": {},
   "outputs": [],
   "source": [
    "from gensim import corpora\n",
    "\n",
    "dictionary = corpora.Dictionary(tokens)\n",
    "corpus = [dictionary.doc2bow(text) for text in tokens]"
   ]
  },
  {
   "cell_type": "markdown",
   "metadata": {},
   "source": [
    "### Step3 Building LDA model with 8 topics and displaying top 8 words for every topic"
   ]
  },
  {
   "cell_type": "code",
   "execution_count": 90,
   "metadata": {},
   "outputs": [
    {
     "name": "stdout",
     "output_type": "stream",
     "text": [
      "(0, '0.023*\"love\" + 0.019*\"know\" + 0.011*\"best\" + 0.009*\"would\" + 0.009*\"come\" + 0.008*\"need\" + 0.007*\"today\" + 0.006*\"find\"')\n",
      "(1, '0.010*\"want\" + 0.010*\"good\" + 0.009*\"calgary\" + 0.009*\"click\" + 0.009*\"like\" + 0.008*\"work\" + 0.008*\"details\" + 0.007*\"scotty\"')\n",
      "(2, '0.012*\"request\" + 0.010*\"open\" + 0.010*\"year\" + 0.008*\"like\" + 0.008*\"back\" + 0.008*\"need\" + 0.007*\"street\" + 0.006*\"iphone\"')\n",
      "(3, '0.008*\"think\" + 0.008*\"know\" + 0.007*\"make\" + 0.007*\"right\" + 0.007*\"like\" + 0.005*\"thank\" + 0.005*\"today\" + 0.005*\"event\"')\n",
      "(4, '0.012*\"vote\" + 0.008*\"right\" + 0.008*\"left\" + 0.007*\"wrong\" + 0.007*\"america\" + 0.006*\"good\" + 0.006*\"city\" + 0.006*\"ever\"')\n",
      "(5, '0.011*\"happy\" + 0.010*\"make\" + 0.007*\"life\" + 0.007*\"right\" + 0.006*\"join\" + 0.006*\"still\" + 0.005*\"better\" + 0.005*\"long\"')\n",
      "(6, '0.019*\"calgary\" + 0.017*\"latest\" + 0.014*\"anyone\" + 0.014*\"great\" + 0.014*\"alberta\" + 0.013*\"opening\" + 0.012*\"work\" + 0.011*\"apply\"')\n",
      "(7, '0.020*\"close\" + 0.015*\"request\" + 0.011*\"concern\" + 0.009*\"complete\" + 0.008*\"list\" + 0.008*\"beautiful\" + 0.007*\"park\" + 0.006*\"week\"')\n"
     ]
    }
   ],
   "source": [
    "NUM_TOPICS = 8\n",
    "ldamodel = gensim.models.ldamodel.LdaModel(corpus, num_topics = NUM_TOPICS, id2word=dictionary, passes=15)\n",
    "\n",
    "#lda_model = gensim.models.ldamodel.LdaModel(corpus=corpus,\n",
    "#                                           id2word=id2word,\n",
    "#                                           num_topics=20, \n",
    "#                                           random_state=100,\n",
    "#                                           update_every=1,\n",
    "#                                           chunksize=100,\n",
    "#                                           passes=10,\n",
    "#                                           alpha='auto',\n",
    " #                                          per_word_topics=True)\n",
    "#\n",
    "topics = ldamodel.print_topics(num_words=8)\n",
    "for topic in topics:\n",
    "    print(topic)"
   ]
  },
  {
   "cell_type": "markdown",
   "metadata": {},
   "source": [
    "### Step4 Visualizing the model "
   ]
  },
  {
   "cell_type": "code",
   "execution_count": 91,
   "metadata": {},
   "outputs": [
    {
     "data": {
      "text/html": [
       "\n",
       "<link rel=\"stylesheet\" type=\"text/css\" href=\"https://cdn.rawgit.com/bmabey/pyLDAvis/files/ldavis.v1.0.0.css\">\n",
       "\n",
       "\n",
       "<div id=\"ldavis_el795711126893718003747084665\"></div>\n",
       "<script type=\"text/javascript\">\n",
       "\n",
       "var ldavis_el795711126893718003747084665_data = {\"mdsDat\": {\"Freq\": [10.390187209416887, 12.448094698816881, 15.228629003739053, 12.428270671668571, 13.373613351344032, 12.047934103699841, 14.322683548134938, 9.7605874131798], \"cluster\": [1, 1, 1, 1, 1, 1, 1, 1], \"topics\": [1, 2, 3, 4, 5, 6, 7, 8], \"x\": [0.0013918204336494733, -0.07368717504102956, 0.07337019183665162, -0.004848061047215335, 0.04435243770453026, -0.020985662387302224, -0.1922665777592302, 0.17267302625994618], \"y\": [0.1597014461100043, -0.011534776810504032, 0.014117154703782756, 0.058940532106382906, 0.03336085761415256, 0.029396060907799542, -0.12700976853999593, -0.1569715060916223]}, \"tinfo\": {\"Category\": [\"Default\", \"Default\", \"Default\", \"Default\", \"Default\", \"Default\", \"Default\", \"Default\", \"Default\", \"Default\", \"Default\", \"Default\", \"Default\", \"Default\", \"Default\", \"Default\", \"Default\", \"Default\", \"Default\", \"Default\", \"Default\", \"Default\", \"Default\", \"Default\", \"Default\", \"Default\", \"Default\", \"Default\", \"Default\", \"Default\", \"Topic1\", \"Topic1\", \"Topic1\", \"Topic1\", \"Topic1\", \"Topic1\", \"Topic1\", \"Topic1\", \"Topic1\", \"Topic1\", \"Topic1\", \"Topic1\", \"Topic1\", \"Topic1\", \"Topic1\", \"Topic1\", \"Topic1\", \"Topic1\", \"Topic1\", \"Topic1\", \"Topic1\", \"Topic1\", \"Topic1\", \"Topic1\", \"Topic1\", \"Topic1\", \"Topic1\", \"Topic1\", \"Topic1\", \"Topic1\", \"Topic1\", \"Topic1\", \"Topic1\", \"Topic1\", \"Topic1\", \"Topic1\", \"Topic1\", \"Topic1\", \"Topic1\", \"Topic1\", \"Topic1\", \"Topic1\", \"Topic1\", \"Topic1\", \"Topic1\", \"Topic1\", \"Topic1\", \"Topic1\", \"Topic1\", \"Topic1\", \"Topic1\", \"Topic1\", \"Topic1\", \"Topic1\", \"Topic1\", \"Topic1\", \"Topic1\", \"Topic1\", \"Topic1\", \"Topic1\", \"Topic1\", \"Topic2\", \"Topic2\", \"Topic2\", \"Topic2\", \"Topic2\", \"Topic2\", \"Topic2\", \"Topic2\", \"Topic2\", \"Topic2\", \"Topic2\", \"Topic2\", \"Topic2\", \"Topic2\", \"Topic2\", \"Topic2\", \"Topic2\", \"Topic2\", \"Topic2\", \"Topic2\", \"Topic2\", \"Topic2\", \"Topic2\", \"Topic2\", \"Topic2\", \"Topic2\", \"Topic2\", \"Topic2\", \"Topic2\", \"Topic2\", \"Topic2\", \"Topic2\", \"Topic2\", \"Topic2\", \"Topic2\", \"Topic2\", \"Topic2\", \"Topic2\", \"Topic2\", \"Topic2\", \"Topic2\", \"Topic2\", \"Topic2\", \"Topic2\", \"Topic2\", \"Topic2\", \"Topic2\", \"Topic2\", \"Topic2\", \"Topic2\", \"Topic2\", \"Topic2\", \"Topic2\", \"Topic2\", \"Topic2\", \"Topic2\", \"Topic2\", \"Topic2\", \"Topic3\", \"Topic3\", \"Topic3\", \"Topic3\", \"Topic3\", \"Topic3\", \"Topic3\", \"Topic3\", \"Topic3\", \"Topic3\", \"Topic3\", \"Topic3\", \"Topic3\", \"Topic3\", \"Topic3\", \"Topic3\", \"Topic3\", \"Topic3\", \"Topic3\", \"Topic3\", \"Topic3\", \"Topic3\", \"Topic3\", \"Topic3\", \"Topic3\", \"Topic3\", \"Topic3\", \"Topic3\", \"Topic3\", \"Topic3\", \"Topic3\", \"Topic3\", \"Topic3\", \"Topic3\", \"Topic3\", \"Topic3\", \"Topic3\", \"Topic3\", \"Topic3\", \"Topic3\", \"Topic3\", \"Topic3\", \"Topic3\", \"Topic3\", \"Topic3\", \"Topic3\", \"Topic3\", \"Topic3\", \"Topic3\", \"Topic3\", \"Topic3\", \"Topic3\", \"Topic3\", \"Topic3\", \"Topic3\", \"Topic3\", \"Topic3\", \"Topic3\", \"Topic4\", \"Topic4\", \"Topic4\", \"Topic4\", \"Topic4\", \"Topic4\", \"Topic4\", \"Topic4\", \"Topic4\", \"Topic4\", \"Topic4\", \"Topic4\", \"Topic4\", \"Topic4\", \"Topic4\", \"Topic4\", \"Topic4\", \"Topic4\", \"Topic4\", \"Topic4\", \"Topic4\", \"Topic4\", \"Topic4\", \"Topic4\", \"Topic4\", \"Topic4\", \"Topic4\", \"Topic4\", \"Topic4\", \"Topic4\", \"Topic4\", \"Topic4\", \"Topic4\", \"Topic4\", \"Topic4\", \"Topic4\", \"Topic4\", \"Topic4\", \"Topic4\", \"Topic4\", \"Topic4\", \"Topic4\", \"Topic4\", \"Topic4\", \"Topic4\", \"Topic4\", \"Topic4\", \"Topic4\", \"Topic4\", \"Topic4\", \"Topic4\", \"Topic4\", \"Topic4\", \"Topic4\", \"Topic4\", \"Topic4\", \"Topic4\", \"Topic4\", \"Topic4\", \"Topic4\", \"Topic4\", \"Topic4\", \"Topic4\", \"Topic4\", \"Topic4\", \"Topic4\", \"Topic4\", \"Topic4\", \"Topic4\", \"Topic4\", \"Topic5\", \"Topic5\", \"Topic5\", \"Topic5\", \"Topic5\", \"Topic5\", \"Topic5\", \"Topic5\", \"Topic5\", \"Topic5\", \"Topic5\", \"Topic5\", \"Topic5\", \"Topic5\", \"Topic5\", \"Topic5\", \"Topic5\", \"Topic5\", \"Topic5\", \"Topic5\", \"Topic5\", \"Topic5\", \"Topic5\", \"Topic5\", \"Topic5\", \"Topic5\", \"Topic5\", \"Topic5\", \"Topic5\", \"Topic5\", \"Topic5\", \"Topic5\", \"Topic5\", \"Topic5\", \"Topic5\", \"Topic5\", \"Topic5\", \"Topic5\", \"Topic5\", \"Topic5\", \"Topic5\", \"Topic5\", \"Topic5\", \"Topic5\", \"Topic5\", \"Topic5\", \"Topic5\", \"Topic5\", \"Topic5\", \"Topic5\", \"Topic5\", \"Topic5\", \"Topic5\", \"Topic5\", \"Topic5\", \"Topic5\", \"Topic5\", \"Topic5\", \"Topic5\", \"Topic5\", \"Topic5\", \"Topic5\", \"Topic6\", \"Topic6\", \"Topic6\", \"Topic6\", \"Topic6\", \"Topic6\", \"Topic6\", \"Topic6\", \"Topic6\", \"Topic6\", \"Topic6\", \"Topic6\", \"Topic6\", \"Topic6\", \"Topic6\", \"Topic6\", \"Topic6\", \"Topic6\", \"Topic6\", \"Topic6\", \"Topic6\", \"Topic6\", \"Topic6\", \"Topic6\", \"Topic6\", \"Topic6\", \"Topic6\", \"Topic6\", \"Topic6\", \"Topic6\", \"Topic6\", \"Topic6\", \"Topic6\", \"Topic6\", \"Topic6\", \"Topic6\", \"Topic6\", \"Topic6\", \"Topic6\", \"Topic6\", \"Topic6\", \"Topic6\", \"Topic6\", \"Topic6\", \"Topic6\", \"Topic6\", \"Topic6\", \"Topic6\", \"Topic6\", \"Topic6\", \"Topic6\", \"Topic6\", \"Topic6\", \"Topic6\", \"Topic6\", \"Topic6\", \"Topic6\", \"Topic6\", \"Topic6\", \"Topic6\", \"Topic6\", \"Topic6\", \"Topic6\", \"Topic6\", \"Topic6\", \"Topic6\", \"Topic7\", \"Topic7\", \"Topic7\", \"Topic7\", \"Topic7\", \"Topic7\", \"Topic7\", \"Topic7\", \"Topic7\", \"Topic7\", \"Topic7\", \"Topic7\", \"Topic7\", \"Topic7\", \"Topic7\", \"Topic7\", \"Topic7\", \"Topic7\", \"Topic7\", \"Topic7\", \"Topic7\", \"Topic7\", \"Topic7\", \"Topic7\", \"Topic7\", \"Topic7\", \"Topic7\", \"Topic7\", \"Topic7\", \"Topic7\", \"Topic7\", \"Topic7\", \"Topic7\", \"Topic7\", \"Topic7\", \"Topic7\", \"Topic7\", \"Topic7\", \"Topic7\", \"Topic7\", \"Topic7\", \"Topic7\", \"Topic7\", \"Topic7\", \"Topic7\", \"Topic7\", \"Topic7\", \"Topic7\", \"Topic7\", \"Topic7\", \"Topic7\", \"Topic7\", \"Topic7\", \"Topic7\", \"Topic7\", \"Topic7\", \"Topic8\", \"Topic8\", \"Topic8\", \"Topic8\", \"Topic8\", \"Topic8\", \"Topic8\", \"Topic8\", \"Topic8\", \"Topic8\", \"Topic8\", \"Topic8\", \"Topic8\", \"Topic8\", \"Topic8\", \"Topic8\", \"Topic8\", \"Topic8\", \"Topic8\", \"Topic8\", \"Topic8\", \"Topic8\", \"Topic8\", \"Topic8\", \"Topic8\", \"Topic8\", \"Topic8\", \"Topic8\", \"Topic8\", \"Topic8\", \"Topic8\", \"Topic8\", \"Topic8\", \"Topic8\", \"Topic8\", \"Topic8\", \"Topic8\", \"Topic8\", \"Topic8\", \"Topic8\", \"Topic8\", \"Topic8\", \"Topic8\", \"Topic8\", \"Topic8\", \"Topic8\", \"Topic8\", \"Topic8\", \"Topic8\", \"Topic8\", \"Topic8\", \"Topic8\", \"Topic8\", \"Topic8\", \"Topic8\", \"Topic8\", \"Topic8\", \"Topic8\", \"Topic8\", \"Topic8\", \"Topic8\"], \"Freq\": [81.0, 85.0, 56.0, 64.0, 44.0, 56.0, 59.0, 60.0, 35.0, 39.0, 108.0, 133.0, 37.0, 59.0, 41.0, 93.0, 43.0, 55.0, 51.0, 86.0, 21.0, 24.0, 60.0, 26.0, 46.0, 75.0, 92.0, 56.0, 73.0, 25.0, 12.414755733743897, 8.73556493899725, 6.947411613912939, 5.759206472214294, 5.759171237139702, 5.759046209455666, 5.758340939656171, 5.459194588062422, 4.96342629070752, 4.963156912879188, 4.962301041551195, 5.129084562209471, 4.467186582153036, 4.467037969701329, 4.466803826947589, 4.46657167327064, 4.167571945051806, 4.167546371207345, 4.167132359080888, 4.167134916465335, 3.9713716835704473, 3.6715194938695492, 3.671261198040484, 3.670865087605151, 3.6695025700029844, 3.372125360138347, 3.371872747385829, 3.371794320929479, 3.1757125515941267, 3.1755753052955145, 57.21599167810003, 10.748357208912248, 10.804474179968903, 15.195942007592864, 26.11663737618052, 11.323458413326351, 9.481094221059282, 46.21286896727327, 7.9882716299749985, 12.676842174866373, 21.120517482712863, 5.734494750464552, 9.87618681738236, 14.073649187687451, 22.117083600166847, 11.229312567247142, 16.170537351115772, 11.230411674251352, 18.77322160046635, 9.991247521770196, 11.845233037268425, 7.264112420653015, 7.586095647043618, 13.298119512840948, 14.91234057527839, 7.82535998936826, 10.077858744963265, 7.011508192749372, 9.411561211197895, 8.218853367950985, 7.526546666060171, 23.48708050360402, 20.00764273957913, 12.254628478797702, 11.435285369030229, 10.925724329286453, 9.905958829400745, 9.088211674567953, 8.47117423621109, 8.270108425694701, 6.739334360386406, 5.921781933843426, 5.921781933843426, 5.921763550403479, 5.921240643667201, 5.920667352688105, 5.920334408164616, 5.613583222693706, 5.611566150810605, 7.470164611148601, 5.103525149203207, 5.103475105394462, 4.9971126070685505, 4.795440823902048, 4.593535502961401, 4.591760479704272, 4.591089484146197, 4.285253045029699, 4.285218661188316, 4.284914993995113, 4.283336060764088, 18.643071312229484, 6.897253556478454, 14.258924552003554, 12.0027889688833, 14.03020323912504, 12.145808046464028, 9.085100107139844, 14.411914262717154, 16.265626813238057, 17.308629662085238, 25.304298521488903, 28.096890116995763, 16.230620658369617, 28.879665160367423, 10.469932808783943, 23.771972076807288, 26.80514162309049, 9.296699628746008, 8.898159587184404, 24.943637217504534, 10.897239529522261, 13.13279042597862, 14.51851234142165, 15.76563265181646, 12.640503691971942, 12.17475992177651, 13.07869545176347, 9.936531851769313, 26.097973409458625, 18.88790989464273, 18.019225656769443, 17.79029495485327, 12.738126662172062, 12.406060447559291, 11.857849372620834, 10.324375504934714, 13.295264503516075, 9.879922992172316, 8.348069219723557, 7.799362537244623, 7.797438413852179, 7.467923536880557, 6.573652206180077, 6.369562686918832, 6.369171615086472, 14.498581286812575, 5.820400378684198, 5.706769231006429, 23.005289066043197, 5.1583082699131095, 4.941438323261398, 4.9412404967221315, 4.940205551564074, 4.940083940302041, 4.939590415146187, 4.938245611156098, 4.937935752324068, 4.610070956928393, 12.16999216410638, 8.061120783325146, 37.183866142938236, 19.915135236422685, 12.685229095002967, 9.941150097836843, 37.477928838165596, 20.427806669462676, 44.48473995233904, 18.626262431424195, 9.046388573795907, 30.104501416654177, 14.37413631578311, 16.68184994911205, 28.49861970378111, 21.614930829924056, 30.253473546737293, 13.2155208337762, 15.275852171513884, 21.507866273919163, 16.75891983699489, 20.343898230475084, 20.401985100126836, 15.991489469072087, 16.011173834444495, 14.56484443145144, 14.000248321338619, 13.407251816771769, 11.669293114756679, 10.72896036526312, 8.200763370750261, 7.773765309182637, 7.673886029167723, 7.040738079908423, 6.0979832605936375, 6.097215104854658, 5.464487601900277, 5.2565916894160605, 5.256439757727864, 5.25544013559143, 9.31584679237489, 4.73126017628524, 4.73003996429279, 4.729744258322475, 4.413765434444574, 4.413714450656588, 4.413261374727359, 4.412622377917941, 4.096114002428832, 7.041000476470588, 4.159129284594944, 3.888577015812033, 3.888398912446004, 3.8882853885447566, 3.8874788250188277, 7.110127015356549, 3.7792946258330127, 3.571043186400578, 5.409082159928865, 10.302453107627835, 12.830687490251885, 10.204870137423784, 7.9907665863091255, 5.2567086122365065, 5.61429462570545, 8.431920466556855, 6.99316068874429, 8.51775609222523, 10.180323822752255, 8.200492136998179, 11.11811961895566, 7.167935153309752, 15.687442368706321, 8.164893216875255, 22.89875792775325, 10.938182875910716, 11.84362368047475, 12.062526313001174, 13.628397511451253, 9.548576907986794, 19.614703163706317, 22.48640920793343, 20.644208597737855, 9.233698994037457, 11.725333134942549, 14.348546915664194, 19.17014220685348, 8.975708110938388, 9.505554068549355, 11.84990624272223, 12.655353563586262, 11.563550019339605, 10.4988684907335, 10.317565382170548, 10.85273404724719, 10.465608027019506, 9.76335121325408, 9.725136484915584, 21.330081437791737, 14.446859368453174, 9.555845305064851, 9.334322080046231, 8.110192629916597, 7.7745495179116855, 7.552807577129918, 7.4398588069891165, 7.439658378497134, 7.104473179762227, 6.998711307189789, 6.998566472002151, 6.664603594472002, 6.66331690207274, 6.443870379567768, 6.214130317868699, 6.109453246221847, 6.109282443109153, 6.109260864129177, 5.994100431413521, 5.773952774932033, 5.552954028850464, 5.552230584403125, 5.43910771944082, 5.438759895543237, 5.537808510870519, 5.218754514031422, 5.218562863429599, 4.998666108308512, 4.997380878890944, 20.973170960911244, 7.507447098238135, 12.620310631562685, 23.9594838053527, 13.356322091647728, 9.545142130996627, 36.18870139277081, 13.16312511817489, 10.384592980215986, 19.000269924367558, 17.136498544254298, 11.503328497669049, 19.418676836726146, 10.598805685713158, 8.000309537914116, 24.94778206950319, 16.74760436159476, 9.91710522651954, 10.553492022235561, 19.66109290330686, 15.258202681889902, 11.315886162686827, 10.444426736999638, 17.788578744594407, 16.643596604072595, 8.85435948145097, 11.960253523539828, 11.100242661093603, 12.684743271299244, 11.108134715838139, 9.837660200137128, 9.799586101568853, 13.216169622431718, 10.316277463936341, 8.87648232388689, 8.253502368102819, 8.048946841070682, 7.329380738354234, 7.328587984533442, 7.018230465029629, 6.502253164611235, 6.502122027445536, 6.502105552927231, 5.87900632163064, 5.363602663939594, 5.159346643650225, 6.245441783480048, 4.643620744381152, 4.641891908430322, 4.6414414950998895, 4.128399953843282, 4.128252342159277, 4.126706373361623, 4.020855286825401, 7.749334661385516, 6.707043947764755, 3.8167837811410372, 3.8167241433847763, 3.81664144130289, 3.816572577816379, 3.816440122689214, 3.8163923465861322, 8.496735451247792, 5.985926604404796, 7.441373195823847, 5.67460829099349, 17.88299340788269, 12.876861761402525, 9.559643036055, 14.878655439262428, 30.17548950746369, 12.611019708317778, 14.566693960656531, 21.167154364801267, 8.97372415664777, 10.531382613509674, 8.360940609732456, 13.418226294527493, 27.518289408932183, 12.196581454014698, 13.20335244719115, 15.279947027958858, 20.120632335899288, 17.039359684760477, 7.969525824249682, 9.821084415810365, 13.475250533204473, 11.703862878537993, 12.706220018770418, 11.193432218942215, 12.823523860941265, 10.848476234057655, 11.711841817243021, 13.28584497320476, 10.23706007216158, 11.341353623890813, 11.138431051112974, 10.08159992763704, 55.67219367459146, 44.2319399708256, 34.6728719891311, 16.300418534880933, 14.156453234923006, 13.475471875153811, 10.834347299153348, 36.726183607011855, 9.076331131610242, 7.907931312982939, 7.905245028430469, 7.41862720614647, 7.124601650022753, 7.023907891298026, 6.932728546656046, 6.932646289473775, 6.932139428550634, 6.63791175477905, 6.150056941154034, 6.1499550989283644, 6.149047919718169, 5.6625382068737276, 5.662430880835906, 5.367778211622586, 4.880062843506563, 4.880017797906747, 4.879763584043442, 4.878792949292636, 4.585571163349973, 4.585513975023251, 48.1627772578675, 35.34619638033342, 46.5597430225449, 10.732617883333734, 18.766537430290782, 31.072125723929457, 24.992055543657298, 63.54122595777904, 33.410244609707355, 23.018213764671735, 12.68899842102738, 47.83368899024922, 24.417886310170367, 41.265777314181555, 29.979436982668396, 35.51936576725504, 35.66160645364254, 27.190445329013052, 20.12945119953658, 11.66229404117938, 18.089097046367943, 20.712342827951243, 15.098611332627062, 14.43369440885464, 14.812447212923301, 12.971705388870527, 20.933059555441957, 13.377200320248756, 11.234999282573819, 9.40306574540763, 9.402968580939833, 8.042228791655521, 8.04152888716495, 6.105005274603491, 5.621221253951874, 5.619224577525684, 4.551944971303787, 7.930522753670765, 4.359765666089123, 4.359745912873142, 4.3588546157358365, 4.258643347839925, 3.875525986793187, 3.5834253054739, 3.583321734557675, 3.5832117571930238, 6.415107809065262, 3.0995713477602957, 3.099549459061506, 3.0995238332678006, 3.0994659082966134, 3.0994338760544817, 3.099237411636076, 3.0991936342384965, 3.09904815447215, 3.098604240983279, 5.596287890547511, 10.796616694177814, 6.780994493198829, 45.055706130805056, 6.241250679414395, 26.052542183156874, 4.914077476659557, 7.170920841181293, 4.854609619142653, 11.676632075804756, 18.285176188652986, 16.84449940525912, 19.28066139671512, 10.01208408763749, 8.556673540604592, 35.414503087720114, 12.998687060137701, 6.947073126718792, 7.485646162053325, 12.371622820432428, 11.51533158506939, 14.107682789157995, 6.803272917601203, 8.361798989149925, 9.536785407926475, 7.682771512388425, 8.616329320608669, 8.173811369753501, 7.7142746886539335, 7.5756316705194955, 7.519484488770211], \"Term\": [\"love\", \"request\", \"latest\", \"close\", \"opening\", \"anyone\", \"click\", \"alberta\", \"recommend\", \"apply\", \"know\", \"calgary\", \"concern\", \"vote\", \"interest\", \"need\", \"best\", \"happy\", \"year\", \"work\", \"complete\", \"details\", \"open\", \"street\", \"check\", \"right\", \"make\", \"come\", \"good\", \"park\", \"surprise\", \"deal\", \"sweet\", \"hook\", \"sister\", \"skill\", \"incredibly\", \"hands\", \"dumb\", \"study\", \"table\", \"speaking\", \"belong\", \"nigeria\", \"application\", \"shoot\", \"site\", \"tool\", \"parsons\", \"among\", \"rejection\", \"latte\", \"risk\", \"camera\", \"local\", \"salmon\", \"excellent\", \"remain\", \"entrepreneur\", \"address\", \"love\", \"child\", \"wish\", \"find\", \"best\", \"nice\", \"visit\", \"know\", \"welcome\", \"something\", \"come\", \"song\", \"contact\", \"home\", \"would\", \"friend\", \"today\", \"try\", \"need\", \"amaze\", \"help\", \"soon\", \"use\", \"back\", \"want\", \"fuck\", \"good\", \"stuff\", \"calgary\", \"take\", \"thanks\", \"details\", \"scotty\", \"literally\", \"brewing\", \"safety\", \"podcast\", \"student\", \"gotta\", \"friday\", \"confirm\", \"baker\", \"hughes\", \"vaccination\", \"estate\", \"speech\", \"trade\", \"representative\", \"boy\", \"management\", \"security\", \"network\", \"texas\", \"crying\", \"similar\", \"depression\", \"distance\", \"housing\", \"production\", \"north\", \"run\", \"snow\", \"history\", \"miss\", \"drinking\", \"group\", \"anything\", \"social\", \"someone\", \"show\", \"things\", \"click\", \"good\", \"might\", \"want\", \"happen\", \"work\", \"calgary\", \"service\", \"hate\", \"like\", \"place\", \"better\", \"still\", \"time\", \"city\", \"start\", \"make\", \"never\", \"street\", \"light\", \"gift\", \"repair\", \"lane\", \"replace\", \"streetlight\", \"health\", \"sidewalk\", \"properly\", \"minimum\", \"yeah\", \"science\", \"blog\", \"pumpkin\", \"stream\", \"milk\", \"card\", \"activity\", \"rule\", \"iphone\", \"double\", \"dare\", \"income\", \"four\", \"edge\", \"fitness\", \"engineer\", \"pattern\", \"haha\", \"stay\", \"area\", \"year\", \"move\", \"android\", \"member\", \"open\", \"sign\", \"request\", \"next\", \"fire\", \"back\", \"another\", \"working\", \"need\", \"think\", \"like\", \"live\", \"canadian\", \"time\", \"game\", \"people\", \"great\", \"come\", \"would\", \"week\", \"could\", \"close\", \"private\", \"effort\", \"moment\", \"immigration\", \"remind\", \"twitter\", \"university\", \"field\", \"smart\", \"rather\", \"alley\", \"born\", \"council\", \"inspire\", \"colleague\", \"chicken\", \"harper\", \"achieve\", \"major\", \"camp\", \"sadly\", \"alternative\", \"gap\", \"wide\", \"bridgeland\", \"malt\", \"multiple\", \"extra\", \"loan\", \"package\", \"drink\", \"date\", \"land\", \"times\", \"celebrate\", \"shop\", \"text\", \"save\", \"lady\", \"playing\", \"course\", \"sick\", \"awesome\", \"send\", \"thank\", \"kill\", \"think\", \"house\", \"wait\", \"money\", \"event\", \"cool\", \"right\", \"know\", \"make\", \"enjoy\", \"every\", \"today\", \"like\", \"wonder\", \"party\", \"take\", \"people\", \"well\", \"support\", \"first\", \"week\", \"time\", \"love\", \"calgary\", \"wrong\", \"walk\", \"own\", \"buying\", \"olympics\", \"expect\", \"original\", \"prison\", \"nation\", \"lying\", \"job\", \"ponzi\", \"october\", \"basically\", \"fighting\", \"lock\", \"pollution\", \"driving\", \"straight\", \"swamp\", \"roads\", \"learning\", \"numbers\", \"mandate\", \"crop\", \"ball\", \"push\", \"eddie\", \"requirement\", \"determine\", \"america\", \"button\", \"phone\", \"left\", \"month\", \"criminal\", \"vote\", \"follow\", \"current\", \"ever\", \"also\", \"garbage\", \"city\", \"pick\", \"backlane\", \"right\", \"give\", \"though\", \"dead\", \"good\", \"last\", \"kid\", \"real\", \"need\", \"time\", \"market\", \"canada\", \"going\", \"want\", \"like\", \"would\", \"back\", \"rally\", \"favourite\", \"beer\", \"wind\", \"running\", \"values\", \"vehicle\", \"leave\", \"mess\", \"credible\", \"decision\", \"coach\", \"property\", \"unite\", \"eagle\", \"crowd\", \"technical\", \"agreement\", \"witness\", \"cheque\", \"cafe\", \"drunk\", \"comment\", \"case\", \"self\", \"deficit\", \"calgarians\", \"robert\", \"toxic\", \"maximum\", \"half\", \"noise\", \"book\", \"million\", \"join\", \"voting\", \"side\", \"long\", \"happy\", \"olympic\", \"birthday\", \"life\", \"news\", \"experience\", \"speak\", \"november\", \"make\", \"store\", \"please\", \"better\", \"right\", \"still\", \"forward\", \"spend\", \"look\", \"feel\", \"come\", \"looking\", \"people\", \"even\", \"vote\", \"calgary\", \"event\", \"time\", \"would\", \"much\", \"latest\", \"opening\", \"recommend\", \"do\", \"become\", \"manager\", \"class\", \"apply\", \"pipeline\", \"supporting\", \"lead\", \"congratulations\", \"serious\", \"body\", \"administrator\", \"poppy\", \"platform\", \"spice\", \"police\", \"instagram\", \"volunteer\", \"duck\", \"highly\", \"passion\", \"role\", \"education\", \"boxing\", \"inspiration\", \"orange\", \"appreciate\", \"anyone\", \"interest\", \"alberta\", \"driver\", \"view\", \"check\", \"looking\", \"calgary\", \"click\", \"team\", \"tweet\", \"great\", \"thanks\", \"work\", \"could\", \"want\", \"like\", \"need\", \"canada\", \"thing\", \"well\", \"make\", \"many\", \"support\", \"happy\", \"would\", \"complete\", \"ticket\", \"signal\", \"access\", \"inner\", \"timing\", \"tire\", \"quick\", \"designer\", \"refugee\", \"prepare\", \"inquiry\", \"anywhere\", \"joining\", \"reasonable\", \"word\", \"prostate\", \"purpose\", \"hundred\", \"growing\", \"ahead\", \"instructional\", \"christian\", \"lobby\", \"sexual\", \"con\", \"consideration\", \"ugly\", \"accord\", \"valley\", \"lighting\", \"drive\", \"review\", \"close\", \"liberal\", \"concern\", \"truth\", \"maintenance\", \"congrats\", \"provide\", \"beautiful\", \"park\", \"list\", \"library\", \"number\", \"request\", \"link\", \"opportunity\", \"ride\", \"report\", \"call\", \"week\", \"thinking\", \"watch\", \"open\", \"keep\", \"vote\", \"canada\", \"getting\", \"say\", \"people\"], \"Total\": [81.0, 85.0, 56.0, 64.0, 44.0, 56.0, 59.0, 60.0, 35.0, 39.0, 108.0, 133.0, 37.0, 59.0, 41.0, 93.0, 43.0, 55.0, 51.0, 86.0, 21.0, 24.0, 60.0, 26.0, 46.0, 75.0, 92.0, 56.0, 73.0, 25.0, 13.116383452091918, 9.437221425168614, 7.649250947648033, 6.460664521849583, 6.460674940405844, 6.460664747202736, 6.460763974264047, 6.1609837530537375, 5.6649188445948475, 5.664905243751623, 5.664924101088661, 5.86456892436929, 5.168821020826924, 5.168822085700729, 5.168871887468829, 5.168845270455202, 4.869161204152583, 4.869147365898324, 4.869149854758072, 4.869168001171122, 4.672718240327273, 4.373058864274176, 4.373041733692909, 4.373063231249903, 4.373063237203956, 4.073363783281427, 4.073377589666098, 4.073403643450836, 3.8769451061060773, 3.8769548614676137, 81.63270161354305, 14.099673992724172, 14.67814499011796, 22.484889939319554, 43.3095018344632, 16.946556108217525, 13.685456279800613, 108.68505254281408, 11.841077213352253, 23.481277072057207, 56.57468477696222, 8.045406487418965, 19.500064307127722, 34.81592683856451, 80.47605010189082, 27.03862840477083, 55.12476828793597, 28.595382293680455, 93.36150727458211, 26.934076421690726, 42.71758910317528, 13.865231398899867, 15.546974549291482, 73.39454019458361, 111.01423079432713, 20.16750484298462, 73.39597099480383, 15.592092486188536, 133.52884430672333, 52.83167114538127, 41.52250244854924, 24.185928151075892, 20.917562453910335, 12.953742395419782, 12.135439589748183, 11.625407590587033, 10.605284860218084, 9.787045807653387, 9.17079649438761, 8.968843157478032, 7.4386025149533745, 6.6203861550561385, 6.6203861550561385, 6.62038545091232, 6.620411207179113, 6.620410983839045, 6.6204007180854, 6.312257407575035, 6.312216070012967, 8.461965686267597, 5.8021826140026205, 5.80219038256171, 5.6960103460974985, 5.4940543210344, 5.292097814270642, 5.292049371644296, 5.2920959367181934, 4.983976112776997, 4.983978685801381, 4.984008514012237, 4.983875191804691, 22.688547346806963, 8.19966154338991, 18.36480304172164, 15.385000412883826, 19.45442687124227, 17.237297089699176, 12.20608225908091, 24.131012271074926, 30.045742942645028, 33.11335908460998, 59.33181773863659, 73.39597099480383, 35.95859259158583, 111.01423079432713, 18.444240892764054, 86.26074307957046, 133.52884430672333, 16.357880835677932, 15.128113735142108, 129.94803519823233, 23.168764289166496, 40.09800958009974, 53.58920726796114, 80.32205430162446, 41.2030242819076, 38.382684641806684, 92.97704246566518, 35.75581831289963, 26.82766553947574, 19.57943668561934, 18.710431510976594, 18.48200625005332, 13.429194517149769, 13.09768956701919, 12.548979485293907, 11.01685274685417, 14.197625946832602, 10.571281843986664, 9.039306306945953, 8.490571875984767, 8.490408144451113, 8.159102258794439, 7.277324987372195, 7.061584453905924, 7.061513005696384, 16.181803006574462, 6.512918551239039, 6.398603786088594, 26.0758153144284, 5.8499034609555665, 5.63268779148674, 5.632695938788281, 5.632642736853492, 5.632583666212982, 5.632573671615183, 5.632327668848639, 5.632429510230781, 5.301221288188302, 14.148470260910095, 9.482249447570531, 51.342239582431084, 26.548747696429032, 16.101352792935955, 12.686952122467416, 60.21924837863198, 31.050783222805492, 85.90231403278662, 32.734651328414934, 12.070905334186858, 73.39454019458361, 24.14227559935149, 31.40943791406321, 93.36150727458211, 65.52796076731738, 129.94803519823233, 25.471678768795567, 34.935897529272566, 80.32205430162446, 45.49449143982298, 80.08210403722664, 98.92196293402974, 56.57468477696222, 80.47605010189082, 51.007725368742015, 59.676581712152625, 64.40523373286044, 12.36629568547928, 11.424956236944919, 8.896678873409039, 8.469962463591559, 8.371328497331985, 7.736560219142044, 6.795055931748337, 6.795015653595408, 6.160371276103777, 5.952356552113227, 5.952367677061156, 5.952289299251797, 10.614526197966283, 5.426966899692253, 5.426911654334885, 5.426950142197411, 5.1095952391644754, 5.109600808140184, 5.109587108510893, 5.109626649947037, 4.792215868897431, 8.252254920925825, 4.9002213057426935, 4.584215885453661, 4.5842093631162, 4.584210050293735, 4.584270570436031, 8.403321573837907, 4.474864820255169, 4.266842488410304, 6.55029077736588, 12.999051550721008, 16.74771979443276, 13.211292274387164, 10.235399254189362, 6.44846500183352, 6.990369012177752, 11.47944808795185, 9.26541289312736, 12.072562947218156, 16.170667244822305, 12.098220359457704, 19.74520858054023, 10.298185142719088, 35.39339944474276, 12.75050851053504, 65.52796076731738, 20.844494565167306, 23.94743035730886, 26.274622282159488, 34.05318486923139, 17.84123405356186, 75.30341063017478, 108.68505254281408, 92.97704246566518, 18.146179387218716, 32.54133397604194, 55.12476828793597, 129.94803519823233, 17.09093880161281, 21.60616825368523, 52.83167114538127, 80.08210403722664, 57.146295709984216, 36.327833815796055, 34.89072228739916, 51.007725368742015, 80.32205430162446, 81.63270161354305, 133.52884430672333, 22.02017321228081, 15.138280644359114, 10.246166184176657, 10.026238282093052, 8.800480220605559, 8.46511531757447, 8.245087827084804, 8.12980657607368, 8.129784285944595, 7.7944427126842, 7.690114321557219, 7.690062394598163, 7.354802029125263, 7.3546775432656295, 7.134907307878541, 6.903938540721429, 6.799650841230158, 6.799624849248528, 6.799624588765694, 6.684111522037582, 6.46429921597249, 6.244339674684009, 6.24432126708104, 6.128964605923971, 6.128937357222409, 6.242515318037871, 5.909127280196887, 5.909099979373676, 5.689303917798703, 5.689237803081465, 24.346403469829266, 8.768173580417537, 15.298111303483195, 32.01066874958688, 17.125924864652287, 11.776411208146612, 59.96287581310745, 18.16089392534402, 14.06407951357768, 33.76730582350116, 31.297405135036577, 17.962054957698598, 41.2030242819076, 16.531759949602314, 10.559580863417752, 75.30341063017478, 39.028415763774504, 16.282719817379355, 18.460492400672738, 73.39597099480383, 44.15721127085895, 23.63914091554597, 19.937924498266014, 93.36150727458211, 80.32205430162446, 13.747457670788956, 56.46184326137035, 50.2050269022764, 111.01423079432713, 129.94803519823233, 80.47605010189082, 73.39454019458361, 13.91490887526346, 11.014311043070695, 9.574553916259124, 8.951516853024206, 8.74733687016736, 8.027444935296197, 8.027425359914346, 7.715928873876013, 7.20023402748272, 7.20020828189197, 7.20025984913114, 6.577155167789182, 6.061496818480037, 5.857286398474911, 7.1043461486370925, 5.341577802577865, 5.341497617197094, 5.341524631470851, 4.825900941674007, 4.825900058231319, 4.825895217659219, 4.718582082141906, 9.097977226398813, 7.9297954276778215, 4.5143809353574165, 4.514399907273367, 4.514383609980049, 4.514374978443099, 4.514361616634443, 4.51435389811488, 10.080454184285967, 7.172246902767676, 9.00351550676333, 6.869100846365323, 25.713731841536955, 17.892998079142494, 13.35451640665739, 22.92198145357389, 55.4978326485258, 19.601104825054065, 24.814086453623485, 43.23969091561515, 13.192206313785311, 16.89254085458048, 12.320503656153532, 25.986506271533525, 92.97704246566518, 23.841657223312186, 29.218390501337026, 40.09800958009974, 75.30341063017478, 53.58920726796114, 11.669534461610315, 19.63252410097941, 43.65997042468781, 33.04092237208446, 56.57468477696222, 40.084929297521704, 80.08210403722664, 41.548918163641254, 59.96287581310745, 133.52884430672333, 34.05318486923139, 80.32205430162446, 80.47605010189082, 46.209166211503536, 56.37903356239543, 44.94785802102978, 35.37582112018124, 17.004581623096822, 14.860417777727745, 14.179485101498816, 11.537693080953522, 39.28629612139838, 9.779807131764015, 8.611151984451649, 8.611506295496637, 8.123521736989868, 7.828788672705584, 7.727269263838837, 7.6356307655559075, 7.635637749755716, 7.6356956747693925, 7.34101289468725, 6.853264135101142, 6.853247090191622, 6.853331081212057, 6.3654913064913865, 6.365497047319212, 6.070850638248596, 5.583106576339959, 5.583114287508371, 5.5831407206988315, 5.583200665210793, 5.288456356160149, 5.288455101911914, 56.835709317841975, 41.796229050064774, 60.0324832833334, 12.993776266711972, 23.847207285678948, 46.04261457984726, 40.084929297521704, 133.52884430672333, 59.33181773863659, 37.20910135830783, 17.55503751841955, 98.92196293402974, 41.52250244854924, 86.26074307957046, 59.676581712152625, 111.01423079432713, 129.94803519823233, 93.36150727458211, 56.46184326137035, 19.611124161719175, 57.146295709984216, 92.97704246566518, 39.71080936204112, 36.327833815796055, 55.4978326485258, 80.47605010189082, 21.637484126581338, 14.081998376170096, 11.943903100188662, 10.107602929908232, 10.107617820971312, 8.745890933025777, 8.745949922177324, 6.809125393798442, 6.324898099011502, 6.32503551439018, 5.255726107081422, 9.201878501721687, 5.0640586565647085, 5.064066091824975, 5.064102892717617, 4.963300006829614, 4.579850360195022, 4.287320628396901, 4.287336743308052, 4.287352675198776, 7.706559260088083, 3.803112193272141, 3.803114003835268, 3.803118636150684, 3.803119033676756, 3.8031258330329765, 3.803140306285572, 3.803166857828855, 3.8031414853568832, 3.8031642775527263, 6.876947733238972, 13.511627113230428, 8.505183338802913, 64.40523373286044, 8.023966426624044, 37.99075948483856, 6.263566566031413, 9.524968590167505, 6.259709369299041, 16.67404724850694, 27.914649178417765, 25.99104783899155, 32.89855583018113, 15.164808548326073, 12.67034553861627, 85.90231403278662, 22.45034081688005, 9.681725718941115, 11.043617807672598, 29.13476172548503, 30.340018593478803, 51.007725368742015, 11.002787001060643, 23.809053556626775, 60.21924837863198, 25.048891378473094, 59.96287581310745, 56.46184326137035, 33.65977330565835, 38.92518854896683, 80.08210403722664], \"loglift\": [30.0, 29.0, 28.0, 27.0, 26.0, 25.0, 24.0, 23.0, 22.0, 21.0, 20.0, 19.0, 18.0, 17.0, 16.0, 15.0, 14.0, 13.0, 12.0, 11.0, 10.0, 9.0, 8.0, 7.0, 6.0, 5.0, 4.0, 3.0, 2.0, 1.0, 2.2093, 2.187, 2.1681, 2.1494, 2.1494, 2.1493, 2.1492, 2.1434, 2.1321, 2.1321, 2.1319, 2.1303, 2.1184, 2.1184, 2.1183, 2.1183, 2.1087, 2.1087, 2.1086, 2.1086, 2.1017, 2.0895, 2.0894, 2.0893, 2.0889, 2.0754, 2.0753, 2.0753, 2.0648, 2.0647, 1.9089, 1.9929, 1.9579, 1.8725, 1.7585, 1.8611, 1.8973, 1.4091, 1.8707, 1.6479, 1.279, 1.9257, 1.584, 1.3585, 0.9727, 1.3856, 1.0379, 1.3297, 0.6603, 1.2726, 0.9816, 1.6179, 1.5468, 0.5561, 0.2568, 1.3176, 0.2788, 1.4651, -0.3881, 0.4036, 0.5565, 2.0543, 2.0391, 2.0281, 2.0242, 2.0215, 2.0154, 2.0095, 2.0042, 2.0025, 1.9849, 1.9721, 1.9721, 1.9721, 1.972, 1.9719, 1.9718, 1.9663, 1.9659, 1.9589, 1.9553, 1.9553, 1.9527, 1.9476, 1.942, 1.9417, 1.9415, 1.9326, 1.9325, 1.9325, 1.9321, 1.8872, 1.9106, 1.8305, 1.8353, 1.7567, 1.7335, 1.7883, 1.5682, 1.4699, 1.4349, 1.2314, 1.1234, 1.2881, 0.7371, 1.5174, 0.7947, 0.4779, 1.5186, 1.5529, 0.4331, 1.3293, 0.9674, 0.7777, 0.4554, 0.902, 0.9354, 0.1222, 0.8031, 1.8544, 1.846, 1.8444, 1.8438, 1.8292, 1.8277, 1.8253, 1.8171, 1.8163, 1.8144, 1.8024, 1.7971, 1.7969, 1.7935, 1.7803, 1.7789, 1.7788, 1.7722, 1.7696, 1.7676, 1.7567, 1.7562, 1.7511, 1.751, 1.7508, 1.7508, 1.7507, 1.7505, 1.7504, 1.7423, 1.7314, 1.7196, 1.5594, 1.5945, 1.6435, 1.6381, 1.4078, 1.4633, 1.2239, 1.3181, 1.5936, 0.9908, 1.3635, 1.2492, 0.6954, 0.7729, 0.4245, 1.2258, 1.0548, 0.5644, 0.8833, 0.5117, 0.3033, 0.6185, 0.2673, 0.6286, 0.4321, 0.3126, 2.0272, 2.0223, 2.0037, 1.9994, 1.9982, 1.991, 1.977, 1.9768, 1.9653, 1.9609, 1.9609, 1.9607, 1.9547, 1.948, 1.9478, 1.9477, 1.9388, 1.9388, 1.9387, 1.9385, 1.9282, 1.9265, 1.9212, 1.9206, 1.9206, 1.9205, 1.9203, 1.9181, 1.9163, 1.9072, 1.8938, 1.8527, 1.8188, 1.827, 1.8376, 1.8809, 1.866, 1.7767, 1.8038, 1.7364, 1.6225, 1.6963, 1.5109, 1.7228, 1.2715, 1.6395, 1.0338, 1.4404, 1.3811, 1.3067, 1.1694, 1.4601, 0.74, 0.5097, 0.5803, 1.4096, 1.0644, 0.7392, 0.1714, 1.4412, 1.2641, 0.5904, 0.2402, 0.4874, 0.8439, 0.8668, 0.5376, 0.0472, -0.0384, -0.5344, 1.98, 1.9651, 1.9421, 1.9404, 1.9302, 1.9268, 1.9242, 1.9232, 1.9232, 1.9192, 1.9177, 1.9177, 1.9133, 1.9132, 1.91, 1.9066, 1.9049, 1.9048, 1.9048, 1.9029, 1.8989, 1.8945, 1.8944, 1.8925, 1.8924, 1.8921, 1.8876, 1.8876, 1.8825, 1.8822, 1.8627, 1.8567, 1.8195, 1.7222, 1.7633, 1.8018, 1.5069, 1.69, 1.7086, 1.4368, 1.4096, 1.5663, 1.2596, 1.5673, 1.7343, 0.9071, 1.1659, 1.516, 1.4527, 0.6947, 0.9492, 1.2752, 1.3653, 0.354, 0.4379, 1.5719, 0.4599, 0.5027, -0.1574, -0.4476, -0.0899, -0.0016, 2.0648, 2.0508, 2.0406, 2.0351, 2.0331, 2.0253, 2.0252, 2.0215, 2.0143, 2.0143, 2.0143, 2.0041, 1.994, 1.9894, 1.9874, 1.9763, 1.9759, 1.9758, 1.9602, 1.9601, 1.9598, 1.9563, 1.9558, 1.9488, 1.9484, 1.9484, 1.9484, 1.9484, 1.9483, 1.9483, 1.9454, 1.9355, 1.9257, 1.9252, 1.7531, 1.7873, 1.782, 1.6841, 1.507, 1.6753, 1.5836, 1.402, 1.731, 1.6438, 1.7286, 1.4553, 0.8988, 1.446, 1.3219, 1.1515, 0.7965, 0.9705, 1.7349, 1.4236, 0.9407, 1.0784, 0.6228, 0.8406, 0.2845, 0.7734, 0.4832, -0.1913, 0.9144, 0.1587, 0.1387, 0.5938, 1.9307, 1.9273, 1.9233, 1.901, 1.8948, 1.8924, 1.8804, 1.8759, 1.8687, 1.8581, 1.8578, 1.8526, 1.8491, 1.8479, 1.8468, 1.8467, 1.8467, 1.8426, 1.8351, 1.835, 1.8349, 1.8263, 1.8263, 1.8202, 1.8087, 1.8087, 1.8087, 1.8085, 1.8007, 1.8007, 1.7777, 1.7757, 1.6892, 1.7521, 1.7037, 1.5501, 1.4709, 1.2007, 1.369, 1.4631, 1.6187, 1.2167, 1.4124, 1.206, 1.2549, 0.8037, 0.6503, 0.7097, 0.9119, 1.4236, 0.793, 0.4417, 0.9763, 1.0203, 0.6224, 0.1181, 2.2937, 2.2755, 2.2656, 2.2546, 2.2546, 2.2429, 2.2428, 2.2177, 2.2089, 2.2085, 2.1831, 2.1781, 2.1771, 2.1771, 2.1768, 2.1737, 2.1598, 2.1475, 2.1474, 2.1474, 2.1434, 2.1223, 2.1223, 2.1222, 2.1222, 2.1222, 2.1221, 2.1221, 2.1221, 2.1219, 2.1207, 2.1025, 2.1003, 1.9695, 2.0756, 1.9496, 2.0842, 2.0429, 2.0726, 1.9706, 1.9038, 1.8931, 1.7925, 1.9116, 1.9343, 1.4407, 1.7804, 1.9949, 1.938, 1.4703, 1.358, 1.0416, 1.8461, 1.2804, 0.484, 1.145, 0.3868, 0.3942, 0.8536, 0.6901, -0.0387], \"logprob\": [30.0, 29.0, 28.0, 27.0, 26.0, 25.0, 24.0, 23.0, 22.0, 21.0, 20.0, 19.0, 18.0, 17.0, 16.0, 15.0, 14.0, 13.0, 12.0, 11.0, 10.0, 9.0, 8.0, 7.0, 6.0, 5.0, 4.0, 3.0, 2.0, 1.0, -5.281199932098389, -5.632699966430664, -5.861700057983398, -6.049300193786621, -6.049300193786621, -6.049300193786621, -6.049499988555908, -6.102799892425537, -6.197999954223633, -6.1981000900268555, -6.198200225830078, -6.165200233459473, -6.303299903869629, -6.303400039672852, -6.303400039672852, -6.303500175476074, -6.372799873352051, -6.372799873352051, -6.372900009155273, -6.372900009155273, -6.421000003814697, -6.499499797821045, -6.499599933624268, -6.49970006942749, -6.500100135803223, -6.58459997177124, -6.58459997177124, -6.584700107574463, -6.644599914550781, -6.644599914550781, -3.7532999515533447, -5.4253997802734375, -5.420100212097168, -5.079100131988525, -4.537499904632568, -5.373199939727783, -5.55079984664917, -3.9667999744415283, -5.722099781036377, -5.260300159454346, -4.749899864196777, -6.053599834442139, -5.510000228881836, -5.155799865722656, -4.703800201416016, -5.3815999031066895, -5.016900062561035, -5.381499767303467, -4.867700099945068, -5.4984002113342285, -5.328199863433838, -5.817200183868408, -5.773799896240234, -5.212500095367432, -5.097899913787842, -5.742700099945068, -5.489799976348877, -5.85260009765625, -5.558199882507324, -5.693699836730957, -5.781700134277344, -4.824399948120117, -4.9847002029418945, -5.474899768829346, -5.544099807739258, -5.589700222015381, -5.687699794769287, -5.773799896240234, -5.844099998474121, -5.868199825286865, -6.07289981842041, -6.202199935913086, -6.202199935913086, -6.202199935913086, -6.202300071716309, -6.202400207519531, -6.202400207519531, -6.2555999755859375, -6.25600004196167, -5.969900131225586, -6.350900173187256, -6.350900173187256, -6.372000217437744, -6.413099765777588, -6.456200122833252, -6.456500053405762, -6.456699848175049, -6.525599956512451, -6.525599956512451, -6.525700092315674, -6.526100158691406, -5.055300235748291, -6.049699783325195, -5.323400020599365, -5.495699882507324, -5.339600086212158, -5.483799934387207, -5.774199962615967, -5.31279993057251, -5.191800117492676, -5.1296000480651855, -4.749800205230713, -4.645199775695801, -5.193900108337402, -4.617700099945068, -5.632299900054932, -4.812300205230713, -4.692200183868408, -5.751200199127197, -5.795000076293945, -4.764200210571289, -5.592299938201904, -5.405700206756592, -5.3053998947143555, -5.2230000495910645, -5.443900108337402, -5.481400012969971, -5.409800052642822, -5.684599876403809, -4.920599937438965, -5.243899822235107, -5.290999889373779, -5.303800106048584, -5.637800216674805, -5.6641998291015625, -5.709400177001953, -5.847899913787842, -5.59499979019165, -5.891900062561035, -6.060400009155273, -6.128399848937988, -6.128600120544434, -6.171800136566162, -6.2993998527526855, -6.330900192260742, -6.330999851226807, -5.508399963378906, -6.42110013961792, -6.440800189971924, -5.0467000007629395, -6.541800022125244, -6.584799766540527, -6.584799766540527, -6.585000038146973, -6.585000038146973, -6.585100173950195, -6.585400104522705, -6.5854997634887695, -6.654200077056885, -5.6834001541137695, -6.095399856567383, -4.566500186920166, -5.190899848937988, -5.642000198364258, -5.885700225830078, -4.558700084686279, -5.165500164031982, -4.38730001449585, -5.257800102233887, -5.980100154876709, -4.777699947357178, -5.517000198364258, -5.368100166320801, -4.832600116729736, -5.109000205993652, -4.772799968719482, -5.60099983215332, -5.456099987030029, -5.113999843597412, -5.363500118255615, -5.169600009918213, -5.166800022125244, -5.410399913787842, -5.40910005569458, -5.503799915313721, -5.543300151824951, -5.586599826812744, -5.522299766540527, -5.606299877166748, -5.875, -5.928500175476074, -5.941400051116943, -6.027500152587891, -6.171299934387207, -6.17140007019043, -6.280900001525879, -6.319699764251709, -6.319799900054932, -6.320000171661377, -5.747499942779541, -6.425000190734863, -6.425300121307373, -6.425300121307373, -6.494500160217285, -6.494500160217285, -6.49459981918335, -6.494699954986572, -6.569200038909912, -6.027500152587891, -6.553899765014648, -6.621200084686279, -6.621200084686279, -6.621300220489502, -6.621500015258789, -6.0177001953125, -6.649700164794922, -6.706399917602539, -6.291100025177002, -5.6468000411987305, -5.4274001121521, -5.656400203704834, -5.900899887084961, -6.319699764251709, -6.253900051116943, -5.8471999168396, -6.034299850463867, -5.837100028991699, -5.65880012512207, -5.875, -5.5706000328063965, -6.0096001625061035, -5.226399898529053, -5.87939977645874, -4.848100185394287, -5.586999893188477, -5.507400035858154, -5.489099979400635, -5.367099761962891, -5.722799777984619, -5.002900123596191, -4.866300106048584, -4.9517998695373535, -5.756400108337402, -5.517499923706055, -5.3155999183654785, -5.025899887084961, -5.7846999168396, -5.72730016708374, -5.506899833679199, -5.441100120544434, -5.531400203704834, -5.627999782562256, -5.645400047302246, -5.594799995422363, -5.631100177764893, -5.7006001472473145, -5.704500198364258, -4.992400169372559, -5.3821001052856445, -5.795400142669678, -5.81879997253418, -5.959400177001953, -6.001699924468994, -6.030600070953369, -6.0457000732421875, -6.0457000732421875, -6.091800212860107, -6.106800079345703, -6.106800079345703, -6.155700206756592, -6.155900001525879, -6.1894001960754395, -6.2256999015808105, -6.242700099945068, -6.242700099945068, -6.242700099945068, -6.2617998123168945, -6.299200057983398, -6.338200092315674, -6.3383002281188965, -6.35890007019043, -6.359000205993652, -6.34089994430542, -6.400300025939941, -6.400300025939941, -6.443399906158447, -6.443600177764893, -5.009300231933594, -6.036600112915039, -5.517199993133545, -4.876200199127197, -5.4604997634887695, -5.796500205993652, -4.463799953460693, -5.475100040435791, -5.712200164794922, -5.108099937438965, -5.211299896240234, -5.609899997711182, -5.086299896240234, -5.691800117492676, -5.9730000495910645, -4.835700035095215, -5.234300136566162, -5.758299827575684, -5.696100234985352, -5.07390022277832, -5.327400207519531, -5.626299858093262, -5.706500053405762, -5.173999786376953, -5.240499973297119, -5.871600151062012, -5.570899963378906, -5.645599842071533, -5.5121002197265625, -5.644899845123291, -5.766300201416016, -5.770199775695801, -5.366700172424316, -5.6143999099731445, -5.764699935913086, -5.837500095367432, -5.862599849700928, -5.956200122833252, -5.956399917602539, -5.999599933624268, -6.076000213623047, -6.076000213623047, -6.076000213623047, -6.176799774169922, -6.268499851226807, -6.307300090789795, -6.116300106048584, -6.412600040435791, -6.413000106811523, -6.413099765777588, -6.530200004577637, -6.530300140380859, -6.530700206756592, -6.556600093841553, -5.9004998207092285, -6.045000076293945, -6.608699798583984, -6.608699798583984, -6.608799934387207, -6.608799934387207, -6.608799934387207, -6.608799934387207, -5.808499813079834, -6.158699989318848, -5.941100120544434, -6.212100028991699, -5.064300060272217, -5.3927001953125, -5.6905999183654785, -5.248199939727783, -4.541100025177002, -5.413599967956543, -5.269400119781494, -4.895699977874756, -5.753799915313721, -5.593800067901611, -5.8246002197265625, -5.351500034332275, -4.633299827575684, -5.447000026702881, -5.367700099945068, -5.22160005569458, -4.946400165557861, -5.112599849700928, -5.872499942779541, -5.663599967956543, -5.347300052642822, -5.4882001876831055, -5.406000137329102, -5.532800197601318, -5.396900177001953, -5.5640997886657715, -5.487500190734863, -5.361400127410889, -5.622099876403809, -5.519700050354004, -5.537700176239014, -5.637400150299072, -4.101600170135498, -4.331600189208984, -4.575099945068359, -5.329899787902832, -5.470900058746338, -5.520199775695801, -5.738399982452393, -4.517600059509277, -5.91540002822876, -6.053199768066406, -6.053599834442139, -6.117099761962891, -6.15749979019165, -6.171800136566162, -6.184800148010254, -6.184800148010254, -6.184899806976318, -6.228300094604492, -6.304599761962891, -6.304599761962891, -6.304800033569336, -6.387199878692627, -6.387199878692627, -6.440700054168701, -6.535900115966797, -6.535900115966797, -6.535999774932861, -6.536200046539307, -6.598199844360352, -6.598199844360352, -4.246500015258789, -4.5559000968933105, -4.280399799346924, -5.747799873352051, -5.189000129699707, -4.684800148010254, -4.902500152587891, -3.969399929046631, -4.612199783325195, -4.984799861907959, -5.580399990081787, -4.253399848937988, -4.92579984664917, -4.401100158691406, -4.720600128173828, -4.551000118255615, -4.546999931335449, -4.81820011138916, -5.118899822235107, -5.664700031280518, -5.225800037384033, -5.090400218963623, -5.406499862670898, -5.451499938964844, -5.425600051879883, -5.558300018310547, -4.696300029754639, -5.144000053405762, -5.318600177764893, -5.496600151062012, -5.496600151062012, -5.652900218963623, -5.6529998779296875, -5.928500175476074, -6.011000156402588, -6.01140022277832, -6.2220001220703125, -5.666900157928467, -6.265200138092041, -6.265200138092041, -6.265399932861328, -6.288599967956543, -6.382900238037109, -6.461299896240234, -6.461299896240234, -6.461299896240234, -5.878900051116943, -6.606299877166748, -6.606299877166748, -6.606299877166748, -6.606400012969971, -6.606400012969971, -6.606400012969971, -6.606500148773193, -6.606500148773193, -6.606599807739258, -6.015500068664551, -5.358399868011475, -5.823500156402588, -3.9296998977661133, -5.906400203704834, -4.477499961853027, -6.145500183105469, -5.767600059509277, -6.157700061798096, -5.28000020980835, -4.831500053405762, -4.913599967956543, -4.778500080108643, -5.433800220489502, -5.59089994430542, -4.170499801635742, -5.172699928283691, -5.799300193786621, -5.724599838256836, -5.2221999168396, -5.293900012969971, -5.09089994430542, -5.820199966430664, -5.613900184631348, -5.482399940490723, -5.698599815368652, -5.583899974822998, -5.63670015335083, -5.694499969482422, -5.712699890136719, -5.720099925994873]}, \"token.table\": {\"Topic\": [8, 8, 4, 3, 1, 7, 6, 2, 8, 1, 2, 3, 7, 4, 1, 2, 3, 5, 4, 6, 1, 2, 4, 8, 2, 5, 6, 1, 3, 5, 1, 3, 4, 6, 7, 5, 7, 2, 3, 8, 1, 6, 7, 7, 3, 5, 4, 5, 6, 8, 1, 2, 3, 4, 5, 6, 8, 3, 5, 2, 5, 5, 2, 7, 8, 7, 6, 1, 1, 2, 3, 1, 2, 3, 5, 6, 6, 7, 8, 3, 7, 3, 6, 4, 7, 2, 2, 4, 4, 5, 5, 6, 6, 1, 2, 4, 5, 6, 7, 8, 2, 4, 5, 8, 1, 4, 1, 2, 4, 5, 6, 7, 8, 1, 3, 4, 5, 6, 8, 1, 3, 4, 6, 4, 6, 2, 5, 6, 7, 6, 4, 1, 6, 7, 8, 1, 2, 3, 4, 5, 7, 2, 7, 3, 5, 8, 6, 4, 1, 2, 3, 4, 6, 8, 3, 6, 8, 8, 3, 6, 8, 2, 2, 8, 7, 8, 1, 3, 4, 5, 2, 4, 5, 7, 2, 3, 5, 7, 8, 4, 5, 3, 4, 6, 2, 5, 6, 5, 6, 2, 1, 5, 7, 3, 4, 5, 2, 3, 5, 1, 6, 6, 2, 8, 2, 5, 2, 7, 3, 1, 4, 2, 3, 7, 8, 6, 7, 5, 6, 7, 1, 6, 5, 3, 7, 4, 3, 2, 4, 6, 1, 2, 1, 2, 3, 4, 5, 6, 7, 2, 3, 4, 6, 3, 4, 5, 7, 8, 1, 2, 3, 4, 5, 6, 8, 1, 5, 1, 6, 4, 5, 6, 1, 3, 4, 5, 6, 7, 4, 5, 1, 4, 6, 8, 1, 3, 7, 1, 2, 3, 4, 6, 3, 3, 5, 7, 6, 7, 3, 2, 1, 3, 5, 6, 1, 2, 5, 6, 7, 2, 3, 4, 5, 6, 7, 4, 3, 5, 2, 3, 4, 6, 7, 8, 3, 2, 4, 5, 7, 8, 2, 3, 4, 5, 6, 7, 8, 1, 2, 3, 4, 5, 7, 2, 1, 2, 3, 4, 5, 6, 7, 8, 1, 2, 8, 3, 2, 6, 1, 2, 3, 7, 4, 6, 7, 8, 4, 2, 5, 6, 7, 3, 1, 3, 4, 5, 6, 8, 7, 2, 5, 1, 3, 6, 7, 1, 3, 4, 5, 6, 2, 2, 8, 4, 3, 1, 8, 5, 8, 7, 4, 7, 8, 1, 6, 7, 3, 8, 5, 1, 2, 5, 6, 8, 2, 3, 5, 7, 8, 5, 7, 3, 4, 5, 1, 2, 3, 4, 5, 6, 7, 8, 2, 4, 4, 7, 3, 1, 2, 3, 4, 5, 6, 7, 8, 7, 1, 7, 5, 6, 3, 4, 5, 2, 8, 1, 4, 8, 1, 2, 3, 6, 7, 8, 3, 3, 8, 2, 3, 4, 5, 6, 7, 4, 5, 8, 2, 3, 4, 5, 8, 2, 1, 2, 3, 5, 6, 7, 4, 8, 1, 5, 5, 6, 7, 2, 3, 5, 6, 7, 8, 1, 2, 6, 7, 1, 2, 4, 7, 5, 3, 8, 4, 1, 2, 3, 4, 6, 7, 4, 2, 7, 5, 3, 4, 5, 6, 7, 1, 5, 6, 3, 5, 6, 1, 2, 3, 5, 8, 3, 1, 6, 3, 2, 3, 6, 4, 2, 3, 4, 5, 6, 2, 5, 8, 3, 4, 7, 1, 2, 3, 4, 5, 6, 7, 8, 4, 5, 1, 3, 5, 6, 7, 2, 1, 2, 3, 4, 5, 6, 7, 3, 6, 2, 3, 4, 5, 1, 4, 1, 6, 7, 2, 3, 6, 7, 8, 2, 4, 8, 5, 5, 3, 6, 7, 5, 2, 3, 5, 6, 8, 7, 4, 8, 7, 5, 5, 4, 4, 8, 1, 1, 2, 4, 5, 7, 7, 3, 1, 2, 3, 4, 5, 6, 7, 8, 2, 5, 1, 4, 5, 7, 2, 4, 6, 7, 7, 2, 4, 2, 5, 6, 8, 2, 7, 5, 5, 7, 8, 5, 4, 2, 3, 6, 8, 4, 6, 7, 8, 3, 8, 5, 8, 6, 4, 1, 2, 4, 5, 6, 8, 7, 8, 1, 1, 4, 3, 3, 3, 5, 8, 2, 3, 5, 8, 5, 2, 8, 1, 8, 2, 3, 4, 5, 6, 8, 1, 5, 6, 7, 3, 2, 6, 4, 2, 1, 4, 6, 1, 2, 3, 4, 5, 7, 8, 3, 2, 2, 6, 1, 4, 7, 7, 2, 4, 6, 8, 1, 1, 4, 1, 2, 3, 5, 8, 4, 6, 2, 6, 3, 2, 3, 5, 8, 2, 1, 1, 1, 4, 2, 3, 2, 4, 1, 2, 5, 7, 8, 1, 2, 5, 1, 6, 8, 1, 2, 3, 8, 4, 6, 1, 2, 1, 3, 4, 5, 6, 7, 1, 2, 3, 4, 5, 7, 3, 7, 1, 2, 3, 4, 5, 6, 7, 1, 3, 4, 6, 5, 3, 3, 3, 2, 1, 1, 3, 5, 3, 4, 6, 7, 8, 7, 1, 5, 1, 1, 1, 2, 3, 4, 5, 6, 7, 4, 6, 7, 8, 6, 2, 4, 6, 1, 3, 4, 5, 7, 8, 1, 4, 5, 6, 7, 1, 2, 7, 8, 1, 2, 4, 5, 6, 7, 2, 3, 4, 6, 8, 3, 8, 1, 2, 3, 5, 8, 1, 2, 3, 4, 5, 6, 3, 4, 5, 8, 8, 1, 2, 3, 4, 5, 6, 7, 1, 6, 2, 6, 8, 1, 2, 3, 4, 7, 3, 7, 4, 8, 6, 4, 1, 2, 7, 2, 8, 6, 6, 4, 6, 7, 1, 5, 7, 2, 5, 6, 8, 4, 5, 6, 2, 3, 4, 5, 1, 2, 3, 4, 5, 7, 8, 2, 3, 4, 6, 7, 8, 1, 2, 3, 4, 5, 6, 8, 1, 6, 2, 3, 4, 5, 6, 7, 8, 4, 6, 1, 4, 6, 3, 4, 7, 8, 1, 2, 3, 4, 5, 6, 7, 1, 3, 4, 8, 1, 2, 3, 4, 5, 6, 7, 5, 3, 2, 3, 4, 7, 8], \"Freq\": [0.8904188324779901, 0.7888215601630405, 0.782840020227713, 0.9212459748722852, 0.7738031798658486, 0.9167546486895074, 0.9360623314439704, 0.12975959390579841, 0.7785575634347905, 0.09994589048868745, 0.03331529682956248, 0.08328824207390621, 0.7829094754947183, 0.8400018734173078, 0.09585459200390972, 0.22366071467578935, 0.09585459200390972, 0.5431760213554884, 0.8482530007949228, 0.1211790001135604, 0.3712768852154416, 0.11138306556463248, 0.25989381965080915, 0.22276613112926497, 0.041073828470773004, 0.8625503978862331, 0.08214765694154601, 0.8214955817991756, 0.8073855760556596, 0.18631974832053683, 0.08284223215701025, 0.5798956250990718, 0.08284223215701025, 0.08284223215701025, 0.12426334823551538, 0.14075657884837245, 0.8445394730902346, 0.6961648301096505, 0.2320549433698835, 0.7898802662592911, 0.7738632504507246, 0.050908336938147856, 0.9418042333557354, 0.9454556961620738, 0.8436816648026169, 0.10546020810032711, 0.5570971790513767, 0.0506451980955797, 0.3038711885734782, 0.0506451980955797, 0.17712489192703434, 0.027249983373389897, 0.40874975060084845, 0.054499966746779795, 0.13624991686694948, 0.10899993349355959, 0.0817499501201697, 0.18940145692039076, 0.757605827681563, 0.9062915454588195, 0.9611510255590214, 0.9517752421939433, 0.2507643909568477, 0.07164696884481363, 0.6448227196033227, 0.9421000276979219, 0.9399915733637011, 0.7738708660800308, 0.600330156171658, 0.23089621391217616, 0.13853772834730568, 0.09975557494966437, 0.3242056185864092, 0.17457225616191266, 0.024938893737416094, 0.3740834060612414, 0.604495355008712, 0.3626972130052272, 0.04029969033391413, 0.8579375252289455, 0.9058827589660651, 0.11106772673949551, 0.7774740871764686, 0.840012934288745, 0.8955532826645571, 0.9505378037522841, 0.9064360560364552, 0.8725604969492334, 0.11404883706150128, 0.9123906964920102, 0.8976447344238844, 0.8288617592364933, 0.8860567345577611, 0.06740116749102157, 0.20220350247306468, 0.07489018610113507, 0.02246705583034052, 0.09735724193147559, 0.4792971910472644, 0.052423130270794545, 0.2636781508670366, 0.1647988442918979, 0.1647988442918979, 0.3955172263005549, 0.9146906386845739, 0.7828360610342169, 0.07084430420529134, 0.08855538025661418, 0.05313322815396851, 0.21253291261587404, 0.07084430420529134, 0.3542215210264567, 0.14168860841058267, 0.08587155940351379, 0.429357797017569, 0.143119265672523, 0.08587155940351379, 0.1144954125380184, 0.143119265672523, 0.061797810762726044, 0.8651693506781647, 0.12610665799897466, 0.8827466059928226, 0.7816011668255725, 0.19540029170639311, 0.15203306901393657, 0.13031405915480276, 0.021719009859133793, 0.6732893056331476, 0.8288609278547701, 0.9213277935100882, 0.7801598821133247, 0.07092362564666588, 0.14184725129333176, 0.7888272602332289, 0.048540126237243394, 0.31551082054208207, 0.09708025247448679, 0.0728101893558651, 0.4611311992538123, 0.9533968292291335, 0.4213590776896108, 0.5561939825502862, 0.20184695010845402, 0.07763344234940539, 0.6987009811446485, 0.912248509718042, 0.921334327601615, 0.37119075577335625, 0.08837875137460863, 0.2828120043987476, 0.017675750274921725, 0.22978475357398245, 0.017675750274921725, 0.10991454200373096, 0.8793163360298477, 0.9705379736917659, 0.788824806674228, 0.2632219027890406, 0.05264438055780813, 0.6843769472515057, 0.9410369738036576, 0.1597518256845173, 0.7987591284225863, 0.8616952384242423, 0.7888218047180126, 0.5128188216458738, 0.10256376432917474, 0.30769129298752423, 0.05128188216458737, 0.2802496724716074, 0.5604993449432149, 0.05604993449432149, 0.11209986898864298, 0.13405593568659227, 0.23459788745153645, 0.0502709758824721, 0.5027097588247209, 0.08378495980412017, 0.8478946523043467, 0.09421051692270518, 0.3092018359106952, 0.6184036718213904, 0.9721940985519155, 0.08491551308162763, 0.8491551308162764, 0.08491551308162763, 0.8158021054184774, 0.9360530136969983, 0.9100747294865877, 0.07110312473948861, 0.7110312473948861, 0.21330937421846582, 0.887675686118626, 0.7692868945846544, 0.15385737891693088, 0.1625092080366542, 0.21667894404887228, 0.5958670961343987, 0.9536705344220741, 0.9721871358357567, 0.886053535832173, 0.9448135587681501, 0.9486318840358425, 0.9509661922557586, 0.8788523477243028, 0.9448052453676167, 0.9409228850574995, 0.8547149595496509, 0.15266497839385046, 0.7633248919692524, 0.779980479555325, 0.19499511988883125, 0.14802066274028708, 0.8141136450715789, 0.15391984277301188, 0.8465591352515653, 0.8824016225929141, 0.8477122852516491, 0.9425823885551982, 0.8826251773704973, 0.8445534429865933, 0.8461525473342839, 0.8876920959012946, 0.8955575226512866, 0.9628045632620686, 0.8877324427792215, 0.3306481145130808, 0.49597217176962116, 0.1653240572565404, 0.7738051269477833, 0.906288115984949, 0.09627206138667484, 0.12034007673334354, 0.09627206138667484, 0.14440809208001226, 0.14440809208001226, 0.26474816881335583, 0.14440809208001226, 0.17619497333482234, 0.11746331555654822, 0.4111216044479188, 0.2936582888913706, 0.14807222187445382, 0.05922888874978152, 0.5626744431229245, 0.17768666624934457, 0.02961444437489076, 0.1229205908689834, 0.0614602954344917, 0.03073014771724585, 0.3687617726069502, 0.1843808863034751, 0.1229205908689834, 0.1229205908689834, 0.73648954312775, 0.9450550523973558, 0.35518635424066924, 0.6511749827745602, 0.8330039423688279, 0.11900056319554685, 0.9079097149967618, 0.030265498908858483, 0.24212399127086787, 0.06053099781771697, 0.18159299345315089, 0.36318598690630177, 0.12106199563543393, 0.8830001733440089, 0.8409359422756132, 0.6671146730306804, 0.044474311535378695, 0.17789724614151478, 0.08894862307075739, 0.16568765512025513, 0.745594448041148, 0.08284382756012756, 0.08598274278441793, 0.2866091426147265, 0.17196548556883587, 0.2866091426147265, 0.14330457130736324, 0.88769367104722, 0.11012673760562776, 0.7158237944365804, 0.11012673760562776, 0.6855457710260753, 0.25707966413477823, 0.8876827864983855, 0.8919767978470856, 0.4068253698127345, 0.11095237358529123, 0.3328571207558737, 0.14793649811372164, 0.3966777279730192, 0.247923579983137, 0.0991694319932548, 0.0991694319932548, 0.14875414798988218, 0.1758454649522098, 0.3736716130234458, 0.15386478183318356, 0.13188409871415735, 0.06594204935707867, 0.10990341559513112, 0.8162896633489387, 0.33403750373385754, 0.6680750074677151, 0.08912715997097008, 0.2970905332365669, 0.08912715997097008, 0.14854526661828346, 0.11883621329462678, 0.23767242658925355, 0.9620301909894587, 0.10248942781102405, 0.12811178476378007, 0.4355800681968522, 0.2049788556220481, 0.12811178476378007, 0.0796732966160134, 0.1991832415400335, 0.1593465932320268, 0.21910156569403685, 0.01991832415400335, 0.17926491738603015, 0.13942826907802344, 0.136247260775499, 0.3814923301713973, 0.12262253469794912, 0.08174835646529942, 0.272494521550998, 0.013624726077549902, 0.8723342628850047, 0.060653871213628786, 0.060653871213628786, 0.20217957071209594, 0.07076284974923358, 0.030326935606814393, 0.04043591414241919, 0.4852309697090303, 0.04043591414241919, 0.2570109123795906, 0.7196305546628537, 0.9329766648633696, 0.9431788880687823, 0.09920187937155268, 0.7936150349724215, 0.8115587056241972, 0.5421746581027982, 0.05421746581027982, 0.3253047948616789, 0.09009360836963812, 0.5405616502178288, 0.2702808251089144, 0.09009360836963812, 0.782840873449319, 0.594918848282671, 0.13220418850726023, 0.06610209425363012, 0.19830628276089035, 0.9077002506778055, 0.28091472978534776, 0.16386692570811953, 0.21068604733901083, 0.16386692570811953, 0.14045736489267388, 0.046819121630891296, 0.9425815384718247, 0.8536937729634698, 0.12195625328049568, 0.4021148155818342, 0.2010574077909171, 0.22977989461819098, 0.17233492096364325, 0.9286970372332997, 0.23987149145632777, 0.5277172812039211, 0.14392289487379667, 0.04797429829126555, 0.8025720648511013, 0.9062915454588195, 0.9329801318367292, 0.944514221212702, 0.8876744021577014, 0.9286827415303415, 0.8904175206671128, 0.10867346268622198, 0.8693877014897758, 0.8955436674800629, 0.9213249486160556, 0.8754973986837874, 0.7888276357734387, 0.09570241361268933, 0.047851206806344665, 0.8373961191110316, 0.8820433694080325, 0.07669942342678543, 0.9102595497673338, 0.03888972655399008, 0.15555890621596033, 0.11666917966197024, 0.7000150779718215, 0.7898791065261336, 0.23953155887594982, 0.03992192647932497, 0.23953155887594982, 0.1596877059172999, 0.3193754118345998, 0.4653299389897031, 0.5076326607160397, 0.23528473374385547, 0.6274259566502812, 0.07842824458128515, 0.42324127305251397, 0.09200897240272042, 0.09200897240272042, 0.20241973928598495, 0.04600448620136021, 0.055205383441632255, 0.018401794480544086, 0.0644062806819043, 0.2158565433693197, 0.755497901792619, 0.7762250718047856, 0.1791288627241813, 0.9680401891117397, 0.06793907299983448, 0.04529271533322298, 0.2491099343327264, 0.04529271533322298, 0.33969536499917236, 0.06793907299983448, 0.04529271533322298, 0.13587814599966896, 0.9932770475397393, 0.9146915521028334, 0.928989624519415, 0.9608702140797019, 0.9072141688215986, 0.12495833908660915, 0.09371875431495687, 0.7497500345196549, 0.12462664308787917, 0.747759858527275, 0.19782643417091783, 0.13188428944727856, 0.6594214472363927, 0.11563449909384875, 0.0462537996375395, 0.092507599275079, 0.48566489619416475, 0.1387613989126185, 0.092507599275079, 0.970405855136531, 0.14541334888537974, 0.8724800933122784, 0.19238459405610214, 0.23086151286732257, 0.14621229148263762, 0.08464922138468495, 0.06925845386019677, 0.2770338154407871, 0.08908550726749913, 0.3117992754362469, 0.5790557972387443, 0.09118941316104218, 0.2127752973757651, 0.030396471053680724, 0.06079294210736145, 0.5775329500199338, 0.9263732158393848, 0.039259289074619765, 0.07851857814923953, 0.5103707579700569, 0.23555573444771857, 0.039259289074619765, 0.11777786722385929, 0.8938817507725092, 0.7888262994173754, 0.9146906374391959, 0.8690691501105149, 0.17450498370315795, 0.6543936888868422, 0.13087873777736847, 0.16032992995436857, 0.22904275707766936, 0.11452137853883468, 0.2977555842009702, 0.1374256542466016, 0.045808551415533874, 0.024947031653161134, 0.04989406330632227, 0.2744173481847725, 0.6236757913290283, 0.6982495847049557, 0.02449998542824406, 0.1224999271412203, 0.14699991256946435, 0.8980757519211255, 0.20997444569681548, 0.7349105599388542, 0.7828421191483974, 0.010755343184520875, 0.13981946139877138, 0.10755343184520876, 0.22586220687493838, 0.3011496091665845, 0.22586220687493838, 0.8725603661515682, 0.8272309602200195, 0.9168174942139372, 0.8157984784521733, 0.10072824161130121, 0.20145648322260243, 0.22663854362542774, 0.05036412080565061, 0.3777309060423796, 0.2909628889783258, 0.654666500201233, 0.8860625662667551, 0.7882113768121602, 0.15764227536243205, 0.9721906223161021, 0.19466835311118302, 0.4449562356827041, 0.16685858838101403, 0.08342929419050701, 0.08342929419050701, 0.8496762655765014, 0.14557946117928, 0.87347676707568, 0.8850236653505886, 0.7623278054327309, 0.054451986102337924, 0.10890397220467585, 0.8992119546891717, 0.03805953856390931, 0.15223815425563725, 0.4567144627669118, 0.1902976928195466, 0.15223815425563725, 0.11678201415726032, 0.7590830920221922, 0.05839100707863016, 0.75333120148225, 0.075333120148225, 0.15066624029645, 0.15148509644083094, 0.06492218418892755, 0.15148509644083094, 0.17312582450380679, 0.08656291225190339, 0.2164072806297585, 0.043281456125951696, 0.10820364031487925, 0.8725488468756637, 0.8610314559147831, 0.20350999629986474, 0.2999094682313796, 0.19279894386302976, 0.010711052436834987, 0.28919841579454464, 0.8617435262081944, 0.13983738132476609, 0.27967476264953217, 0.11186990505981288, 0.02796747626495322, 0.11186990505981288, 0.11186990505981288, 0.22373981011962576, 0.30320932714796656, 0.6822209860829247, 0.2749380132296584, 0.5804246945959455, 0.12219467254651484, 0.03054866813662871, 0.649099435292697, 0.2950451978603168, 0.7738707066481911, 0.8365579268729132, 0.13942632114548553, 0.8025668472985635, 0.23088905977994426, 0.5002596295232126, 0.07696301992664809, 0.15392603985329617, 0.07892444582132604, 0.23677333746397813, 0.7103200123919344, 0.9608730466241289, 0.9517591326428319, 0.2040701295004154, 0.66322792087635, 0.1020350647502077, 0.9090413022312914, 0.0996359164477553, 0.6144214847611577, 0.03321197214925177, 0.08302993037312942, 0.16605986074625884, 0.9789120535936038, 0.20657474277413623, 0.7230115997094768, 0.9454554719310206, 0.9702746857007757, 0.9759748007448078, 0.9374613688845774, 0.34627307278078556, 0.6540713596970394, 0.821498643359939, 0.2314153968113796, 0.1851323174491037, 0.4628307936227592, 0.04628307936227592, 0.04628307936227592, 0.8236078101638933, 0.8877163914644591, 0.07492310638105693, 0.07492310638105693, 0.24974368793685642, 0.16233339715895667, 0.062435921984214104, 0.16233339715895667, 0.11238465957158539, 0.09989747517474257, 0.13073509273949552, 0.8497781028067208, 0.18146888226937796, 0.12097925484625197, 0.6653859016543858, 0.9202635469945757, 0.4747771552556862, 0.17264623827479497, 0.25896935741219246, 0.08632311913739749, 0.9167468555786057, 0.24849735827563285, 0.7454920748268985, 0.2395751401734357, 0.03422502002477653, 0.44492526032209484, 0.2395751401734357, 0.9429261101237749, 0.8754952212142413, 0.8823982495716663, 0.9102656962727775, 0.9167538101482025, 0.9513433345134056, 0.8610290951572277, 0.9703795142219193, 0.8025716505159641, 0.9459590755011767, 0.8248787634031598, 0.8733909812349567, 0.059973441666332325, 0.059973441666332325, 0.11994688333266465, 0.7196812999959878, 0.9618919056310641, 0.9329836386637743, 0.8461486380156977, 0.8811704371701878, 0.9342497400834658, 0.8400034433798966, 0.050155671924977406, 0.10031134384995481, 0.20062268769990962, 0.5015567192497741, 0.10031134384995481, 0.7898733664657881, 0.9893763280036815, 0.9486112744109204, 0.8560327831193698, 0.7364848324872887, 0.9556428233045291, 0.9739202420163704, 0.9161921221752544, 0.2745860795217064, 0.2745860795217064, 0.41187911928255955, 0.9505315788927888, 0.512209717461236, 0.06984677965380491, 0.4074395479805286, 0.8788421346867673, 0.11757536083175696, 0.8230275258222988, 0.27165011070156175, 0.633850258303644, 0.05311844399245793, 0.07967766598868689, 0.26559221996228966, 0.33199027495286204, 0.26559221996228966, 0.013279610998114482, 0.9146951352376219, 0.9281748569395947, 0.8860584287084422, 0.895558759560306, 0.9377045681504439, 0.8025883165327774, 0.9145640688977992, 0.8346869401190602, 0.9462033837769767, 0.7364920394080922, 0.6968976155218061, 0.17422440388045152, 0.05138061174665999, 0.07707091761998998, 0.2825933646066299, 0.17983214111330997, 0.07707091761998998, 0.15414183523997996, 0.20552244698663996, 0.9422397444142167, 0.9561343509344319, 0.8617446799990949, 0.8860572595173137, 0.09710448842600283, 0.6797314189820198, 0.19420897685200567, 0.8941357715280926, 0.550193517755077, 0.2445304523355898, 0.1222652261677949, 0.7888262169642579, 0.773867235466256, 0.15507566524989524, 0.7753783262494762, 0.09984775566131832, 0.532521363527031, 0.06656517044087888, 0.06656517044087888, 0.19969551132263663, 0.6612542805724358, 0.24797035521466343, 0.22464310265135945, 0.7488103421711981, 0.9156460417172926, 0.06441061359544335, 0.6441061359544336, 0.2576424543817734, 0.9209719727068322, 0.9448049101656866, 0.9286955396061289, 0.8214967285512476, 0.9286970048396043, 0.8116393924819298, 0.8374269057236022, 0.13222530090372667, 0.7373373215885307, 0.2457791071961769, 0.1657617987619472, 0.5801662956668151, 0.12432134907146039, 0.0414404496904868, 0.0414404496904868, 0.5536325796977218, 0.1703484860608375, 0.25552272909125623, 0.7457671665667263, 0.12429452776112106, 0.12429452776112106, 0.5048599477795526, 0.07212284968279323, 0.07212284968279323, 0.2884913987311729, 0.2434965390803351, 0.6493241042142269, 0.8525775831917142, 0.9062881465586475, 0.25467942758061174, 0.050935885516122346, 0.050935885516122346, 0.15280765654836703, 0.5093588551612235, 0.953546887932312, 0.026053414692905383, 0.3126409763148646, 0.10421365877162153, 0.1302670734645269, 0.20842731754324306, 0.18237390285033767, 0.8481482293639924, 0.07067901911366603, 0.018660473833839678, 0.2799071075075952, 0.14928379067071743, 0.11196284300303806, 0.07464189533535871, 0.3172280551752745, 0.05598142150151903, 0.12583017916500466, 0.20971696527500777, 0.12583017916500466, 0.5033207166600187, 0.8824016563963208, 0.8496676686605741, 0.9691488050550703, 0.9562530573950452, 0.9195829034499947, 0.882627296460958, 0.4489455155682661, 0.3206753682630472, 0.19240522095782833, 0.16516261416586536, 0.27527102360977557, 0.055054204721955116, 0.3853794330536858, 0.055054204721955116, 0.929027848358135, 0.9148863361482568, 0.8976510909816422, 0.9151222842482815, 0.8826243583809219, 0.1514243223157893, 0.07571216115789466, 0.17035236260526299, 0.22713648347368398, 0.09464020144736833, 0.1514243223157893, 0.13249628202631566, 0.21500116122029933, 0.08062543545761225, 0.6181283385083606, 0.08062543545761225, 0.9360670655177992, 0.8778073943327095, 0.8583237865622753, 0.14305396442704588, 0.05650771136359648, 0.02825385568179824, 0.45206169090877185, 0.1412692784089912, 0.16952313409078945, 0.16952313409078945, 0.19266661516638703, 0.09633330758319351, 0.04816665379159676, 0.07224998068739515, 0.5779998454991612, 0.1019829349662673, 0.2039658699325346, 0.6118976097976038, 0.1019829349662673, 0.09059787599121295, 0.5133879639502067, 0.12079716798828394, 0.09059787599121295, 0.09059787599121295, 0.06039858399414197, 0.10682462750300187, 0.335734543580863, 0.35099520465272044, 0.10682462750300187, 0.09156396643114446, 0.3635442547069583, 0.636202445737177, 0.1228296023288014, 0.1228296023288014, 0.1228296023288014, 0.614148011644007, 0.9231644297018894, 0.04979952311701648, 0.1991980924680659, 0.27389737714359064, 0.12449880779254119, 0.21164797324732001, 0.13694868857179532, 0.07569282241516281, 0.7569282241516281, 0.07569282241516281, 0.9147152715786585, 0.9147091020626815, 0.2902506531442708, 0.0725626632860677, 0.0725626632860677, 0.2539693215012369, 0.09070332910758461, 0.1632659923936523, 0.0725626632860677, 0.821499063268139, 0.886061051303659, 0.9062895518709904, 0.1596534481525593, 0.7982672407627964, 0.38467749397534673, 0.13988272508194427, 0.2098240876229164, 0.24479476889340246, 0.03497068127048607, 0.2278548249072676, 0.7405281809486197, 0.9047948702939553, 0.7888162976137825, 0.8536376164399052, 0.8829949393008495, 0.5145695694449169, 0.25728478472245847, 0.19296358854184387, 0.9062916418519367, 0.7888168327902076, 0.8720084729851484, 0.8720105994326792, 0.1677345255602376, 0.0419336313900594, 0.7967389964111287, 0.6576324395762947, 0.292281084256131, 0.8754866690226879, 0.0500309559760011, 0.6003714717120132, 0.2001238239040044, 0.1500928679280033, 0.0558877833427859, 0.2235511333711436, 0.7265411834562168, 0.041758133757127544, 0.45933947132840297, 0.5010976050855305, 0.9248077987784389, 0.13511781230813613, 0.26122777046239654, 0.06305497907713019, 0.03603141661550297, 0.11710210400038465, 0.32428274953952674, 0.06305497907713019, 0.04200082954249435, 0.1680033181699774, 0.0840016590849887, 0.04200082954249435, 0.2940058067974604, 0.3360066363399548, 0.01960487343379575, 0.0392097468675915, 0.2940731015069363, 0.21565360777175327, 0.11762924060277452, 0.0392097468675915, 0.27446822807314053, 0.6756142077157496, 0.25335532789340615, 0.06999578800872559, 0.17498947002181398, 0.2099873640261768, 0.0524968410065442, 0.13999157601745119, 0.3149810460392652, 0.034997894004362796, 0.8725592554863183, 0.8937032830695345, 0.749413499281124, 0.2043854998039429, 0.8288607761212109, 0.17553160975082893, 0.5265948292524868, 0.29255268291804826, 0.8059154180677994, 0.02318551786825112, 0.2782262144190134, 0.11592758934125559, 0.034778276802376676, 0.04637103573650224, 0.01159275893412556, 0.47530311629914795, 0.22286295027475903, 0.5412385935244147, 0.1273502572998623, 0.09551269297489672, 0.2733732579089776, 0.037278171533042394, 0.19881691484289277, 0.062130285888404, 0.124260571776808, 0.1366866289544888, 0.16153874330985038, 0.9536709724103418, 0.9422215743356076, 0.01947714022865088, 0.7206541884600826, 0.01947714022865088, 0.0973857011432544, 0.13633998160055616], \"Term\": [\"access\", \"accord\", \"achieve\", \"activity\", \"address\", \"administrator\", \"agreement\", \"ahead\", \"ahead\", \"alberta\", \"alberta\", \"alberta\", \"alberta\", \"alley\", \"also\", \"also\", \"also\", \"also\", \"alternative\", \"alternative\", \"amaze\", \"amaze\", \"amaze\", \"amaze\", \"america\", \"america\", \"america\", \"among\", \"android\", \"android\", \"another\", \"another\", \"another\", \"another\", \"another\", \"anyone\", \"anyone\", \"anything\", \"anything\", \"anywhere\", \"application\", \"apply\", \"apply\", \"appreciate\", \"area\", \"area\", \"awesome\", \"awesome\", \"awesome\", \"awesome\", \"back\", \"back\", \"back\", \"back\", \"back\", \"back\", \"back\", \"backlane\", \"backlane\", \"baker\", \"ball\", \"basically\", \"beautiful\", \"beautiful\", \"beautiful\", \"become\", \"beer\", \"belong\", \"best\", \"best\", \"best\", \"better\", \"better\", \"better\", \"better\", \"better\", \"birthday\", \"birthday\", \"birthday\", \"blog\", \"body\", \"book\", \"book\", \"born\", \"boxing\", \"boy\", \"brewing\", \"bridgeland\", \"button\", \"button\", \"buying\", \"cafe\", \"calgarians\", \"calgary\", \"calgary\", \"calgary\", \"calgary\", \"calgary\", \"calgary\", \"calgary\", \"call\", \"call\", \"call\", \"call\", \"camera\", \"camp\", \"canada\", \"canada\", \"canada\", \"canada\", \"canada\", \"canada\", \"canada\", \"canadian\", \"canadian\", \"canadian\", \"canadian\", \"canadian\", \"canadian\", \"card\", \"card\", \"case\", \"case\", \"celebrate\", \"celebrate\", \"check\", \"check\", \"check\", \"check\", \"cheque\", \"chicken\", \"child\", \"child\", \"child\", \"christian\", \"city\", \"city\", \"city\", \"city\", \"city\", \"class\", \"click\", \"click\", \"close\", \"close\", \"close\", \"coach\", \"colleague\", \"come\", \"come\", \"come\", \"come\", \"come\", \"come\", \"comment\", \"comment\", \"complete\", \"con\", \"concern\", \"concern\", \"concern\", \"confirm\", \"congrats\", \"congrats\", \"congratulations\", \"consideration\", \"contact\", \"contact\", \"contact\", \"contact\", \"cool\", \"cool\", \"cool\", \"cool\", \"could\", \"could\", \"could\", \"could\", \"could\", \"council\", \"council\", \"course\", \"course\", \"credible\", \"criminal\", \"criminal\", \"criminal\", \"crop\", \"crowd\", \"crying\", \"current\", \"current\", \"current\", \"dare\", \"date\", \"date\", \"dead\", \"dead\", \"dead\", \"deal\", \"decision\", \"deficit\", \"depression\", \"designer\", \"details\", \"determine\", \"distance\", \"do\", \"double\", \"drink\", \"drink\", \"drinking\", \"drinking\", \"drive\", \"drive\", \"driver\", \"driver\", \"driving\", \"drunk\", \"duck\", \"dumb\", \"eagle\", \"eddie\", \"edge\", \"education\", \"effort\", \"engineer\", \"enjoy\", \"enjoy\", \"enjoy\", \"entrepreneur\", \"estate\", \"even\", \"even\", \"even\", \"even\", \"even\", \"even\", \"even\", \"event\", \"event\", \"event\", \"event\", \"ever\", \"ever\", \"ever\", \"ever\", \"ever\", \"every\", \"every\", \"every\", \"every\", \"every\", \"every\", \"every\", \"excellent\", \"expect\", \"experience\", \"experience\", \"extra\", \"extra\", \"favourite\", \"feel\", \"feel\", \"feel\", \"feel\", \"feel\", \"feel\", \"field\", \"fighting\", \"find\", \"find\", \"find\", \"find\", \"fire\", \"fire\", \"fire\", \"first\", \"first\", \"first\", \"first\", \"first\", \"fitness\", \"follow\", \"follow\", \"follow\", \"forward\", \"forward\", \"four\", \"friday\", \"friend\", \"friend\", \"friend\", \"friend\", \"fuck\", \"fuck\", \"fuck\", \"fuck\", \"fuck\", \"game\", \"game\", \"game\", \"game\", \"game\", \"game\", \"gap\", \"garbage\", \"garbage\", \"getting\", \"getting\", \"getting\", \"getting\", \"getting\", \"getting\", \"gift\", \"give\", \"give\", \"give\", \"give\", \"give\", \"going\", \"going\", \"going\", \"going\", \"going\", \"going\", \"going\", \"good\", \"good\", \"good\", \"good\", \"good\", \"good\", \"gotta\", \"great\", \"great\", \"great\", \"great\", \"great\", \"great\", \"great\", \"great\", \"group\", \"group\", \"growing\", \"haha\", \"half\", \"half\", \"hands\", \"happen\", \"happen\", \"happen\", \"happy\", \"happy\", \"happy\", \"happy\", \"harper\", \"hate\", \"hate\", \"hate\", \"hate\", \"health\", \"help\", \"help\", \"help\", \"help\", \"help\", \"help\", \"highly\", \"history\", \"history\", \"home\", \"home\", \"home\", \"home\", \"hook\", \"house\", \"house\", \"house\", \"house\", \"housing\", \"hughes\", \"hundred\", \"immigration\", \"income\", \"incredibly\", \"inner\", \"inquiry\", \"inquiry\", \"inspiration\", \"inspire\", \"instagram\", \"instructional\", \"interest\", \"interest\", \"interest\", \"iphone\", \"iphone\", \"job\", \"join\", \"join\", \"join\", \"join\", \"joining\", \"keep\", \"keep\", \"keep\", \"keep\", \"keep\", \"kid\", \"kid\", \"kill\", \"kill\", \"kill\", \"know\", \"know\", \"know\", \"know\", \"know\", \"know\", \"know\", \"know\", \"lady\", \"lady\", \"land\", \"land\", \"lane\", \"last\", \"last\", \"last\", \"last\", \"last\", \"last\", \"last\", \"last\", \"latest\", \"latte\", \"lead\", \"learning\", \"leave\", \"left\", \"left\", \"left\", \"liberal\", \"liberal\", \"library\", \"library\", \"library\", \"life\", \"life\", \"life\", \"life\", \"life\", \"life\", \"light\", \"lighting\", \"lighting\", \"like\", \"like\", \"like\", \"like\", \"like\", \"like\", \"link\", \"link\", \"link\", \"list\", \"list\", \"list\", \"list\", \"list\", \"literally\", \"live\", \"live\", \"live\", \"live\", \"live\", \"live\", \"loan\", \"lobby\", \"local\", \"lock\", \"long\", \"long\", \"long\", \"look\", \"look\", \"look\", \"look\", \"look\", \"look\", \"looking\", \"looking\", \"looking\", \"looking\", \"love\", \"love\", \"love\", \"love\", \"lying\", \"maintenance\", \"maintenance\", \"major\", \"make\", \"make\", \"make\", \"make\", \"make\", \"make\", \"malt\", \"management\", \"manager\", \"mandate\", \"many\", \"many\", \"many\", \"many\", \"many\", \"market\", \"market\", \"maximum\", \"member\", \"member\", \"mess\", \"might\", \"might\", \"might\", \"might\", \"might\", \"milk\", \"million\", \"million\", \"minimum\", \"miss\", \"miss\", \"miss\", \"moment\", \"money\", \"money\", \"money\", \"money\", \"money\", \"month\", \"month\", \"month\", \"move\", \"move\", \"move\", \"much\", \"much\", \"much\", \"much\", \"much\", \"much\", \"much\", \"much\", \"multiple\", \"nation\", \"need\", \"need\", \"need\", \"need\", \"need\", \"network\", \"never\", \"never\", \"never\", \"never\", \"never\", \"never\", \"never\", \"news\", \"news\", \"next\", \"next\", \"next\", \"next\", \"nice\", \"nice\", \"nigeria\", \"noise\", \"noise\", \"north\", \"november\", \"november\", \"november\", \"november\", \"number\", \"number\", \"number\", \"numbers\", \"october\", \"olympic\", \"olympic\", \"olympic\", \"olympics\", \"open\", \"open\", \"open\", \"open\", \"open\", \"opening\", \"opportunity\", \"opportunity\", \"orange\", \"original\", \"own\", \"package\", \"park\", \"park\", \"parsons\", \"party\", \"party\", \"party\", \"party\", \"party\", \"passion\", \"pattern\", \"people\", \"people\", \"people\", \"people\", \"people\", \"people\", \"people\", \"people\", \"phone\", \"phone\", \"pick\", \"pick\", \"pick\", \"pipeline\", \"place\", \"place\", \"place\", \"place\", \"platform\", \"playing\", \"playing\", \"please\", \"please\", \"please\", \"please\", \"podcast\", \"police\", \"pollution\", \"ponzi\", \"poppy\", \"prepare\", \"prison\", \"private\", \"production\", \"properly\", \"property\", \"prostate\", \"provide\", \"provide\", \"provide\", \"provide\", \"pumpkin\", \"purpose\", \"push\", \"quick\", \"rally\", \"rather\", \"real\", \"real\", \"real\", \"real\", \"real\", \"reasonable\", \"recommend\", \"refugee\", \"rejection\", \"remain\", \"remind\", \"repair\", \"replace\", \"report\", \"report\", \"report\", \"representative\", \"request\", \"request\", \"request\", \"requirement\", \"review\", \"review\", \"ride\", \"ride\", \"right\", \"right\", \"right\", \"right\", \"right\", \"right\", \"risk\", \"roads\", \"robert\", \"role\", \"rule\", \"run\", \"running\", \"sadly\", \"safety\", \"salmon\", \"save\", \"save\", \"say\", \"say\", \"say\", \"say\", \"say\", \"say\", \"say\", \"science\", \"scotty\", \"security\", \"self\", \"send\", \"send\", \"send\", \"serious\", \"service\", \"service\", \"service\", \"sexual\", \"shoot\", \"shop\", \"shop\", \"show\", \"show\", \"show\", \"show\", \"show\", \"sick\", \"sick\", \"side\", \"side\", \"sidewalk\", \"sign\", \"sign\", \"sign\", \"signal\", \"similar\", \"sister\", \"site\", \"skill\", \"smart\", \"snow\", \"snow\", \"social\", \"social\", \"someone\", \"someone\", \"someone\", \"someone\", \"someone\", \"something\", \"something\", \"something\", \"song\", \"song\", \"song\", \"soon\", \"soon\", \"soon\", \"soon\", \"speak\", \"speak\", \"speaking\", \"speech\", \"spend\", \"spend\", \"spend\", \"spend\", \"spend\", \"spice\", \"start\", \"start\", \"start\", \"start\", \"start\", \"start\", \"stay\", \"stay\", \"still\", \"still\", \"still\", \"still\", \"still\", \"still\", \"still\", \"store\", \"store\", \"store\", \"store\", \"straight\", \"stream\", \"street\", \"streetlight\", \"student\", \"study\", \"stuff\", \"stuff\", \"stuff\", \"support\", \"support\", \"support\", \"support\", \"support\", \"supporting\", \"surprise\", \"swamp\", \"sweet\", \"table\", \"take\", \"take\", \"take\", \"take\", \"take\", \"take\", \"take\", \"team\", \"team\", \"team\", \"team\", \"technical\", \"texas\", \"text\", \"text\", \"thank\", \"thank\", \"thank\", \"thank\", \"thank\", \"thank\", \"thanks\", \"thanks\", \"thanks\", \"thanks\", \"thanks\", \"thing\", \"thing\", \"thing\", \"thing\", \"things\", \"things\", \"things\", \"things\", \"things\", \"things\", \"think\", \"think\", \"think\", \"think\", \"think\", \"thinking\", \"thinking\", \"though\", \"though\", \"though\", \"though\", \"ticket\", \"time\", \"time\", \"time\", \"time\", \"time\", \"time\", \"times\", \"times\", \"times\", \"timing\", \"tire\", \"today\", \"today\", \"today\", \"today\", \"today\", \"today\", \"today\", \"tool\", \"toxic\", \"trade\", \"truth\", \"truth\", \"try\", \"try\", \"try\", \"try\", \"try\", \"tweet\", \"tweet\", \"twitter\", \"ugly\", \"unite\", \"university\", \"use\", \"use\", \"use\", \"vaccination\", \"valley\", \"values\", \"vehicle\", \"view\", \"view\", \"view\", \"visit\", \"visit\", \"volunteer\", \"vote\", \"vote\", \"vote\", \"vote\", \"voting\", \"voting\", \"voting\", \"wait\", \"wait\", \"wait\", \"walk\", \"want\", \"want\", \"want\", \"want\", \"want\", \"want\", \"want\", \"watch\", \"watch\", \"watch\", \"watch\", \"watch\", \"watch\", \"week\", \"week\", \"week\", \"week\", \"week\", \"week\", \"week\", \"welcome\", \"welcome\", \"well\", \"well\", \"well\", \"well\", \"well\", \"well\", \"well\", \"wide\", \"wind\", \"wish\", \"wish\", \"witness\", \"wonder\", \"wonder\", \"wonder\", \"word\", \"work\", \"work\", \"work\", \"work\", \"work\", \"work\", \"work\", \"working\", \"working\", \"working\", \"working\", \"would\", \"would\", \"would\", \"would\", \"would\", \"would\", \"would\", \"wrong\", \"yeah\", \"year\", \"year\", \"year\", \"year\", \"year\"]}, \"R\": 30, \"lambda.step\": 0.01, \"plot.opts\": {\"xlab\": \"PC1\", \"ylab\": \"PC2\"}, \"topic.order\": [1, 2, 3, 4, 5, 6, 7, 8]};\n",
       "\n",
       "function LDAvis_load_lib(url, callback){\n",
       "  var s = document.createElement('script');\n",
       "  s.src = url;\n",
       "  s.async = true;\n",
       "  s.onreadystatechange = s.onload = callback;\n",
       "  s.onerror = function(){console.warn(\"failed to load library \" + url);};\n",
       "  document.getElementsByTagName(\"head\")[0].appendChild(s);\n",
       "}\n",
       "\n",
       "if(typeof(LDAvis) !== \"undefined\"){\n",
       "   // already loaded: just create the visualization\n",
       "   !function(LDAvis){\n",
       "       new LDAvis(\"#\" + \"ldavis_el795711126893718003747084665\", ldavis_el795711126893718003747084665_data);\n",
       "   }(LDAvis);\n",
       "}else if(typeof define === \"function\" && define.amd){\n",
       "   // require.js is available: use it to load d3/LDAvis\n",
       "   require.config({paths: {d3: \"https://cdnjs.cloudflare.com/ajax/libs/d3/3.5.5/d3.min\"}});\n",
       "   require([\"d3\"], function(d3){\n",
       "      window.d3 = d3;\n",
       "      LDAvis_load_lib(\"https://cdn.rawgit.com/bmabey/pyLDAvis/files/ldavis.v1.0.0.js\", function(){\n",
       "        new LDAvis(\"#\" + \"ldavis_el795711126893718003747084665\", ldavis_el795711126893718003747084665_data);\n",
       "      });\n",
       "    });\n",
       "}else{\n",
       "    // require.js not available: dynamically load d3 & LDAvis\n",
       "    LDAvis_load_lib(\"https://cdnjs.cloudflare.com/ajax/libs/d3/3.5.5/d3.min.js\", function(){\n",
       "         LDAvis_load_lib(\"https://cdn.rawgit.com/bmabey/pyLDAvis/files/ldavis.v1.0.0.js\", function(){\n",
       "                 new LDAvis(\"#\" + \"ldavis_el795711126893718003747084665\", ldavis_el795711126893718003747084665_data);\n",
       "            })\n",
       "         });\n",
       "}\n",
       "</script>"
      ],
      "text/plain": [
       "<IPython.core.display.HTML object>"
      ]
     },
     "execution_count": 91,
     "metadata": {},
     "output_type": "execute_result"
    }
   ],
   "source": [
    "import pyLDAvis.gensim\n",
    "lda_display = pyLDAvis.gensim.prepare(ldamodel, corpus, dictionary, sort_topics=False)\n",
    "pyLDAvis.display(lda_display)"
   ]
  },
  {
   "cell_type": "markdown",
   "metadata": {},
   "source": [
    "####  Excersise: try diffrent days, try modifying stopwords, number of topics  and min_len /max_len in `gensim.utils.simple_preprocess`"
   ]
  },
  {
   "cell_type": "code",
   "execution_count": null,
   "metadata": {
    "collapsed": true
   },
   "outputs": [],
   "source": []
  }
 ],
 "metadata": {
  "kernelspec": {
   "display_name": "Python 3",
   "language": "python",
   "name": "python3"
  },
  "language_info": {
   "codemirror_mode": {
    "name": "ipython",
    "version": 3
   },
   "file_extension": ".py",
   "mimetype": "text/x-python",
   "name": "python",
   "nbconvert_exporter": "python",
   "pygments_lexer": "ipython3",
   "version": "3.6.3"
  },
  "nbTranslate": {
   "displayLangs": [
    "*"
   ],
   "hotkey": "alt-t",
   "langInMainMenu": true,
   "sourceLang": "en",
   "targetLang": "fr",
   "useGoogleTranslate": true
  }
 },
 "nbformat": 4,
 "nbformat_minor": 2
}

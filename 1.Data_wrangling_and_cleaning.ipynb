{
 "cells": [
  {
   "cell_type": "markdown",
   "metadata": {},
   "source": [
    "## Introduction \n",
    "[Data wrangling](https://en.wikipedia.org/wiki/Data_wrangling)  is the process of transforming and mapping data from one \"raw\" data form into another format with the intent of making it more appropriate and valuable for a variety of downstream purposes such as analytics (Wikipedia)\n",
    "\n",
    "The purpose of data wrangling notebook  is to transform complex data into easier format so we can focus on the analysis of data, rather than the wrangling in the next notebooks. \n",
    "\n",
    "#### Data wrangling steps:\n",
    " - **Discovering**  - understanding the data\n",
    " - **Structuring** -  organizing the data\n",
    "     - Naming or renaming variables\n",
    "     - Changing the type of variables\n",
    "     - Creating new variables through functions of existing of variables\n",
    "     - Conditional processing of variables (i.e the values of new variable is based on the values of existing variables) \n",
    " - **Cleaning** \n",
    "     - Redesign the data into a usable/functional format and correct/remove any bad data\n",
    "     - Imputing missing values in a variables\n",
    " - **Publishing**\n",
    "    - Selecting columns from input dataset to output dataset\n"
   ]
  },
  {
   "cell_type": "markdown",
   "metadata": {},
   "source": [
    "### Step1. Discovering  the data\n",
    "#### Load python modules"
   ]
  },
  {
   "cell_type": "code",
   "execution_count": 1,
   "metadata": {},
   "outputs": [],
   "source": [
    "try:\n",
    "    import urllib.request\n",
    "except ImportError:\n",
    "    !pip install  --user urllib\n",
    "\n",
    "try:\n",
    "    import ast\n",
    "except ImportError:\n",
    "    !pip install  --user ast\n",
    "    \n",
    "try:\n",
    "    import pandas as pd\n",
    "except ImportError:\n",
    "    !pip install  --user pandas\n",
    "\n",
    "try:    \n",
    "    import matplotlib.pyplot as plt\n",
    "except ImportError:\n",
    "    !pip install --user matplotlib\n",
    "%matplotlib inline"
   ]
  },
  {
   "cell_type": "markdown",
   "metadata": {},
   "source": [
    "#### Download the twitter data from object store and display first 5 rows"
   ]
  },
  {
   "cell_type": "code",
   "execution_count": 2,
   "metadata": {},
   "outputs": [
    {
     "data": {
      "text/html": [
       "<div>\n",
       "<style>\n",
       "    .dataframe thead tr:only-child th {\n",
       "        text-align: right;\n",
       "    }\n",
       "\n",
       "    .dataframe thead th {\n",
       "        text-align: left;\n",
       "    }\n",
       "\n",
       "    .dataframe tbody tr th {\n",
       "        vertical-align: top;\n",
       "    }\n",
       "</style>\n",
       "<table border=\"1\" class=\"dataframe\">\n",
       "  <thead>\n",
       "    <tr style=\"text-align: right;\">\n",
       "      <th></th>\n",
       "      <th>coordinates</th>\n",
       "      <th>created_at</th>\n",
       "      <th>extended_tweet</th>\n",
       "      <th>hashtags</th>\n",
       "      <th>lang</th>\n",
       "      <th>name</th>\n",
       "      <th>screen_name</th>\n",
       "      <th>text</th>\n",
       "      <th>user_location</th>\n",
       "      <th>user_mentions</th>\n",
       "    </tr>\n",
       "  </thead>\n",
       "  <tbody>\n",
       "    <tr>\n",
       "      <th>0</th>\n",
       "      <td>None</td>\n",
       "      <td>Fri Nov 02 21:01:56 +0000 2018</td>\n",
       "      <td>@Symin16 I’d like to know who</td>\n",
       "      <td>[]</td>\n",
       "      <td>en</td>\n",
       "      <td>♠</td>\n",
       "      <td>jessmayumba85</td>\n",
       "      <td>@Symin16 I’d like to know who</td>\n",
       "      <td>Toronto ✈ Calgary</td>\n",
       "      <td>[{'indices': [0, 8], 'id': 1031043960968364034...</td>\n",
       "    </tr>\n",
       "    <tr>\n",
       "      <th>1</th>\n",
       "      <td>None</td>\n",
       "      <td>Fri Nov 02 21:02:01 +0000 2018</td>\n",
       "      <td>@TwoCanSamAdams Legit. There are still chunks ...</td>\n",
       "      <td>[]</td>\n",
       "      <td>en</td>\n",
       "      <td>hannahrae cuddleslug</td>\n",
       "      <td>thimblewad</td>\n",
       "      <td>@TwoCanSamAdams Legit. There are still chunks ...</td>\n",
       "      <td>YYC</td>\n",
       "      <td>[{'indices': [0, 15], 'id': 406677625, 'screen...</td>\n",
       "    </tr>\n",
       "    <tr>\n",
       "      <th>2</th>\n",
       "      <td>{'type': 'Point', 'coordinates': [-114.007914,...</td>\n",
       "      <td>Fri Nov 02 21:02:05 +0000 2018</td>\n",
       "      <td>Can you recommend anyone for this #job in #Cal...</td>\n",
       "      <td>[{'indices': [34, 38], 'text': 'job'}, {'indic...</td>\n",
       "      <td>en</td>\n",
       "      <td>TMJ - CAL Manuf Jobs</td>\n",
       "      <td>tmj_cal_manuf</td>\n",
       "      <td>Can you recommend anyone for this #job in #Cal...</td>\n",
       "      <td>Calgary</td>\n",
       "      <td>[]</td>\n",
       "    </tr>\n",
       "    <tr>\n",
       "      <th>3</th>\n",
       "      <td>None</td>\n",
       "      <td>Fri Nov 02 21:02:10 +0000 2018</td>\n",
       "      <td>Kids See Ghosts: https://t.co/J4phIy2CQy love ...</td>\n",
       "      <td>[]</td>\n",
       "      <td>en</td>\n",
       "      <td>Sunny Rai</td>\n",
       "      <td>TheSunsRay</td>\n",
       "      <td>Kids See Ghosts: https://t.co/J4phIy2CQy love ...</td>\n",
       "      <td>🌎📱</td>\n",
       "      <td>[]</td>\n",
       "    </tr>\n",
       "    <tr>\n",
       "      <th>4</th>\n",
       "      <td>{'type': 'Point', 'coordinates': [-114.0740046...</td>\n",
       "      <td>Fri Nov 02 21:02:13 +0000 2018</td>\n",
       "      <td>See our latest #Calgary, AB #job and click to ...</td>\n",
       "      <td>[{'indices': [15, 23], 'text': 'Calgary'}, {'i...</td>\n",
       "      <td>en</td>\n",
       "      <td>TMJ-CAL Retail Jobs</td>\n",
       "      <td>tmj_cal_retail</td>\n",
       "      <td>See our latest #Calgary, AB #job and click to ...</td>\n",
       "      <td>Calgary</td>\n",
       "      <td>[]</td>\n",
       "    </tr>\n",
       "  </tbody>\n",
       "</table>\n",
       "</div>"
      ],
      "text/plain": [
       "                                         coordinates  \\\n",
       "0                                               None   \n",
       "1                                               None   \n",
       "2  {'type': 'Point', 'coordinates': [-114.007914,...   \n",
       "3                                               None   \n",
       "4  {'type': 'Point', 'coordinates': [-114.0740046...   \n",
       "\n",
       "                       created_at  \\\n",
       "0  Fri Nov 02 21:01:56 +0000 2018   \n",
       "1  Fri Nov 02 21:02:01 +0000 2018   \n",
       "2  Fri Nov 02 21:02:05 +0000 2018   \n",
       "3  Fri Nov 02 21:02:10 +0000 2018   \n",
       "4  Fri Nov 02 21:02:13 +0000 2018   \n",
       "\n",
       "                                      extended_tweet  \\\n",
       "0                      @Symin16 I’d like to know who   \n",
       "1  @TwoCanSamAdams Legit. There are still chunks ...   \n",
       "2  Can you recommend anyone for this #job in #Cal...   \n",
       "3  Kids See Ghosts: https://t.co/J4phIy2CQy love ...   \n",
       "4  See our latest #Calgary, AB #job and click to ...   \n",
       "\n",
       "                                            hashtags lang  \\\n",
       "0                                                 []   en   \n",
       "1                                                 []   en   \n",
       "2  [{'indices': [34, 38], 'text': 'job'}, {'indic...   en   \n",
       "3                                                 []   en   \n",
       "4  [{'indices': [15, 23], 'text': 'Calgary'}, {'i...   en   \n",
       "\n",
       "                   name     screen_name  \\\n",
       "0                     ♠   jessmayumba85   \n",
       "1  hannahrae cuddleslug      thimblewad   \n",
       "2  TMJ - CAL Manuf Jobs   tmj_cal_manuf   \n",
       "3             Sunny Rai      TheSunsRay   \n",
       "4   TMJ-CAL Retail Jobs  tmj_cal_retail   \n",
       "\n",
       "                                                text      user_location  \\\n",
       "0                      @Symin16 I’d like to know who  Toronto ✈ Calgary   \n",
       "1  @TwoCanSamAdams Legit. There are still chunks ...                YYC   \n",
       "2  Can you recommend anyone for this #job in #Cal...            Calgary   \n",
       "3  Kids See Ghosts: https://t.co/J4phIy2CQy love ...                 🌎📱   \n",
       "4  See our latest #Calgary, AB #job and click to ...            Calgary   \n",
       "\n",
       "                                       user_mentions  \n",
       "0  [{'indices': [0, 8], 'id': 1031043960968364034...  \n",
       "1  [{'indices': [0, 15], 'id': 406677625, 'screen...  \n",
       "2                                                 []  \n",
       "3                                                 []  \n",
       "4                                                 []  "
      ]
     },
     "execution_count": 2,
     "metadata": {},
     "output_type": "execute_result"
    }
   ],
   "source": [
    "target_url=\"https://swift-yeg.cloud.cybera.ca:8080/v1/AUTH_233e84cd313945c992b4b585f7b9125d/geeky-summit/tweets.txt\"\n",
    "file_name=\"tweets.txt\"\n",
    "urllib.request.urlretrieve(target_url, file_name)\n",
    "tweets = []\n",
    "with open(file_name, 'r') as f:\n",
    "    for lines in f.readlines():\n",
    "        tweets.append(ast.literal_eval(lines))\n",
    "frame  = pd.DataFrame(tweets)\n",
    "frame.head()"
   ]
  },
  {
   "cell_type": "markdown",
   "metadata": {},
   "source": [
    "#### Understanding the input data"
   ]
  },
  {
   "cell_type": "code",
   "execution_count": 3,
   "metadata": {},
   "outputs": [
    {
     "name": "stdout",
     "output_type": "stream",
     "text": [
      "Number of rows/columns: (14793, 10) \n",
      "\n",
      "Column name: coordinates \n",
      " Column type: <class 'dict'> \n",
      " Column data(example): {'type': 'Point', 'coordinates': [-114.007914, 51.004583]} \n",
      "\n",
      "\n",
      "Column name: created_at \n",
      " Column type: <class 'str'> \n",
      " Column data(example): Fri Nov 02 21:02:05 +0000 2018 \n",
      "\n",
      "\n",
      "Column name: extended_tweet \n",
      " Column type: <class 'str'> \n",
      " Column data(example): Can you recommend anyone for this #job in #Calgary, AB? https://t.co/20JiTB3cRi #SupplyChain #Hiring #CareerArc \n",
      "\n",
      "\n",
      "Column name: hashtags \n",
      " Column type: <class 'list'> \n",
      " Column data(example): [{'indices': [34, 38], 'text': 'job'}, {'indices': [42, 50], 'text': 'Calgary'}, {'indices': [80, 92], 'text': 'SupplyChain'}, {'indices': [93, 100], 'text': 'Hiring'}, {'indices': [101, 111], 'text': 'CareerArc'}] \n",
      "\n",
      "\n",
      "Column name: lang \n",
      " Column type: <class 'str'> \n",
      " Column data(example): en \n",
      "\n",
      "\n",
      "Column name: name \n",
      " Column type: <class 'str'> \n",
      " Column data(example): TMJ - CAL Manuf Jobs \n",
      "\n",
      "\n",
      "Column name: screen_name \n",
      " Column type: <class 'str'> \n",
      " Column data(example): tmj_cal_manuf \n",
      "\n",
      "\n",
      "Column name: text \n",
      " Column type: <class 'str'> \n",
      " Column data(example): Can you recommend anyone for this #job in #Calgary, AB? https://t.co/20JiTB3cRi #SupplyChain #Hiring #CareerArc \n",
      "\n",
      "\n",
      "Column name: user_location \n",
      " Column type: <class 'str'> \n",
      " Column data(example): Calgary \n",
      "\n",
      "\n",
      "Column name: user_mentions \n",
      " Column type: <class 'list'> \n",
      " Column data(example): [{'indices': [0, 15], 'id': 406677625, 'screen_name': 'TwoCanSamAdams', 'id_str': '406677625', 'name': 'TwoCan Jorge'}] \n",
      "\n",
      "\n"
     ]
    }
   ],
   "source": [
    "print(\"Number of rows/columns:\",frame.shape, \"\\n\")\n",
    "for column in frame.columns:\n",
    "    if column==\"user_mentions\":\n",
    "        rownum=1\n",
    "    else :\n",
    "        rownum=2\n",
    "    print(\"Column name: {colname} \\n Column type: {coltype} \\n Column data(example): {coldata} \\n\\n\"\n",
    "          .format(colname=column, coltype=type(frame[column].iloc[rownum]),coldata=frame[column].iloc[rownum]))"
   ]
  },
  {
   "cell_type": "markdown",
   "metadata": {},
   "source": [
    "#### Columns `text` and `extended_tweet`  look the same. Lets take a closer look.  \n",
    "#### Plotting lenght distribution for both columns"
   ]
  },
  {
   "cell_type": "code",
   "execution_count": 4,
   "metadata": {},
   "outputs": [
    {
     "data": {
      "text/plain": [
       "Text(0.5,1,'extended_tweet')"
      ]
     },
     "execution_count": 4,
     "metadata": {},
     "output_type": "execute_result"
    },
    {
     "data": {
      "image/png": "[encoded data removed]",
      "text/plain": [
       "<matplotlib.figure.Figure at 0x12463b5f8>"
      ]
     },
     "metadata": {},
     "output_type": "display_data"
    }
   ],
   "source": [
    "plt.subplot(1, 2, 1)\n",
    "plt.hist(frame[\"text\"].apply(len).values, color = 'green' ,edgecolor = 'black')\n",
    "plt.title('text')\n",
    "plt.subplot(1, 2, 2)\n",
    "plt.hist(frame[\"extended_tweet\"].apply(len).values, color = 'blue', edgecolor = 'black')\n",
    "plt.title('extended_tweet')"
   ]
  },
  {
   "cell_type": "markdown",
   "metadata": {},
   "source": [
    "#### Diplaying the maximimum lenght for extended_tweet  column and printing the columns data for this row:"
   ]
  },
  {
   "cell_type": "code",
   "execution_count": 5,
   "metadata": {},
   "outputs": [
    {
     "name": "stdout",
     "output_type": "stream",
     "text": [
      "Maximum length for extended_tweet column:  913 \n",
      "\n",
      "@erikwilson1975 @Plasticdoe @Vbalance03 @mcfunny @mimetic_ @BeckyJohnson222 @doritmi @EmmaGPaley @jkellyca @jpsportsminer @WendyOrent @ChrisJohnsonMD @Siubhan_H @amanda_pompili @MsTrixter @BlueLionBlog @Rosewind2007 @TinFoilAwards @jjfox123 @Awithonelison @seaglass34 @nicolasDenver @DansMonkeyShack @what_if_007 @StopVaxxedLies @regina1775 @GretchenScience @astrahlgems @Gattinov @jandtee @kidoctr @Takethatdoctors @djt10 @saluce65 @Just4TheCause @Microbedoc2 @cantab_biker @chrisvcsefalvay @xanthonejohn @Brian_Kitchener @SueQuez @carlsmythe @EbolaJuggler @PharmaNemesis @sarah_sxlxp @openmitochondro @ShooguhLipz @1002Loola @and_McDowell What is the deal with this flu strain. The original story was on a news service that interviewed a woman who had been sick as hell who had been told all the details by a Dr. Don't you \"flushot doesn't work\"ers think that some details could be wrong. SHE says get the shot. \n",
      "\n",
      "@erikwilson1975 @Plasticdoe @Vbalance03 @mcfunny @mimetic_ @BeckyJohnson222 @doritmi @EmmaGPaley @jkellyca… https://t.co/fW50i6YxGz\n"
     ]
    }
   ],
   "source": [
    "print(\"Maximum length for extended_tweet column: \",max(frame[\"extended_tweet\"].apply(len)), \"\\n\")\n",
    "\n",
    "print(frame[\"extended_tweet\"][frame[\"extended_tweet\"].apply(len).idxmax(axis=1)], \"\\n\")\n",
    "print(frame[\"text\"][frame[\"extended_tweet\"].apply(len).idxmax(axis=1)])"
   ]
  },
  {
   "cell_type": "markdown",
   "metadata": {},
   "source": [
    "####  It appears that text column is the truncated version of extended_tweet column."
   ]
  },
  {
   "cell_type": "markdown",
   "metadata": {},
   "source": [
    "#### So we have following liist of columns:\n",
    " - **coordinates** - user coordinates, can be None or Python type Dict(needs to be split to two columns - longitude and latitude)\n",
    " - **created_at**  - creation date, Python type String (needs to be converted to type Date + timezone needs to be changed from UTC to MST)\n",
    " - **extended_tweet** - tweet text, Python type String\n",
    " - **hashtags** - hashtags, Python type List of Dicts(needs to be converted to String)\n",
    " - **lang** - language , Python type String\n",
    " - **name** - twitter account name, Python type String\n",
    " - **screen_name** - screen name, Python type String\n",
    " - **text** - truncated tweet text, Python type String\n",
    " - **user_location** - location, Python type String\n",
    " - **user_mentions** - user mentions, Python type List of Dicts(needs to be converted to String)"
   ]
  },
  {
   "cell_type": "markdown",
   "metadata": {},
   "source": [
    "### Step2. Structuring  the data\n",
    "#### Convert column \"created_at\"  from String to Date and change timezone from UTC to MST"
   ]
  },
  {
   "cell_type": "code",
   "execution_count": 6,
   "metadata": {},
   "outputs": [
    {
     "name": "stdout",
     "output_type": "stream",
     "text": [
      "Fri Nov 02 21:02:05 +0000 2018\n",
      "2018-11-02 15:02:05-06:00\n"
     ]
    }
   ],
   "source": [
    "print(frame[\"created_at\"].iloc[2])\n",
    "frame[\"created_at_date\"]= pd.to_datetime(frame[\"created_at\"])\n",
    "frame[\"created_at_date\"]=frame[\"created_at_date\"].dt.tz_localize('UTC').dt.tz_convert('America/Edmonton')\n",
    "print(frame[\"created_at_date\"].iloc[2])"
   ]
  },
  {
   "cell_type": "markdown",
   "metadata": {},
   "source": [
    "#### Convert column \"coordinates\" from Dict to two columns \"latitude\" and \"longitude\""
   ]
  },
  {
   "cell_type": "code",
   "execution_count": 7,
   "metadata": {},
   "outputs": [
    {
     "name": "stdout",
     "output_type": "stream",
     "text": [
      "0                                                 None\n",
      "1                                                 None\n",
      "2    {'type': 'Point', 'coordinates': [-114.007914,...\n",
      "3                                                 None\n",
      "4    {'type': 'Point', 'coordinates': [-114.0740046...\n",
      "Name: coordinates, dtype: object \n",
      "\n",
      "   longitude    latitude\n",
      "0        NaN         NaN\n",
      "1        NaN         NaN\n",
      "2  51.004583 -114.007914\n",
      "3        NaN         NaN\n",
      "4  50.997882 -114.074005\n"
     ]
    }
   ],
   "source": [
    "print(frame[\"coordinates\"].head(), \"\\n\")\n",
    "def convertCoordToList(v):\n",
    "    if v is None:\n",
    "        v=[]\n",
    "    else:\n",
    "        v= v['coordinates']\n",
    "    return v\n",
    "frame['coordinates_list']= frame['coordinates'].map(convertCoordToList)\n",
    "frame[['latitude','longitude']] = pd.DataFrame(frame['coordinates_list'].values.tolist())\n",
    "print(frame[['longitude','latitude']].head())"
   ]
  },
  {
   "cell_type": "markdown",
   "metadata": {},
   "source": [
    "#### Convert column \"hashtags\"  from Dict to Str\n",
    "For the missing values will impute blank."
   ]
  },
  {
   "cell_type": "code",
   "execution_count": 8,
   "metadata": {},
   "outputs": [
    {
     "name": "stdout",
     "output_type": "stream",
     "text": [
      "[{'indices': [34, 38], 'text': 'job'}, {'indices': [42, 50], 'text': 'Calgary'}, {'indices': [80, 92], 'text': 'SupplyChain'}, {'indices': [93, 100], 'text': 'Hiring'}, {'indices': [101, 111], 'text': 'CareerArc'}]\n",
      "\n",
      " job Calgary SupplyChain Hiring CareerArc\n"
     ]
    }
   ],
   "source": [
    "print(frame[\"hashtags\"].iloc[2])\n",
    "def convertHashToString(v):\n",
    "    if v == []:\n",
    "        v=' '\n",
    "    else:\n",
    "        v=' '.join([d['text'] for d in v])\n",
    "    return v\n",
    "frame['hashtags_string']= frame['hashtags'].map(convertHashToString)\n",
    "print(\"\\n\",frame[\"hashtags_string\"].iloc[2])"
   ]
  },
  {
   "cell_type": "markdown",
   "metadata": {},
   "source": [
    "#### Excersise: convert column \"user_mentions\" from Dict to Str"
   ]
  },
  {
   "cell_type": "code",
   "execution_count": 9,
   "metadata": {},
   "outputs": [
    {
     "name": "stdout",
     "output_type": "stream",
     "text": [
      "[{'indices': [0, 15], 'id': 406677625, 'screen_name': 'TwoCanSamAdams', 'id_str': '406677625', 'name': 'TwoCan Jorge'}]\n",
      "\n",
      " TwoCanSamAdams\n"
     ]
    }
   ],
   "source": [
    "print(frame[\"user_mentions\"].iloc[1])\n",
    "def convertUserToString(v):\n",
    "    if v == []:\n",
    "        v=' '\n",
    "    else:\n",
    "        v=' '.join([d['screen_name'] for d in v])## type something here (this line will be hidden)\n",
    "    return v\n",
    "frame['user_string']= frame['user_mentions'].map(convertUserToString)\n",
    "print(\"\\n\",frame[\"user_string\"].iloc[1])"
   ]
  },
  {
   "cell_type": "markdown",
   "metadata": {},
   "source": [
    "### Step3. Cleaning the data\n",
    "#### Lets take a look at `extended_tweet` column, we will use it for analysing tweets."
   ]
  },
  {
   "cell_type": "code",
   "execution_count": 10,
   "metadata": {},
   "outputs": [
    {
     "data": {
      "text/plain": [
       "0                                                                                                                                                                                                                                                                                @Symin16 I’d like to know who\n",
       "1                                                                                                                                  @TwoCanSamAdams Legit. There are still chunks in the sink and I can’t stand to be in the room, even though it doesn’t smell like puke anymore. I’m just so done with today.\n",
       "2                                                                                                                                                                                              Can you recommend anyone for this #job in #Calgary, AB? https://t.co/20JiTB3cRi #SupplyChain #Hiring #CareerArc\n",
       "3                                                                                                                                                                                                                                                     Kids See Ghosts: https://t.co/J4phIy2CQy love this track\n",
       "4                                                                                                                                                  See our latest #Calgary, AB #job and click to apply: barista - Store# 54359, CHINOOK CENTRE FOOD COURT - https://t.co/wfBXkfI1rr #Retail #Hiring #CareerArc\n",
       "5    Watered by hand, harvested by hand, trimmed by hand. Each individual plant gets its own dedicated care and attention, tailored to its growth cycle. \\n\\n\"Our plants get the love they deserve.” – David Isaak, Founder. 💚\\n\\n#HandcraftingCannabis #HandCultivation #CraftCulture https://t.co/eBBtjPhW8A\n",
       "6                                     https://t.co/IVq1D6K3az Please read and share and donate ten bucks. There are 5 homeless memorials in Canada and Calgary needs to be #6. This is important. This is the starting point of our Campaign and we need to get to $10000. Give us a hand please and thank you\n",
       "7                                                                                                                                                                See our latest #Calgary, AB #job and click to apply: School Bus Driver - Calgary - https://t.co/ddcbozNfGC #Transportation #Hiring #CareerArc\n",
       "8                                                                                                                                                                                       Join the UPS team! See our latest #job opening here: https://t.co/FdrUDZLldk #Clerical #Calgary, AB #Hiring #CareerArc\n",
       "9                                                                                                                                                                                                                                                                                @kdlang HAPPY BIRTHDAY!!!!!!!\n",
       "Name: extended_tweet, dtype: object"
      ]
     },
     "execution_count": 10,
     "metadata": {},
     "output_type": "execute_result"
    }
   ],
   "source": [
    "pd.set_option('max_colwidth', 700)\n",
    "frame['extended_tweet'].head(10)"
   ]
  },
  {
   "cell_type": "markdown",
   "metadata": {},
   "source": [
    "####  Remove URLS \n",
    "There are lots of https links which does not have any meaning, let's remove them together with any links starting with www.  (**\\S+** means one or more  non-whitespace character)"
   ]
  },
  {
   "cell_type": "code",
   "execution_count": 11,
   "metadata": {
    "collapsed": true
   },
   "outputs": [],
   "source": [
    "frame['extended_tweet']=frame['extended_tweet'].str.replace('http\\S+|www.\\S+', '', case=False)"
   ]
  },
  {
   "cell_type": "markdown",
   "metadata": {},
   "source": [
    "#### Excersise: remove '/n' (new line symbol) from 'extended_tweet' column"
   ]
  },
  {
   "cell_type": "code",
   "execution_count": 12,
   "metadata": {
    "collapsed": true
   },
   "outputs": [],
   "source": [
    "frame['extended_tweet']=frame['extended_tweet'].str.replace('\\n',' ') ### this will be hidden"
   ]
  },
  {
   "cell_type": "markdown",
   "metadata": {},
   "source": [
    "#### Remove user mentions and hashtags from the 'extended_tweet' column and save it as 'extended_tweet_cleaned' column\n",
    "There are separate columns for user mentions and hashtags. We might need to analyse tweet text without any hashtags/user mentions."
   ]
  },
  {
   "cell_type": "code",
   "execution_count": 13,
   "metadata": {
    "scrolled": true
   },
   "outputs": [
    {
     "data": {
      "text/plain": [
       "0                                                                                                                                                                                                                                I’d like to know who\n",
       "1                                                                                         Legit. There are still chunks in the sink and I can’t stand to be in the room, even though it doesn’t smell like puke anymore. I’m just so done with today.\n",
       "2                                                                                                                                                                                                Can you recommend anyone for this   in  , AB?       \n",
       "3                                                                                                                                                                                                                   Kids See Ghosts:  love this track\n",
       "4                                                                                                                                               See our latest  , AB   and click to apply: barista - Store# 54359, CHINOOK CENTRE FOOD COURT -       \n",
       "5                     Watered by hand, harvested by hand, trimmed by hand. Each individual plant gets its own dedicated care and attention, tailored to its growth cycle.   \"Our plants get the love they deserve.” – David Isaak, Founder. 💚        \n",
       "6     Please read and share and donate ten bucks. There are 5 homeless memorials in Canada and Calgary needs to be  . This is important. This is the starting point of our Campaign and we need to get to $10000. Give us a hand please and thank you\n",
       "7                                                                                                                                                                     See our latest  , AB   and click to apply: School Bus Driver - Calgary -       \n",
       "8                                                                                                                                                                                      Join the UPS team! See our latest   opening here:     , AB    \n",
       "9                                                                                                                                                                                                                               HAPPY BIRTHDAY!!!!!!!\n",
       "Name: extended_tweet_cleaned, dtype: object"
      ]
     },
     "execution_count": 13,
     "metadata": {},
     "output_type": "execute_result"
    }
   ],
   "source": [
    "frame['extended_tweet_cleaned']=frame['extended_tweet'].str.replace('[@#]\\w+', ' ',case=False)\n",
    "frame['extended_tweet_cleaned'].head(10)"
   ]
  },
  {
   "cell_type": "markdown",
   "metadata": {},
   "source": [
    " We will keep emoji, punctuation,  numbers and special characters for now. They might be useful for analysis. Possibly more cleaning will be applied in the later notebooks\n",
    " \n",
    " #### Lets take a look a user_location column \n",
    "There are 755 unique values, we'll keep it as it is for now. "
   ]
  },
  {
   "cell_type": "code",
   "execution_count": 14,
   "metadata": {},
   "outputs": [
    {
     "name": "stdout",
     "output_type": "stream",
     "text": [
      "Number of unique user locations: 755 \n",
      "\n",
      "['Toronto ✈ Calgary' 'YYC' 'Calgary' '🌎📱' 'Calgary, Alberta' None\n",
      " 'Calgary, AB' 'Montreal' 'Montréal, Québec' '¯\\\\_(ツ)_/¯' '524 17 AVE SW'\n",
      " 'Calgary, Alberta, Canada' 'NYC|MTL' 'calgary , alberta, canada'\n",
      " 'Traphouse' 'Alberta, Canada' 'Tapioca, Connecticut'\n",
      " 'Calgary, AB, Canada' 'Calgary, Ab' 'Calgary, Treaty 7, Alberta'\n",
      " 'Connaught, Calgary' 'Canada' 'Los Angeles, CA' 'Calgary & Treaty 7'\n",
      " 'Edmonton, AB' 'Calgary | Toronto' '100+ countries' 'Calgary, Canada'\n",
      " 'https://www.youtube.com/watch?v=PfRAdire3dI' 'Okotoks Alberta'\n",
      " 'Calgary AB' 'Calgary Alberta' 'Okotoks, Alberta'\n",
      " 'Vancouver, British Columbia' 'Scary Canadian Security risk to the US'\n",
      " 'Côte-Nord-du-Golfe-du-Saint-La' 'Calgary Alberta Canada'\n",
      " 'High River, Alberta' 'Calgary, Alberta ' 'Mesa, AZ' 'Seattle, WA'\n",
      " 'luncheon kingdom' 'Calgary - Treaty 7' 'Ron Southern School Calgary'\n",
      " 'Downtown, Calgary' 'Calgary. Alberta. Canada'\n",
      " '1104 1 Ave NE, Calgary, AB' 'ÜT: 50.9398707,-113.9842441'\n",
      " '2014 36th St SE, Calgary, AB' 'Calgary - Shaw'\n",
      " 'quebec city centre ville de  charlesbourg' 'calgary'\n",
      " 'between heaven and hell' 'Near Calgary' 'British Columbia, Canada'\n",
      " 'Ottawa, Canada' 'Calgary Canada ' 'calgary, alberta'\n",
      " '636 16th Avenue NW Calgary AB' 'Victoria, British Columbia'\n",
      " 'Toronto Ontario' 'Maskwacis, Alberta.' 'Calgary!' 'Calgary, AB '\n",
      " 'Calgary Canada' 'YYC + SXB' 'Canmore, Alberta'\n",
      " 'Calgary (most of the time)' 'The Barn' 'CBC Calgary' 'Canada 🇨🇦'\n",
      " 'Toronto, Ontario, Canada' 'Fort St. John, British Columbia' 'Deadmonton'\n",
      " 'tangerinebloom' '930 17th Ave SW Calgary, AB' 'yyc and tulum, mx'\n",
      " 'JED / YYC ' 'England, United Kingdom' 'alberta' 'Alberta'\n",
      " 'Calgary, Alberta Canada' 'Toronto, Canada' 'Smashville'\n",
      " 'Auburn Bay, Calgary' 'YYC📍' 'Alberta Oilsands'\n",
      " 'End Death Research YYC 7pm-12:am' 'Sutton, Québec' 'Québec, Canada'\n",
      " 'canada' 'Latest Book Link Below' 'Manchester, Calgary'\n",
      " 'Calgary, Alberta, Canada #yyc' 'Champions Field' 'O Canada'\n",
      " 'Calgary, Springbank Alberta' 'Kananaskis, Alberta' 'Canada!'\n",
      " 'calgary alberta canada' 'Meet me somewhere in the middle.'\n",
      " 'Calgary, Alberta Treaty 7' 'I mute with reckless abandon. #INTJ'\n",
      " 'Canada / PH' 'MNL🇵🇭🔛YYC🇨🇦🔜LAX/NYC🇺🇸' 'CRAFT beer Market' 'Calgary Ab'\n",
      " 'Winnipeg, Manitoba' '639' '33-13' 'Chicago, IL'\n",
      " 'The Place Between Worlds' 'Cowgary, Little Texas' 'Hong Kong'\n",
      " 'Edmonton, AB ' 'Edmonton, Alberta' 'Hamilton ' 'Calgary/Toronto'\n",
      " 'United Kingdom' '17 - f - canada' 'cal canada' 'Québec, Canada,'\n",
      " 'Calgary, Alberta.' 'Victoria, BC' 'Calgary, Alberta 🇨🇦'\n",
      " 'Calgary #yyc #yyccentre' 'Calgary, Alberta, CANADA' 'Olds, Alberta'\n",
      " 'Eau Claire, Calgary' 'Mistake Island' 'Montreal, Canada' 'Toronto, ON'\n",
      " '🇵🇭🇨🇦' 'in your basement ' 'Edmonton as Stalingrad'\n",
      " 'Redwood Meadows, AB, Canada' 'Airdrie, Alberta' 'Okotoks'\n",
      " '510 Heritage Drive SW' 'calgary, Canada' 'Foothills No. 31, Alberta'\n",
      " 'Calgary, Alberta via Nova Scotia' 'philippines'\n",
      " 'Vancouver-Toronto-Yellowknife' 'Calgary AB Canada' 'Earth'\n",
      " 'YYC 🇨🇦🏳️\\u200d🌈' 'Beltline, Calgary' 'Calgary, Canada '\n",
      " 'Treaty 7 Territory, Canada' 'calgary\\n' 'Right frigging behind you. '\n",
      " 'High River, Alberta / yyc ' 'Cana' 'Calgary AB, Canada'\n",
      " 'Acadia, Calgary' 'Montreal, QC' 'Canlandia  - no DMs pls & thx'\n",
      " 'EVERYWHERE' 'カナダ アルバータ州 エドモンドン市' 'Calgary, Alberta, Canada '\n",
      " ' kensington&Centre street N.W' 'Montreal, Calgary ✈ the world'\n",
      " '6815 Temple Dr NE  Unit 5' 'Loading.....' '-5.835406,-35.213711'\n",
      " '107-10a ST NW , Calgary AB' 'Rocky View County, Alberta' 'Toronto ON'\n",
      " 'Bridgeland, Calgary' 'Capital, British Columbia' 'Canada, eh?'\n",
      " 'Brentwood, Calgary' 'Lethbridge, Alberta' 'Dat swagg hole'\n",
      " 'Retweets not endorsement' '2003 11th Street SE, Calgary, Alberta'\n",
      " 'from the land of snow!! canada' 'Ahmadabad City, India' 'Vancouver, BC'\n",
      " 'Calgary (1010 42nd Ave SE)' 'Serendipity 🌎' 'YYC + YYZ '\n",
      " 'Somewhere making money ' 'Golden, BC' 'canada ' 'calgary, ab 📌' '4O3'\n",
      " 'Red Deer, Alberta, Canada' 'calgary alberta' 'Okotoks, AB'\n",
      " 'Mississauga, Ontario' 'ÜT: 51.057204,-114.058531' 'Ontario, Toronto'\n",
      " 'Tanzania' 'khulna' 'Quebec' \"place you've never being \" '🍁'\n",
      " 'CALGARY ALBERTA' '🇨🇦🇨🇦🇨🇦' 'Calgery,Islamabad,Lahore' 'Laval, Québec'\n",
      " 'Westmount, Québec' 'a dive bar somewhere in Mexico' 'Gandhi'\n",
      " '..I’m here & there! 🇨🇦' 'Global' '1221Canyon Meadows Drive SE'\n",
      " 'Sault Ste. Marie Ontario' 'Panorama Hills, Calgary'\n",
      " 'Occupied Turtle Island' 'Saint-Eustache, Québec'\n",
      " 'Calgary,Alberta,Canada' 'Toronto, Ontario' 'Vancouver /Senegal'\n",
      " 'Montreal, QC Canada' 'Red Deer Alberta Canada ' 'Alberta Canada'\n",
      " 'Calgary, AB Canada' 'Calgary,  Canada' ' Okotoks, Alberta, Canada'\n",
      " 'Treaty 7, Alberta' 'YYC / EZE / RRO' 'North America'\n",
      " 'Winnipeg, MB, Canada' 'Buffalo, NY' 'Alberta | Cape Breton'\n",
      " 'St Petersberg florida' 'BC & Alberta' 'ÜT: 45.507157,-73.616421'\n",
      " '#118, 7004 Macleod Trail South' 'Toronto' 'Calgary and Toronto, Canada'\n",
      " 'Sherwood Park' 'Chaparral, Calgary' 'Ibadan, Nigeria' 'North Vancouver'\n",
      " 'Calgary, Alberta: Canada' 'Kelowna, British Columbia'\n",
      " 'North West, England' 'Airdrie, AB' 'Calgary, AB, CA' 'Calgary/Canada'\n",
      " '49th & Elbow, Calgary, AB' '4750 106 Ave S.E. Bay 6 ' 'Standoff AB'\n",
      " 'Montréal | Tiohtià:ke' 'Canada Olympic Park, Calgary, Alberta, Canada'\n",
      " 'Alexandria VA' '1528 - 17th Ave SW Calgary, AB' 'Ottawa, ON'\n",
      " '6404 Bowness Rd NW, Calgary AB' 'Memphis TN/Phoenix AZ, USA'\n",
      " 'montreal, canada' 'Calgary, ab' 'Millarville, AB' 'Dublin, Ireland'\n",
      " 'Stoney 142, 143, 144, Alberta' ' Treaty 7 Territory '\n",
      " 'Salsomaggiore Terme, Italia, Europa'\n",
      " '555 Saddledome Rise SE, Calgary, AB' 'yyc' 'Calgary, Alberta, Canada,.'\n",
      " '김석진' 'Calgary, AB, CANADA' 'chicago, il'\n",
      " 'Amiskwaciwâskahikan|Alberta,CA' 'calgary yyc 1330 15 ave sw'\n",
      " '723 17th Ave SW' 'Canada, USA, Europe' 'farm in Saskatchewan, Canada'\n",
      " 'Kananaskis, Alberta  ' 'Calgary, AB, CAN' 'Calgary Alberta, Canada'\n",
      " 'Around.' 'YYC / YYZ' 'Calgary, Alberta/Treaty 7'\n",
      " '1235 26 Ave SE, Calgary, AB' 'Calgary, AB; 1013 17th Ave SW'\n",
      " 'Rivendell \\U0001f9dd🏼\\u200d♀️' 'calgary,AB Canada' 'Calgary #YYC'\n",
      " 'Brighton UK' '1919 4th Street SW Calgary AB' '33.571937,-111.894064'\n",
      " 'Calgary , Alberta' 'Calgary/Okotoks' 'Calgary & Cape Town'\n",
      " 'Big Cow City' 'ED-MUN-TON' 'calgary AB' 'Chianti' 'Ohio and Peru'\n",
      " 'Okotoks / Calgary, AB' 'Almost forty' 'Treaty Seven lands'\n",
      " 'Ottawa, Toronto, Montreal.' '2929 Sunridge Way NE' 'YYC Alberta, Canada'\n",
      " 'Philly to Miami to Calgary' 'Mississauga, Canada' '51.0417,-114.026457'\n",
      " 'Manitoba, Canada' 'Alor London' '#223 1235 26ave SE'\n",
      " 'भारत / Canada / NYC' 'Mission, Calgary' '🇨🇦🇮🇳' 'Republic of Alberta'\n",
      " 'West Coast' 'New Jersey' '1347 12th Avenue SW Calgary AB' 'Calgary '\n",
      " 'United States' 'why why see\\n' 'montreal' 'calgary canada' 'Canada '\n",
      " 'Spirit River, Alberta' 'Refugee👉🏿Global Citizen' \"Prince's Island Park\"\n",
      " 'Greater Sudbury / Grand Sudbury, Ontario' 'Capelle aan den IJssel'\n",
      " 'Trochu, Alberta' 'HoneyMoon Ave' 'Calgary of Alberta of Canada' 'Cgy/Ab'\n",
      " 'everywhere~* ⭐' 'Nigeria' '218 12 Ave SE, Calgary T2G 1G9' 'The cloud?'\n",
      " 'Red Deer, Alberta' 'Seattle, Washington, US' 'Western Canada'\n",
      " 'Vancouver' 'Canada Olympic Park, Calgary' 'Cheshire, UK'\n",
      " 'Charlottetown,PEI,Canada' 'Montréal • Paris • NJ' '344 17 AVE SW'\n",
      " 'Playa del carmen and YYC' 'YVR' 'calgary, AB'\n",
      " '1345-32 Ave NE Calgary, AB' 'Investors Group Field '\n",
      " '51.07578305,-114.129126' 'Calgary, CANADA' 'Amesbury, England'\n",
      " 'Cline River, AB, Canada' 'Jericho, NY' 'Canadian' 'Gainesville, FL'\n",
      " 'Edmonton' 'St. Albert, Alberta' 'Art Director @Hypremium'\n",
      " 'Calgary, Alberta, Canada.' 'Vegreville, Alberta' 'Cochrane Albertaaaa🇨🇦'\n",
      " 'Airdrie, Alberta, Canada' 'Cowtown Baby' 'Chestermere, Alberta'\n",
      " 'Scotland' 'Turner Valley, Alberta' 'im out there, come find me'\n",
      " '- CONNECTING WORLDS -' 'Celestial\\xa0Earth\\n\\n' 'Calgary, CN' 'earth'\n",
      " 'Longview, Alberta' 'Next to Carmen Sandiego '\n",
      " 'Regina Saskatchewan Canada' 'Calgary,Alberta'\n",
      " 'Chi/Mtl via Nashville- on tour' 'Toronto//Calgary'\n",
      " 'Calgary, Alberta #yyc' 'Edmonton, AB, CAN'\n",
      " '3523 18th Street SW , Calgary' '#YYC' 'A Series of Tubes'\n",
      " '202D Centre St SE, Calgary' 'Alberta, Refinery Row'\n",
      " 'ÜT: 50.907808,-113.97577' 'DC Metro area' 'Nationwide'\n",
      " 'Bridlewood, Calgary' 'Dallas, TX' 'Calgary + Houston'\n",
      " 'Calgary, AB CANADA' \"Tsuu T'ina Nation 145 (Sarcee 145), Alberta\"\n",
      " 'Vulcan, Alberta' 'iPhone: 53.537628,-113.508209' 'BTS+ MOVIES'\n",
      " 'Parallel 55, 126 West' 'Calgary,Ab' 'High River, Alberta, Canada'\n",
      " 'Vancouver, BC | Everywhere' 'toronto' 'Southern Alberta'\n",
      " 'Northwest Territories, Canada' 'Kitchen -Bay 1R 7635 44st SE C'\n",
      " 'Halifax, Nova Scotia' 'Srebrenica' 'Lévis, Québec' 'Charlemagne'\n",
      " 'Canadaa ' 'Didsbury, Alberta' 'Calgary, Alberta 🇨🇦🇨🇦🇨🇦'\n",
      " 'West End, Vancouver' 'ÜT: 50.9144116,-113.974812' 'Calgary-Canada'\n",
      " 'Calgary,Alberta.' 'Calgary/ Treaty 7 territory' 'New York, NY' 'c-town'\n",
      " 'worldwide' 'Wonderland' 'Porcupine Plain, Saskatchewan' '🇨🇦🇬🇧'\n",
      " '#YYC #YYZ #YYJ #DUB' 'Long Island City, NYC' 'Montréal, Canada'\n",
      " 'Ending Youth Homelessness' 'Kamloops, British Columbia'\n",
      " 'Calgary, Alberta / Worldwide' 'Canaderp' 'Baguio City, Philippines'\n",
      " 'chansoo hell' 'united' 'Aylmer, Ontario' 'Panama / Montreal'\n",
      " 'Calgary,AB' 'Mayland Heights, Calgary' 'Banff, Alberta'\n",
      " 'Toronto, Canada -- usually.' 'Strawberry Fields' 'London, England'\n",
      " 'The Universe' '51.015929,-114.152881' 'Fear Right of Alberta'\n",
      " 'Naogaon, Bangladesh ' 'Ottawa, Ontario' 'Alberta + British Columbia'\n",
      " 'The Hood ' 'Progressive Fighting Academy ' 'where ever there is trouble'\n",
      " 'Fernie, British Columbia' 'Calgary canada' 'ÜT: 50.918838,-113.935448'\n",
      " 'YYC , arena, golf course' 'Regina' 'Coquitlam, BC, CA, V3K 3P1'\n",
      " 'Calgary AB Canada ' 'Grande Itumbiara' 'Crescent Beach BC'\n",
      " 'The Planet Earth' 'Calgary born a cockney' 'Treaty 7' \"St. John's\"\n",
      " 'Charlottesville, VA' 'Canada and soon the World!' 'Wildwood, Calgary'\n",
      " 'Morningside Heights, Manhattan' 'Calgary, AB #YYC'\n",
      " '805 - 1st Street SW, Calgary' 'Minneapolis, MN' 'Geneva'\n",
      " '131 7 Avenue SW Calgary AB' '613 11th Avenue SW Calgary, AB'\n",
      " '227 14 street nw Calgary, AB' 'Strategy Meets Marketing Ideas'\n",
      " 'Cebu, Philippines / Calgary' 'CJSW 90.9 FM Calgary' 'YYC • MNL'\n",
      " 'Lloydminster (Part), Saskatche' 'Saddle Ridge, Calgary'\n",
      " '1306 1st Street Sw' 'Yellowknife, NT' 'Whitehorse, Yukon'\n",
      " 'Newfoundland and Labrador, Canada' '822 11Ave SW Calgary AB '\n",
      " '722 - 17th Ave SW, Calgary, AB' '300A 17 Ave SW Calgary, AB' 'Earth 🌎'\n",
      " 'BC/YT' 'The Abyss' 'Calgary, AB 🇨🇦' 'Calgary City, Alberta, Canada'\n",
      " 'yyC   ' '5855 9 St SE, Calgary, AB T2H ' 'Ontario, Canada'\n",
      " 'Cayley Alberta' 'Acadia, SE Calgary' 'Calgary, Ab Canada'\n",
      " 'Calgary, Alberta- Canada' 'Illinois, USA' 'icebear'\n",
      " 'A Scotsman in Calgary' 'Somewhere on Earth' 'Sydney, New South Wales'\n",
      " 'Αττική, Ελλάς' 'in Alberta, Canada' 'Chicago & Nashville' 'London-YVR'\n",
      " 'Calgary. Alberta' 'Calgary, Canada (Treaty 7)' '#yyc'\n",
      " '403.262.6915 Calgary, AB' 'calgary, ab\\n' 'Deer Ridge, Calgary'\n",
      " 'Calgary SW' 'Calgary, AB  Canada' 'Third rock from the sun'\n",
      " 'Open to 20 Countries' 'Lincoln, NE' 'Cambodia' 'Toronto, Vancouver, LA'\n",
      " 'Calgary AB  (ex-Pat Notts UK)' 'Calgary, Alberta.Canada'\n",
      " 'Coventry Hills, Calgary' '777 210 Ave SE ' 'usually near the bar'\n",
      " '5222 MacLeod Tr SW Calgary AB' 'Philadelphia, PA'\n",
      " '1235-26th ave,SE Calgary, AB' 'Regina SK' 'Canada 🇨🇦 '\n",
      " 'West Coast, British Columbia ' '1409 Edmonton Tr NE Calgary'\n",
      " 'Calgary,Canada' '7th circle of gay sin' 'in a state of denial'\n",
      " 'napping ' '403' 'Ontario Toronto' 'Budapest Toronto NY LA Tokyo'\n",
      " 'Arizona, USA' 'Nova Scotia, Canada' 'Canada,USA,Caribbean,Europe'\n",
      " 'Brooke-Alvinston, Ontario' 'National Canada' '317-7th Avenue SW Calgary'\n",
      " 'from Germany - Calgary, Canada' 'Montreal—NY—Hong Kong—Shanghai'\n",
      " 'currently resides in Calgary' 'Jammu And Kashmir' 'Hampstead, Québec'\n",
      " 'Halifax' 'Wherever the boogie van rolls.' 'Calgary, Alberta | Treaty 7'\n",
      " 'Calgary , Lagos , ' 'YYC via YVR' 'Proud Irish/Canadian'\n",
      " 'Toronto,Vaughan Ontario CANADA' 'Best city in the world... YYC' 'UK'\n",
      " 'Suite 600, 222 58th Ave SW' 'Huntsville, Ontario, Canada'\n",
      " 'Canmore, AB 🇨🇦' 'Santa Cruz, CA' '420 Short Road, Abbotsford BC'\n",
      " 'mk.parotina✨' 'Mission, British Columbia' 'Lagos' 'Vancouver Island '\n",
      " 'Made with love in YYC' 'USA' 'NorthWest Auto Mall, Calgary'\n",
      " 'Oh! Canada + #SAN soon!' 'Bulgaria' 'Calgary, Alberta CANADA'\n",
      " 'calgary canada ' 'Guadalajara, Jal.' 'Calgary, #yyc'\n",
      " '235, 1721 29th Ave SW Calgary' 'Toronto, Ontario Fly me to you'\n",
      " 'Montréal (Québec)' 'The Triangle, NC' '2256-23rd St NE Calgary, AB'\n",
      " 'Alberta, Canada ' 'Montreal/Costa Rica' 'Edmonton and Calgary, Alberta'\n",
      " 'somewhere in the mountains ' 'Radisson Heights, Calgary'\n",
      " 'Heart in SK, body in YYC' 'Montréal' 'Denver, CO'\n",
      " 'Calgary, Alberta (Treaty 7)' '629 Manitou Rd SE, Calgary'\n",
      " 'Across Canada' 'Ras Al Khaimah, United Arab Emirates' 'Calgary, Ab.'\n",
      " 'YYC - Treaty 7 - The Beltline' 'Montreal, CA - Athens, GR'\n",
      " 'St Albert, AB, Canada' 'Monterrey, Nuevo León' 'Waterloo, Ontario'\n",
      " 'Canada & U.S.' 'Canadá' 'Worldwide' 'Los Angeles / Calgary, AB'\n",
      " 'Enchant, Alberta, Canada' 'RT means not much'\n",
      " 'Snapchat/YouNow: @charwinslow' 'MONTREAL' 'Bragg Creek, AB'\n",
      " 'Okotoks,Alberta,Canada' 'International' 'Wolfville, NS' 'Cochrane, AB'\n",
      " 'Canada, Earth' 'Mckenzie Lake, Calgary canada ' 'Canada/Germany'\n",
      " 'Oshawa, Ontario' 'Probably next to the BBQ' 'Saskatoon ➡️ Calgary'\n",
      " 'Calgary, Alberta #YYC' '#12 10221 15 Str Calgary AB' 'London, Ontario'\n",
      " 'Millet, Alberta' '4827 4 St NW, Calgary, AB T2K 1A5, Canada'\n",
      " 'home of the maple leaf ' 'London + Calgary'\n",
      " 'Calgary | Edmonton | Houston' 'Vancouver / Winnipeg 🇨🇦'\n",
      " 'ÜT: 51.049362,-114.074645' '🇨🇦• 🇵🇭' 'Port Moody, BC Canada'\n",
      " 'Richmond, BC Canada' 'Scottsdale, AZ' 'Vancouver, Canada'\n",
      " 'Parkland County, Alberta'\n",
      " '7611 Pine Valley Drive Unit8, Woodbridge, ON L4L 0A2, Canada'\n",
      " 'canada,calgary' 'Australia' 'Elbow Park, Calgary' '- Hong Kong'\n",
      " 'Indiana, USA' 'Six Nations, Ontario, Canada' 'Your Mom'\n",
      " 'Saskatchewan, Canada' 'London #mumbai ' 'victoria bc'\n",
      " 'Edmonton,Alberta/Fort McMurray' 'moon' 'NY/LA' 'Queensland, Australia'\n",
      " 'Canada, eh' 'London, UK' 'ÜT: 53.435481,-113.517226'\n",
      " 'Bratislava [EU] / Austin [US]' '50 Cities | Worldwide | Est. 2007'\n",
      " 'Bahamas' 'Montréal ' 'Tennessee (formerly Ohio)' 'Österreich'\n",
      " '6724-17 Avenue S E Calgary' 'Sale, England'\n",
      " 'YYC / EZE / RRO / NYC / MEX' 'Hamilton' 'Marlborough Park, Calgary'\n",
      " 'Alberta , Canada ' '~Calgary~Alberta~' 'Lake Louise, Alberta Canada'\n",
      " \"Where everything's more fun :)\" 'Calgary and Area'\n",
      " 'Calgary , Alberta, Canada' 'Airdrie' 'iPhone: 0.000000,0.000000'\n",
      " 'Manila, Philippines' 'Calgary & Toronto' 'Toronto, ON, Canada'\n",
      " 'canada ontario' 'ÜT: 51.035411,-114.095736'\n",
      " 'Kimberley, British Columbia' 'Airdie Alberta' 'Mossleigh, AB Canada'\n",
      " 'Cochrane AB 🏴\\U000e0067\\U000e0062\\U000e0073\\U000e0063\\U000e0074\\U000e007f🇨🇦'\n",
      " 'snow' 'Auburn Bay, Calgary, Alberta' 'Tampa, FL' 'Vaughan, Ontario'\n",
      " 'YYC via YYZ,YHM,YZR,MPM & LIS' 'Edmonton -Alberta :)'\n",
      " 'Canada, la super belle province de Quebec' 'montréal, québec'\n",
      " 'hyperbolic time chamber' 'Sherbrooke, Québec' 'the kingdom'\n",
      " 'Somewhere Ascending 🙇🏾' 'Oujé-Bougoumou, Québec'\n",
      " 'Delta, British Columbia' 'Darby, Pennsylvania  #610  #TheCounty'\n",
      " 'YYC - YVR' 'Norwich, England' 'Airdrie Alberta Canada'\n",
      " 'ÜT: 36.082237,-115.148697' 'Toronto area' 'ottawa'\n",
      " 'Calgary & Okotoks, Alberta' 'Five offices across Canada'\n",
      " 'Usually on vacation' 'Toronto,Canada' 'Edmonton, Alberta, Canada'\n",
      " '10.0.0.1' 'Coaldale, Alberta' 'Market & Sunridge Mall Calgary'\n",
      " 'Bendigo, Victoria' 'YVR-YYC-YUL-NAP' 'Brandon MB' 'Vancouver Island, BC'\n",
      " 'Yemen' 'اليمن' 'Fredericton, New Brunswick'\n",
      " 'AB, BC, SK, MN and ON Canada' 'probably lost somewhere help'\n",
      " 'Treaty 1 Territory (Wpg)' 'Montréal/Vancouver' 'Stamford, Connecticut'\n",
      " 'Montreal, Qc' 'Vancouver, Canada ' 'Sarnia, Ontario'\n",
      " 'Edmonton, AB, Canada' '1320-5 Ave NW' 'Foothills School Division'\n",
      " 'Abbotsford, British Columbia' 'Vienna, Austria' 'Canada and USA'\n",
      " 'Markham, ON' 'CANADA' 'Teepee Creek, AB' 'Cowtown, Alberta'\n",
      " 'BWC •Burnaby Central• Fortius'\n",
      " 'Calgary, AB (M-F), East Kootenays & Beyond on Weekends'\n",
      " 'YYC,NYC,T.O.,LAX,YVR CHIVE ON!' 'Kingston, Ontario' 'Cloverdale, BC'\n",
      " 'Halifax, Canada' 'milkyway Galaxy' 'Victoria, BC '\n",
      " 'London, United Kingdom' 'Cowtown' 'District 5360, Canada' 'The 403'\n",
      " 'Wallace, Nova Scotia, Canada' 'Calgary #YYC Alberta Canada'\n",
      " 'C-town . huskieoutsider.com' 'ÜT: 53.547861,-113.495242' 'Calgary, AB.'\n",
      " 'Treaty 7, Calgary Alberta' 'Calgary // Srebrenica ' 'Winnipeg, MB'\n",
      " 'Hilo, HI' 'Spillimacheen,  B.C.' 'Atlanta, GA']\n"
     ]
    }
   ],
   "source": [
    "print(\"Number of unique user locations:\", len(frame[\"user_location\"].unique()), \"\\n\")\n",
    "print(frame[\"user_location\"].unique())\n",
    "#sub=\"calgary\"\n",
    "#print(\"\\n\".join(s for s in frame[\"user_location\"].unique() if sub.lower() in s.lower()))"
   ]
  },
  {
   "cell_type": "markdown",
   "metadata": {},
   "source": [
    "### Step 6. Publishing"
   ]
  },
  {
   "cell_type": "markdown",
   "metadata": {},
   "source": [
    "#### Lets take a look at the language column"
   ]
  },
  {
   "cell_type": "code",
   "execution_count": 15,
   "metadata": {},
   "outputs": [
    {
     "data": {
      "text/plain": [
       "array(['en'], dtype=object)"
      ]
     },
     "execution_count": 15,
     "metadata": {},
     "output_type": "execute_result"
    }
   ],
   "source": [
    "frame[\"lang\"].unique()"
   ]
  },
  {
   "cell_type": "markdown",
   "metadata": {},
   "source": [
    "#### Column lang has only one value en so it can be safely ignored\n",
    "\n",
    "#### Selecting columns from input dataset to output dataset"
   ]
  },
  {
   "cell_type": "code",
   "execution_count": 16,
   "metadata": {},
   "outputs": [
    {
     "data": {
      "text/html": [
       "<div>\n",
       "<style>\n",
       "    .dataframe thead tr:only-child th {\n",
       "        text-align: right;\n",
       "    }\n",
       "\n",
       "    .dataframe thead th {\n",
       "        text-align: left;\n",
       "    }\n",
       "\n",
       "    .dataframe tbody tr th {\n",
       "        vertical-align: top;\n",
       "    }\n",
       "</style>\n",
       "<table border=\"1\" class=\"dataframe\">\n",
       "  <thead>\n",
       "    <tr style=\"text-align: right;\">\n",
       "      <th></th>\n",
       "      <th>created_at_date</th>\n",
       "      <th>hashtags_string</th>\n",
       "      <th>user_string</th>\n",
       "      <th>user_location</th>\n",
       "      <th>longitude</th>\n",
       "      <th>latitude</th>\n",
       "      <th>name</th>\n",
       "      <th>screen_name</th>\n",
       "      <th>extended_tweet</th>\n",
       "      <th>extended_tweet_cleaned</th>\n",
       "    </tr>\n",
       "  </thead>\n",
       "  <tbody>\n",
       "    <tr>\n",
       "      <th>0</th>\n",
       "      <td>2018-11-02 15:01:56-06:00</td>\n",
       "      <td></td>\n",
       "      <td>Symin16</td>\n",
       "      <td>Toronto ✈ Calgary</td>\n",
       "      <td>NaN</td>\n",
       "      <td>NaN</td>\n",
       "      <td>♠</td>\n",
       "      <td>jessmayumba85</td>\n",
       "      <td>@Symin16 I’d like to know who</td>\n",
       "      <td>I’d like to know who</td>\n",
       "    </tr>\n",
       "    <tr>\n",
       "      <th>1</th>\n",
       "      <td>2018-11-02 15:02:01-06:00</td>\n",
       "      <td></td>\n",
       "      <td>TwoCanSamAdams</td>\n",
       "      <td>YYC</td>\n",
       "      <td>NaN</td>\n",
       "      <td>NaN</td>\n",
       "      <td>hannahrae cuddleslug</td>\n",
       "      <td>thimblewad</td>\n",
       "      <td>@TwoCanSamAdams Legit. There are still chunks in the sink and I can’t stand to be in the room, even though it doesn’t smell like puke anymore. I’m just so done with today.</td>\n",
       "      <td>Legit. There are still chunks in the sink and I can’t stand to be in the room, even though it doesn’t smell like puke anymore. I’m just so done with today.</td>\n",
       "    </tr>\n",
       "    <tr>\n",
       "      <th>2</th>\n",
       "      <td>2018-11-02 15:02:05-06:00</td>\n",
       "      <td>job Calgary SupplyChain Hiring CareerArc</td>\n",
       "      <td></td>\n",
       "      <td>Calgary</td>\n",
       "      <td>51.004583</td>\n",
       "      <td>-114.007914</td>\n",
       "      <td>TMJ - CAL Manuf Jobs</td>\n",
       "      <td>tmj_cal_manuf</td>\n",
       "      <td>Can you recommend anyone for this #job in #Calgary, AB?  #SupplyChain #Hiring #CareerArc</td>\n",
       "      <td>Can you recommend anyone for this   in  , AB?</td>\n",
       "    </tr>\n",
       "    <tr>\n",
       "      <th>3</th>\n",
       "      <td>2018-11-02 15:02:10-06:00</td>\n",
       "      <td></td>\n",
       "      <td></td>\n",
       "      <td>🌎📱</td>\n",
       "      <td>NaN</td>\n",
       "      <td>NaN</td>\n",
       "      <td>Sunny Rai</td>\n",
       "      <td>TheSunsRay</td>\n",
       "      <td>Kids See Ghosts:  love this track</td>\n",
       "      <td>Kids See Ghosts:  love this track</td>\n",
       "    </tr>\n",
       "    <tr>\n",
       "      <th>4</th>\n",
       "      <td>2018-11-02 15:02:13-06:00</td>\n",
       "      <td>Calgary job</td>\n",
       "      <td></td>\n",
       "      <td>Calgary</td>\n",
       "      <td>50.997882</td>\n",
       "      <td>-114.074005</td>\n",
       "      <td>TMJ-CAL Retail Jobs</td>\n",
       "      <td>tmj_cal_retail</td>\n",
       "      <td>See our latest #Calgary, AB #job and click to apply: barista - Store# 54359, CHINOOK CENTRE FOOD COURT -  #Retail #Hiring #CareerArc</td>\n",
       "      <td>See our latest  , AB   and click to apply: barista - Store# 54359, CHINOOK CENTRE FOOD COURT -</td>\n",
       "    </tr>\n",
       "  </tbody>\n",
       "</table>\n",
       "</div>"
      ],
      "text/plain": [
       "            created_at_date                           hashtags_string  \\\n",
       "0 2018-11-02 15:01:56-06:00                                             \n",
       "1 2018-11-02 15:02:01-06:00                                             \n",
       "2 2018-11-02 15:02:05-06:00  job Calgary SupplyChain Hiring CareerArc   \n",
       "3 2018-11-02 15:02:10-06:00                                             \n",
       "4 2018-11-02 15:02:13-06:00                               Calgary job   \n",
       "\n",
       "      user_string      user_location  longitude    latitude  \\\n",
       "0         Symin16  Toronto ✈ Calgary        NaN         NaN   \n",
       "1  TwoCanSamAdams                YYC        NaN         NaN   \n",
       "2                            Calgary  51.004583 -114.007914   \n",
       "3                                 🌎📱        NaN         NaN   \n",
       "4                            Calgary  50.997882 -114.074005   \n",
       "\n",
       "                   name     screen_name  \\\n",
       "0                     ♠   jessmayumba85   \n",
       "1  hannahrae cuddleslug      thimblewad   \n",
       "2  TMJ - CAL Manuf Jobs   tmj_cal_manuf   \n",
       "3             Sunny Rai      TheSunsRay   \n",
       "4   TMJ-CAL Retail Jobs  tmj_cal_retail   \n",
       "\n",
       "                                                                                                                                                                extended_tweet  \\\n",
       "0                                                                                                                                                @Symin16 I’d like to know who   \n",
       "1  @TwoCanSamAdams Legit. There are still chunks in the sink and I can’t stand to be in the room, even though it doesn’t smell like puke anymore. I’m just so done with today.   \n",
       "2                                                                                     Can you recommend anyone for this #job in #Calgary, AB?  #SupplyChain #Hiring #CareerArc   \n",
       "3                                                                                                                                            Kids See Ghosts:  love this track   \n",
       "4                                         See our latest #Calgary, AB #job and click to apply: barista - Store# 54359, CHINOOK CENTRE FOOD COURT -  #Retail #Hiring #CareerArc   \n",
       "\n",
       "                                                                                                                                          extended_tweet_cleaned  \n",
       "0                                                                                                                                           I’d like to know who  \n",
       "1    Legit. There are still chunks in the sink and I can’t stand to be in the room, even though it doesn’t smell like puke anymore. I’m just so done with today.  \n",
       "2                                                                                                           Can you recommend anyone for this   in  , AB?         \n",
       "3                                                                                                                              Kids See Ghosts:  love this track  \n",
       "4                                                          See our latest  , AB   and click to apply: barista - Store# 54359, CHINOOK CENTRE FOOD COURT -         "
      ]
     },
     "execution_count": 16,
     "metadata": {},
     "output_type": "execute_result"
    }
   ],
   "source": [
    "frame_cleaned=frame[['created_at_date','hashtags_string','user_string','user_location',\n",
    "                     'longitude','latitude','name', 'screen_name','extended_tweet','extended_tweet_cleaned']]\n",
    "frame_cleaned.head()"
   ]
  },
  {
   "cell_type": "code",
   "execution_count": 18,
   "metadata": {
    "collapsed": true
   },
   "outputs": [],
   "source": [
    "frame_cleaned.to_csv('tweets_cleaned.csv',index=False)"
   ]
  },
  {
   "cell_type": "markdown",
   "metadata": {},
   "source": [
    "###  Conclusion\n",
    "We have  data wrangling and cleaning stage: discovered the data, restructured and reorganized it. \n",
    "We have selected columns useful for later ananlysis and saved ned dataset.\n",
    "More cleaning and wrangling might be needed when data is explored furhter."
   ]
  },
  {
   "cell_type": "code",
   "execution_count": null,
   "metadata": {
    "collapsed": true
   },
   "outputs": [],
   "source": []
  }
 ],
 "metadata": {
  "kernelspec": {
   "display_name": "Python 3",
   "language": "python",
   "name": "python3"
  },
  "language_info": {
   "codemirror_mode": {
    "name": "ipython",
    "version": 3
   },
   "file_extension": ".py",
   "mimetype": "text/x-python",
   "name": "python",
   "nbconvert_exporter": "python",
   "pygments_lexer": "ipython3",
   "version": "3.6.3"
  },
  "nbTranslate": {
   "displayLangs": [
    "*"
   ],
   "hotkey": "alt-t",
   "langInMainMenu": true,
   "sourceLang": "en",
   "targetLang": "fr",
   "useGoogleTranslate": true
  }
 },
 "nbformat": 4,
 "nbformat_minor": 2
}

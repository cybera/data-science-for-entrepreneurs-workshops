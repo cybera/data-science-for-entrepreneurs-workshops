{
 "cells": [
  {
   "cell_type": "markdown",
   "metadata": {},
   "source": [
    "### Step1. Downloading the tiwitter data from object storage and displaying first 5 rows"
   ]
  },
  {
   "cell_type": "code",
   "execution_count": 1,
   "metadata": {},
   "outputs": [
    {
     "data": {
      "text/html": [
       "<div>\n",
       "<style>\n",
       "    .dataframe thead tr:only-child th {\n",
       "        text-align: right;\n",
       "    }\n",
       "\n",
       "    .dataframe thead th {\n",
       "        text-align: left;\n",
       "    }\n",
       "\n",
       "    .dataframe tbody tr th {\n",
       "        vertical-align: top;\n",
       "    }\n",
       "</style>\n",
       "<table border=\"1\" class=\"dataframe\">\n",
       "  <thead>\n",
       "    <tr style=\"text-align: right;\">\n",
       "      <th></th>\n",
       "      <th>coordinates</th>\n",
       "      <th>created_at</th>\n",
       "      <th>extended_tweet</th>\n",
       "      <th>hashtags</th>\n",
       "      <th>lang</th>\n",
       "      <th>name</th>\n",
       "      <th>screen_name</th>\n",
       "      <th>text</th>\n",
       "      <th>user_location</th>\n",
       "      <th>user_mentions</th>\n",
       "    </tr>\n",
       "  </thead>\n",
       "  <tbody>\n",
       "    <tr>\n",
       "      <th>0</th>\n",
       "      <td>None</td>\n",
       "      <td>Fri Nov 02 21:01:56 +0000 2018</td>\n",
       "      <td>@Symin16 I’d like to know who</td>\n",
       "      <td>[]</td>\n",
       "      <td>en</td>\n",
       "      <td>♠</td>\n",
       "      <td>jessmayumba85</td>\n",
       "      <td>@Symin16 I’d like to know who</td>\n",
       "      <td>Toronto ✈ Calgary</td>\n",
       "      <td>[{'indices': [0, 8], 'id': 1031043960968364034...</td>\n",
       "    </tr>\n",
       "    <tr>\n",
       "      <th>1</th>\n",
       "      <td>None</td>\n",
       "      <td>Fri Nov 02 21:02:01 +0000 2018</td>\n",
       "      <td>@TwoCanSamAdams Legit. There are still chunks ...</td>\n",
       "      <td>[]</td>\n",
       "      <td>en</td>\n",
       "      <td>hannahrae cuddleslug</td>\n",
       "      <td>thimblewad</td>\n",
       "      <td>@TwoCanSamAdams Legit. There are still chunks ...</td>\n",
       "      <td>YYC</td>\n",
       "      <td>[{'indices': [0, 15], 'id': 406677625, 'screen...</td>\n",
       "    </tr>\n",
       "    <tr>\n",
       "      <th>2</th>\n",
       "      <td>{'type': 'Point', 'coordinates': [-114.007914,...</td>\n",
       "      <td>Fri Nov 02 21:02:05 +0000 2018</td>\n",
       "      <td>Can you recommend anyone for this #job in #Cal...</td>\n",
       "      <td>[{'indices': [34, 38], 'text': 'job'}, {'indic...</td>\n",
       "      <td>en</td>\n",
       "      <td>TMJ - CAL Manuf Jobs</td>\n",
       "      <td>tmj_cal_manuf</td>\n",
       "      <td>Can you recommend anyone for this #job in #Cal...</td>\n",
       "      <td>Calgary</td>\n",
       "      <td>[]</td>\n",
       "    </tr>\n",
       "    <tr>\n",
       "      <th>3</th>\n",
       "      <td>None</td>\n",
       "      <td>Fri Nov 02 21:02:10 +0000 2018</td>\n",
       "      <td>Kids See Ghosts: https://t.co/J4phIy2CQy love ...</td>\n",
       "      <td>[]</td>\n",
       "      <td>en</td>\n",
       "      <td>Sunny Rai</td>\n",
       "      <td>TheSunsRay</td>\n",
       "      <td>Kids See Ghosts: https://t.co/J4phIy2CQy love ...</td>\n",
       "      <td>🌎📱</td>\n",
       "      <td>[]</td>\n",
       "    </tr>\n",
       "    <tr>\n",
       "      <th>4</th>\n",
       "      <td>{'type': 'Point', 'coordinates': [-114.0740046...</td>\n",
       "      <td>Fri Nov 02 21:02:13 +0000 2018</td>\n",
       "      <td>See our latest #Calgary, AB #job and click to ...</td>\n",
       "      <td>[{'indices': [15, 23], 'text': 'Calgary'}, {'i...</td>\n",
       "      <td>en</td>\n",
       "      <td>TMJ-CAL Retail Jobs</td>\n",
       "      <td>tmj_cal_retail</td>\n",
       "      <td>See our latest #Calgary, AB #job and click to ...</td>\n",
       "      <td>Calgary</td>\n",
       "      <td>[]</td>\n",
       "    </tr>\n",
       "  </tbody>\n",
       "</table>\n",
       "</div>"
      ],
      "text/plain": [
       "                                         coordinates  \\\n",
       "0                                               None   \n",
       "1                                               None   \n",
       "2  {'type': 'Point', 'coordinates': [-114.007914,...   \n",
       "3                                               None   \n",
       "4  {'type': 'Point', 'coordinates': [-114.0740046...   \n",
       "\n",
       "                       created_at  \\\n",
       "0  Fri Nov 02 21:01:56 +0000 2018   \n",
       "1  Fri Nov 02 21:02:01 +0000 2018   \n",
       "2  Fri Nov 02 21:02:05 +0000 2018   \n",
       "3  Fri Nov 02 21:02:10 +0000 2018   \n",
       "4  Fri Nov 02 21:02:13 +0000 2018   \n",
       "\n",
       "                                      extended_tweet  \\\n",
       "0                      @Symin16 I’d like to know who   \n",
       "1  @TwoCanSamAdams Legit. There are still chunks ...   \n",
       "2  Can you recommend anyone for this #job in #Cal...   \n",
       "3  Kids See Ghosts: https://t.co/J4phIy2CQy love ...   \n",
       "4  See our latest #Calgary, AB #job and click to ...   \n",
       "\n",
       "                                            hashtags lang  \\\n",
       "0                                                 []   en   \n",
       "1                                                 []   en   \n",
       "2  [{'indices': [34, 38], 'text': 'job'}, {'indic...   en   \n",
       "3                                                 []   en   \n",
       "4  [{'indices': [15, 23], 'text': 'Calgary'}, {'i...   en   \n",
       "\n",
       "                   name     screen_name  \\\n",
       "0                     ♠   jessmayumba85   \n",
       "1  hannahrae cuddleslug      thimblewad   \n",
       "2  TMJ - CAL Manuf Jobs   tmj_cal_manuf   \n",
       "3             Sunny Rai      TheSunsRay   \n",
       "4   TMJ-CAL Retail Jobs  tmj_cal_retail   \n",
       "\n",
       "                                                text      user_location  \\\n",
       "0                      @Symin16 I’d like to know who  Toronto ✈ Calgary   \n",
       "1  @TwoCanSamAdams Legit. There are still chunks ...                YYC   \n",
       "2  Can you recommend anyone for this #job in #Cal...            Calgary   \n",
       "3  Kids See Ghosts: https://t.co/J4phIy2CQy love ...                 🌎📱   \n",
       "4  See our latest #Calgary, AB #job and click to ...            Calgary   \n",
       "\n",
       "                                       user_mentions  \n",
       "0  [{'indices': [0, 8], 'id': 1031043960968364034...  \n",
       "1  [{'indices': [0, 15], 'id': 406677625, 'screen...  \n",
       "2                                                 []  \n",
       "3                                                 []  \n",
       "4                                                 []  "
      ]
     },
     "execution_count": 1,
     "metadata": {},
     "output_type": "execute_result"
    }
   ],
   "source": [
    "import urllib.request\n",
    "import ast\n",
    "import pandas as pd \n",
    "\n",
    "target_url=\"https://swift-yeg.cloud.cybera.ca:8080/v1/AUTH_233e84cd313945c992b4b585f7b9125d/geeky-summit/tweets.txt\"\n",
    "file_name=\"tweets.txt\"\n",
    "urllib.request.urlretrieve(target_url, file_name)\n",
    "tweets = []\n",
    "with open(file_name, 'r') as f:\n",
    "    for lines in f.readlines():\n",
    "        tweets.append(ast.literal_eval(lines))\n",
    "frame  = pd.DataFrame(tweets)\n",
    "frame.head()"
   ]
  },
  {
   "cell_type": "markdown",
   "metadata": {},
   "source": [
    "### Step2. Understanding the input data"
   ]
  },
  {
   "cell_type": "code",
   "execution_count": 2,
   "metadata": {},
   "outputs": [
    {
     "name": "stdout",
     "output_type": "stream",
     "text": [
      "Number of rows/columns: (14793, 10) \n",
      "\n",
      "Column name: coordinates \n",
      " Column type: <class 'dict'> \n",
      " Column data(example): {'type': 'Point', 'coordinates': [-114.007914, 51.004583]} \n",
      "\n",
      "\n",
      "Column name: created_at \n",
      " Column type: <class 'str'> \n",
      " Column data(example): Fri Nov 02 21:02:05 +0000 2018 \n",
      "\n",
      "\n",
      "Column name: extended_tweet \n",
      " Column type: <class 'str'> \n",
      " Column data(example): Can you recommend anyone for this #job in #Calgary, AB? https://t.co/20JiTB3cRi #SupplyChain #Hiring #CareerArc \n",
      "\n",
      "\n",
      "Column name: hashtags \n",
      " Column type: <class 'list'> \n",
      " Column data(example): [{'indices': [34, 38], 'text': 'job'}, {'indices': [42, 50], 'text': 'Calgary'}, {'indices': [80, 92], 'text': 'SupplyChain'}, {'indices': [93, 100], 'text': 'Hiring'}, {'indices': [101, 111], 'text': 'CareerArc'}] \n",
      "\n",
      "\n",
      "Column name: lang \n",
      " Column type: <class 'str'> \n",
      " Column data(example): en \n",
      "\n",
      "\n",
      "Column name: name \n",
      " Column type: <class 'str'> \n",
      " Column data(example): TMJ - CAL Manuf Jobs \n",
      "\n",
      "\n",
      "Column name: screen_name \n",
      " Column type: <class 'str'> \n",
      " Column data(example): tmj_cal_manuf \n",
      "\n",
      "\n",
      "Column name: text \n",
      " Column type: <class 'str'> \n",
      " Column data(example): Can you recommend anyone for this #job in #Calgary, AB? https://t.co/20JiTB3cRi #SupplyChain #Hiring #CareerArc \n",
      "\n",
      "\n",
      "Column name: user_location \n",
      " Column type: <class 'str'> \n",
      " Column data(example): Calgary \n",
      "\n",
      "\n",
      "Column name: user_mentions \n",
      " Column type: <class 'list'> \n",
      " Column data(example): [{'indices': [0, 15], 'id': 406677625, 'screen_name': 'TwoCanSamAdams', 'id_str': '406677625', 'name': 'TwoCan Jorge'}] \n",
      "\n",
      "\n"
     ]
    }
   ],
   "source": [
    "print(\"Number of rows/columns:\",frame.shape, \"\\n\")\n",
    "for column in frame.columns:\n",
    "    if column==\"user_mentions\":\n",
    "        rownum=1\n",
    "    else :\n",
    "        rownum=2\n",
    "    print(\"Column name: {colname} \\n Column type: {coltype} \\n Column data(example): {coldata} \\n\\n\"\n",
    "          .format(colname=column, coltype=type(frame[column].iloc[rownum]),coldata=frame[column].iloc[rownum]))"
   ]
  },
  {
   "cell_type": "markdown",
   "metadata": {},
   "source": [
    " - **coordinates** - user coordinates, can be None or Python type Dict(needs to be split to two columns - longitude and latitude)\n",
    " - **created_at**  - creation date, Python type String (needs to be converted to type Date + timezone needs to be changed from UTC to MST)\n",
    " - **extended_tweet** - tweet text, Python type String(`extended_tweet` and `text` are the similar columns, `extended_tweet` has more data, we will use it instead of `text`)\n",
    " - **hashtags** - hashtags, Python type List of Dicts(needs to be converted to String)\n",
    " - **lang** - language, Python type String\n",
    " - **name** - twitter account name, Python type String\n",
    " - **screen_name** - screen name, Python type String\n",
    " - **text** - tweet text, Python type String(`extended_tweet` and `text` are the similar columns, `extended_tweet` has more data, we will use it instead of `text`)\n",
    " - **user_location** - location, Python type String\n",
    " - **user_mentions** - user mentions, Python type List of Dicts(needs to be converted to String)"
   ]
  },
  {
   "cell_type": "markdown",
   "metadata": {},
   "source": [
    "### Step4. Wrangling the data\n",
    "#### Convert column \"created_at\"  from String to Date and change timezone from UTC to MST"
   ]
  },
  {
   "cell_type": "code",
   "execution_count": 3,
   "metadata": {},
   "outputs": [
    {
     "name": "stdout",
     "output_type": "stream",
     "text": [
      "Fri Nov 02 21:02:05 +0000 2018\n",
      "2018-11-02 15:02:05-06:00\n"
     ]
    }
   ],
   "source": [
    "print(frame[\"created_at\"].iloc[2])\n",
    "frame[\"created_at_date\"]= pd.to_datetime(frame[\"created_at\"])\n",
    "frame[\"created_at_date\"]=frame[\"created_at_date\"].dt.tz_localize('UTC').dt.tz_convert('America/Edmonton')\n",
    "print(frame[\"created_at_date\"].iloc[2])"
   ]
  },
  {
   "cell_type": "markdown",
   "metadata": {},
   "source": [
    "#### Convert column \"coordinates\" from Dict tow columns \"latitude\" and \"longitude\""
   ]
  },
  {
   "cell_type": "code",
   "execution_count": 4,
   "metadata": {},
   "outputs": [
    {
     "name": "stdout",
     "output_type": "stream",
     "text": [
      "0                                                 None\n",
      "1                                                 None\n",
      "2    {'type': 'Point', 'coordinates': [-114.007914,...\n",
      "3                                                 None\n",
      "4    {'type': 'Point', 'coordinates': [-114.0740046...\n",
      "Name: coordinates, dtype: object\n",
      "   longitude    latitude\n",
      "0        NaN         NaN\n",
      "1        NaN         NaN\n",
      "2  51.004583 -114.007914\n",
      "3        NaN         NaN\n",
      "4  50.997882 -114.074005\n"
     ]
    }
   ],
   "source": [
    "print(frame[\"coordinates\"].head())\n",
    "def convertCoordToList(v):\n",
    "    if v is None:\n",
    "        v=[]\n",
    "    else:\n",
    "        v= v['coordinates']\n",
    "    return v\n",
    "frame['coordinates_list']= frame['coordinates'].map(convertCoordToList)\n",
    "frame[['latitude','longitude']] = pd.DataFrame(frame['coordinates_list'].values.tolist())\n",
    "print(frame[['longitude','latitude']].head())"
   ]
  },
  {
   "cell_type": "markdown",
   "metadata": {},
   "source": [
    "#### Convert column \"hashtags\"  from Dict to Str"
   ]
  },
  {
   "cell_type": "code",
   "execution_count": 5,
   "metadata": {},
   "outputs": [
    {
     "name": "stdout",
     "output_type": "stream",
     "text": [
      "[{'indices': [34, 38], 'text': 'job'}, {'indices': [42, 50], 'text': 'Calgary'}, {'indices': [80, 92], 'text': 'SupplyChain'}, {'indices': [93, 100], 'text': 'Hiring'}, {'indices': [101, 111], 'text': 'CareerArc'}]\n",
      "\n",
      " job Calgary SupplyChain Hiring CareerArc\n"
     ]
    }
   ],
   "source": [
    "print(frame[\"hashtags\"].iloc[2])\n",
    "def convertHashToString(v):\n",
    "    if v == []:\n",
    "        v=' '\n",
    "    else:\n",
    "        v=' '.join([d['text'] for d in v])\n",
    "    return v\n",
    "frame['hashtags_string']= frame['hashtags'].map(convertHashToString)\n",
    "print(\"\\n\",frame[\"hashtags_string\"].iloc[2])"
   ]
  },
  {
   "cell_type": "markdown",
   "metadata": {},
   "source": [
    "#### Excersise: convert column \"user_mentions\" from Dict to Str"
   ]
  },
  {
   "cell_type": "code",
   "execution_count": 6,
   "metadata": {},
   "outputs": [
    {
     "name": "stdout",
     "output_type": "stream",
     "text": [
      "[{'indices': [0, 15], 'id': 406677625, 'screen_name': 'TwoCanSamAdams', 'id_str': '406677625', 'name': 'TwoCan Jorge'}]\n",
      "\n",
      " TwoCanSamAdams\n"
     ]
    }
   ],
   "source": [
    "print(frame[\"user_mentions\"].iloc[1])\n",
    "def convertUserToString(v):\n",
    "    if v == []:\n",
    "        v=' '\n",
    "    else:\n",
    "        v=' '.join([d['screen_name'] for d in v])## type something here (this line will be hidden)\n",
    "    return v\n",
    "frame['user_string']= frame['user_mentions'].map(convertUserToString)\n",
    "print(\"\\n\",frame[\"user_string\"].iloc[1])"
   ]
  },
  {
   "cell_type": "markdown",
   "metadata": {},
   "source": [
    "### Step5. Cleaning the data"
   ]
  },
  {
   "cell_type": "code",
   "execution_count": 7,
   "metadata": {},
   "outputs": [
    {
     "data": {
      "text/plain": [
       "0                                                                                                                                                                                                                                                                                @Symin16 I’d like to know who\n",
       "1                                                                                                                                  @TwoCanSamAdams Legit. There are still chunks in the sink and I can’t stand to be in the room, even though it doesn’t smell like puke anymore. I’m just so done with today.\n",
       "2                                                                                                                                                                                              Can you recommend anyone for this #job in #Calgary, AB? https://t.co/20JiTB3cRi #SupplyChain #Hiring #CareerArc\n",
       "3                                                                                                                                                                                                                                                     Kids See Ghosts: https://t.co/J4phIy2CQy love this track\n",
       "4                                                                                                                                                  See our latest #Calgary, AB #job and click to apply: barista - Store# 54359, CHINOOK CENTRE FOOD COURT - https://t.co/wfBXkfI1rr #Retail #Hiring #CareerArc\n",
       "5    Watered by hand, harvested by hand, trimmed by hand. Each individual plant gets its own dedicated care and attention, tailored to its growth cycle. \\n\\n\"Our plants get the love they deserve.” – David Isaak, Founder. 💚\\n\\n#HandcraftingCannabis #HandCultivation #CraftCulture https://t.co/eBBtjPhW8A\n",
       "6                                     https://t.co/IVq1D6K3az Please read and share and donate ten bucks. There are 5 homeless memorials in Canada and Calgary needs to be #6. This is important. This is the starting point of our Campaign and we need to get to $10000. Give us a hand please and thank you\n",
       "7                                                                                                                                                                See our latest #Calgary, AB #job and click to apply: School Bus Driver - Calgary - https://t.co/ddcbozNfGC #Transportation #Hiring #CareerArc\n",
       "8                                                                                                                                                                                       Join the UPS team! See our latest #job opening here: https://t.co/FdrUDZLldk #Clerical #Calgary, AB #Hiring #CareerArc\n",
       "9                                                                                                                                                                                                                                                                                @kdlang HAPPY BIRTHDAY!!!!!!!\n",
       "Name: extended_tweet, dtype: object"
      ]
     },
     "execution_count": 7,
     "metadata": {},
     "output_type": "execute_result"
    }
   ],
   "source": [
    "pd.set_option('max_colwidth', 700)\n",
    "frame['extended_tweet'].head(10)"
   ]
  },
  {
   "cell_type": "markdown",
   "metadata": {},
   "source": [
    "####  Remove URLS "
   ]
  },
  {
   "cell_type": "code",
   "execution_count": 8,
   "metadata": {
    "collapsed": true
   },
   "outputs": [],
   "source": [
    "frame['extended_tweet']=frame['extended_tweet'].str.replace('http\\S+|www.\\S+', '', case=False)"
   ]
  },
  {
   "cell_type": "markdown",
   "metadata": {},
   "source": [
    "#### Excersise: remove '/n' (new line symbol) from 'extended_tweet' column"
   ]
  },
  {
   "cell_type": "code",
   "execution_count": 9,
   "metadata": {
    "collapsed": true
   },
   "outputs": [],
   "source": [
    "frame['extended_tweet']=frame['extended_tweet'].str.replace('\\n',' ') ### this will be hidden"
   ]
  },
  {
   "cell_type": "markdown",
   "metadata": {},
   "source": [
    "#### Remove user mentions and hashtags from the 'extended_tweet' column and save it as 'extended_tweet_cleaned' column"
   ]
  },
  {
   "cell_type": "code",
   "execution_count": 10,
   "metadata": {
    "scrolled": true
   },
   "outputs": [
    {
     "data": {
      "text/plain": [
       "0                                                                                                                                                                                                                                I’d like to know who\n",
       "1                                                                                         Legit. There are still chunks in the sink and I can’t stand to be in the room, even though it doesn’t smell like puke anymore. I’m just so done with today.\n",
       "2                                                                                                                                                                                                Can you recommend anyone for this   in  , AB?       \n",
       "3                                                                                                                                                                                                                   Kids See Ghosts:  love this track\n",
       "4                                                                                                                                               See our latest  , AB   and click to apply: barista - Store# 54359, CHINOOK CENTRE FOOD COURT -       \n",
       "5                     Watered by hand, harvested by hand, trimmed by hand. Each individual plant gets its own dedicated care and attention, tailored to its growth cycle.   \"Our plants get the love they deserve.” – David Isaak, Founder. 💚        \n",
       "6     Please read and share and donate ten bucks. There are 5 homeless memorials in Canada and Calgary needs to be  . This is important. This is the starting point of our Campaign and we need to get to $10000. Give us a hand please and thank you\n",
       "7                                                                                                                                                                     See our latest  , AB   and click to apply: School Bus Driver - Calgary -       \n",
       "8                                                                                                                                                                                      Join the UPS team! See our latest   opening here:     , AB    \n",
       "9                                                                                                                                                                                                                               HAPPY BIRTHDAY!!!!!!!\n",
       "Name: extended_tweet_cleaned, dtype: object"
      ]
     },
     "execution_count": 10,
     "metadata": {},
     "output_type": "execute_result"
    }
   ],
   "source": [
    "frame['extended_tweet_cleaned']=frame['extended_tweet'].str.replace('[@#]\\w+', ' ',case=False)\n",
    "frame['extended_tweet_cleaned'].head(10)"
   ]
  },
  {
   "cell_type": "markdown",
   "metadata": {},
   "source": [
    "#### Addictional cleaning (emoji,punctuation, numbers, special characters) will be applied  in the later notebooks"
   ]
  },
  {
   "cell_type": "markdown",
   "metadata": {},
   "source": [
    "### Step 6. Subset only columns we need and save the cleaned dataset"
   ]
  },
  {
   "cell_type": "code",
   "execution_count": 11,
   "metadata": {},
   "outputs": [
    {
     "data": {
      "text/html": [
       "<div>\n",
       "<style>\n",
       "    .dataframe thead tr:only-child th {\n",
       "        text-align: right;\n",
       "    }\n",
       "\n",
       "    .dataframe thead th {\n",
       "        text-align: left;\n",
       "    }\n",
       "\n",
       "    .dataframe tbody tr th {\n",
       "        vertical-align: top;\n",
       "    }\n",
       "</style>\n",
       "<table border=\"1\" class=\"dataframe\">\n",
       "  <thead>\n",
       "    <tr style=\"text-align: right;\">\n",
       "      <th></th>\n",
       "      <th>created_at_date</th>\n",
       "      <th>hashtags_string</th>\n",
       "      <th>user_string</th>\n",
       "      <th>user_location</th>\n",
       "      <th>lang</th>\n",
       "      <th>longitude</th>\n",
       "      <th>latitude</th>\n",
       "      <th>name</th>\n",
       "      <th>screen_name</th>\n",
       "      <th>extended_tweet</th>\n",
       "      <th>extended_tweet_cleaned</th>\n",
       "    </tr>\n",
       "  </thead>\n",
       "  <tbody>\n",
       "    <tr>\n",
       "      <th>0</th>\n",
       "      <td>2018-11-02 15:01:56-06:00</td>\n",
       "      <td></td>\n",
       "      <td>Symin16</td>\n",
       "      <td>Toronto ✈ Calgary</td>\n",
       "      <td>en</td>\n",
       "      <td>NaN</td>\n",
       "      <td>NaN</td>\n",
       "      <td>♠</td>\n",
       "      <td>jessmayumba85</td>\n",
       "      <td>@Symin16 I’d like to know who</td>\n",
       "      <td>I’d like to know who</td>\n",
       "    </tr>\n",
       "    <tr>\n",
       "      <th>1</th>\n",
       "      <td>2018-11-02 15:02:01-06:00</td>\n",
       "      <td></td>\n",
       "      <td>TwoCanSamAdams</td>\n",
       "      <td>YYC</td>\n",
       "      <td>en</td>\n",
       "      <td>NaN</td>\n",
       "      <td>NaN</td>\n",
       "      <td>hannahrae cuddleslug</td>\n",
       "      <td>thimblewad</td>\n",
       "      <td>@TwoCanSamAdams Legit. There are still chunks in the sink and I can’t stand to be in the room, even though it doesn’t smell like puke anymore. I’m just so done with today.</td>\n",
       "      <td>Legit. There are still chunks in the sink and I can’t stand to be in the room, even though it doesn’t smell like puke anymore. I’m just so done with today.</td>\n",
       "    </tr>\n",
       "    <tr>\n",
       "      <th>2</th>\n",
       "      <td>2018-11-02 15:02:05-06:00</td>\n",
       "      <td>job Calgary SupplyChain Hiring CareerArc</td>\n",
       "      <td></td>\n",
       "      <td>Calgary</td>\n",
       "      <td>en</td>\n",
       "      <td>51.004583</td>\n",
       "      <td>-114.007914</td>\n",
       "      <td>TMJ - CAL Manuf Jobs</td>\n",
       "      <td>tmj_cal_manuf</td>\n",
       "      <td>Can you recommend anyone for this #job in #Calgary, AB?  #SupplyChain #Hiring #CareerArc</td>\n",
       "      <td>Can you recommend anyone for this   in  , AB?</td>\n",
       "    </tr>\n",
       "    <tr>\n",
       "      <th>3</th>\n",
       "      <td>2018-11-02 15:02:10-06:00</td>\n",
       "      <td></td>\n",
       "      <td></td>\n",
       "      <td>🌎📱</td>\n",
       "      <td>en</td>\n",
       "      <td>NaN</td>\n",
       "      <td>NaN</td>\n",
       "      <td>Sunny Rai</td>\n",
       "      <td>TheSunsRay</td>\n",
       "      <td>Kids See Ghosts:  love this track</td>\n",
       "      <td>Kids See Ghosts:  love this track</td>\n",
       "    </tr>\n",
       "    <tr>\n",
       "      <th>4</th>\n",
       "      <td>2018-11-02 15:02:13-06:00</td>\n",
       "      <td>Calgary job</td>\n",
       "      <td></td>\n",
       "      <td>Calgary</td>\n",
       "      <td>en</td>\n",
       "      <td>50.997882</td>\n",
       "      <td>-114.074005</td>\n",
       "      <td>TMJ-CAL Retail Jobs</td>\n",
       "      <td>tmj_cal_retail</td>\n",
       "      <td>See our latest #Calgary, AB #job and click to apply: barista - Store# 54359, CHINOOK CENTRE FOOD COURT -  #Retail #Hiring #CareerArc</td>\n",
       "      <td>See our latest  , AB   and click to apply: barista - Store# 54359, CHINOOK CENTRE FOOD COURT -</td>\n",
       "    </tr>\n",
       "  </tbody>\n",
       "</table>\n",
       "</div>"
      ],
      "text/plain": [
       "            created_at_date                           hashtags_string  \\\n",
       "0 2018-11-02 15:01:56-06:00                                             \n",
       "1 2018-11-02 15:02:01-06:00                                             \n",
       "2 2018-11-02 15:02:05-06:00  job Calgary SupplyChain Hiring CareerArc   \n",
       "3 2018-11-02 15:02:10-06:00                                             \n",
       "4 2018-11-02 15:02:13-06:00                               Calgary job   \n",
       "\n",
       "      user_string      user_location lang  longitude    latitude  \\\n",
       "0         Symin16  Toronto ✈ Calgary   en        NaN         NaN   \n",
       "1  TwoCanSamAdams                YYC   en        NaN         NaN   \n",
       "2                            Calgary   en  51.004583 -114.007914   \n",
       "3                                 🌎📱   en        NaN         NaN   \n",
       "4                            Calgary   en  50.997882 -114.074005   \n",
       "\n",
       "                   name     screen_name  \\\n",
       "0                     ♠   jessmayumba85   \n",
       "1  hannahrae cuddleslug      thimblewad   \n",
       "2  TMJ - CAL Manuf Jobs   tmj_cal_manuf   \n",
       "3             Sunny Rai      TheSunsRay   \n",
       "4   TMJ-CAL Retail Jobs  tmj_cal_retail   \n",
       "\n",
       "                                                                                                                                                                extended_tweet  \\\n",
       "0                                                                                                                                                @Symin16 I’d like to know who   \n",
       "1  @TwoCanSamAdams Legit. There are still chunks in the sink and I can’t stand to be in the room, even though it doesn’t smell like puke anymore. I’m just so done with today.   \n",
       "2                                                                                     Can you recommend anyone for this #job in #Calgary, AB?  #SupplyChain #Hiring #CareerArc   \n",
       "3                                                                                                                                            Kids See Ghosts:  love this track   \n",
       "4                                         See our latest #Calgary, AB #job and click to apply: barista - Store# 54359, CHINOOK CENTRE FOOD COURT -  #Retail #Hiring #CareerArc   \n",
       "\n",
       "                                                                                                                                          extended_tweet_cleaned  \n",
       "0                                                                                                                                           I’d like to know who  \n",
       "1    Legit. There are still chunks in the sink and I can’t stand to be in the room, even though it doesn’t smell like puke anymore. I’m just so done with today.  \n",
       "2                                                                                                           Can you recommend anyone for this   in  , AB?         \n",
       "3                                                                                                                              Kids See Ghosts:  love this track  \n",
       "4                                                          See our latest  , AB   and click to apply: barista - Store# 54359, CHINOOK CENTRE FOOD COURT -         "
      ]
     },
     "execution_count": 11,
     "metadata": {},
     "output_type": "execute_result"
    }
   ],
   "source": [
    "frame_cleaned=frame[['created_at_date','hashtags_string','user_string','user_location',\n",
    "                     'lang','longitude','latitude','name', 'screen_name','extended_tweet','extended_tweet_cleaned']]\n",
    "frame_cleaned.head()"
   ]
  },
  {
   "cell_type": "code",
   "execution_count": 12,
   "metadata": {
    "collapsed": true
   },
   "outputs": [],
   "source": [
    "frame_cleaned.to_csv('tweets_cleaned.csv',index=False)"
   ]
  }
 ],
 "metadata": {
  "kernelspec": {
   "display_name": "Python 3",
   "language": "python",
   "name": "python3"
  },
  "language_info": {
   "codemirror_mode": {
    "name": "ipython",
    "version": 3
   },
   "file_extension": ".py",
   "mimetype": "text/x-python",
   "name": "python",
   "nbconvert_exporter": "python",
   "pygments_lexer": "ipython3",
   "version": "3.6.3"
  },
  "nbTranslate": {
   "displayLangs": [
    "*"
   ],
   "hotkey": "alt-t",
   "langInMainMenu": true,
   "sourceLang": "en",
   "targetLang": "fr",
   "useGoogleTranslate": true
  }
 },
 "nbformat": 4,
 "nbformat_minor": 2
}

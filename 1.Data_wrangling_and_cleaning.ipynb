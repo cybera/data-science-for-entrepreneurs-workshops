{
 "cells": [
  {
   "cell_type": "markdown",
   "metadata": {},
   "source": [
    "# Wrangling Twitter data\n",
    "In this notebook, we are going to start out with the raw Twitter data that was captured using the Tweepy tool on which you can read more about in [this notebook](twitter_scraper.ipynb). The data captured was restricted to tweets from Calgary from December 18 2018 to December 27 2018. \n",
    "\n",
    "In order to prep the data for analysis, we will \"wrangle\" the data to clean it and structure it into a more useful format. \n",
    "\n",
    "## Goal: \n",
    "Learn some common aspects of data wrangling and convert the data set into a format more practical for further data exploration and analysis. \n",
    "\n",
    "\n",
    "## Data wrangling introduction\n",
    "[Data wrangling](https://en.wikipedia.org/wiki/Data_wrangling) \"is the process of transforming and mapping data from one \"raw\" data form into another format with the intent of making it more appropriate and valuable for a variety of downstream purposes such as analytics\" (Wikipedia).\n",
    "\n",
    "The purpose of data wrangling notebook is to transform complex data into a format that is easier to work with in order to focus on the analysis of data, rather than the wrangling in the next notebooks. \n",
    "\n",
    "#### Common data wrangling steps:\n",
    " - **Discovering**  - understanding the data\n",
    " - **Structuring** -  organizing the data\n",
    "     - Naming or renaming variables\n",
    "     - Changing the type of variables\n",
    "     - Creating new variables through functions of existing of variables\n",
    "     - Conditional processing of variables (i.e the values of new variable is based on the values of existing variables) \n",
    " - **Cleaning** \n",
    "     - Redesign the data into a usable/functional format and correct/remove any bad data\n",
    "     - Imputing missing values in a variables\n",
    " - **Publishing**\n",
    "    - Selecting columns from input dataset to output dataset\n"
   ]
  },
  {
   "cell_type": "markdown",
   "metadata": {},
   "source": [
    "## Load python modules\n",
    "\n",
    "There are many packages available in Python that provide a variety of functions for data science. Here we load the libraries needed for this notebook. \n",
    "\n",
    "One of the most common libraries used for data science is [pandas](https://pandas.pydata.org/). There are good tutorials available on pandas and worthwhile spending more time with in order to become more comfortable with data science in python. "
   ]
  },
  {
   "cell_type": "code",
   "execution_count": 1,
   "metadata": {},
   "outputs": [],
   "source": [
    "try:\n",
    "    import urllib.request\n",
    "except ImportError:\n",
    "    !pip install  --user urllib\n",
    "    import urllib.request\n",
    "\n",
    "try:\n",
    "    import ast\n",
    "except ImportError:\n",
    "    !pip install  --user ast\n",
    "    import ast\n",
    "    \n",
    "try:\n",
    "    import pandas as pd\n",
    "except ImportError:\n",
    "    !pip install  --user pandas\n",
    "    import pandas as pd\n",
    "\n",
    "try:    \n",
    "    import matplotlib.pyplot as plt\n",
    "except ImportError:\n",
    "    !pip install --user matplotlib\n",
    "    import matplotlib.pyplot as plt\n",
    "\n",
    "%matplotlib inline"
   ]
  },
  {
   "cell_type": "markdown",
   "metadata": {},
   "source": [
    "## Step 1. Taking a look at the raw data\n"
   ]
  },
  {
   "cell_type": "markdown",
   "metadata": {},
   "source": [
    "#### Reading the Twitter data  and displaying the first 5 rows\n",
    "\n",
    "The raw data(`tweets.txt`) is stored in the same directory, we will read it into a pandas DataFrame. A **DataFrame** is a commonly encountered way to work with data in data science. It can be thought of as a 2D data structure that makes it easy to work with the data at hand. "
   ]
  },
  {
   "cell_type": "code",
   "execution_count": 2,
   "metadata": {
    "scrolled": false
   },
   "outputs": [
    {
     "data": {
      "text/html": [
       "<div>\n",
       "<style scoped>\n",
       "    .dataframe tbody tr th:only-of-type {\n",
       "        vertical-align: middle;\n",
       "    }\n",
       "\n",
       "    .dataframe tbody tr th {\n",
       "        vertical-align: top;\n",
       "    }\n",
       "\n",
       "    .dataframe thead th {\n",
       "        text-align: right;\n",
       "    }\n",
       "</style>\n",
       "<table border=\"1\" class=\"dataframe\">\n",
       "  <thead>\n",
       "    <tr style=\"text-align: right;\">\n",
       "      <th></th>\n",
       "      <th>coordinates</th>\n",
       "      <th>created_at</th>\n",
       "      <th>extended_tweet</th>\n",
       "      <th>hashtags</th>\n",
       "      <th>lang</th>\n",
       "      <th>name</th>\n",
       "      <th>screen_name</th>\n",
       "      <th>text</th>\n",
       "      <th>user_location</th>\n",
       "      <th>user_mentions</th>\n",
       "    </tr>\n",
       "  </thead>\n",
       "  <tbody>\n",
       "    <tr>\n",
       "      <th>0</th>\n",
       "      <td>None</td>\n",
       "      <td>Tue Dec 18 17:23:54 +0000 2018</td>\n",
       "      <td>@CallawayGolfEU The crows nest hands down! #xm...</td>\n",
       "      <td>[{'indices': [43, 48], 'text': 'xmas'}, {'indi...</td>\n",
       "      <td>en</td>\n",
       "      <td>jeff ullock</td>\n",
       "      <td>JeffUllock</td>\n",
       "      <td>@CallawayGolfEU The crows nest hands down! #xm...</td>\n",
       "      <td>None</td>\n",
       "      <td>[{'name': 'Callaway Golf Europe', 'id': 230511...</td>\n",
       "    </tr>\n",
       "    <tr>\n",
       "      <th>1</th>\n",
       "      <td>None</td>\n",
       "      <td>Tue Dec 18 17:24:19 +0000 2018</td>\n",
       "      <td>Does anyone know of any high schools that have...</td>\n",
       "      <td>[{'indices': [80, 97], 'text': 'highschooldesi...</td>\n",
       "      <td>en</td>\n",
       "      <td>Jackie Bouck</td>\n",
       "      <td>JackieBouck</td>\n",
       "      <td>Does anyone know of any high schools that have...</td>\n",
       "      <td>Kitscoty, Alberta</td>\n",
       "      <td>[]</td>\n",
       "    </tr>\n",
       "    <tr>\n",
       "      <th>2</th>\n",
       "      <td>None</td>\n",
       "      <td>Tue Dec 18 17:24:30 +0000 2018</td>\n",
       "      <td>@miss9afi That's blasphemy law you can say  it...</td>\n",
       "      <td>[]</td>\n",
       "      <td>en</td>\n",
       "      <td>Faiz Ali Qureshi 🇨🇦</td>\n",
       "      <td>FKamranAB</td>\n",
       "      <td>@miss9afi That's blasphemy law you can say  it...</td>\n",
       "      <td>Alberta, Canada</td>\n",
       "      <td>[{'name': 'Ensaf haidar ⚜️🍁', 'id': 309187913,...</td>\n",
       "    </tr>\n",
       "  </tbody>\n",
       "</table>\n",
       "</div>"
      ],
      "text/plain": [
       "  coordinates                      created_at  \\\n",
       "0        None  Tue Dec 18 17:23:54 +0000 2018   \n",
       "1        None  Tue Dec 18 17:24:19 +0000 2018   \n",
       "2        None  Tue Dec 18 17:24:30 +0000 2018   \n",
       "\n",
       "                                      extended_tweet  \\\n",
       "0  @CallawayGolfEU The crows nest hands down! #xm...   \n",
       "1  Does anyone know of any high schools that have...   \n",
       "2  @miss9afi That's blasphemy law you can say  it...   \n",
       "\n",
       "                                            hashtags lang  \\\n",
       "0  [{'indices': [43, 48], 'text': 'xmas'}, {'indi...   en   \n",
       "1  [{'indices': [80, 97], 'text': 'highschooldesi...   en   \n",
       "2                                                 []   en   \n",
       "\n",
       "                  name  screen_name  \\\n",
       "0          jeff ullock   JeffUllock   \n",
       "1         Jackie Bouck  JackieBouck   \n",
       "2  Faiz Ali Qureshi 🇨🇦    FKamranAB   \n",
       "\n",
       "                                                text      user_location  \\\n",
       "0  @CallawayGolfEU The crows nest hands down! #xm...               None   \n",
       "1  Does anyone know of any high schools that have...  Kitscoty, Alberta   \n",
       "2  @miss9afi That's blasphemy law you can say  it...    Alberta, Canada   \n",
       "\n",
       "                                       user_mentions  \n",
       "0  [{'name': 'Callaway Golf Europe', 'id': 230511...  \n",
       "1                                                 []  \n",
       "2  [{'name': 'Ensaf haidar ⚜️🍁', 'id': 309187913,...  "
      ]
     },
     "execution_count": 2,
     "metadata": {},
     "output_type": "execute_result"
    }
   ],
   "source": [
    "file_name=\"alberta_tweets.txt\"\n",
    "tweets = []\n",
    "with open(file_name, 'r') as f:\n",
    "    for lines in f.readlines():\n",
    "        tweets.append(ast.literal_eval(lines))\n",
    "frame  = pd.DataFrame(tweets)\n",
    "frame.head(3) # head is a convenient way for showing the first few rows of a dataframe"
   ]
  },
  {
   "cell_type": "markdown",
   "metadata": {},
   "source": [
    "#### Understanding the raw data\n",
    "\n",
    "Let's take a look at some basic features of the raw data. For example, it's always a good idea to look at the columnns and the size of the data in question. "
   ]
  },
  {
   "cell_type": "code",
   "execution_count": 3,
   "metadata": {
    "scrolled": false
   },
   "outputs": [
    {
     "data": {
      "text/plain": [
       "Index(['coordinates', 'created_at', 'extended_tweet', 'hashtags', 'lang',\n",
       "       'name', 'screen_name', 'text', 'user_location', 'user_mentions'],\n",
       "      dtype='object')"
      ]
     },
     "execution_count": 3,
     "metadata": {},
     "output_type": "execute_result"
    }
   ],
   "source": [
    "frame.columns"
   ]
  },
  {
   "cell_type": "code",
   "execution_count": 4,
   "metadata": {},
   "outputs": [
    {
     "data": {
      "text/plain": [
       "(32598, 10)"
      ]
     },
     "execution_count": 4,
     "metadata": {},
     "output_type": "execute_result"
    }
   ],
   "source": [
    "frame.shape"
   ]
  },
  {
   "cell_type": "markdown",
   "metadata": {},
   "source": [
    "Taking a more complete look at the data, here the size of the DataFrame are printed, along with the: \n",
    "* column name\n",
    "* column type\n",
    "* sample value in the column"
   ]
  },
  {
   "cell_type": "code",
   "execution_count": 5,
   "metadata": {},
   "outputs": [
    {
     "name": "stdout",
     "output_type": "stream",
     "text": [
      "Number of rows/columns: (32598, 10) \n",
      "\n",
      "Column name: coordinates \n",
      "Column type: <class 'NoneType'> \n",
      "Column data(example): None \n",
      "\n",
      "\n",
      "Column name: created_at \n",
      "Column type: <class 'str'> \n",
      "Column data(example): Tue Dec 18 17:24:30 +0000 2018 \n",
      "\n",
      "\n",
      "Column name: extended_tweet \n",
      "Column type: <class 'str'> \n",
      "Column data(example): @miss9afi That's blasphemy law you can say  it's like holocaust law in some west countries to avoid disrespect of Holy prophets,\n",
      "Asia bibi is free now,\n",
      "As far zakat concerned if someone doesn't want deductions of zakat they are allowed not to get deducted \n",
      "No sharia law implemented there \n",
      "\n",
      "\n",
      "Column name: hashtags \n",
      "Column type: <class 'list'> \n",
      "Column data(example): [] \n",
      "\n",
      "\n",
      "Column name: lang \n",
      "Column type: <class 'str'> \n",
      "Column data(example): en \n",
      "\n",
      "\n",
      "Column name: name \n",
      "Column type: <class 'str'> \n",
      "Column data(example): Faiz Ali Qureshi 🇨🇦 \n",
      "\n",
      "\n",
      "Column name: screen_name \n",
      "Column type: <class 'str'> \n",
      "Column data(example): FKamranAB \n",
      "\n",
      "\n",
      "Column name: text \n",
      "Column type: <class 'str'> \n",
      "Column data(example): @miss9afi That's blasphemy law you can say  it's like holocaust law in some west countries to avoid disrespect of H… https://t.co/HFJFtIGl9z \n",
      "\n",
      "\n",
      "Column name: user_location \n",
      "Column type: <class 'str'> \n",
      "Column data(example): Alberta, Canada \n",
      "\n",
      "\n",
      "Column name: user_mentions \n",
      "Column type: <class 'list'> \n",
      "Column data(example): [] \n",
      "\n",
      "\n"
     ]
    }
   ],
   "source": [
    "print(\"Number of rows/columns:\",frame.shape, \"\\n\")\n",
    "for column in frame.columns:\n",
    "    if column==\"user_mentions\":\n",
    "        rownum=1\n",
    "    else :\n",
    "        rownum=2\n",
    "    print(\"Column name: {colname} \\nColumn type: {coltype} \\nColumn data(example): {coldata} \\n\\n\"\n",
    "          .format(colname=column, coltype=type(frame[column].iloc[rownum]),coldata=frame[column].iloc[rownum]))"
   ]
  },
  {
   "cell_type": "markdown",
   "metadata": {},
   "source": [
    "There are several interesting features there, such as latitude and longitude of the tweets (`coordinates` column), and most of the columns make sense and are pretty intuitive. Two columns that are a bit confusing are `text` and `extended_tweet` as it looks like they may contain the same content. We should figure out if they are actually different. "
   ]
  },
  {
   "cell_type": "markdown",
   "metadata": {},
   "source": [
    "### Indexing in DataFrames\n",
    "\n",
    "DataFrames are convenient for working with data and are popular both in Python and R. There are a few different ways for accessing data inside a DataFrame. We'll cover a couple of aspects here, but you may also want to read more in the  pandas documentation or cheat sheet such as the one handed out [here](https://www.dataquest.io/blog/large_files/pandas-cheat-sheet.pdf). "
   ]
  },
  {
   "cell_type": "code",
   "execution_count": 6,
   "metadata": {},
   "outputs": [
    {
     "data": {
      "text/html": [
       "<div>\n",
       "<style scoped>\n",
       "    .dataframe tbody tr th:only-of-type {\n",
       "        vertical-align: middle;\n",
       "    }\n",
       "\n",
       "    .dataframe tbody tr th {\n",
       "        vertical-align: top;\n",
       "    }\n",
       "\n",
       "    .dataframe thead th {\n",
       "        text-align: right;\n",
       "    }\n",
       "</style>\n",
       "<table border=\"1\" class=\"dataframe\">\n",
       "  <thead>\n",
       "    <tr style=\"text-align: right;\">\n",
       "      <th></th>\n",
       "      <th>text</th>\n",
       "    </tr>\n",
       "  </thead>\n",
       "  <tbody>\n",
       "    <tr>\n",
       "      <th>0</th>\n",
       "      <td>@CallawayGolfEU The crows nest hands down! #xmas #nicelist</td>\n",
       "    </tr>\n",
       "    <tr>\n",
       "      <th>1</th>\n",
       "      <td>Does anyone know of any high schools that have pods for Grade 10, 11, and/or 12?#highschooldesign</td>\n",
       "    </tr>\n",
       "    <tr>\n",
       "      <th>2</th>\n",
       "      <td>@miss9afi That's blasphemy law you can say  it's like holocaust law in some west countries to avoid disrespect of H… https://t.co/HFJFtIGl9z</td>\n",
       "    </tr>\n",
       "    <tr>\n",
       "      <th>3</th>\n",
       "      <td>Albertans voted for @ABLiberal in 1993-2012 they were official opposition. Nearly 40% of votes went to Alberta Libe… https://t.co/suSTHy301I</td>\n",
       "    </tr>\n",
       "    <tr>\n",
       "      <th>4</th>\n",
       "      <td>Dear god you people are dumb! Their members are already elected, they don’t need to run nominations! I can’t believ… https://t.co/s0VEkeiPEZ</td>\n",
       "    </tr>\n",
       "    <tr>\n",
       "      <th>...</th>\n",
       "      <td>...</td>\n",
       "    </tr>\n",
       "    <tr>\n",
       "      <th>32593</th>\n",
       "      <td>Almost done a page before work Dx #DaemonsVenatus #4UComics https://t.co/vIwCLQAB03</td>\n",
       "    </tr>\n",
       "    <tr>\n",
       "      <th>32594</th>\n",
       "      <td>What a complete disgrace. What a complete waste of tax payers dollars.</td>\n",
       "    </tr>\n",
       "    <tr>\n",
       "      <th>32595</th>\n",
       "      <td>Thinking about going to Otafest this year......</td>\n",
       "    </tr>\n",
       "    <tr>\n",
       "      <th>32596</th>\n",
       "      <td>FUCK NO</td>\n",
       "    </tr>\n",
       "    <tr>\n",
       "      <th>32597</th>\n",
       "      <td>@Rockchip77 @michaelaglasgo @albertaNDP Keep drinking the Used Car Party koolaid bud</td>\n",
       "    </tr>\n",
       "  </tbody>\n",
       "</table>\n",
       "<p>32598 rows × 1 columns</p>\n",
       "</div>"
      ],
      "text/plain": [
       "                                                                                                                                               text\n",
       "0      @CallawayGolfEU The crows nest hands down! #xmas #nicelist                                                                                  \n",
       "1      Does anyone know of any high schools that have pods for Grade 10, 11, and/or 12?#highschooldesign                                           \n",
       "2      @miss9afi That's blasphemy law you can say  it's like holocaust law in some west countries to avoid disrespect of H… https://t.co/HFJFtIGl9z\n",
       "3      Albertans voted for @ABLiberal in 1993-2012 they were official opposition. Nearly 40% of votes went to Alberta Libe… https://t.co/suSTHy301I\n",
       "4      Dear god you people are dumb! Their members are already elected, they don’t need to run nominations! I can’t believ… https://t.co/s0VEkeiPEZ\n",
       "...                                                                                                                                             ...\n",
       "32593  Almost done a page before work Dx #DaemonsVenatus #4UComics https://t.co/vIwCLQAB03                                                         \n",
       "32594  What a complete disgrace. What a complete waste of tax payers dollars.                                                                      \n",
       "32595  Thinking about going to Otafest this year......                                                                                             \n",
       "32596  FUCK NO                                                                                                                                     \n",
       "32597  @Rockchip77 @michaelaglasgo @albertaNDP Keep drinking the Used Car Party koolaid bud                                                        \n",
       "\n",
       "[32598 rows x 1 columns]"
      ]
     },
     "execution_count": 6,
     "metadata": {},
     "output_type": "execute_result"
    }
   ],
   "source": [
    "pd.set_option('display.max_row', 10) #Ensure only 10 rows are displayed to save space\n",
    "pd.set_option('display.max_colwidth', -1) #Ensure output is not truncated by width\n",
    "\n",
    "#Selecting a column\n",
    "frame[[\"text\"]] #Using two brackets displays the column as a dataframe"
   ]
  },
  {
   "cell_type": "code",
   "execution_count": 7,
   "metadata": {},
   "outputs": [
    {
     "data": {
      "text/html": [
       "<div>\n",
       "<style scoped>\n",
       "    .dataframe tbody tr th:only-of-type {\n",
       "        vertical-align: middle;\n",
       "    }\n",
       "\n",
       "    .dataframe tbody tr th {\n",
       "        vertical-align: top;\n",
       "    }\n",
       "\n",
       "    .dataframe thead th {\n",
       "        text-align: right;\n",
       "    }\n",
       "</style>\n",
       "<table border=\"1\" class=\"dataframe\">\n",
       "  <thead>\n",
       "    <tr style=\"text-align: right;\">\n",
       "      <th></th>\n",
       "      <th>text</th>\n",
       "      <th>extended_tweet</th>\n",
       "    </tr>\n",
       "  </thead>\n",
       "  <tbody>\n",
       "    <tr>\n",
       "      <th>0</th>\n",
       "      <td>@CallawayGolfEU The crows nest hands down! #xmas #nicelist</td>\n",
       "      <td>@CallawayGolfEU The crows nest hands down! #xmas #nicelist</td>\n",
       "    </tr>\n",
       "    <tr>\n",
       "      <th>1</th>\n",
       "      <td>Does anyone know of any high schools that have pods for Grade 10, 11, and/or 12?#highschooldesign</td>\n",
       "      <td>Does anyone know of any high schools that have pods for Grade 10, 11, and/or 12?#highschooldesign</td>\n",
       "    </tr>\n",
       "    <tr>\n",
       "      <th>2</th>\n",
       "      <td>@miss9afi That's blasphemy law you can say  it's like holocaust law in some west countries to avoid disrespect of H… https://t.co/HFJFtIGl9z</td>\n",
       "      <td>@miss9afi That's blasphemy law you can say  it's like holocaust law in some west countries to avoid disrespect of Holy prophets,\\nAsia bibi is free now,\\nAs far zakat concerned if someone doesn't want deductions of zakat they are allowed not to get deducted \\nNo sharia law implemented there</td>\n",
       "    </tr>\n",
       "    <tr>\n",
       "      <th>3</th>\n",
       "      <td>Albertans voted for @ABLiberal in 1993-2012 they were official opposition. Nearly 40% of votes went to Alberta Libe… https://t.co/suSTHy301I</td>\n",
       "      <td>Albertans voted for @ABLiberal in 1993-2012 they were official opposition. Nearly 40% of votes went to Alberta Liberals in 1993, that was 32 seats. Ralph Klein got a scare. 2019 election shouldn’t be about UCP or NDP @Dave_Khan @alekssamardzija</td>\n",
       "    </tr>\n",
       "    <tr>\n",
       "      <th>4</th>\n",
       "      <td>Dear god you people are dumb! Their members are already elected, they don’t need to run nominations! I can’t believ… https://t.co/s0VEkeiPEZ</td>\n",
       "      <td>Dear god you people are dumb! Their members are already elected, they don’t need to run nominations! I can’t believe I am having to explain this to a political party and yet here we are.</td>\n",
       "    </tr>\n",
       "    <tr>\n",
       "      <th>...</th>\n",
       "      <td>...</td>\n",
       "      <td>...</td>\n",
       "    </tr>\n",
       "    <tr>\n",
       "      <th>32593</th>\n",
       "      <td>Almost done a page before work Dx #DaemonsVenatus #4UComics https://t.co/vIwCLQAB03</td>\n",
       "      <td>Almost done a page before work Dx #DaemonsVenatus #4UComics https://t.co/vIwCLQAB03</td>\n",
       "    </tr>\n",
       "    <tr>\n",
       "      <th>32594</th>\n",
       "      <td>What a complete disgrace. What a complete waste of tax payers dollars.</td>\n",
       "      <td>What a complete disgrace. What a complete waste of tax payers dollars.</td>\n",
       "    </tr>\n",
       "    <tr>\n",
       "      <th>32595</th>\n",
       "      <td>Thinking about going to Otafest this year......</td>\n",
       "      <td>Thinking about going to Otafest this year......</td>\n",
       "    </tr>\n",
       "    <tr>\n",
       "      <th>32596</th>\n",
       "      <td>FUCK NO</td>\n",
       "      <td>FUCK NO</td>\n",
       "    </tr>\n",
       "    <tr>\n",
       "      <th>32597</th>\n",
       "      <td>@Rockchip77 @michaelaglasgo @albertaNDP Keep drinking the Used Car Party koolaid bud</td>\n",
       "      <td>@Rockchip77 @michaelaglasgo @albertaNDP Keep drinking the Used Car Party koolaid bud</td>\n",
       "    </tr>\n",
       "  </tbody>\n",
       "</table>\n",
       "<p>32598 rows × 2 columns</p>\n",
       "</div>"
      ],
      "text/plain": [
       "                                                                                                                                               text  \\\n",
       "0      @CallawayGolfEU The crows nest hands down! #xmas #nicelist                                                                                     \n",
       "1      Does anyone know of any high schools that have pods for Grade 10, 11, and/or 12?#highschooldesign                                              \n",
       "2      @miss9afi That's blasphemy law you can say  it's like holocaust law in some west countries to avoid disrespect of H… https://t.co/HFJFtIGl9z   \n",
       "3      Albertans voted for @ABLiberal in 1993-2012 they were official opposition. Nearly 40% of votes went to Alberta Libe… https://t.co/suSTHy301I   \n",
       "4      Dear god you people are dumb! Their members are already elected, they don’t need to run nominations! I can’t believ… https://t.co/s0VEkeiPEZ   \n",
       "...                                                                                                                                             ...   \n",
       "32593  Almost done a page before work Dx #DaemonsVenatus #4UComics https://t.co/vIwCLQAB03                                                            \n",
       "32594  What a complete disgrace. What a complete waste of tax payers dollars.                                                                         \n",
       "32595  Thinking about going to Otafest this year......                                                                                                \n",
       "32596  FUCK NO                                                                                                                                        \n",
       "32597  @Rockchip77 @michaelaglasgo @albertaNDP Keep drinking the Used Car Party koolaid bud                                                           \n",
       "\n",
       "                                                                                                                                                                                                                                                                                            extended_tweet  \n",
       "0      @CallawayGolfEU The crows nest hands down! #xmas #nicelist                                                                                                                                                                                                                                           \n",
       "1      Does anyone know of any high schools that have pods for Grade 10, 11, and/or 12?#highschooldesign                                                                                                                                                                                                    \n",
       "2      @miss9afi That's blasphemy law you can say  it's like holocaust law in some west countries to avoid disrespect of Holy prophets,\\nAsia bibi is free now,\\nAs far zakat concerned if someone doesn't want deductions of zakat they are allowed not to get deducted \\nNo sharia law implemented there  \n",
       "3      Albertans voted for @ABLiberal in 1993-2012 they were official opposition. Nearly 40% of votes went to Alberta Liberals in 1993, that was 32 seats. Ralph Klein got a scare. 2019 election shouldn’t be about UCP or NDP @Dave_Khan @alekssamardzija                                                 \n",
       "4      Dear god you people are dumb! Their members are already elected, they don’t need to run nominations! I can’t believe I am having to explain this to a political party and yet here we are.                                                                                                           \n",
       "...                                                                                                                                                                                           ...                                                                                                           \n",
       "32593  Almost done a page before work Dx #DaemonsVenatus #4UComics https://t.co/vIwCLQAB03                                                                                                                                                                                                                  \n",
       "32594  What a complete disgrace. What a complete waste of tax payers dollars.                                                                                                                                                                                                                               \n",
       "32595  Thinking about going to Otafest this year......                                                                                                                                                                                                                                                      \n",
       "32596  FUCK NO                                                                                                                                                                                                                                                                                              \n",
       "32597  @Rockchip77 @michaelaglasgo @albertaNDP Keep drinking the Used Car Party koolaid bud                                                                                                                                                                                                                 \n",
       "\n",
       "[32598 rows x 2 columns]"
      ]
     },
     "execution_count": 7,
     "metadata": {},
     "output_type": "execute_result"
    }
   ],
   "source": [
    "#Selecting two columns \n",
    "frame[[\"text\", \"extended_tweet\"]]"
   ]
  },
  {
   "cell_type": "code",
   "execution_count": 8,
   "metadata": {},
   "outputs": [
    {
     "data": {
      "text/html": [
       "<div>\n",
       "<style scoped>\n",
       "    .dataframe tbody tr th:only-of-type {\n",
       "        vertical-align: middle;\n",
       "    }\n",
       "\n",
       "    .dataframe tbody tr th {\n",
       "        vertical-align: top;\n",
       "    }\n",
       "\n",
       "    .dataframe thead th {\n",
       "        text-align: right;\n",
       "    }\n",
       "</style>\n",
       "<table border=\"1\" class=\"dataframe\">\n",
       "  <thead>\n",
       "    <tr style=\"text-align: right;\">\n",
       "      <th></th>\n",
       "      <th>text</th>\n",
       "      <th>extended_tweet</th>\n",
       "    </tr>\n",
       "  </thead>\n",
       "  <tbody>\n",
       "    <tr>\n",
       "      <th>2</th>\n",
       "      <td>@miss9afi That's blasphemy law you can say  it's like holocaust law in some west countries to avoid disrespect of H… https://t.co/HFJFtIGl9z</td>\n",
       "      <td>@miss9afi That's blasphemy law you can say  it's like holocaust law in some west countries to avoid disrespect of Holy prophets,\\nAsia bibi is free now,\\nAs far zakat concerned if someone doesn't want deductions of zakat they are allowed not to get deducted \\nNo sharia law implemented there</td>\n",
       "    </tr>\n",
       "    <tr>\n",
       "      <th>5</th>\n",
       "      <td>@ColemanDeverne Do your thing, but be prepared for the consequences. ;)</td>\n",
       "      <td>@ColemanDeverne Do your thing, but be prepared for the consequences. ;)</td>\n",
       "    </tr>\n",
       "  </tbody>\n",
       "</table>\n",
       "</div>"
      ],
      "text/plain": [
       "                                                                                                                                           text  \\\n",
       "2  @miss9afi That's blasphemy law you can say  it's like holocaust law in some west countries to avoid disrespect of H… https://t.co/HFJFtIGl9z   \n",
       "5  @ColemanDeverne Do your thing, but be prepared for the consequences. ;)                                                                        \n",
       "\n",
       "                                                                                                                                                                                                                                                                                        extended_tweet  \n",
       "2  @miss9afi That's blasphemy law you can say  it's like holocaust law in some west countries to avoid disrespect of Holy prophets,\\nAsia bibi is free now,\\nAs far zakat concerned if someone doesn't want deductions of zakat they are allowed not to get deducted \\nNo sharia law implemented there  \n",
       "5  @ColemanDeverne Do your thing, but be prepared for the consequences. ;)                                                                                                                                                                                                                              "
      ]
     },
     "metadata": {},
     "output_type": "display_data"
    },
    {
     "data": {
      "text/html": [
       "<div>\n",
       "<style scoped>\n",
       "    .dataframe tbody tr th:only-of-type {\n",
       "        vertical-align: middle;\n",
       "    }\n",
       "\n",
       "    .dataframe tbody tr th {\n",
       "        vertical-align: top;\n",
       "    }\n",
       "\n",
       "    .dataframe thead th {\n",
       "        text-align: right;\n",
       "    }\n",
       "</style>\n",
       "<table border=\"1\" class=\"dataframe\">\n",
       "  <thead>\n",
       "    <tr style=\"text-align: right;\">\n",
       "      <th></th>\n",
       "      <th>text</th>\n",
       "      <th>extended_tweet</th>\n",
       "    </tr>\n",
       "  </thead>\n",
       "  <tbody>\n",
       "    <tr>\n",
       "      <th>2</th>\n",
       "      <td>@miss9afi That's blasphemy law you can say  it's like holocaust law in some west countries to avoid disrespect of H… https://t.co/HFJFtIGl9z</td>\n",
       "      <td>@miss9afi That's blasphemy law you can say  it's like holocaust law in some west countries to avoid disrespect of Holy prophets,\\nAsia bibi is free now,\\nAs far zakat concerned if someone doesn't want deductions of zakat they are allowed not to get deducted \\nNo sharia law implemented there</td>\n",
       "    </tr>\n",
       "    <tr>\n",
       "      <th>3</th>\n",
       "      <td>Albertans voted for @ABLiberal in 1993-2012 they were official opposition. Nearly 40% of votes went to Alberta Libe… https://t.co/suSTHy301I</td>\n",
       "      <td>Albertans voted for @ABLiberal in 1993-2012 they were official opposition. Nearly 40% of votes went to Alberta Liberals in 1993, that was 32 seats. Ralph Klein got a scare. 2019 election shouldn’t be about UCP or NDP @Dave_Khan @alekssamardzija</td>\n",
       "    </tr>\n",
       "    <tr>\n",
       "      <th>4</th>\n",
       "      <td>Dear god you people are dumb! Their members are already elected, they don’t need to run nominations! I can’t believ… https://t.co/s0VEkeiPEZ</td>\n",
       "      <td>Dear god you people are dumb! Their members are already elected, they don’t need to run nominations! I can’t believe I am having to explain this to a political party and yet here we are.</td>\n",
       "    </tr>\n",
       "  </tbody>\n",
       "</table>\n",
       "</div>"
      ],
      "text/plain": [
       "                                                                                                                                           text  \\\n",
       "2  @miss9afi That's blasphemy law you can say  it's like holocaust law in some west countries to avoid disrespect of H… https://t.co/HFJFtIGl9z   \n",
       "3  Albertans voted for @ABLiberal in 1993-2012 they were official opposition. Nearly 40% of votes went to Alberta Libe… https://t.co/suSTHy301I   \n",
       "4  Dear god you people are dumb! Their members are already elected, they don’t need to run nominations! I can’t believ… https://t.co/s0VEkeiPEZ   \n",
       "\n",
       "                                                                                                                                                                                                                                                                                        extended_tweet  \n",
       "2  @miss9afi That's blasphemy law you can say  it's like holocaust law in some west countries to avoid disrespect of Holy prophets,\\nAsia bibi is free now,\\nAs far zakat concerned if someone doesn't want deductions of zakat they are allowed not to get deducted \\nNo sharia law implemented there  \n",
       "3  Albertans voted for @ABLiberal in 1993-2012 they were official opposition. Nearly 40% of votes went to Alberta Liberals in 1993, that was 32 seats. Ralph Klein got a scare. 2019 election shouldn’t be about UCP or NDP @Dave_Khan @alekssamardzija                                                 \n",
       "4  Dear god you people are dumb! Their members are already elected, they don’t need to run nominations! I can’t believe I am having to explain this to a political party and yet here we are.                                                                                                           "
      ]
     },
     "metadata": {},
     "output_type": "display_data"
    }
   ],
   "source": [
    "#Selecting row subsets\n",
    "selecttwo = frame[[\"text\", \"extended_tweet\"]].iloc[[2,5]] #iloc allows for selection by integers\n",
    "selectrange = frame[[\"text\", \"extended_tweet\"]].iloc[2:5]\n",
    "\n",
    "display(selecttwo)\n",
    "display(selectrange)"
   ]
  },
  {
   "cell_type": "code",
   "execution_count": 9,
   "metadata": {},
   "outputs": [
    {
     "data": {
      "text/plain": [
       "coordinates       None                                                                                                                                                                                                                                                \n",
       "created_at        Tue Dec 18 17:24:44 +0000 2018                                                                                                                                                                                                                      \n",
       "extended_tweet    Albertans voted for @ABLiberal in 1993-2012 they were official opposition. Nearly 40% of votes went to Alberta Liberals in 1993, that was 32 seats. Ralph Klein got a scare. 2019 election shouldn’t be about UCP or NDP @Dave_Khan @alekssamardzija\n",
       "hashtags          []                                                                                                                                                                                                                                                  \n",
       "lang              en                                                                                                                                                                                                                                                  \n",
       "name              Irwin Singh Brar                                                                                                                                                                                                                                    \n",
       "screen_name       roti888                                                                                                                                                                                                                                             \n",
       "text              Albertans voted for @ABLiberal in 1993-2012 they were official opposition. Nearly 40% of votes went to Alberta Libe… https://t.co/suSTHy301I                                                                                                        \n",
       "user_location     Calgary, Alberta                                                                                                                                                                                                                                    \n",
       "user_mentions     [{'name': 'Alberta Liberals', 'id': 259078949, 'screen_name': 'ABLiberal', 'id_str': '259078949', 'indices': [20, 30]}]                                                                                                                             \n",
       "Name: 3, dtype: object"
      ]
     },
     "execution_count": 9,
     "metadata": {},
     "output_type": "execute_result"
    }
   ],
   "source": [
    "#Select a certain row, all columns\n",
    "frame.iloc[3,:]"
   ]
  },
  {
   "cell_type": "markdown",
   "metadata": {},
   "source": [
    "#### Exercise: Use another method for displaying the same data as above (i.e. all columns of row 3) \n",
    "\n",
    "The answer should look as above or capture the same data"
   ]
  },
  {
   "cell_type": "code",
   "execution_count": 10,
   "metadata": {},
   "outputs": [],
   "source": [
    "###### Enter your code below\n",
    "\n"
   ]
  },
  {
   "cell_type": "markdown",
   "metadata": {},
   "source": [
    "#### Investigating `text` and `extended_tweet` graphically\n",
    "\n",
    "Another way to investigate the difference between `text` and `extended_tweet` is to plot the length distribution for both columns. To do this, we use the [matplotlib library](https://matplotlib.org/) (another very common library used in data science). "
   ]
  },
  {
   "cell_type": "code",
   "execution_count": 11,
   "metadata": {},
   "outputs": [
    {
     "data": {
      "text/plain": [
       "Text(0.5,0,'Tweet length')"
      ]
     },
     "execution_count": 11,
     "metadata": {},
     "output_type": "execute_result"
    },
    {
     "data": {
      "image/png": "[encoded data removed]",
      "text/plain": [
       "<Figure size 432x288 with 2 Axes>"
      ]
     },
     "metadata": {
      "needs_background": "light"
     },
     "output_type": "display_data"
    }
   ],
   "source": [
    "#Set up a plot with subplots (rows, columns, active plot)\n",
    "plt.subplot(1, 2, 1) \n",
    "#Create a histogram, which counts the number of tweets of each length\n",
    "plt.hist(frame[\"text\"].apply(len).values, color = 'green' ,edgecolor = 'black')\n",
    "#Label the plot\n",
    "plt.title('text')\n",
    "plt.xlabel('Tweet length')\n",
    "plt.ylabel('Number of tweets')\n",
    "\n",
    "# Do the same thing for the second subplot\n",
    "plt.subplot(1, 2, 2)\n",
    "plt.hist(frame[\"extended_tweet\"].apply(len).values, color = 'blue', edgecolor = 'black')\n",
    "plt.title('extended_tweet')\n",
    "plt.xlabel('Tweet length')"
   ]
  },
  {
   "cell_type": "markdown",
   "metadata": {},
   "source": [
    "Looks like `extended_tweet` has much longer tweets, up to 800 characters in length, whereas there are no tweets longer than 150 characters in `text`. \n",
    "\n",
    "What does the longest tweet look like? To do this, we can easily pull the longest tweet from the DataFrame. \n"
   ]
  },
  {
   "cell_type": "code",
   "execution_count": 12,
   "metadata": {},
   "outputs": [
    {
     "name": "stdout",
     "output_type": "stream",
     "text": [
      "Maximum length for extended_tweet column:  960 \n",
      "\n",
      "This is the index of the longest tweet:\n",
      "[7637] \n",
      "\n"
     ]
    }
   ],
   "source": [
    "print(\"Maximum length for extended_tweet column: \",max(frame[\"extended_tweet\"].apply(len)), \"\\n\")\n",
    "\n",
    "print(\"This is the index of the longest tweet:\")\n",
    "print([frame[\"extended_tweet\"].apply(len).idxmax(axis=1)], \"\\n\")"
   ]
  },
  {
   "cell_type": "markdown",
   "metadata": {},
   "source": [
    "#### Exercise: Using the index you determined above, add your code to display what the longest tweet looks like in the `text` and `extended_tweet` columns in the cell below."
   ]
  },
  {
   "cell_type": "code",
   "execution_count": 13,
   "metadata": {},
   "outputs": [
    {
     "name": "stdout",
     "output_type": "stream",
     "text": [
      "Tweet as seen in the **extended_text** column:\n",
      "\n",
      "Want to really 'sleigh-it' this Christmas? Then consider donating to some of the awesome local charities we've been lucky enough to partner with. @pacificwild @YYCsexualhealth @AARCS_Canada @CalgaryFoodBank @CalgaryReads #yyc #yvr https://t.co/c0UQ3HcUv2\n",
      "Tweet as seen in the **text** column:\n",
      "\n",
      "Want to really 'sleigh-it' this Christmas? Then consider donating to some of the awesome local charities we've been… https://t.co/6y2WvfUZlo\n"
     ]
    }
   ],
   "source": [
    "print(\"Tweet as seen in the **extended_text** column:\\n\")\n",
    "###### Enter your code in place of None below\n",
    "extended = frame[\"extended_tweet\"].iloc[3817]\n",
    "######\n",
    "\n",
    "print(extended)\n",
    "\n",
    "print(\"Tweet as seen in the **text** column:\\n\")\n",
    "###### Enter your code in place of None below\n",
    "text_tweet = frame[\"text\"].iloc[3817]\n",
    "######\n",
    "print(text_tweet)"
   ]
  },
  {
   "cell_type": "markdown",
   "metadata": {},
   "source": [
    "The answer should show that the `text` column is the truncated version of `extended_tweet` column."
   ]
  },
  {
   "cell_type": "markdown",
   "metadata": {},
   "source": [
    "#### So we have following list of columns:\n",
    " - **coordinates** - user coordinates, can be None or Python type Dict(needs to be split to two columns - longitude and latitude)\n",
    " - **created_at**  - creation date, Python type String (needs to be converted to type Date + timezone needs to be changed from UTC to MST)\n",
    " - **extended_tweet** - tweet text, Python type String\n",
    " - **hashtags** - hashtags, Python type List of Dicts(needs to be converted to String)\n",
    " - **lang** - language , Python type String\n",
    " - **name** - twitter account name, Python type String\n",
    " - **screen_name** - screen name, Python type String\n",
    " - **text** - truncated tweet text, Python type String\n",
    " - **user_location** - location, Python type String\n",
    " - **user_mentions** - user mentions, Python type List of Dicts(needs to be converted to String)"
   ]
  },
  {
   "cell_type": "markdown",
   "metadata": {},
   "source": [
    "## Step 2. (Re-) structuring  the data\n",
    "\n",
    "One aspect to always pay close attention to is the data type of each column. Overlooking data types and ending up with unexpected types often leads to issues further downstream in the analysis. Here we will go through and change some of the data types to make sure they are what we want them to be. \n",
    "\n",
    "As part of the process we will print the original data example and converted data example. To get specific row/column from pandas dataframe we will use following:\n",
    "> datafarme_name[\"column_name\"].iloc[row_number]\n",
    "\n",
    "#### Convert column `created_at`  from String to Date and change timezone from UTC to MST"
   ]
  },
  {
   "cell_type": "code",
   "execution_count": 14,
   "metadata": {},
   "outputs": [
    {
     "name": "stdout",
     "output_type": "stream",
     "text": [
      "Tue Dec 18 17:24:30 +0000 2018\n",
      "2018-12-18 10:24:30-07:00\n"
     ]
    }
   ],
   "source": [
    "print(frame[\"created_at\"].iloc[2]) ## Print the original data\n",
    "\n",
    "frame[\"created_at_date\"]= pd.to_datetime(frame[\"created_at\"]) ## convert to timestamp\n",
    "frame[\"created_at_date\"]=frame[\"created_at_date\"].dt.tz_localize('UTC').dt.tz_convert('MST') ## fix timezone\n",
    "\n",
    "print(frame[\"created_at_date\"].iloc[2]) ## Print the transformed data"
   ]
  },
  {
   "cell_type": "markdown",
   "metadata": {},
   "source": [
    "#### Convert column `coordinates` from dictionary to two columns `latitude` and `longitude`"
   ]
  },
  {
   "cell_type": "code",
   "execution_count": 15,
   "metadata": {},
   "outputs": [
    {
     "name": "stdout",
     "output_type": "stream",
     "text": [
      "0    None\n",
      "1    None\n",
      "2    None\n",
      "3    None\n",
      "4    None\n",
      "Name: coordinates, dtype: object \n",
      "\n",
      "   longitude  latitude\n",
      "0 NaN        NaN      \n",
      "1 NaN        NaN      \n",
      "2 NaN        NaN      \n",
      "3 NaN        NaN      \n",
      "4 NaN        NaN      \n"
     ]
    }
   ],
   "source": [
    "print(frame[\"coordinates\"].head(), \"\\n\") ## Print the original data\n",
    "\n",
    "def convertCoordToList(v):  ## helper function\n",
    "    if v is None:\n",
    "        v=[]\n",
    "    else:\n",
    "        v= v['coordinates']\n",
    "    return v\n",
    "\n",
    "frame['coordinates_list']= frame['coordinates'].map(convertCoordToList) #Convert coordinates from Dict to List\n",
    "\n",
    "#Split coordinates_list column into two: latitude and longitude\n",
    "frame[['latitude','longitude']] = pd.DataFrame(frame['coordinates_list'].values.tolist())\n",
    "\n",
    "print(frame[['longitude','latitude']].head()) ## Print the transformed data"
   ]
  },
  {
   "cell_type": "markdown",
   "metadata": {},
   "source": [
    "#### Convert column `hashtags`  from dictionary to strings\n",
    "If there were no hashtags in a cell, we will fill that cell in our dataframe with a single space `' '`. "
   ]
  },
  {
   "cell_type": "code",
   "execution_count": 27,
   "metadata": {},
   "outputs": [
    {
     "name": "stdout",
     "output_type": "stream",
     "text": [
      "[{'indices': [80, 97], 'text': 'highschooldesign'}]\n",
      "\n",
      "  \n"
     ]
    }
   ],
   "source": [
    "print(frame[\"hashtags\"].iloc[1]) ## Print the original data\n",
    "\n",
    "def convertHashToString(v): ## helper function\n",
    "    if v == []:\n",
    "        v=' '\n",
    "    else:\n",
    "        v=' '.join([d['text'] for d in v])\n",
    "    return v\n",
    "\n",
    "frame['hashtags_string']= frame['hashtags'].map(convertHashToString) ## Do the conversion\n",
    "\n",
    "print(\"\\n\",frame[\"hashtags_string\"].iloc[2]) ## Print the transformed data"
   ]
  },
  {
   "cell_type": "markdown",
   "metadata": {},
   "source": [
    "#### Convert column `user_mentions` from dictionary to string\n",
    "\n",
    "We don't want the `user_mentions` column to be in a dictionary format as it is easier to work with as a string. Let's convert it.\n",
    "\n",
    "The following is a sample of what the data looks like and what data type it is."
   ]
  },
  {
   "cell_type": "code",
   "execution_count": 29,
   "metadata": {},
   "outputs": [
    {
     "name": "stdout",
     "output_type": "stream",
     "text": [
      "[{'name': 'Ensaf haidar ⚜️🍁', 'id': 309187913, 'screen_name': 'miss9afi', 'id_str': '309187913', 'indices': [0, 9]}]\n",
      "<class 'list'>\n"
     ]
    }
   ],
   "source": [
    "print(frame[\"user_mentions\"].iloc[2]) ## Print the original data + type\n",
    "print(type(frame[\"user_mentions\"].iloc[2]))"
   ]
  },
  {
   "cell_type": "markdown",
   "metadata": {},
   "source": [
    "**Exercise:** Using the `hashtags` conversion above as an example, complete the following cell in order to convert the `user_mentions` column to strings. "
   ]
  },
  {
   "cell_type": "code",
   "execution_count": 31,
   "metadata": {},
   "outputs": [],
   "source": [
    "def convertUserToString(v):\n",
    "    if v == []:\n",
    "        v=' '\n",
    "    else:\n",
    " \n",
    "        v=' '.join([d['screen_name'] for d in v])\n",
    "    return v\n",
    "\n",
    "frame['user_string']= frame['user_mentions'].map(convertUserToString) ## Do the conversion "
   ]
  },
  {
   "cell_type": "markdown",
   "metadata": {},
   "source": [
    "#### Check your answer\n",
    "Only screen_name's should be extracted from the distionary and data type should be str"
   ]
  },
  {
   "cell_type": "code",
   "execution_count": 34,
   "metadata": {},
   "outputs": [
    {
     "name": "stdout",
     "output_type": "stream",
     "text": [
      "miss9afi\n",
      "<class 'str'>\n"
     ]
    },
    {
     "data": {
      "text/plain": [
       "0        CallawayGolfEU                      \n",
       "1                                            \n",
       "2        miss9afi                            \n",
       "3        ABLiberal                           \n",
       "4                                            \n",
       "        ..                                   \n",
       "32593                                        \n",
       "32594                                        \n",
       "32595                                        \n",
       "32596                                        \n",
       "32597    Rockchip77 michaelaglasgo albertaNDP\n",
       "Name: user_string, Length: 32598, dtype: object"
      ]
     },
     "execution_count": 34,
     "metadata": {},
     "output_type": "execute_result"
    }
   ],
   "source": [
    "print(frame[\"user_string\"].iloc[2]) ## Print the transformed data + type\n",
    "print(type(frame[\"user_string\"].iloc[2]))\n"
   ]
  },
  {
   "cell_type": "markdown",
   "metadata": {},
   "source": [
    "## Step 3. Cleaning the data\n",
    "\n",
    "Some data cleanup was done in step 2. Let's take a closer look at the `extended_tweet` column, since we will use it in further during our data analysis. \n",
    "\n",
    "First, let's look at what some of the tweets look like. We'll set an output parameter and then access the first few tweets. "
   ]
  },
  {
   "cell_type": "code",
   "execution_count": 35,
   "metadata": {},
   "outputs": [
    {
     "data": {
      "text/plain": [
       "0                                                                                                                                                                                                                                             @CallawayGolfEU The crows nest hands down! #xmas #nicelist\n",
       "1                                                                                                                                                                                                      Does anyone know of any high schools that have pods for Grade 10, 11, and/or 12?#highschooldesign\n",
       "2    @miss9afi That's blasphemy law you can say  it's like holocaust law in some west countries to avoid disrespect of Holy prophets,\\nAsia bibi is free now,\\nAs far zakat concerned if someone doesn't want deductions of zakat they are allowed not to get deducted \\nNo sharia law implemented there\n",
       "3                                                   Albertans voted for @ABLiberal in 1993-2012 they were official opposition. Nearly 40% of votes went to Alberta Liberals in 1993, that was 32 seats. Ralph Klein got a scare. 2019 election shouldn’t be about UCP or NDP @Dave_Khan @alekssamardzija\n",
       "4                                                                                                             Dear god you people are dumb! Their members are already elected, they don’t need to run nominations! I can’t believe I am having to explain this to a political party and yet here we are.\n",
       "5                                                                                                                                                                                                                                @ColemanDeverne Do your thing, but be prepared for the consequences. ;)\n",
       "6                                                                                                                                                                                                                                          @VP @POTUS @DeptofDefense It just gets more stupid every day.\n",
       "7                                                                                                                                                                           @jkenney Once, just once, I'd like to hear you speak the truth, but noooooooooo..\\n #AbLeg #abpoli \\nhttps://t.co/C7pDtOEPI8\n",
       "8                                                                                                                                                                                                                                               @ModernConnie Right!!! Soo far from being ready #momlife\n",
       "9                                                                                                        @denisebatters Omg it's a Christmas card. Try to show some grace and class. If your vitriol exhausts me I can only imagine the toll is taking on you and yours. Spit up the poison and move on.\n",
       "Name: extended_tweet, dtype: object"
      ]
     },
     "execution_count": 35,
     "metadata": {},
     "output_type": "execute_result"
    }
   ],
   "source": [
    "pd.set_option('max_colwidth', 700) ## Setting col_widht wider - so we can see the entire tweet\n",
    "frame['extended_tweet'].head(10)"
   ]
  },
  {
   "cell_type": "markdown",
   "metadata": {},
   "source": [
    "####  Remove URLS \n",
    "There are lots of links in this column that might make our future data analysis messy and likely do not have any meaning. Let's remove them together with any links starting with www.  \n",
    "\n",
    "We will accomplish this using regular expressions (Note that **\\S+** means one or more non-whitespace character)"
   ]
  },
  {
   "cell_type": "code",
   "execution_count": 36,
   "metadata": {},
   "outputs": [],
   "source": [
    "frame['extended_tweet']=frame['extended_tweet'].str.replace('http\\S+|www.\\S+', '', case=False)"
   ]
  },
  {
   "cell_type": "markdown",
   "metadata": {},
   "source": [
    "#### Exercise: remove '\\n' (new line symbol) from 'extended_tweet' column\n",
    "\n",
    "Another item that might interfere with our analysis are new line characters. Let's remove these as well in the cell below. "
   ]
  },
  {
   "cell_type": "code",
   "execution_count": 38,
   "metadata": {},
   "outputs": [],
   "source": [
    "frame['extended_tweet']=frame['extended_tweet'].str.replace('\\n', ' ', case=False)"
   ]
  },
  {
   "cell_type": "markdown",
   "metadata": {},
   "source": [
    "#### Check your answer\n",
    "Print the first 10 tweets and see if \\n is removed"
   ]
  },
  {
   "cell_type": "code",
   "execution_count": 39,
   "metadata": {},
   "outputs": [
    {
     "data": {
      "text/plain": [
       "0                                                                                                                                                                                                                                          @CallawayGolfEU The crows nest hands down! #xmas #nicelist\n",
       "1                                                                                                                                                                                                   Does anyone know of any high schools that have pods for Grade 10, 11, and/or 12?#highschooldesign\n",
       "2    @miss9afi That's blasphemy law you can say  it's like holocaust law in some west countries to avoid disrespect of Holy prophets, Asia bibi is free now, As far zakat concerned if someone doesn't want deductions of zakat they are allowed not to get deducted  No sharia law implemented there\n",
       "3                                                Albertans voted for @ABLiberal in 1993-2012 they were official opposition. Nearly 40% of votes went to Alberta Liberals in 1993, that was 32 seats. Ralph Klein got a scare. 2019 election shouldn’t be about UCP or NDP @Dave_Khan @alekssamardzija\n",
       "4                                                                                                          Dear god you people are dumb! Their members are already elected, they don’t need to run nominations! I can’t believe I am having to explain this to a political party and yet here we are.\n",
       "5                                                                                                                                                                                                                             @ColemanDeverne Do your thing, but be prepared for the consequences. ;)\n",
       "6                                                                                                                                                                                                                                       @VP @POTUS @DeptofDefense It just gets more stupid every day.\n",
       "7                                                                                                                                                                                                 @jkenney Once, just once, I'd like to hear you speak the truth, but noooooooooo..  #AbLeg #abpoli  \n",
       "8                                                                                                                                                                                                                                            @ModernConnie Right!!! Soo far from being ready #momlife\n",
       "9                                                                                                     @denisebatters Omg it's a Christmas card. Try to show some grace and class. If your vitriol exhausts me I can only imagine the toll is taking on you and yours. Spit up the poison and move on.\n",
       "Name: extended_tweet, dtype: object"
      ]
     },
     "execution_count": 39,
     "metadata": {},
     "output_type": "execute_result"
    }
   ],
   "source": [
    "frame['extended_tweet'].head(10)"
   ]
  },
  {
   "cell_type": "markdown",
   "metadata": {},
   "source": [
    "#### Remove user mentions and hashtags from the 'extended_tweet' column and save it as 'extended_tweet_cleaned' column\n",
    "There are separate columns for user mentions and hashtags. We might need to analyse tweet text without any hashtags/user mentions. However, we might also want to do some analysis on the tweets including the mentions and hashtags. As such, tweets with these items removed will be stored in a separate column. "
   ]
  },
  {
   "cell_type": "code",
   "execution_count": 40,
   "metadata": {
    "scrolled": true
   },
   "outputs": [
    {
     "data": {
      "text/plain": [
       "0                                                                                                                                                                                                                                                              The crows nest hands down!    \n",
       "1                                                                                                                                                                                                           Does anyone know of any high schools that have pods for Grade 10, 11, and/or 12? \n",
       "2      That's blasphemy law you can say  it's like holocaust law in some west countries to avoid disrespect of Holy prophets, Asia bibi is free now, As far zakat concerned if someone doesn't want deductions of zakat they are allowed not to get deducted  No sharia law implemented there\n",
       "3                                                                         Albertans voted for   in 1993-2012 they were official opposition. Nearly 40% of votes went to Alberta Liberals in 1993, that was 32 seats. Ralph Klein got a scare. 2019 election shouldn’t be about UCP or NDP    \n",
       "4                                                                                                  Dear god you people are dumb! Their members are already elected, they don’t need to run nominations! I can’t believe I am having to explain this to a political party and yet here we are.\n",
       "Name: extended_tweet_cleaned, dtype: object"
      ]
     },
     "execution_count": 40,
     "metadata": {},
     "output_type": "execute_result"
    }
   ],
   "source": [
    "frame['extended_tweet_cleaned']=frame['extended_tweet'].str.replace('[@#]\\w+', ' ',case=False)\n",
    "frame['extended_tweet_cleaned'].head(5)"
   ]
  },
  {
   "cell_type": "markdown",
   "metadata": {},
   "source": [
    "We will keep emoji, punctuation,  numbers and special characters for now. They might be useful for the analysis. We can always do more cleaning in the later notebooks"
   ]
  },
  {
   "cell_type": "markdown",
   "metadata": {},
   "source": [
    "#### Let's take a look at the language column"
   ]
  },
  {
   "cell_type": "code",
   "execution_count": 41,
   "metadata": {},
   "outputs": [
    {
     "data": {
      "text/plain": [
       "array(['en'], dtype=object)"
      ]
     },
     "execution_count": 41,
     "metadata": {},
     "output_type": "execute_result"
    }
   ],
   "source": [
    "frame[\"lang\"].unique()"
   ]
  },
  {
   "cell_type": "markdown",
   "metadata": {},
   "source": [
    "Column lang has only one value en so it can be safely ignored\n",
    "\n"
   ]
  },
  {
   "cell_type": "markdown",
   "metadata": {},
   "source": [
    "## Step 6. Publishing - saving data for future work\n",
    "\n",
    "In order to work with this data further, let's save a new DataFrame. \n",
    "\n",
    "We'll simply select the desired columns from the working dataset into the output dataset and take a look at the output. Does the output match what we expected? How do the `extended_tweet` and `extended_tweet_clean` columns compare? \n",
    "\n",
    "Further below, we'll save the data to a csv file. "
   ]
  },
  {
   "cell_type": "code",
   "execution_count": 42,
   "metadata": {},
   "outputs": [
    {
     "data": {
      "text/html": [
       "<div>\n",
       "<style scoped>\n",
       "    .dataframe tbody tr th:only-of-type {\n",
       "        vertical-align: middle;\n",
       "    }\n",
       "\n",
       "    .dataframe tbody tr th {\n",
       "        vertical-align: top;\n",
       "    }\n",
       "\n",
       "    .dataframe thead th {\n",
       "        text-align: right;\n",
       "    }\n",
       "</style>\n",
       "<table border=\"1\" class=\"dataframe\">\n",
       "  <thead>\n",
       "    <tr style=\"text-align: right;\">\n",
       "      <th></th>\n",
       "      <th>created_at_date</th>\n",
       "      <th>hashtags_string</th>\n",
       "      <th>user_string</th>\n",
       "      <th>user_location</th>\n",
       "      <th>longitude</th>\n",
       "      <th>latitude</th>\n",
       "      <th>name</th>\n",
       "      <th>screen_name</th>\n",
       "      <th>extended_tweet</th>\n",
       "      <th>extended_tweet_cleaned</th>\n",
       "    </tr>\n",
       "  </thead>\n",
       "  <tbody>\n",
       "    <tr>\n",
       "      <th>0</th>\n",
       "      <td>2018-12-18 10:23:54-07:00</td>\n",
       "      <td>xmas nicelist</td>\n",
       "      <td>CallawayGolfEU</td>\n",
       "      <td>None</td>\n",
       "      <td>NaN</td>\n",
       "      <td>NaN</td>\n",
       "      <td>jeff ullock</td>\n",
       "      <td>JeffUllock</td>\n",
       "      <td>@CallawayGolfEU The crows nest hands down! #xmas #nicelist</td>\n",
       "      <td>The crows nest hands down!</td>\n",
       "    </tr>\n",
       "    <tr>\n",
       "      <th>1</th>\n",
       "      <td>2018-12-18 10:24:19-07:00</td>\n",
       "      <td>highschooldesign</td>\n",
       "      <td></td>\n",
       "      <td>Kitscoty, Alberta</td>\n",
       "      <td>NaN</td>\n",
       "      <td>NaN</td>\n",
       "      <td>Jackie Bouck</td>\n",
       "      <td>JackieBouck</td>\n",
       "      <td>Does anyone know of any high schools that have pods for Grade 10, 11, and/or 12?#highschooldesign</td>\n",
       "      <td>Does anyone know of any high schools that have pods for Grade 10, 11, and/or 12?</td>\n",
       "    </tr>\n",
       "    <tr>\n",
       "      <th>2</th>\n",
       "      <td>2018-12-18 10:24:30-07:00</td>\n",
       "      <td></td>\n",
       "      <td>miss9afi</td>\n",
       "      <td>Alberta, Canada</td>\n",
       "      <td>NaN</td>\n",
       "      <td>NaN</td>\n",
       "      <td>Faiz Ali Qureshi 🇨🇦</td>\n",
       "      <td>FKamranAB</td>\n",
       "      <td>@miss9afi That's blasphemy law you can say  it's like holocaust law in some west countries to avoid disrespect of Holy prophets, Asia bibi is free now, As far zakat concerned if someone doesn't want deductions of zakat they are allowed not to get deducted  No sharia law implemented there</td>\n",
       "      <td>That's blasphemy law you can say  it's like holocaust law in some west countries to avoid disrespect of Holy prophets, Asia bibi is free now, As far zakat concerned if someone doesn't want deductions of zakat they are allowed not to get deducted  No sharia law implemented there</td>\n",
       "    </tr>\n",
       "    <tr>\n",
       "      <th>3</th>\n",
       "      <td>2018-12-18 10:24:44-07:00</td>\n",
       "      <td></td>\n",
       "      <td>ABLiberal</td>\n",
       "      <td>Calgary, Alberta</td>\n",
       "      <td>NaN</td>\n",
       "      <td>NaN</td>\n",
       "      <td>Irwin Singh Brar</td>\n",
       "      <td>roti888</td>\n",
       "      <td>Albertans voted for @ABLiberal in 1993-2012 they were official opposition. Nearly 40% of votes went to Alberta Liberals in 1993, that was 32 seats. Ralph Klein got a scare. 2019 election shouldn’t be about UCP or NDP @Dave_Khan @alekssamardzija</td>\n",
       "      <td>Albertans voted for   in 1993-2012 they were official opposition. Nearly 40% of votes went to Alberta Liberals in 1993, that was 32 seats. Ralph Klein got a scare. 2019 election shouldn’t be about UCP or NDP</td>\n",
       "    </tr>\n",
       "    <tr>\n",
       "      <th>4</th>\n",
       "      <td>2018-12-18 10:24:48-07:00</td>\n",
       "      <td></td>\n",
       "      <td></td>\n",
       "      <td>Calgary, Alberta</td>\n",
       "      <td>NaN</td>\n",
       "      <td>NaN</td>\n",
       "      <td>Vince</td>\n",
       "      <td>VincentRule</td>\n",
       "      <td>Dear god you people are dumb! Their members are already elected, they don’t need to run nominations! I can’t believe I am having to explain this to a political party and yet here we are.</td>\n",
       "      <td>Dear god you people are dumb! Their members are already elected, they don’t need to run nominations! I can’t believe I am having to explain this to a political party and yet here we are.</td>\n",
       "    </tr>\n",
       "  </tbody>\n",
       "</table>\n",
       "</div>"
      ],
      "text/plain": [
       "            created_at_date   hashtags_string     user_string  \\\n",
       "0 2018-12-18 10:23:54-07:00     xmas nicelist  CallawayGolfEU   \n",
       "1 2018-12-18 10:24:19-07:00  highschooldesign                   \n",
       "2 2018-12-18 10:24:30-07:00                          miss9afi   \n",
       "3 2018-12-18 10:24:44-07:00                         ABLiberal   \n",
       "4 2018-12-18 10:24:48-07:00                                     \n",
       "\n",
       "       user_location  longitude  latitude                 name  screen_name  \\\n",
       "0               None        NaN       NaN          jeff ullock   JeffUllock   \n",
       "1  Kitscoty, Alberta        NaN       NaN         Jackie Bouck  JackieBouck   \n",
       "2    Alberta, Canada        NaN       NaN  Faiz Ali Qureshi 🇨🇦    FKamranAB   \n",
       "3   Calgary, Alberta        NaN       NaN     Irwin Singh Brar      roti888   \n",
       "4   Calgary, Alberta        NaN       NaN                Vince  VincentRule   \n",
       "\n",
       "                                                                                                                                                                                                                                                                                     extended_tweet  \\\n",
       "0                                                                                                                                                                                                                                        @CallawayGolfEU The crows nest hands down! #xmas #nicelist   \n",
       "1                                                                                                                                                                                                 Does anyone know of any high schools that have pods for Grade 10, 11, and/or 12?#highschooldesign   \n",
       "2  @miss9afi That's blasphemy law you can say  it's like holocaust law in some west countries to avoid disrespect of Holy prophets, Asia bibi is free now, As far zakat concerned if someone doesn't want deductions of zakat they are allowed not to get deducted  No sharia law implemented there   \n",
       "3                                              Albertans voted for @ABLiberal in 1993-2012 they were official opposition. Nearly 40% of votes went to Alberta Liberals in 1993, that was 32 seats. Ralph Klein got a scare. 2019 election shouldn’t be about UCP or NDP @Dave_Khan @alekssamardzija   \n",
       "4                                                                                                        Dear god you people are dumb! Their members are already elected, they don’t need to run nominations! I can’t believe I am having to explain this to a political party and yet here we are.   \n",
       "\n",
       "                                                                                                                                                                                                                                                                     extended_tweet_cleaned  \n",
       "0                                                                                                                                                                                                                                                            The crows nest hands down!      \n",
       "1                                                                                                                                                                                                         Does anyone know of any high schools that have pods for Grade 10, 11, and/or 12?   \n",
       "2    That's blasphemy law you can say  it's like holocaust law in some west countries to avoid disrespect of Holy prophets, Asia bibi is free now, As far zakat concerned if someone doesn't want deductions of zakat they are allowed not to get deducted  No sharia law implemented there  \n",
       "3                                                                       Albertans voted for   in 1993-2012 they were official opposition. Nearly 40% of votes went to Alberta Liberals in 1993, that was 32 seats. Ralph Klein got a scare. 2019 election shouldn’t be about UCP or NDP      \n",
       "4                                                                                                Dear god you people are dumb! Their members are already elected, they don’t need to run nominations! I can’t believe I am having to explain this to a political party and yet here we are.  "
      ]
     },
     "execution_count": 42,
     "metadata": {},
     "output_type": "execute_result"
    }
   ],
   "source": [
    "frame_cleaned=frame[['created_at_date','hashtags_string','user_string','user_location',\n",
    "                     'longitude','latitude','name', 'screen_name','extended_tweet','extended_tweet_cleaned']]\n",
    "frame_cleaned.head()"
   ]
  },
  {
   "cell_type": "code",
   "execution_count": 43,
   "metadata": {},
   "outputs": [],
   "source": [
    "frame_cleaned.to_csv('alberta_tweets_cleaned.csv',index=False)"
   ]
  },
  {
   "cell_type": "markdown",
   "metadata": {},
   "source": [
    "##  Conclusion\n",
    "\n",
    "We've taken a preliminary look at some of the raw Twitter data that's been collected in order to further work with it. This included restructuring and reorganizing it and cleaning up the columns that we anticipate needing the most for our analysis.\n",
    "\n",
    "Take-aways: \n",
    "* We've started working with some very popular libraries for doing data science in Python: pandas and matplotlib\n",
    "* Examining, wrangling, and cleaning your data are important work that will take up large portions of time in the data science workflow\n",
    "* This is an iterative process. We took a stab at what we need to clean up and refine now, but may very well find things we've missed as we dig deeper into the data. \n",
    "\n",
    "Next, we will get into data exploration further. "
   ]
  },
  {
   "cell_type": "code",
   "execution_count": null,
   "metadata": {},
   "outputs": [],
   "source": []
  }
 ],
 "metadata": {
  "kernelspec": {
   "display_name": "Python 3",
   "language": "python",
   "name": "python3"
  },
  "language_info": {
   "codemirror_mode": {
    "name": "ipython",
    "version": 3
   },
   "file_extension": ".py",
   "mimetype": "text/x-python",
   "name": "python",
   "nbconvert_exporter": "python",
   "pygments_lexer": "ipython3",
   "version": "3.6.5"
  },
  "nbTranslate": {
   "displayLangs": [
    "*"
   ],
   "hotkey": "alt-t",
   "langInMainMenu": true,
   "sourceLang": "en",
   "targetLang": "fr",
   "useGoogleTranslate": true
  }
 },
 "nbformat": 4,
 "nbformat_minor": 2
}

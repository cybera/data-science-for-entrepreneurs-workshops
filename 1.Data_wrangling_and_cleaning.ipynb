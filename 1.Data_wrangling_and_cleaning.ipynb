{
 "cells": [
  {
   "cell_type": "markdown",
   "metadata": {},
   "source": [
    "### Step1. Download the tiwitter data from object storage and display first 5 rows"
   ]
  },
  {
   "cell_type": "code",
   "execution_count": 16,
   "metadata": {},
   "outputs": [
    {
     "data": {
      "text/html": [
       "<div>\n",
       "<style>\n",
       "    .dataframe thead tr:only-child th {\n",
       "        text-align: right;\n",
       "    }\n",
       "\n",
       "    .dataframe thead th {\n",
       "        text-align: left;\n",
       "    }\n",
       "\n",
       "    .dataframe tbody tr th {\n",
       "        vertical-align: top;\n",
       "    }\n",
       "</style>\n",
       "<table border=\"1\" class=\"dataframe\">\n",
       "  <thead>\n",
       "    <tr style=\"text-align: right;\">\n",
       "      <th></th>\n",
       "      <th>coordinates</th>\n",
       "      <th>created_at</th>\n",
       "      <th>extended_tweet</th>\n",
       "      <th>hashtags</th>\n",
       "      <th>lang</th>\n",
       "      <th>name</th>\n",
       "      <th>screen_name</th>\n",
       "      <th>text</th>\n",
       "      <th>user_location</th>\n",
       "      <th>user_mentions</th>\n",
       "    </tr>\n",
       "  </thead>\n",
       "  <tbody>\n",
       "    <tr>\n",
       "      <th>0</th>\n",
       "      <td>None</td>\n",
       "      <td>Fri Nov 02 21:01:56 +0000 2018</td>\n",
       "      <td>@Symin16 I’d like to know who</td>\n",
       "      <td>[]</td>\n",
       "      <td>en</td>\n",
       "      <td>♠</td>\n",
       "      <td>jessmayumba85</td>\n",
       "      <td>@Symin16 I’d like to know who</td>\n",
       "      <td>Toronto ✈ Calgary</td>\n",
       "      <td>[{'indices': [0, 8], 'id': 1031043960968364034, 'screen_name': 'Symin16', 'id_str': '1031043960968364034', 'name': 'Cory Baxter'}]</td>\n",
       "    </tr>\n",
       "    <tr>\n",
       "      <th>1</th>\n",
       "      <td>None</td>\n",
       "      <td>Fri Nov 02 21:02:01 +0000 2018</td>\n",
       "      <td>@TwoCanSamAdams Legit. There are still chunks in the sink and I can’t stand to be in the room, even though it doesn’t smell like puke anymore. I’m just so done with today.</td>\n",
       "      <td>[]</td>\n",
       "      <td>en</td>\n",
       "      <td>hannahrae cuddleslug</td>\n",
       "      <td>thimblewad</td>\n",
       "      <td>@TwoCanSamAdams Legit. There are still chunks in the sink and I can’t stand to be in the room, even though it doesn… https://t.co/XSETO2wdOw</td>\n",
       "      <td>YYC</td>\n",
       "      <td>[{'indices': [0, 15], 'id': 406677625, 'screen_name': 'TwoCanSamAdams', 'id_str': '406677625', 'name': 'TwoCan Jorge'}]</td>\n",
       "    </tr>\n",
       "    <tr>\n",
       "      <th>2</th>\n",
       "      <td>{'type': 'Point', 'coordinates': [-114.007914, 51.004583]}</td>\n",
       "      <td>Fri Nov 02 21:02:05 +0000 2018</td>\n",
       "      <td>Can you recommend anyone for this #job in #Calgary, AB? https://t.co/20JiTB3cRi #SupplyChain #Hiring #CareerArc</td>\n",
       "      <td>[{'indices': [34, 38], 'text': 'job'}, {'indices': [42, 50], 'text': 'Calgary'}, {'indices': [80, 92], 'text': 'SupplyChain'}, {'indices': [93, 100], 'text': 'Hiring'}, {'indices': [101, 111], 'text': 'CareerArc'}]</td>\n",
       "      <td>en</td>\n",
       "      <td>TMJ - CAL Manuf Jobs</td>\n",
       "      <td>tmj_cal_manuf</td>\n",
       "      <td>Can you recommend anyone for this #job in #Calgary, AB? https://t.co/20JiTB3cRi #SupplyChain #Hiring #CareerArc</td>\n",
       "      <td>Calgary</td>\n",
       "      <td>[]</td>\n",
       "    </tr>\n",
       "    <tr>\n",
       "      <th>3</th>\n",
       "      <td>None</td>\n",
       "      <td>Fri Nov 02 21:02:10 +0000 2018</td>\n",
       "      <td>Kids See Ghosts: https://t.co/J4phIy2CQy love this track</td>\n",
       "      <td>[]</td>\n",
       "      <td>en</td>\n",
       "      <td>Sunny Rai</td>\n",
       "      <td>TheSunsRay</td>\n",
       "      <td>Kids See Ghosts: https://t.co/J4phIy2CQy love this track</td>\n",
       "      <td>🌎📱</td>\n",
       "      <td>[]</td>\n",
       "    </tr>\n",
       "    <tr>\n",
       "      <th>4</th>\n",
       "      <td>{'type': 'Point', 'coordinates': [-114.0740046, 50.9978823]}</td>\n",
       "      <td>Fri Nov 02 21:02:13 +0000 2018</td>\n",
       "      <td>See our latest #Calgary, AB #job and click to apply: barista - Store# 54359, CHINOOK CENTRE FOOD COURT - https://t.co/wfBXkfI1rr #Retail #Hiring #CareerArc</td>\n",
       "      <td>[{'indices': [15, 23], 'text': 'Calgary'}, {'indices': [28, 32], 'text': 'job'}]</td>\n",
       "      <td>en</td>\n",
       "      <td>TMJ-CAL Retail Jobs</td>\n",
       "      <td>tmj_cal_retail</td>\n",
       "      <td>See our latest #Calgary, AB #job and click to apply: barista - Store# 54359, CHINOOK CENTRE FOOD COURT -… https://t.co/TwkPT1i4wn</td>\n",
       "      <td>Calgary</td>\n",
       "      <td>[]</td>\n",
       "    </tr>\n",
       "  </tbody>\n",
       "</table>\n",
       "</div>"
      ],
      "text/plain": [
       "                                                    coordinates  \\\n",
       "0                                                          None   \n",
       "1                                                          None   \n",
       "2    {'type': 'Point', 'coordinates': [-114.007914, 51.004583]}   \n",
       "3                                                          None   \n",
       "4  {'type': 'Point', 'coordinates': [-114.0740046, 50.9978823]}   \n",
       "\n",
       "                       created_at  \\\n",
       "0  Fri Nov 02 21:01:56 +0000 2018   \n",
       "1  Fri Nov 02 21:02:01 +0000 2018   \n",
       "2  Fri Nov 02 21:02:05 +0000 2018   \n",
       "3  Fri Nov 02 21:02:10 +0000 2018   \n",
       "4  Fri Nov 02 21:02:13 +0000 2018   \n",
       "\n",
       "                                                                                                                                                                extended_tweet  \\\n",
       "0                                                                                                                                                @Symin16 I’d like to know who   \n",
       "1  @TwoCanSamAdams Legit. There are still chunks in the sink and I can’t stand to be in the room, even though it doesn’t smell like puke anymore. I’m just so done with today.   \n",
       "2                                                              Can you recommend anyone for this #job in #Calgary, AB? https://t.co/20JiTB3cRi #SupplyChain #Hiring #CareerArc   \n",
       "3                                                                                                                     Kids See Ghosts: https://t.co/J4phIy2CQy love this track   \n",
       "4                  See our latest #Calgary, AB #job and click to apply: barista - Store# 54359, CHINOOK CENTRE FOOD COURT - https://t.co/wfBXkfI1rr #Retail #Hiring #CareerArc   \n",
       "\n",
       "                                                                                                                                                                                                                 hashtags  \\\n",
       "0                                                                                                                                                                                                                      []   \n",
       "1                                                                                                                                                                                                                      []   \n",
       "2  [{'indices': [34, 38], 'text': 'job'}, {'indices': [42, 50], 'text': 'Calgary'}, {'indices': [80, 92], 'text': 'SupplyChain'}, {'indices': [93, 100], 'text': 'Hiring'}, {'indices': [101, 111], 'text': 'CareerArc'}]   \n",
       "3                                                                                                                                                                                                                      []   \n",
       "4                                                                                                                                        [{'indices': [15, 23], 'text': 'Calgary'}, {'indices': [28, 32], 'text': 'job'}]   \n",
       "\n",
       "  lang                  name     screen_name  \\\n",
       "0   en                     ♠   jessmayumba85   \n",
       "1   en  hannahrae cuddleslug      thimblewad   \n",
       "2   en  TMJ - CAL Manuf Jobs   tmj_cal_manuf   \n",
       "3   en             Sunny Rai      TheSunsRay   \n",
       "4   en   TMJ-CAL Retail Jobs  tmj_cal_retail   \n",
       "\n",
       "                                                                                                                                           text  \\\n",
       "0                                                                                                                 @Symin16 I’d like to know who   \n",
       "1  @TwoCanSamAdams Legit. There are still chunks in the sink and I can’t stand to be in the room, even though it doesn… https://t.co/XSETO2wdOw   \n",
       "2                               Can you recommend anyone for this #job in #Calgary, AB? https://t.co/20JiTB3cRi #SupplyChain #Hiring #CareerArc   \n",
       "3                                                                                      Kids See Ghosts: https://t.co/J4phIy2CQy love this track   \n",
       "4             See our latest #Calgary, AB #job and click to apply: barista - Store# 54359, CHINOOK CENTRE FOOD COURT -… https://t.co/TwkPT1i4wn   \n",
       "\n",
       "       user_location  \\\n",
       "0  Toronto ✈ Calgary   \n",
       "1                YYC   \n",
       "2            Calgary   \n",
       "3                 🌎📱   \n",
       "4            Calgary   \n",
       "\n",
       "                                                                                                                        user_mentions  \n",
       "0  [{'indices': [0, 8], 'id': 1031043960968364034, 'screen_name': 'Symin16', 'id_str': '1031043960968364034', 'name': 'Cory Baxter'}]  \n",
       "1             [{'indices': [0, 15], 'id': 406677625, 'screen_name': 'TwoCanSamAdams', 'id_str': '406677625', 'name': 'TwoCan Jorge'}]  \n",
       "2                                                                                                                                  []  \n",
       "3                                                                                                                                  []  \n",
       "4                                                                                                                                  []  "
      ]
     },
     "execution_count": 16,
     "metadata": {},
     "output_type": "execute_result"
    }
   ],
   "source": [
    "import urllib.request\n",
    "import ast\n",
    "import pandas as pd \n",
    "import re\n",
    "\n",
    "target_url=\"https://swift-yeg.cloud.cybera.ca:8080/v1/AUTH_233e84cd313945c992b4b585f7b9125d/geeky-summit/tweets.txt\"\n",
    "file_name=\"tweets.txt\"\n",
    "urllib.request.urlretrieve(target_url, file_name)\n",
    "tweets = []\n",
    "with open(file_name, 'r') as f:\n",
    "    for lines in f.readlines():\n",
    "        tweets.append(ast.literal_eval(lines))\n",
    "frame  = pd.DataFrame(tweets)\n",
    "frame.head()"
   ]
  },
  {
   "cell_type": "markdown",
   "metadata": {},
   "source": [
    "### Step2. Understand the input data"
   ]
  },
  {
   "cell_type": "code",
   "execution_count": 2,
   "metadata": {},
   "outputs": [
    {
     "name": "stdout",
     "output_type": "stream",
     "text": [
      "Number of rows/columns: (14793, 10) \n",
      "\n",
      "Column name: coordinates \n",
      " Column type: <class 'dict'> \n",
      " Column data(example): {'type': 'Point', 'coordinates': [-114.007914, 51.004583]} \n",
      "\n",
      "\n",
      "Column name: created_at \n",
      " Column type: <class 'str'> \n",
      " Column data(example): Fri Nov 02 21:02:05 +0000 2018 \n",
      "\n",
      "\n",
      "Column name: extended_tweet \n",
      " Column type: <class 'str'> \n",
      " Column data(example): Can you recommend anyone for this #job in #Calgary, AB? https://t.co/20JiTB3cRi #SupplyChain #Hiring #CareerArc \n",
      "\n",
      "\n",
      "Column name: hashtags \n",
      " Column type: <class 'list'> \n",
      " Column data(example): [{'indices': [34, 38], 'text': 'job'}, {'indices': [42, 50], 'text': 'Calgary'}, {'indices': [80, 92], 'text': 'SupplyChain'}, {'indices': [93, 100], 'text': 'Hiring'}, {'indices': [101, 111], 'text': 'CareerArc'}] \n",
      "\n",
      "\n",
      "Column name: lang \n",
      " Column type: <class 'str'> \n",
      " Column data(example): en \n",
      "\n",
      "\n",
      "Column name: name \n",
      " Column type: <class 'str'> \n",
      " Column data(example): TMJ - CAL Manuf Jobs \n",
      "\n",
      "\n",
      "Column name: screen_name \n",
      " Column type: <class 'str'> \n",
      " Column data(example): tmj_cal_manuf \n",
      "\n",
      "\n",
      "Column name: text \n",
      " Column type: <class 'str'> \n",
      " Column data(example): Can you recommend anyone for this #job in #Calgary, AB? https://t.co/20JiTB3cRi #SupplyChain #Hiring #CareerArc \n",
      "\n",
      "\n",
      "Column name: user_location \n",
      " Column type: <class 'str'> \n",
      " Column data(example): Calgary \n",
      "\n",
      "\n",
      "Column name: user_mentions \n",
      " Column type: <class 'list'> \n",
      " Column data(example): [{'indices': [0, 15], 'id': 406677625, 'screen_name': 'TwoCanSamAdams', 'id_str': '406677625', 'name': 'TwoCan Jorge'}] \n",
      "\n",
      "\n"
     ]
    }
   ],
   "source": [
    "print(\"Number of rows/columns:\",frame.shape, \"\\n\")\n",
    "for column in frame.columns:\n",
    "    if column==\"user_mentions\":\n",
    "        rownum=1\n",
    "    else :\n",
    "        rownum=2\n",
    "    print(\"Column name: {colname} \\n Column type: {coltype} \\n Column data(example): {coldata} \\n\\n\"\n",
    "          .format(colname=column, coltype=type(frame[column].iloc[rownum]),coldata=frame[column].iloc[rownum]))"
   ]
  },
  {
   "cell_type": "markdown",
   "metadata": {},
   "source": [
    " - **coordinates** - user coordinates, can be None or Python type Dict(need to be converted to String)\n",
    " - **created_at**  - date, Python type String need to be converted to type  Date (GST, need to be converted to MST?)\n",
    " - **extended_tweet** - extended_tweet  and text are the similar columns, extended_tweet has more data (how to show it?), we will use it instead of text\n",
    " - **hashtags** - hashtags,can be None or Python type List of Dicts(need to be converted to String)\n",
    " - **lang** - language, Python type Str\n",
    " - **name** - twitter account name, Python type Str\n",
    " - **screen_name** - screen name, python type Str\n",
    " - **text** - extended_tweet  and text are the similar columns, extended_tweet has more data (how to show it?), we will use it instead of text\n",
    " - **user_location** - location, python type Str\n",
    " - **user_mentions** - user mentions starting from @,Python type List of Dicts(need to be converted to String)"
   ]
  },
  {
   "cell_type": "markdown",
   "metadata": {},
   "source": [
    "### Step4. Wrangling the data\n",
    "#### Convert column \"created_at\"  from String to Date"
   ]
  },
  {
   "cell_type": "code",
   "execution_count": 3,
   "metadata": {},
   "outputs": [
    {
     "data": {
      "text/plain": [
       "'Fri Nov 02 21:02:05 +0000 2018'"
      ]
     },
     "execution_count": 3,
     "metadata": {},
     "output_type": "execute_result"
    }
   ],
   "source": [
    "frame[\"created_at\"].iloc[2]"
   ]
  },
  {
   "cell_type": "markdown",
   "metadata": {},
   "source": [
    "#### Convert coordinates to String"
   ]
  },
  {
   "cell_type": "code",
   "execution_count": 4,
   "metadata": {},
   "outputs": [
    {
     "data": {
      "text/plain": [
       "{'coordinates': [-114.007914, 51.004583], 'type': 'Point'}"
      ]
     },
     "execution_count": 4,
     "metadata": {},
     "output_type": "execute_result"
    }
   ],
   "source": [
    "frame[\"coordinates\"].iloc[2]"
   ]
  },
  {
   "cell_type": "markdown",
   "metadata": {},
   "source": [
    "#### Convert column \"hashtags\"  from Dict to Str"
   ]
  },
  {
   "cell_type": "code",
   "execution_count": 5,
   "metadata": {},
   "outputs": [
    {
     "data": {
      "text/plain": [
       "[{'indices': [34, 38], 'text': 'job'},\n",
       " {'indices': [42, 50], 'text': 'Calgary'},\n",
       " {'indices': [80, 92], 'text': 'SupplyChain'},\n",
       " {'indices': [93, 100], 'text': 'Hiring'},\n",
       " {'indices': [101, 111], 'text': 'CareerArc'}]"
      ]
     },
     "execution_count": 5,
     "metadata": {},
     "output_type": "execute_result"
    }
   ],
   "source": [
    "frame[\"hashtags\"].iloc[2]"
   ]
  },
  {
   "cell_type": "code",
   "execution_count": 6,
   "metadata": {},
   "outputs": [
    {
     "data": {
      "text/plain": [
       "'job Calgary SupplyChain Hiring CareerArc'"
      ]
     },
     "execution_count": 6,
     "metadata": {},
     "output_type": "execute_result"
    }
   ],
   "source": [
    "def convertHashToString(v):\n",
    "    v=' '.join([d['text'] for d in v])\n",
    "    return v\n",
    "frame['hashtags_string']= frame['hashtags'].map(convertHashToString)\n",
    "frame[\"hashtags_string\"].iloc[2]"
   ]
  },
  {
   "cell_type": "markdown",
   "metadata": {},
   "source": [
    "#### Excersise: convert column \"user_mentions\" from Dict to Str"
   ]
  },
  {
   "cell_type": "code",
   "execution_count": 7,
   "metadata": {},
   "outputs": [
    {
     "data": {
      "text/plain": [
       "[{'id': 406677625,\n",
       "  'id_str': '406677625',\n",
       "  'indices': [0, 15],\n",
       "  'name': 'TwoCan Jorge',\n",
       "  'screen_name': 'TwoCanSamAdams'}]"
      ]
     },
     "execution_count": 7,
     "metadata": {},
     "output_type": "execute_result"
    }
   ],
   "source": [
    "frame[\"user_mentions\"].iloc[1]"
   ]
  },
  {
   "cell_type": "code",
   "execution_count": 24,
   "metadata": {},
   "outputs": [
    {
     "data": {
      "text/plain": [
       "'TwoCanSamAdams'"
      ]
     },
     "execution_count": 24,
     "metadata": {},
     "output_type": "execute_result"
    }
   ],
   "source": [
    "def convertUserToString(v):\n",
    "    v=' '.join([d['screen_name'] for d in v])## type something here (this line will be commented out)\n",
    "    return v\n",
    "frame['user_string']= frame['user_mentions'].map(convertUserToString)\n",
    "frame[\"user_string\"].iloc[1]"
   ]
  },
  {
   "cell_type": "markdown",
   "metadata": {},
   "source": [
    "### Step5. Cleaning the data"
   ]
  },
  {
   "cell_type": "code",
   "execution_count": 25,
   "metadata": {},
   "outputs": [
    {
     "data": {
      "text/plain": [
       "0                                                                                                                                                                                                                                                                                @Symin16 I’d like to know who\n",
       "1                                                                                                                                  @TwoCanSamAdams Legit. There are still chunks in the sink and I can’t stand to be in the room, even though it doesn’t smell like puke anymore. I’m just so done with today.\n",
       "2                                                                                                                                                                                              Can you recommend anyone for this #job in #Calgary, AB? https://t.co/20JiTB3cRi #SupplyChain #Hiring #CareerArc\n",
       "3                                                                                                                                                                                                                                                     Kids See Ghosts: https://t.co/J4phIy2CQy love this track\n",
       "4                                                                                                                                                  See our latest #Calgary, AB #job and click to apply: barista - Store# 54359, CHINOOK CENTRE FOOD COURT - https://t.co/wfBXkfI1rr #Retail #Hiring #CareerArc\n",
       "5    Watered by hand, harvested by hand, trimmed by hand. Each individual plant gets its own dedicated care and attention, tailored to its growth cycle. \\n\\n\"Our plants get the love they deserve.” – David Isaak, Founder. 💚\\n\\n#HandcraftingCannabis #HandCultivation #CraftCulture https://t.co/eBBtjPhW8A\n",
       "6                                     https://t.co/IVq1D6K3az Please read and share and donate ten bucks. There are 5 homeless memorials in Canada and Calgary needs to be #6. This is important. This is the starting point of our Campaign and we need to get to $10000. Give us a hand please and thank you\n",
       "7                                                                                                                                                                See our latest #Calgary, AB #job and click to apply: School Bus Driver - Calgary - https://t.co/ddcbozNfGC #Transportation #Hiring #CareerArc\n",
       "8                                                                                                                                                                                       Join the UPS team! See our latest #job opening here: https://t.co/FdrUDZLldk #Clerical #Calgary, AB #Hiring #CareerArc\n",
       "9                                                                                                                                                                                                                                                                                @kdlang HAPPY BIRTHDAY!!!!!!!\n",
       "Name: extended_tweet, dtype: object"
      ]
     },
     "execution_count": 25,
     "metadata": {},
     "output_type": "execute_result"
    }
   ],
   "source": [
    "pd.set_option('max_colwidth', 700)\n",
    "frame['extended_tweet'].head(10)"
   ]
  },
  {
   "cell_type": "markdown",
   "metadata": {},
   "source": [
    "####  Remove URLS "
   ]
  },
  {
   "cell_type": "code",
   "execution_count": 26,
   "metadata": {},
   "outputs": [],
   "source": [
    "frame['extended_tweet']=frame['extended_tweet'].str.replace('http\\S+|www.\\S+', '', case=False)\n",
    "#frame[frame['extended_tweet'].str.contains(\"amp\")]['extended_tweet'].head()"
   ]
  },
  {
   "cell_type": "markdown",
   "metadata": {},
   "source": [
    "#### Remove &amp"
   ]
  },
  {
   "cell_type": "code",
   "execution_count": 27,
   "metadata": {
    "collapsed": true
   },
   "outputs": [],
   "source": [
    "frame['extended_tweet']=frame['extended_tweet'].str.replace('&amp',' ')"
   ]
  },
  {
   "cell_type": "markdown",
   "metadata": {},
   "source": [
    "#### Excersise: remove '/n' (new line symbol) from 'extended_tweet' column"
   ]
  },
  {
   "cell_type": "code",
   "execution_count": 28,
   "metadata": {
    "collapsed": true
   },
   "outputs": [],
   "source": [
    "frame['extended_tweet']=frame['extended_tweet'].str.replace('\\n',' ') ### this will be commented out"
   ]
  },
  {
   "cell_type": "markdown",
   "metadata": {},
   "source": [
    "#### Remove user mentions and hashtags from the 'extended_tweet' column and save it as 'tweet_no_hashtags' column"
   ]
  },
  {
   "cell_type": "code",
   "execution_count": 29,
   "metadata": {
    "scrolled": true
   },
   "outputs": [
    {
     "data": {
      "text/plain": [
       "0                                                                                                                                                                                                                                I’d like to know who\n",
       "1                                                                                         Legit. There are still chunks in the sink and I can’t stand to be in the room, even though it doesn’t smell like puke anymore. I’m just so done with today.\n",
       "2                                                                                                                                                                                                Can you recommend anyone for this   in  , AB?       \n",
       "3                                                                                                                                                                                                                   Kids See Ghosts:  love this track\n",
       "4                                                                                                                                               See our latest  , AB   and click to apply: barista - Store# 54359, CHINOOK CENTRE FOOD COURT -       \n",
       "5                     Watered by hand, harvested by hand, trimmed by hand. Each individual plant gets its own dedicated care and attention, tailored to its growth cycle.   \"Our plants get the love they deserve.” – David Isaak, Founder. 💚        \n",
       "6     Please read and share and donate ten bucks. There are 5 homeless memorials in Canada and Calgary needs to be  . This is important. This is the starting point of our Campaign and we need to get to $10000. Give us a hand please and thank you\n",
       "7                                                                                                                                                                     See our latest  , AB   and click to apply: School Bus Driver - Calgary -       \n",
       "8                                                                                                                                                                                      Join the UPS team! See our latest   opening here:     , AB    \n",
       "9                                                                                                                                                                                                                               HAPPY BIRTHDAY!!!!!!!\n",
       "Name: tweet_no_hashtags, dtype: object"
      ]
     },
     "execution_count": 29,
     "metadata": {},
     "output_type": "execute_result"
    }
   ],
   "source": [
    "frame['tweet_no_hashtags']=frame['extended_tweet'].str.replace('[@#]\\w+', ' ',case=False)\n",
    "frame['tweet_no_hashtags'].head(10)"
   ]
  },
  {
   "cell_type": "markdown",
   "metadata": {},
   "source": [
    "#### Any other cleaning - emoji,punctuation, numbers, special characters? or in later notebooks?"
   ]
  },
  {
   "cell_type": "markdown",
   "metadata": {},
   "source": [
    "### Step 6. Subset only columns we need and save the cleaed dataset"
   ]
  },
  {
   "cell_type": "code",
   "execution_count": 14,
   "metadata": {
    "collapsed": true
   },
   "outputs": [],
   "source": [
    "#frame_cleaned=frame[['']]\n",
    "#frame_cleaned.to_csv('tweetes_cleaned.csv')"
   ]
  },
  {
   "cell_type": "code",
   "execution_count": null,
   "metadata": {
    "collapsed": true
   },
   "outputs": [],
   "source": []
  }
 ],
 "metadata": {
  "kernelspec": {
   "display_name": "Python 3",
   "language": "python",
   "name": "python3"
  },
  "language_info": {
   "codemirror_mode": {
    "name": "ipython",
    "version": 3
   },
   "file_extension": ".py",
   "mimetype": "text/x-python",
   "name": "python",
   "nbconvert_exporter": "python",
   "pygments_lexer": "ipython3",
   "version": "3.6.3"
  },
  "nbTranslate": {
   "displayLangs": [
    "*"
   ],
   "hotkey": "alt-t",
   "langInMainMenu": true,
   "sourceLang": "en",
   "targetLang": "fr",
   "useGoogleTranslate": true
  }
 },
 "nbformat": 4,
 "nbformat_minor": 2
}

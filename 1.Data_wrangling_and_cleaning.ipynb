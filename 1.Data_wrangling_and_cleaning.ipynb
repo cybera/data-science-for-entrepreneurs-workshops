{
 "cells": [
  {
   "cell_type": "markdown",
   "metadata": {},
   "source": [
    "# Data wrangling Twitter data\n",
    "In this notebook, we are going to start out with the raw Twitter data that was captured using the tool Tweepy on which you can read more about in another notebook. The data captured was restricted to tweets from Calgary from early November 2018. \n",
    "\n",
    "In order to prep the data for analysis, we will \"wrangle\" the data to clean it and structure it into a more useful format. \n",
    "\n",
    "## Goal: \n",
    "Learn some common aspects of data wrangling and convert the data set into a format more practical for further data exploration and analysis. \n",
    "\n",
    "\n",
    "## Data wrangling introduction\n",
    "[Data wrangling](https://en.wikipedia.org/wiki/Data_wrangling) \"is the process of transforming and mapping data from one \"raw\" data form into another format with the intent of making it more appropriate and valuable for a variety of downstream purposes such as analytics\" (Wikipedia).\n",
    "\n",
    "The purpose of data wrangling notebook is to transform complex data into a format that is easier to work with in order to focus on the analysis of data, rather than the wrangling in the next notebooks. \n",
    "\n",
    "#### Common data wrangling steps:\n",
    " - **Discovering**  - understanding the data\n",
    " - **Structuring** -  organizing the data\n",
    "     - Naming or renaming variables\n",
    "     - Changing the type of variables\n",
    "     - Creating new variables through functions of existing of variables\n",
    "     - Conditional processing of variables (i.e the values of new variable is based on the values of existing variables) \n",
    " - **Cleaning** \n",
    "     - Redesign the data into a usable/functional format and correct/remove any bad data\n",
    "     - Imputing missing values in a variables\n",
    " - **Publishing**\n",
    "    - Selecting columns from input dataset to output dataset\n"
   ]
  },
  {
   "cell_type": "markdown",
   "metadata": {},
   "source": [
    "## Load python modules\n",
    "\n",
    "There are many packages available in Python that provide a variety of functions for data science. Here we load the libraries needed for this notebook. \n",
    "\n",
    "One of the most common libraries used for data science is [pandas](https://pandas.pydata.org/). There are good tutorials available on pandas and worthwhile spending more time with in order to become more comfortable with data science in python. "
   ]
  },
  {
   "cell_type": "code",
   "execution_count": 2,
   "metadata": {
    "collapsed": true
   },
   "outputs": [],
   "source": [
    "try:\n",
    "    import urllib.request\n",
    "except ImportError:\n",
    "    !pip install  --user urllib\n",
    "\n",
    "try:\n",
    "    import ast\n",
    "except ImportError:\n",
    "    !pip install  --user ast\n",
    "    \n",
    "try:\n",
    "    import pandas as pd\n",
    "except ImportError:\n",
    "    !pip install  --user pandas\n",
    "\n",
    "try:    \n",
    "    import matplotlib.pyplot as plt\n",
    "except ImportError:\n",
    "    !pip install --user matplotlib\n",
    "%matplotlib inline"
   ]
  },
  {
   "cell_type": "markdown",
   "metadata": {},
   "source": [
    "## Step1. Taking a look at the raw data\n"
   ]
  },
  {
   "cell_type": "markdown",
   "metadata": {},
   "source": [
    "#### Download the Twitter data from object store and display the first 5 rows\n",
    "\n",
    "The raw data is stored in object storage. Here we download it from this storage platform and read it into a pandas DataFrame. A **DataFrame** is a commonly encountered way to work with data in data science. It can be thought of as a 2D data structure that makes it easy to work with the data at hand. "
   ]
  },
  {
   "cell_type": "code",
   "execution_count": 11,
   "metadata": {
    "scrolled": false
   },
   "outputs": [
    {
     "data": {
      "text/html": [
       "<div>\n",
       "<style>\n",
       "    .dataframe thead tr:only-child th {\n",
       "        text-align: right;\n",
       "    }\n",
       "\n",
       "    .dataframe thead th {\n",
       "        text-align: left;\n",
       "    }\n",
       "\n",
       "    .dataframe tbody tr th {\n",
       "        vertical-align: top;\n",
       "    }\n",
       "</style>\n",
       "<table border=\"1\" class=\"dataframe\">\n",
       "  <thead>\n",
       "    <tr style=\"text-align: right;\">\n",
       "      <th></th>\n",
       "      <th>coordinates</th>\n",
       "      <th>created_at</th>\n",
       "      <th>extended_tweet</th>\n",
       "      <th>hashtags</th>\n",
       "      <th>lang</th>\n",
       "      <th>name</th>\n",
       "      <th>screen_name</th>\n",
       "      <th>text</th>\n",
       "      <th>user_location</th>\n",
       "      <th>user_mentions</th>\n",
       "    </tr>\n",
       "  </thead>\n",
       "  <tbody>\n",
       "    <tr>\n",
       "      <th>0</th>\n",
       "      <td>None</td>\n",
       "      <td>Fri Nov 02 21:01:56 +0000 2018</td>\n",
       "      <td>@Symin16 I’d like to know who</td>\n",
       "      <td>[]</td>\n",
       "      <td>en</td>\n",
       "      <td>♠</td>\n",
       "      <td>jessmayumba85</td>\n",
       "      <td>@Symin16 I’d like to know who</td>\n",
       "      <td>Toronto ✈ Calgary</td>\n",
       "      <td>[{'indices': [0, 8], 'id': 1031043960968364034...</td>\n",
       "    </tr>\n",
       "    <tr>\n",
       "      <th>1</th>\n",
       "      <td>None</td>\n",
       "      <td>Fri Nov 02 21:02:01 +0000 2018</td>\n",
       "      <td>@TwoCanSamAdams Legit. There are still chunks ...</td>\n",
       "      <td>[]</td>\n",
       "      <td>en</td>\n",
       "      <td>hannahrae cuddleslug</td>\n",
       "      <td>thimblewad</td>\n",
       "      <td>@TwoCanSamAdams Legit. There are still chunks ...</td>\n",
       "      <td>YYC</td>\n",
       "      <td>[{'indices': [0, 15], 'id': 406677625, 'screen...</td>\n",
       "    </tr>\n",
       "    <tr>\n",
       "      <th>2</th>\n",
       "      <td>{'type': 'Point', 'coordinates': [-114.007914,...</td>\n",
       "      <td>Fri Nov 02 21:02:05 +0000 2018</td>\n",
       "      <td>Can you recommend anyone for this #job in #Cal...</td>\n",
       "      <td>[{'indices': [34, 38], 'text': 'job'}, {'indic...</td>\n",
       "      <td>en</td>\n",
       "      <td>TMJ - CAL Manuf Jobs</td>\n",
       "      <td>tmj_cal_manuf</td>\n",
       "      <td>Can you recommend anyone for this #job in #Cal...</td>\n",
       "      <td>Calgary</td>\n",
       "      <td>[]</td>\n",
       "    </tr>\n",
       "  </tbody>\n",
       "</table>\n",
       "</div>"
      ],
      "text/plain": [
       "                                         coordinates  \\\n",
       "0                                               None   \n",
       "1                                               None   \n",
       "2  {'type': 'Point', 'coordinates': [-114.007914,...   \n",
       "\n",
       "                       created_at  \\\n",
       "0  Fri Nov 02 21:01:56 +0000 2018   \n",
       "1  Fri Nov 02 21:02:01 +0000 2018   \n",
       "2  Fri Nov 02 21:02:05 +0000 2018   \n",
       "\n",
       "                                      extended_tweet  \\\n",
       "0                      @Symin16 I’d like to know who   \n",
       "1  @TwoCanSamAdams Legit. There are still chunks ...   \n",
       "2  Can you recommend anyone for this #job in #Cal...   \n",
       "\n",
       "                                            hashtags lang  \\\n",
       "0                                                 []   en   \n",
       "1                                                 []   en   \n",
       "2  [{'indices': [34, 38], 'text': 'job'}, {'indic...   en   \n",
       "\n",
       "                   name    screen_name  \\\n",
       "0                     ♠  jessmayumba85   \n",
       "1  hannahrae cuddleslug     thimblewad   \n",
       "2  TMJ - CAL Manuf Jobs  tmj_cal_manuf   \n",
       "\n",
       "                                                text      user_location  \\\n",
       "0                      @Symin16 I’d like to know who  Toronto ✈ Calgary   \n",
       "1  @TwoCanSamAdams Legit. There are still chunks ...                YYC   \n",
       "2  Can you recommend anyone for this #job in #Cal...            Calgary   \n",
       "\n",
       "                                       user_mentions  \n",
       "0  [{'indices': [0, 8], 'id': 1031043960968364034...  \n",
       "1  [{'indices': [0, 15], 'id': 406677625, 'screen...  \n",
       "2                                                 []  "
      ]
     },
     "execution_count": 11,
     "metadata": {},
     "output_type": "execute_result"
    }
   ],
   "source": [
    "target_url=\"https://swift-yeg.cloud.cybera.ca:8080/v1/AUTH_233e84cd313945c992b4b585f7b9125d/geeky-summit/tweets.txt\"\n",
    "file_name=\"tweets.txt\"\n",
    "urllib.request.urlretrieve(target_url, file_name)\n",
    "tweets = []\n",
    "with open(file_name, 'r') as f:\n",
    "    for lines in f.readlines():\n",
    "        tweets.append(ast.literal_eval(lines))\n",
    "frame  = pd.DataFrame(tweets)\n",
    "frame.head(3) # head is a convenient way for showing the first few rows of a dataframe"
   ]
  },
  {
   "cell_type": "markdown",
   "metadata": {},
   "source": [
    "#### Understanding the raw data\n",
    "\n",
    "Let's take a look at some basic features of the raw data. For example, it's always a good idea to look at the columnns and the size of the data in question. "
   ]
  },
  {
   "cell_type": "code",
   "execution_count": 12,
   "metadata": {
    "scrolled": false
   },
   "outputs": [
    {
     "data": {
      "text/plain": [
       "Index(['coordinates', 'created_at', 'extended_tweet', 'hashtags', 'lang',\n",
       "       'name', 'screen_name', 'text', 'user_location', 'user_mentions'],\n",
       "      dtype='object')"
      ]
     },
     "execution_count": 12,
     "metadata": {},
     "output_type": "execute_result"
    }
   ],
   "source": [
    "frame.columns"
   ]
  },
  {
   "cell_type": "code",
   "execution_count": 13,
   "metadata": {},
   "outputs": [
    {
     "data": {
      "text/plain": [
       "(14793, 10)"
      ]
     },
     "execution_count": 13,
     "metadata": {},
     "output_type": "execute_result"
    }
   ],
   "source": [
    "frame.shape"
   ]
  },
  {
   "cell_type": "markdown",
   "metadata": {},
   "source": [
    "Taking a more complete look at the data, here the size of the DataFrame are printed, along with the: \n",
    "* column name\n",
    "* column type\n",
    "* sample value in the column"
   ]
  },
  {
   "cell_type": "code",
   "execution_count": 14,
   "metadata": {},
   "outputs": [
    {
     "name": "stdout",
     "output_type": "stream",
     "text": [
      "Number of rows/columns: (14793, 10) \n",
      "\n",
      "Column name: coordinates \n",
      "Column type: <class 'dict'> \n",
      "Column data(example): {'type': 'Point', 'coordinates': [-114.007914, 51.004583]} \n",
      "\n",
      "\n",
      "Column name: created_at \n",
      "Column type: <class 'str'> \n",
      "Column data(example): Fri Nov 02 21:02:05 +0000 2018 \n",
      "\n",
      "\n",
      "Column name: extended_tweet \n",
      "Column type: <class 'str'> \n",
      "Column data(example): Can you recommend anyone for this #job in #Calgary, AB? https://t.co/20JiTB3cRi #SupplyChain #Hiring #CareerArc \n",
      "\n",
      "\n",
      "Column name: hashtags \n",
      "Column type: <class 'list'> \n",
      "Column data(example): [{'indices': [34, 38], 'text': 'job'}, {'indices': [42, 50], 'text': 'Calgary'}, {'indices': [80, 92], 'text': 'SupplyChain'}, {'indices': [93, 100], 'text': 'Hiring'}, {'indices': [101, 111], 'text': 'CareerArc'}] \n",
      "\n",
      "\n",
      "Column name: lang \n",
      "Column type: <class 'str'> \n",
      "Column data(example): en \n",
      "\n",
      "\n",
      "Column name: name \n",
      "Column type: <class 'str'> \n",
      "Column data(example): TMJ - CAL Manuf Jobs \n",
      "\n",
      "\n",
      "Column name: screen_name \n",
      "Column type: <class 'str'> \n",
      "Column data(example): tmj_cal_manuf \n",
      "\n",
      "\n",
      "Column name: text \n",
      "Column type: <class 'str'> \n",
      "Column data(example): Can you recommend anyone for this #job in #Calgary, AB? https://t.co/20JiTB3cRi #SupplyChain #Hiring #CareerArc \n",
      "\n",
      "\n",
      "Column name: user_location \n",
      "Column type: <class 'str'> \n",
      "Column data(example): Calgary \n",
      "\n",
      "\n",
      "Column name: user_mentions \n",
      "Column type: <class 'list'> \n",
      "Column data(example): [{'indices': [0, 15], 'id': 406677625, 'screen_name': 'TwoCanSamAdams', 'id_str': '406677625', 'name': 'TwoCan Jorge'}] \n",
      "\n",
      "\n"
     ]
    }
   ],
   "source": [
    "print(\"Number of rows/columns:\",frame.shape, \"\\n\")\n",
    "for column in frame.columns:\n",
    "    if column==\"user_mentions\":\n",
    "        rownum=1\n",
    "    else :\n",
    "        rownum=2\n",
    "    print(\"Column name: {colname} \\nColumn type: {coltype} \\nColumn data(example): {coldata} \\n\\n\"\n",
    "          .format(colname=column, coltype=type(frame[column].iloc[rownum]),coldata=frame[column].iloc[rownum]))"
   ]
  },
  {
   "cell_type": "markdown",
   "metadata": {},
   "source": [
    "There are several interesting features there, such as latitude and longitude of the tweets and most of the columns make sense. Two columns that are a bit confusing are `text` and `extended_tweet` as it looks like they may contain the same content. We should figure out if they are actually different. \n",
    "\n",
    "One way to investigate this is to plot the length distribution for both columns. To do this, we use the [matplotlib library](https://matplotlib.org/) (another very common library used in data science). "
   ]
  },
  {
   "cell_type": "code",
   "execution_count": 15,
   "metadata": {},
   "outputs": [
    {
     "data": {
      "text/plain": [
       "Text(0.5,0,'Tweet length')"
      ]
     },
     "execution_count": 15,
     "metadata": {},
     "output_type": "execute_result"
    },
    {
     "data": {
      "image/png": "[encoded data removed]",
      "text/plain": [
       "<matplotlib.figure.Figure at 0x1264e27b8>"
      ]
     },
     "metadata": {},
     "output_type": "display_data"
    }
   ],
   "source": [
    "#Set up a plot with subplots (rows, columns, active plot)\n",
    "plt.subplot(1, 2, 1) \n",
    "#Create a histogram, which counts the number of tweets of each length\n",
    "plt.hist(frame[\"text\"].apply(len).values, color = 'green' ,edgecolor = 'black')\n",
    "#Label the plot\n",
    "plt.title('text')\n",
    "plt.xlabel('Tweet length')\n",
    "plt.ylabel('Number of tweets')\n",
    "\n",
    "# Do the same thing for the second subplot\n",
    "plt.subplot(1, 2, 2)\n",
    "plt.hist(frame[\"extended_tweet\"].apply(len).values, color = 'blue', edgecolor = 'black')\n",
    "plt.title('extended_tweet')\n",
    "plt.xlabel('Tweet length')"
   ]
  },
  {
   "cell_type": "markdown",
   "metadata": {},
   "source": [
    "Looks like `extended_tweet` has much longer tweets, up to 800 characters in length, whereas there are no tweets longer than 150 characters in `text`. \n",
    "\n",
    "What does the longest tweet look like. To do this, we can easily pull the longest tweet from the DataFrame. \n"
   ]
  },
  {
   "cell_type": "code",
   "execution_count": 16,
   "metadata": {},
   "outputs": [
    {
     "name": "stdout",
     "output_type": "stream",
     "text": [
      "Maximum length for extended_tweet column:  913 \n",
      "\n",
      "Tweet as seen in the **extended_text** column:\n",
      "\n",
      "@erikwilson1975 @Plasticdoe @Vbalance03 @mcfunny @mimetic_ @BeckyJohnson222 @doritmi @EmmaGPaley @jkellyca @jpsportsminer @WendyOrent @ChrisJohnsonMD @Siubhan_H @amanda_pompili @MsTrixter @BlueLionBlog @Rosewind2007 @TinFoilAwards @jjfox123 @Awithonelison @seaglass34 @nicolasDenver @DansMonkeyShack @what_if_007 @StopVaxxedLies @regina1775 @GretchenScience @astrahlgems @Gattinov @jandtee @kidoctr @Takethatdoctors @djt10 @saluce65 @Just4TheCause @Microbedoc2 @cantab_biker @chrisvcsefalvay @xanthonejohn @Brian_Kitchener @SueQuez @carlsmythe @EbolaJuggler @PharmaNemesis @sarah_sxlxp @openmitochondro @ShooguhLipz @1002Loola @and_McDowell What is the deal with this flu strain. The original story was on a news service that interviewed a woman who had been sick as hell who had been told all the details by a Dr. Don't you \"flushot doesn't work\"ers think that some details could be wrong. SHE says get the shot. \n",
      "\n",
      "Tweet as seen in the **text** column:\n",
      "\n",
      "@erikwilson1975 @Plasticdoe @Vbalance03 @mcfunny @mimetic_ @BeckyJohnson222 @doritmi @EmmaGPaley @jkellyca… https://t.co/fW50i6YxGz\n"
     ]
    }
   ],
   "source": [
    "print(\"Maximum length for extended_tweet column: \",max(frame[\"extended_tweet\"].apply(len)), \"\\n\")\n",
    "\n",
    "print(\"Tweet as seen in the **extended_text** column:\\n\")\n",
    "print(frame[\"extended_tweet\"][frame[\"extended_tweet\"].apply(len).idxmax(axis=1)], \"\\n\")\n",
    "\n",
    "print(\"Tweet as seen in the **text** column:\\n\")\n",
    "print(frame[\"text\"][frame[\"extended_tweet\"].apply(len).idxmax(axis=1)])"
   ]
  },
  {
   "cell_type": "markdown",
   "metadata": {},
   "source": [
    "It appears that text column is the truncated version of extended_tweet column."
   ]
  },
  {
   "cell_type": "markdown",
   "metadata": {},
   "source": [
    "#### So we have following list of columns:\n",
    " - **coordinates** - user coordinates, can be None or Python type Dict(needs to be split to two columns - longitude and latitude)\n",
    " - **created_at**  - creation date, Python type String (needs to be converted to type Date + timezone needs to be changed from UTC to MST)\n",
    " - **extended_tweet** - tweet text, Python type String\n",
    " - **hashtags** - hashtags, Python type List of Dicts(needs to be converted to String)\n",
    " - **lang** - language , Python type String\n",
    " - **name** - twitter account name, Python type String\n",
    " - **screen_name** - screen name, Python type String\n",
    " - **text** - truncated tweet text, Python type String\n",
    " - **user_location** - location, Python type String\n",
    " - **user_mentions** - user mentions, Python type List of Dicts(needs to be converted to String)"
   ]
  },
  {
   "cell_type": "markdown",
   "metadata": {},
   "source": [
    "## Step 2. (Re-) structuring  the data\n",
    "\n",
    "One aspect to always pay close attention to is the data type of each column. Overlooking data types and ending up with unexpected types often leads to issues further downstream in the analysis. Here we will go through and change some of the data types to make sure they are what we want them to be. \n",
    "\n",
    "As part of the process we will print original data example and converted data example. To get specific row/column from pandas datafram we will use following:\n",
    "> datafarme_name[\"column_name\"].iloc[row_number]\n",
    "\n",
    "#### Convert column `created_at`  from String to Date and change timezone from UTC to MST"
   ]
  },
  {
   "cell_type": "code",
   "execution_count": 18,
   "metadata": {},
   "outputs": [
    {
     "name": "stdout",
     "output_type": "stream",
     "text": [
      "Fri Nov 02 21:02:05 +0000 2018\n",
      "2018-11-02 15:02:05-06:00\n"
     ]
    }
   ],
   "source": [
    "print(frame[\"created_at\"].iloc[2]) ## Print the original data\n",
    "\n",
    "frame[\"created_at_date\"]= pd.to_datetime(frame[\"created_at\"]) ## convert to timestamp\n",
    "frame[\"created_at_date\"]=frame[\"created_at_date\"].dt.tz_localize('UTC').dt.tz_convert('America/Edmonton') ## fix timezone\n",
    "\n",
    "print(frame[\"created_at_date\"].iloc[2]) ## Print the transformed data"
   ]
  },
  {
   "cell_type": "markdown",
   "metadata": {},
   "source": [
    "#### Convert column \"coordinates\" from dictionary to two columns \"latitude\" and \"longitude\""
   ]
  },
  {
   "cell_type": "code",
   "execution_count": 22,
   "metadata": {},
   "outputs": [
    {
     "name": "stdout",
     "output_type": "stream",
     "text": [
      "0                                                 None\n",
      "1                                                 None\n",
      "2    {'type': 'Point', 'coordinates': [-114.007914,...\n",
      "3                                                 None\n",
      "4    {'type': 'Point', 'coordinates': [-114.0740046...\n",
      "Name: coordinates, dtype: object \n",
      "\n",
      "   longitude    latitude\n",
      "0        NaN         NaN\n",
      "1        NaN         NaN\n",
      "2  51.004583 -114.007914\n",
      "3        NaN         NaN\n",
      "4  50.997882 -114.074005\n"
     ]
    }
   ],
   "source": [
    "print(frame[\"coordinates\"].head(), \"\\n\") ## Print the original data\n",
    "\n",
    "def convertCoordToList(v):  ## helper function\n",
    "    if v is None:\n",
    "        v=[]\n",
    "    else:\n",
    "        v= v['coordinates']\n",
    "    return v\n",
    "\n",
    "frame['coordinates_list']= frame['coordinates'].map(convertCoordToList) #Convert coordinates from Dict to List\n",
    "\n",
    "#Split coordinates_list column into two: latitude and longitude\n",
    "frame[['latitude','longitude']] = pd.DataFrame(frame['coordinates_list'].values.tolist())\n",
    "\n",
    "print(frame[['longitude','latitude']].head()) ## Print the transformed data"
   ]
  },
  {
   "cell_type": "markdown",
   "metadata": {},
   "source": [
    "#### Convert column \"hashtags\"  from dictionary to strings\n",
    "For the missing, will impute blanks."
   ]
  },
  {
   "cell_type": "code",
   "execution_count": 21,
   "metadata": {},
   "outputs": [
    {
     "name": "stdout",
     "output_type": "stream",
     "text": [
      "[{'indices': [34, 38], 'text': 'job'}, {'indices': [42, 50], 'text': 'Calgary'}, {'indices': [80, 92], 'text': 'SupplyChain'}, {'indices': [93, 100], 'text': 'Hiring'}, {'indices': [101, 111], 'text': 'CareerArc'}]\n",
      "\n",
      " job Calgary SupplyChain Hiring CareerArc\n"
     ]
    }
   ],
   "source": [
    "print(frame[\"hashtags\"].iloc[2]) ## Print the original data\n",
    "\n",
    "def convertHashToString(v): ## helper function\n",
    "    if v == []:\n",
    "        v=' '\n",
    "    else:\n",
    "        v=' '.join([d['text'] for d in v])\n",
    "    return v\n",
    "\n",
    "frame['hashtags_string']= frame['hashtags'].map(convertHashToString) ## Do the conversion\n",
    "\n",
    "print(\"\\n\",frame[\"hashtags_string\"].iloc[2]) ## Print the transformed data"
   ]
  },
  {
   "cell_type": "markdown",
   "metadata": {},
   "source": [
    "#### Exercise: convert column \"user_mentions\" from dictionary to string\n",
    "\n",
    "Using the cell above as an example, complete the following cell in order to convert the `user_mentions` column to strings. "
   ]
  },
  {
   "cell_type": "code",
   "execution_count": 25,
   "metadata": {},
   "outputs": [
    {
     "name": "stdout",
     "output_type": "stream",
     "text": [
      "[{'indices': [0, 15], 'id': 406677625, 'screen_name': 'TwoCanSamAdams', 'id_str': '406677625', 'name': 'TwoCan Jorge'}]\n",
      "<class 'list'>\n"
     ]
    }
   ],
   "source": [
    "print(frame[\"user_mentions\"].iloc[1]) ## Print the original data + type\n",
    "print(type(frame[\"user_mentions\"].iloc[1]))"
   ]
  },
  {
   "cell_type": "code",
   "execution_count": 27,
   "metadata": {
    "collapsed": true
   },
   "outputs": [],
   "source": [
    "def convertUserToString(v):\n",
    "    if v == []:\n",
    "        v=' '\n",
    "    else:\n",
    "        v=' '.join([d['screen_name'] for d in v])## type something here (this line will be hidden)\n",
    "    return v\n",
    "\n",
    "frame['user_string']= frame['user_mentions'].map(convertUserToString) ## Do the conversion "
   ]
  },
  {
   "cell_type": "markdown",
   "metadata": {},
   "source": [
    "#### Check yourself\n",
    "Only screen_name's should be extracted from the distionary and data type should be str"
   ]
  },
  {
   "cell_type": "code",
   "execution_count": 29,
   "metadata": {},
   "outputs": [
    {
     "name": "stdout",
     "output_type": "stream",
     "text": [
      "TwoCanSamAdams\n",
      "<class 'str'>\n"
     ]
    }
   ],
   "source": [
    "print(frame[\"user_string\"].iloc[1]) ## Print the transformed data + type\n",
    "print(type(frame[\"user_string\"].iloc[1]))"
   ]
  },
  {
   "cell_type": "markdown",
   "metadata": {},
   "source": [
    "## Step 3. Cleaning the data\n",
    "\n",
    "Some data cleanup was done in step 2. Let's take a closer look at the `extended_tweet` column, since we will use it in further during our data analysis. \n",
    "\n",
    "First, let's look at what some of the tweets look like. We'll set an output parameter and then access the first few tweets. "
   ]
  },
  {
   "cell_type": "code",
   "execution_count": 30,
   "metadata": {},
   "outputs": [
    {
     "data": {
      "text/plain": [
       "0                                                                                                                                                                                                                                                                                @Symin16 I’d like to know who\n",
       "1                                                                                                                                  @TwoCanSamAdams Legit. There are still chunks in the sink and I can’t stand to be in the room, even though it doesn’t smell like puke anymore. I’m just so done with today.\n",
       "2                                                                                                                                                                                              Can you recommend anyone for this #job in #Calgary, AB? https://t.co/20JiTB3cRi #SupplyChain #Hiring #CareerArc\n",
       "3                                                                                                                                                                                                                                                     Kids See Ghosts: https://t.co/J4phIy2CQy love this track\n",
       "4                                                                                                                                                  See our latest #Calgary, AB #job and click to apply: barista - Store# 54359, CHINOOK CENTRE FOOD COURT - https://t.co/wfBXkfI1rr #Retail #Hiring #CareerArc\n",
       "5    Watered by hand, harvested by hand, trimmed by hand. Each individual plant gets its own dedicated care and attention, tailored to its growth cycle. \\n\\n\"Our plants get the love they deserve.” – David Isaak, Founder. 💚\\n\\n#HandcraftingCannabis #HandCultivation #CraftCulture https://t.co/eBBtjPhW8A\n",
       "6                                     https://t.co/IVq1D6K3az Please read and share and donate ten bucks. There are 5 homeless memorials in Canada and Calgary needs to be #6. This is important. This is the starting point of our Campaign and we need to get to $10000. Give us a hand please and thank you\n",
       "7                                                                                                                                                                See our latest #Calgary, AB #job and click to apply: School Bus Driver - Calgary - https://t.co/ddcbozNfGC #Transportation #Hiring #CareerArc\n",
       "8                                                                                                                                                                                       Join the UPS team! See our latest #job opening here: https://t.co/FdrUDZLldk #Clerical #Calgary, AB #Hiring #CareerArc\n",
       "9                                                                                                                                                                                                                                                                                @kdlang HAPPY BIRTHDAY!!!!!!!\n",
       "Name: extended_tweet, dtype: object"
      ]
     },
     "execution_count": 30,
     "metadata": {},
     "output_type": "execute_result"
    }
   ],
   "source": [
    "pd.set_option('max_colwidth', 700) ## Setting col_widht wider - so we can see the entire tweet\n",
    "frame['extended_tweet'].head(10)"
   ]
  },
  {
   "cell_type": "markdown",
   "metadata": {},
   "source": [
    "####  Remove URLS \n",
    "There are lots of links in this column that might make our future data analysis messy and likely do not have any meaning. Let's remove them together with any links starting with www.  \n",
    "\n",
    "We will accomplish this using regular expressions (Note that **\\S+** means one or more non-whitespace character)"
   ]
  },
  {
   "cell_type": "code",
   "execution_count": 31,
   "metadata": {
    "collapsed": true
   },
   "outputs": [],
   "source": [
    "frame['extended_tweet']=frame['extended_tweet'].str.replace('http\\S+|www.\\S+', '', case=False)"
   ]
  },
  {
   "cell_type": "markdown",
   "metadata": {},
   "source": [
    "#### Excersise: remove '\\n' (new line symbol) from 'extended_tweet' column\n",
    "\n",
    "Another item that might interfere with our analysis are new line characters. Let's remove these as well in the cell below. "
   ]
  },
  {
   "cell_type": "code",
   "execution_count": 32,
   "metadata": {
    "collapsed": true
   },
   "outputs": [],
   "source": [
    "frame['extended_tweet']=frame['extended_tweet'].str.replace('\\n',' ') ### this will be hidden"
   ]
  },
  {
   "cell_type": "markdown",
   "metadata": {},
   "source": [
    "#### Check yourself\n",
    "Print first 10 tweets and see if \\n is removed"
   ]
  },
  {
   "cell_type": "code",
   "execution_count": 33,
   "metadata": {},
   "outputs": [
    {
     "data": {
      "text/plain": [
       "0                                                                                                                                                                                                                                                     @Symin16 I’d like to know who\n",
       "1                                                                                                       @TwoCanSamAdams Legit. There are still chunks in the sink and I can’t stand to be in the room, even though it doesn’t smell like puke anymore. I’m just so done with today.\n",
       "2                                                                                                                                                                                          Can you recommend anyone for this #job in #Calgary, AB?  #SupplyChain #Hiring #CareerArc\n",
       "3                                                                                                                                                                                                                                                 Kids See Ghosts:  love this track\n",
       "4                                                                                                                                              See our latest #Calgary, AB #job and click to apply: barista - Store# 54359, CHINOOK CENTRE FOOD COURT -  #Retail #Hiring #CareerArc\n",
       "5    Watered by hand, harvested by hand, trimmed by hand. Each individual plant gets its own dedicated care and attention, tailored to its growth cycle.   \"Our plants get the love they deserve.” – David Isaak, Founder. 💚  #HandcraftingCannabis #HandCultivation #CraftCulture \n",
       "6                                  Please read and share and donate ten bucks. There are 5 homeless memorials in Canada and Calgary needs to be #6. This is important. This is the starting point of our Campaign and we need to get to $10000. Give us a hand please and thank you\n",
       "7                                                                                                                                                            See our latest #Calgary, AB #job and click to apply: School Bus Driver - Calgary -  #Transportation #Hiring #CareerArc\n",
       "8                                                                                                                                                                                   Join the UPS team! See our latest #job opening here:  #Clerical #Calgary, AB #Hiring #CareerArc\n",
       "9                                                                                                                                                                                                                                                     @kdlang HAPPY BIRTHDAY!!!!!!!\n",
       "Name: extended_tweet, dtype: object"
      ]
     },
     "execution_count": 33,
     "metadata": {},
     "output_type": "execute_result"
    }
   ],
   "source": [
    "frame['extended_tweet'].head(10)"
   ]
  },
  {
   "cell_type": "markdown",
   "metadata": {},
   "source": [
    "#### Remove user mentions and hashtags from the 'extended_tweet' column and save it as 'extended_tweet_cleaned' column\n",
    "There are separate columns for user mentions and hashtags. We might need to analyse tweet text without any hashtags/user mentions. However, we might also want to do some analysis on the tweets including the mentions and hashtags. As such, tweets with these items removed will be stored in a separate column. "
   ]
  },
  {
   "cell_type": "code",
   "execution_count": 34,
   "metadata": {
    "scrolled": true
   },
   "outputs": [
    {
     "data": {
      "text/plain": [
       "0                                                                                                                                             I’d like to know who\n",
       "1      Legit. There are still chunks in the sink and I can’t stand to be in the room, even though it doesn’t smell like puke anymore. I’m just so done with today.\n",
       "2                                                                                                             Can you recommend anyone for this   in  , AB?       \n",
       "3                                                                                                                                Kids See Ghosts:  love this track\n",
       "4                                                            See our latest  , AB   and click to apply: barista - Store# 54359, CHINOOK CENTRE FOOD COURT -       \n",
       "Name: extended_tweet_cleaned, dtype: object"
      ]
     },
     "execution_count": 34,
     "metadata": {},
     "output_type": "execute_result"
    }
   ],
   "source": [
    "frame['extended_tweet_cleaned']=frame['extended_tweet'].str.replace('[@#]\\w+', ' ',case=False)\n",
    "frame['extended_tweet_cleaned'].head(5)"
   ]
  },
  {
   "cell_type": "markdown",
   "metadata": {},
   "source": [
    "We will keep emoji, punctuation,  numbers and special characters for now. They might be useful for the analysis. We can always do more cleaning in the later notebooks"
   ]
  },
  {
   "cell_type": "markdown",
   "metadata": {},
   "source": [
    "#### Let's take a look at the language column"
   ]
  },
  {
   "cell_type": "code",
   "execution_count": 36,
   "metadata": {},
   "outputs": [
    {
     "data": {
      "text/plain": [
       "array(['en'], dtype=object)"
      ]
     },
     "execution_count": 36,
     "metadata": {},
     "output_type": "execute_result"
    }
   ],
   "source": [
    "frame[\"lang\"].unique()"
   ]
  },
  {
   "cell_type": "markdown",
   "metadata": {},
   "source": [
    "Column lang has only one value en so it can be safely ignored\n",
    "\n"
   ]
  },
  {
   "cell_type": "markdown",
   "metadata": {},
   "source": [
    "## Step 6. Publishing - saving data for future work\n",
    "\n",
    "In order to work with this data further, let's save a new DataFrame. \n",
    "\n",
    "We'll simply select the desired columns from the working dataset into the output dataset and take a look at the output. Does the output match what we expected? How do the `extended_tweet` and `extended_tweet_clean` columns compare? \n",
    "\n",
    "Further below, we'll save the data to a csv file. "
   ]
  },
  {
   "cell_type": "code",
   "execution_count": 37,
   "metadata": {},
   "outputs": [
    {
     "data": {
      "text/html": [
       "<div>\n",
       "<style>\n",
       "    .dataframe thead tr:only-child th {\n",
       "        text-align: right;\n",
       "    }\n",
       "\n",
       "    .dataframe thead th {\n",
       "        text-align: left;\n",
       "    }\n",
       "\n",
       "    .dataframe tbody tr th {\n",
       "        vertical-align: top;\n",
       "    }\n",
       "</style>\n",
       "<table border=\"1\" class=\"dataframe\">\n",
       "  <thead>\n",
       "    <tr style=\"text-align: right;\">\n",
       "      <th></th>\n",
       "      <th>created_at_date</th>\n",
       "      <th>hashtags_string</th>\n",
       "      <th>user_string</th>\n",
       "      <th>user_location</th>\n",
       "      <th>longitude</th>\n",
       "      <th>latitude</th>\n",
       "      <th>name</th>\n",
       "      <th>screen_name</th>\n",
       "      <th>extended_tweet</th>\n",
       "      <th>extended_tweet_cleaned</th>\n",
       "    </tr>\n",
       "  </thead>\n",
       "  <tbody>\n",
       "    <tr>\n",
       "      <th>0</th>\n",
       "      <td>2018-11-02 15:01:56-06:00</td>\n",
       "      <td></td>\n",
       "      <td>Symin16</td>\n",
       "      <td>Toronto ✈ Calgary</td>\n",
       "      <td>NaN</td>\n",
       "      <td>NaN</td>\n",
       "      <td>♠</td>\n",
       "      <td>jessmayumba85</td>\n",
       "      <td>@Symin16 I’d like to know who</td>\n",
       "      <td>I’d like to know who</td>\n",
       "    </tr>\n",
       "    <tr>\n",
       "      <th>1</th>\n",
       "      <td>2018-11-02 15:02:01-06:00</td>\n",
       "      <td></td>\n",
       "      <td>TwoCanSamAdams</td>\n",
       "      <td>YYC</td>\n",
       "      <td>NaN</td>\n",
       "      <td>NaN</td>\n",
       "      <td>hannahrae cuddleslug</td>\n",
       "      <td>thimblewad</td>\n",
       "      <td>@TwoCanSamAdams Legit. There are still chunks in the sink and I can’t stand to be in the room, even though it doesn’t smell like puke anymore. I’m just so done with today.</td>\n",
       "      <td>Legit. There are still chunks in the sink and I can’t stand to be in the room, even though it doesn’t smell like puke anymore. I’m just so done with today.</td>\n",
       "    </tr>\n",
       "    <tr>\n",
       "      <th>2</th>\n",
       "      <td>2018-11-02 15:02:05-06:00</td>\n",
       "      <td>job Calgary SupplyChain Hiring CareerArc</td>\n",
       "      <td></td>\n",
       "      <td>Calgary</td>\n",
       "      <td>51.004583</td>\n",
       "      <td>-114.007914</td>\n",
       "      <td>TMJ - CAL Manuf Jobs</td>\n",
       "      <td>tmj_cal_manuf</td>\n",
       "      <td>Can you recommend anyone for this #job in #Calgary, AB?  #SupplyChain #Hiring #CareerArc</td>\n",
       "      <td>Can you recommend anyone for this   in  , AB?</td>\n",
       "    </tr>\n",
       "    <tr>\n",
       "      <th>3</th>\n",
       "      <td>2018-11-02 15:02:10-06:00</td>\n",
       "      <td></td>\n",
       "      <td></td>\n",
       "      <td>🌎📱</td>\n",
       "      <td>NaN</td>\n",
       "      <td>NaN</td>\n",
       "      <td>Sunny Rai</td>\n",
       "      <td>TheSunsRay</td>\n",
       "      <td>Kids See Ghosts:  love this track</td>\n",
       "      <td>Kids See Ghosts:  love this track</td>\n",
       "    </tr>\n",
       "    <tr>\n",
       "      <th>4</th>\n",
       "      <td>2018-11-02 15:02:13-06:00</td>\n",
       "      <td>Calgary job</td>\n",
       "      <td></td>\n",
       "      <td>Calgary</td>\n",
       "      <td>50.997882</td>\n",
       "      <td>-114.074005</td>\n",
       "      <td>TMJ-CAL Retail Jobs</td>\n",
       "      <td>tmj_cal_retail</td>\n",
       "      <td>See our latest #Calgary, AB #job and click to apply: barista - Store# 54359, CHINOOK CENTRE FOOD COURT -  #Retail #Hiring #CareerArc</td>\n",
       "      <td>See our latest  , AB   and click to apply: barista - Store# 54359, CHINOOK CENTRE FOOD COURT -</td>\n",
       "    </tr>\n",
       "  </tbody>\n",
       "</table>\n",
       "</div>"
      ],
      "text/plain": [
       "            created_at_date                           hashtags_string  \\\n",
       "0 2018-11-02 15:01:56-06:00                                             \n",
       "1 2018-11-02 15:02:01-06:00                                             \n",
       "2 2018-11-02 15:02:05-06:00  job Calgary SupplyChain Hiring CareerArc   \n",
       "3 2018-11-02 15:02:10-06:00                                             \n",
       "4 2018-11-02 15:02:13-06:00                               Calgary job   \n",
       "\n",
       "      user_string      user_location  longitude    latitude  \\\n",
       "0         Symin16  Toronto ✈ Calgary        NaN         NaN   \n",
       "1  TwoCanSamAdams                YYC        NaN         NaN   \n",
       "2                            Calgary  51.004583 -114.007914   \n",
       "3                                 🌎📱        NaN         NaN   \n",
       "4                            Calgary  50.997882 -114.074005   \n",
       "\n",
       "                   name     screen_name  \\\n",
       "0                     ♠   jessmayumba85   \n",
       "1  hannahrae cuddleslug      thimblewad   \n",
       "2  TMJ - CAL Manuf Jobs   tmj_cal_manuf   \n",
       "3             Sunny Rai      TheSunsRay   \n",
       "4   TMJ-CAL Retail Jobs  tmj_cal_retail   \n",
       "\n",
       "                                                                                                                                                                extended_tweet  \\\n",
       "0                                                                                                                                                @Symin16 I’d like to know who   \n",
       "1  @TwoCanSamAdams Legit. There are still chunks in the sink and I can’t stand to be in the room, even though it doesn’t smell like puke anymore. I’m just so done with today.   \n",
       "2                                                                                     Can you recommend anyone for this #job in #Calgary, AB?  #SupplyChain #Hiring #CareerArc   \n",
       "3                                                                                                                                            Kids See Ghosts:  love this track   \n",
       "4                                         See our latest #Calgary, AB #job and click to apply: barista - Store# 54359, CHINOOK CENTRE FOOD COURT -  #Retail #Hiring #CareerArc   \n",
       "\n",
       "                                                                                                                                          extended_tweet_cleaned  \n",
       "0                                                                                                                                           I’d like to know who  \n",
       "1    Legit. There are still chunks in the sink and I can’t stand to be in the room, even though it doesn’t smell like puke anymore. I’m just so done with today.  \n",
       "2                                                                                                           Can you recommend anyone for this   in  , AB?         \n",
       "3                                                                                                                              Kids See Ghosts:  love this track  \n",
       "4                                                          See our latest  , AB   and click to apply: barista - Store# 54359, CHINOOK CENTRE FOOD COURT -         "
      ]
     },
     "execution_count": 37,
     "metadata": {},
     "output_type": "execute_result"
    }
   ],
   "source": [
    "frame_cleaned=frame[['created_at_date','hashtags_string','user_string','user_location',\n",
    "                     'longitude','latitude','name', 'screen_name','extended_tweet','extended_tweet_cleaned']]\n",
    "frame_cleaned.head()"
   ]
  },
  {
   "cell_type": "code",
   "execution_count": 38,
   "metadata": {
    "collapsed": true
   },
   "outputs": [],
   "source": [
    "frame_cleaned.to_csv('tweets_cleaned.csv',index=False)"
   ]
  },
  {
   "cell_type": "markdown",
   "metadata": {},
   "source": [
    "##  Conclusion\n",
    "\n",
    "We've taken a preliminary look at some of the raw Twitter data that's been collected in order to further work with it. This included restructuring and reorganizing it and cleaning up the columns that we anticipate needing the most for our analysis.\n",
    "\n",
    "Take-aways: \n",
    "* We've started working with some very popular libraries for doing data science in Python: pandas and matplotlib\n",
    "* Examining, wrangling, and cleaning your data are important work that will take up large portions of time in the data science workflow\n",
    "* This is an iterative process. We took a stab at what we need to clean up and refine now, but may very well find things we've missed as we dig deeper into the data. \n",
    "\n",
    "Next, we will get into data exploration further. "
   ]
  }
 ],
 "metadata": {
  "kernelspec": {
   "display_name": "Python 3",
   "language": "python",
   "name": "python3"
  },
  "language_info": {
   "codemirror_mode": {
    "name": "ipython",
    "version": 3
   },
   "file_extension": ".py",
   "mimetype": "text/x-python",
   "name": "python",
   "nbconvert_exporter": "python",
   "pygments_lexer": "ipython3",
   "version": "3.6.3"
  },
  "nbTranslate": {
   "displayLangs": [
    "*"
   ],
   "hotkey": "alt-t",
   "langInMainMenu": true,
   "sourceLang": "en",
   "targetLang": "fr",
   "useGoogleTranslate": true
  }
 },
 "nbformat": 4,
 "nbformat_minor": 2
}

{
 "cells": [
  {
   "cell_type": "markdown",
   "metadata": {},
   "source": [
    "# NLP: basic topic modelling for Twitter data\n",
    "In this notebook, we are going to use our cleaned dataset that we have created in the second notebook.\n",
    "\n",
    "We are going to do some basic Natural Language Processing(NLP) - will try topic modelling for extended_tweet_cleaned column.\n",
    "\n",
    "## Goal: \n",
    "Learn what is topic modelling (LDA), try applying topic modelling algoithm on different subsets of the input data, learn how to visualize topics.\n",
    "\n",
    "## Introduction to LDA\n",
    "[LDA](https://en.wikipedia.org/wiki/Latent_Dirichlet_allocation)(Latent Dirichlet Allocation) is a generative statistical model that allows sets of observations to be explained by unobserved groups that explain why some parts of the data are similar.(Wikipedia)\n",
    "\n",
    "\n",
    "LDA divides documents (tweets) into topics(clusters). \n",
    "It assumes that:\n",
    " - every topic (e.g. sport) has some representative words (e.g soccer, play, ball. etc.), \n",
    " - every document(tweet) has some representative topics(e.g sport, summer, etc.).\n",
    "\n",
    "Topics can interfere: the same word can belong to multiple topics.  \n",
    "Documents(tweets) can have multiple topics.\n",
    "\n",
    "### Topic modelling process:\n",
    " - Subset the data\n",
    " - Prepare data for topic modelling(tokenize, lemmatize)\n",
    " - Apply topic modelling\n",
    " - Vizualize and explore\n",
    " - Repeat if needed"
   ]
  },
  {
   "cell_type": "markdown",
   "metadata": {},
   "source": [
    "#### Lets download the cleaned tiwitter data from object storage and display first 5 rows"
   ]
  },
  {
   "cell_type": "markdown",
   "metadata": {},
   "source": [
    "Load python libraries first. Additional libraries that we are going to use in this notebook are: \n",
    " - [gensim](https://pypi.org/project/gensim/) -  Python library for topic modelling\n",
    " - [nltk](https://www.nltk.org/) - natural language toolkit, library to work with language\n",
    " - [pyLDAvis](https://pypi.org/project/pyLDAvis/) - library for interactive topic model visualization."
   ]
  },
  {
   "cell_type": "code",
   "execution_count": 1,
   "metadata": {},
   "outputs": [],
   "source": [
    "try:\n",
    "    import urllib.request\n",
    "except ImportError:\n",
    "    !pip install  --user  urllib\n",
    "    import urllib.request\n",
    "    \n",
    "try:\n",
    "    import pandas as pd\n",
    "except ImportError:\n",
    "    !pip install  --user  pandas\n",
    "    import pandas as pd\n",
    "\n",
    "try:\n",
    "    import gensim\n",
    "    import gensim.corpora as corpora\n",
    "    from gensim.utils import simple_preprocess\n",
    "except:\n",
    "    !pip install  --user  gensim\n",
    "    import gensim\n",
    "    import gensim.corpora as corpora\n",
    "    from gensim.utils import simple_preprocess\n",
    "    \n",
    "try:\n",
    "    import pyLDAvis.gensim\n",
    "except:\n",
    "    !pip install  --user pyldavis\n",
    "    import pyLDAvis.gensim\n",
    "\n",
    "try:\n",
    "    import nltk\n",
    "    from nltk.corpus import wordnet as wn\n",
    "except:\n",
    "    !pip install  --user  nltk\n",
    "    import nltk\n",
    "    from nltk.corpus import wordnet as wn"
   ]
  },
  {
   "cell_type": "markdown",
   "metadata": {},
   "source": [
    "#### Download the cleaned dataset from object store and display first 5 rows\n",
    "There is a copy of cleaned dataset saved to object store. You can download it or use your local copy, created in the second notebook.\n",
    "We reading csv file into pandas dataframe and printing first 5 rows."
   ]
  },
  {
   "cell_type": "code",
   "execution_count": 2,
   "metadata": {},
   "outputs": [
    {
     "data": {
      "text/html": [
       "<div>\n",
       "<style scoped>\n",
       "    .dataframe tbody tr th:only-of-type {\n",
       "        vertical-align: middle;\n",
       "    }\n",
       "\n",
       "    .dataframe tbody tr th {\n",
       "        vertical-align: top;\n",
       "    }\n",
       "\n",
       "    .dataframe thead th {\n",
       "        text-align: right;\n",
       "    }\n",
       "</style>\n",
       "<table border=\"1\" class=\"dataframe\">\n",
       "  <thead>\n",
       "    <tr style=\"text-align: right;\">\n",
       "      <th></th>\n",
       "      <th>created_at_date</th>\n",
       "      <th>hashtags_string</th>\n",
       "      <th>user_string</th>\n",
       "      <th>user_location</th>\n",
       "      <th>longitude</th>\n",
       "      <th>latitude</th>\n",
       "      <th>name</th>\n",
       "      <th>screen_name</th>\n",
       "      <th>extended_tweet</th>\n",
       "      <th>extended_tweet_cleaned</th>\n",
       "    </tr>\n",
       "  </thead>\n",
       "  <tbody>\n",
       "    <tr>\n",
       "      <th>0</th>\n",
       "      <td>2018-11-02 21:01:56</td>\n",
       "      <td></td>\n",
       "      <td>Symin16</td>\n",
       "      <td>Toronto ✈ Calgary</td>\n",
       "      <td>NaN</td>\n",
       "      <td>NaN</td>\n",
       "      <td>♠</td>\n",
       "      <td>jessmayumba85</td>\n",
       "      <td>@Symin16 I’d lik...</td>\n",
       "      <td>I’d like to kn...</td>\n",
       "    </tr>\n",
       "    <tr>\n",
       "      <th>1</th>\n",
       "      <td>2018-11-02 21:02:01</td>\n",
       "      <td></td>\n",
       "      <td>TwoCanSamAdams</td>\n",
       "      <td>YYC</td>\n",
       "      <td>NaN</td>\n",
       "      <td>NaN</td>\n",
       "      <td>hannahrae cuddle...</td>\n",
       "      <td>thimblewad</td>\n",
       "      <td>@TwoCanSamAdams ...</td>\n",
       "      <td>Legit. There a...</td>\n",
       "    </tr>\n",
       "    <tr>\n",
       "      <th>2</th>\n",
       "      <td>2018-11-02 21:02:05</td>\n",
       "      <td>job Calgary Supp...</td>\n",
       "      <td></td>\n",
       "      <td>Calgary</td>\n",
       "      <td>51.004583</td>\n",
       "      <td>-114.007914</td>\n",
       "      <td>TMJ - CAL Manuf ...</td>\n",
       "      <td>tmj_cal_manuf</td>\n",
       "      <td>Can you recommen...</td>\n",
       "      <td>Can you recommen...</td>\n",
       "    </tr>\n",
       "    <tr>\n",
       "      <th>3</th>\n",
       "      <td>2018-11-02 21:02:10</td>\n",
       "      <td></td>\n",
       "      <td></td>\n",
       "      <td>🌎📱</td>\n",
       "      <td>NaN</td>\n",
       "      <td>NaN</td>\n",
       "      <td>Sunny Rai</td>\n",
       "      <td>TheSunsRay</td>\n",
       "      <td>Kids See Ghosts:...</td>\n",
       "      <td>Kids See Ghosts:...</td>\n",
       "    </tr>\n",
       "    <tr>\n",
       "      <th>4</th>\n",
       "      <td>2018-11-02 21:02:13</td>\n",
       "      <td>Calgary job</td>\n",
       "      <td></td>\n",
       "      <td>Calgary</td>\n",
       "      <td>50.997882</td>\n",
       "      <td>-114.074005</td>\n",
       "      <td>TMJ-CAL Retail Jobs</td>\n",
       "      <td>tmj_cal_retail</td>\n",
       "      <td>See our latest #...</td>\n",
       "      <td>See our latest  ...</td>\n",
       "    </tr>\n",
       "  </tbody>\n",
       "</table>\n",
       "</div>"
      ],
      "text/plain": [
       "      created_at_date      hashtags_string     user_string      user_location  \\\n",
       "0 2018-11-02 21:01:56                              Symin16  Toronto ✈ Calgary   \n",
       "1 2018-11-02 21:02:01                       TwoCanSamAdams                YYC   \n",
       "2 2018-11-02 21:02:05  job Calgary Supp...                            Calgary   \n",
       "3 2018-11-02 21:02:10                                                      🌎📱   \n",
       "4 2018-11-02 21:02:13          Calgary job                            Calgary   \n",
       "\n",
       "   longitude    latitude                 name     screen_name  \\\n",
       "0        NaN         NaN                    ♠   jessmayumba85   \n",
       "1        NaN         NaN  hannahrae cuddle...      thimblewad   \n",
       "2  51.004583 -114.007914  TMJ - CAL Manuf ...   tmj_cal_manuf   \n",
       "3        NaN         NaN            Sunny Rai      TheSunsRay   \n",
       "4  50.997882 -114.074005  TMJ-CAL Retail Jobs  tmj_cal_retail   \n",
       "\n",
       "        extended_tweet extended_tweet_cleaned  \n",
       "0  @Symin16 I’d lik...    I’d like to kn...    \n",
       "1  @TwoCanSamAdams ...    Legit. There a...    \n",
       "2  Can you recommen...  Can you recommen...    \n",
       "3  Kids See Ghosts:...  Kids See Ghosts:...    \n",
       "4  See our latest #...  See our latest  ...    "
      ]
     },
     "execution_count": 2,
     "metadata": {},
     "output_type": "execute_result"
    }
   ],
   "source": [
    "target_url=\"https://swift-yeg.cloud.cybera.ca:8080/v1/AUTH_233e84cd313945c992b4b585f7b9125d/geeky-summit/tweets_cleaned1.csv\"\n",
    "file_name=\"tweets_cleaned1.csv\"\n",
    "urllib.request.urlretrieve(target_url, file_name) ## comment out this line to use your local copy \n",
    "\n",
    "tweets = pd.read_csv(file_name,parse_dates=['created_at_date'])  ## reading 'created_at_date' column as timestamp\n",
    "pd.set_option('max_colwidth', 20)\n",
    "tweets.head()"
   ]
  },
  {
   "cell_type": "markdown",
   "metadata": {},
   "source": [
    "### Step1 Subsetting the data\n",
    "To make LDA algoritm work faster we will use only subset of the data instead of the entire dataset.  \n",
    "Let's try subsetting by the day first:"
   ]
  },
  {
   "cell_type": "code",
   "execution_count": 3,
   "metadata": {},
   "outputs": [],
   "source": [
    "tweets_subset_nov5=tweets.loc[tweets[\"created_at_date\"].dt.day==5]"
   ]
  },
  {
   "cell_type": "markdown",
   "metadata": {},
   "source": [
    "### Step2 Preparing data for LDA\n",
    "\n",
    "#### [Tokenization](https://nlp.stanford.edu/IR-book/html/htmledition/tokenization-1.html) is the task of chopping sentence up into pieces, called tokens, (in our case we will split tweets into words).  \n",
    "First we transform extended_tweet_cleaned column into a List of Strings (tweets).   \n",
    "We are only going to be working with this column  - so don't need the entire dataset."
   ]
  },
  {
   "cell_type": "code",
   "execution_count": 4,
   "metadata": {},
   "outputs": [
    {
     "name": "stdout",
     "output_type": "stream",
     "text": [
      "this is the most beautiful picture i have ever seen\n"
     ]
    }
   ],
   "source": [
    "data=tweets_subset_nov5[\"extended_tweet_cleaned\"].tolist()\n",
    "print (data[1]) ###printing 1st element of the list"
   ]
  },
  {
   "cell_type": "markdown",
   "metadata": {},
   "source": [
    "Second we will go through every String(tweet) in  the List and transform it into another List: list of words(tokens).  \n",
    "We are going to use [gensim.utils.simple_preprocess](https://radimrehurek.com/gensim/utils.html#gensim.utils.simple_preprocess) function, it converts a document into a list of lowercase tokens, ignoring tokens that are too short or too long."
   ]
  },
  {
   "cell_type": "code",
   "execution_count": 5,
   "metadata": {},
   "outputs": [
    {
     "name": "stdout",
     "output_type": "stream",
     "text": [
      "['this', 'most', 'beautiful', 'picture', 'have', 'ever', 'seen']\n"
     ]
    }
   ],
   "source": [
    "def string_to_words(sentences):\n",
    "    for sentence in sentences:\n",
    "        yield(gensim.utils.simple_preprocess(sentence,min_len=4, max_len=15))  ## will ignore words shorter than 4 and longer than 15 characters\n",
    "\n",
    "data_tokens = list(string_to_words(data))\n",
    "\n",
    "print(data_tokens[1]) ###printing 1st element of the list after tokenization"
   ]
  },
  {
   "cell_type": "markdown",
   "metadata": {},
   "source": [
    "#### Removing [stowords](https://pythonspot.com/nltk-stop-words/) - removing words that don't add any value and can be excluded from ananlysis\n",
    "NLTK libabry has some predefined stopwords, we will download them and examine:"
   ]
  },
  {
   "cell_type": "code",
   "execution_count": 6,
   "metadata": {},
   "outputs": [
    {
     "name": "stdout",
     "output_type": "stream",
     "text": [
      "[nltk_data] Downloading package stopwords to\n",
      "[nltk_data]     /home/jupyter/nltk_data...\n",
      "[nltk_data]   Package stopwords is already up-to-date!\n",
      "{'out', 'or', 'between', \"aren't\", \"didn't\", 'be', 're', 'wasn', 'them', 'by', 'it', 'hasn', 'does', 'where', 's', 'my', \"she's\", 'me', \"that'll\", 'a', 'couldn', 'mightn', \"won't\", 'did', \"should've\", \"shan't\", 'yours', 'from', 'both', 'have', 'as', 'just', 'who', 'him', 'all', 've', 'll', 'm', 'off', 'why', 'any', 'same', 'and', 'some', 'on', 'myself', 'this', 'again', 'in', \"you're\", 'won', 'o', 'aren', 'theirs', 'there', 'up', 'nor', 'she', 'ain', \"isn't\", 't', 'having', 'was', 'into', \"don't\", 'the', 'if', 'not', 'each', 'has', 'your', 'an', 'before', 'only', 'so', 'been', 'of', 'her', 'are', 'didn', \"weren't\", 'its', 'is', 'doing', 'for', 'shouldn', 'below', 'own', 'most', 'y', 'hadn', 'that', 'i', 'don', 'needn', 'wouldn', 'doesn', 'will', 'against', 'now', 'when', \"you'll\", 'herself', 'do', 'ourselves', 'his', 'then', 'down', 'shan', 'being', 'over', 'after', 'yourself', 'ours', 'those', 'yourselves', 'should', \"needn't\", 'am', 'but', 'our', 'once', 'ma', 'than', \"couldn't\", \"haven't\", 'while', 'whom', \"it's\", \"hasn't\", 'these', 'until', 'few', 'themselves', 'no', 'what', \"mightn't\", 'had', 'during', 'other', 'he', 'how', 'can', 'mustn', 'hers', 'were', 'with', 'we', 'here', 'more', 'through', 'to', 'above', 'you', \"you've\", 'himself', 'because', \"mustn't\", 'about', 'itself', 'their', \"doesn't\", 'under', \"shouldn't\", 'haven', 'they', 'which', 'weren', 'at', 'very', \"hadn't\", 'isn', \"wouldn't\", \"wasn't\", 'further', 'such', 'd', 'too', \"you'd\"}\n"
     ]
    }
   ],
   "source": [
    "nltk.download('stopwords')\n",
    "\n",
    "stop_words = set(nltk.corpus.stopwords.words('english'))\n",
    "#stop_words.add('calgary')\n",
    "print(stop_words)"
   ]
  },
  {
   "cell_type": "markdown",
   "metadata": {},
   "source": [
    "#### [Lemmatization](https://nlp.stanford.edu/IR-book/html/htmledition/stemming-and-lemmatization-1.html)  - reducing word forms and unifying them to one main form.\n",
    "For example:\n",
    ">is $\\Rightarrow$ be   \n",
    ">car, cars $\\Rightarrow$ car\n",
    "\n",
    "We are going to use wn.morphy() function to get lemmas for words.\n"
   ]
  },
  {
   "cell_type": "code",
   "execution_count": 7,
   "metadata": {},
   "outputs": [
    {
     "name": "stdout",
     "output_type": "stream",
     "text": [
      "[nltk_data] Downloading package wordnet to /home/jupyter/nltk_data...\n",
      "[nltk_data]   Package wordnet is already up-to-date!\n"
     ]
    }
   ],
   "source": [
    "nltk.download('wordnet')\n",
    "\n",
    "def get_lemma(word):\n",
    "    lemma = wn.morphy(word)\n",
    "    if lemma is None:\n",
    "        return word\n",
    "    else:\n",
    "        return lemma"
   ]
  },
  {
   "cell_type": "code",
   "execution_count": 8,
   "metadata": {},
   "outputs": [
    {
     "name": "stdout",
     "output_type": "stream",
     "text": [
      "be\n",
      "car\n"
     ]
    }
   ],
   "source": [
    "print(get_lemma(\"is\"))\n",
    "print(get_lemma(\"cars\"))"
   ]
  },
  {
   "cell_type": "code",
   "execution_count": 9,
   "metadata": {
    "scrolled": false
   },
   "outputs": [
    {
     "name": "stdout",
     "output_type": "stream",
     "text": [
      "['beautiful', 'picture', 'ever', 'see']\n"
     ]
    }
   ],
   "source": [
    "def tokens_to_lda(data_tokens):\n",
    "    for data_token in data_tokens:\n",
    "        tokens = [token for token in data_token if token not in stop_words]\n",
    "        tokens = [get_lemma(token) for token in tokens]\n",
    "        yield tokens\n",
    "tokens = list(tokens_to_lda(data_tokens))\n",
    "print(tokens[1]) ###printing 1st element of the list after removing stopwords and lemmatization"
   ]
  },
  {
   "cell_type": "markdown",
   "metadata": {},
   "source": [
    "#### Creating dictionary and corpus objects for LDA model\n",
    "We will create dictionary and corpus for LDA model.  \n",
    "\n",
    "**[Dictionary](https://radimrehurek.com/gensim/corpora/dictionary.html#gensim.corpora.dictionary.Dictionary)** - a mapping between words and their integer ids.  \n",
    "**Corpus** -  list of (word_id, word_frequency) for every document.\n",
    "\n",
    "We will be  using [corpora.Dictionary()](https://radimrehurek.com/gensim/corpora/dictionary.html)  and \n",
    "[doc2bow()](https://kite.com/python/docs/gensim.corpora.dictionary.Dictionary.doc2bow) methods."
   ]
  },
  {
   "cell_type": "code",
   "execution_count": 10,
   "metadata": {},
   "outputs": [
    {
     "name": "stdout",
     "output_type": "stream",
     "text": [
      "First 10 words in the dictionary:  ['beautiful', 'ever', 'picture', 'see', 'advance', 'another', 'assume', 'assumption', 'calgarians', 'days']\n",
      "First tweet, tokens:  ['beautiful', 'picture', 'ever', 'see']\n",
      "First tweet, corpus:  [(0, 1), (1, 1), (2, 1), (3, 1)]\n"
     ]
    }
   ],
   "source": [
    "dictionary = corpora.Dictionary(tokens)\n",
    "corpus = [dictionary.doc2bow(text) for text in tokens]\n",
    "\n",
    "print(\"First 10 words in the dictionary: \", list(dictionary.token2id)[:10])\n",
    "\n",
    "print(\"First tweet, tokens: \",tokens[1])\n",
    "print(\"First tweet, corpus: \",corpus[1])"
   ]
  },
  {
   "cell_type": "markdown",
   "metadata": {},
   "source": [
    "### Step3 Building LDA model with 7 topics and displaying top 8 words for every topic\n",
    "\n",
    "We are going to use [gensim.models.ldamodel.LdaModel()](https://radimrehurek.com/gensim/models/ldamodel.html) function with predefined number of topics - 8 and print top 7 words in every topic."
   ]
  },
  {
   "cell_type": "code",
   "execution_count": 11,
   "metadata": {},
   "outputs": [
    {
     "name": "stdout",
     "output_type": "stream",
     "text": [
      "(0, '0.021*\"calgary\" + 0.016*\"like\" + 0.012*\"want\" + 0.011*\"work\" + 0.010*\"click\" + 0.009*\"latest\" + 0.007*\"alberta\" + 0.006*\"opening\"')\n",
      "(1, '0.011*\"anyone\" + 0.009*\"would\" + 0.009*\"recommend\" + 0.009*\"make\" + 0.008*\"need\" + 0.008*\"work\" + 0.006*\"calgary\" + 0.006*\"check\"')\n",
      "(2, '0.008*\"scotty\" + 0.007*\"alberta\" + 0.007*\"open\" + 0.006*\"calgary\" + 0.005*\"request\" + 0.005*\"think\" + 0.005*\"best\" + 0.005*\"ever\"')\n",
      "(3, '0.012*\"request\" + 0.011*\"close\" + 0.008*\"people\" + 0.008*\"good\" + 0.007*\"love\" + 0.006*\"make\" + 0.006*\"snow\" + 0.006*\"apply\"')\n",
      "(4, '0.010*\"great\" + 0.007*\"time\" + 0.007*\"happy\" + 0.007*\"close\" + 0.006*\"birthday\" + 0.006*\"year\" + 0.006*\"amaze\" + 0.006*\"request\"')\n",
      "(5, '0.011*\"know\" + 0.010*\"great\" + 0.009*\"interest\" + 0.008*\"could\" + 0.007*\"want\" + 0.005*\"year\" + 0.005*\"time\" + 0.005*\"make\"')\n",
      "(6, '0.008*\"like\" + 0.006*\"right\" + 0.006*\"need\" + 0.005*\"know\" + 0.005*\"canadian\" + 0.005*\"back\" + 0.005*\"question\" + 0.004*\"idea\"')\n"
     ]
    }
   ],
   "source": [
    "ldamodel = gensim.models.ldamodel.LdaModel(corpus=corpus,\n",
    "                                           id2word=dictionary,\n",
    "                                           num_topics=7, \n",
    "                                           random_state=100)\n",
    "\n",
    "topics = ldamodel.print_topics(num_words=8)\n",
    "for topic in topics:\n",
    "    print(topic)"
   ]
  },
  {
   "cell_type": "markdown",
   "metadata": {},
   "source": [
    "### Step4 Visualizing the model \n",
    "We are going to use [pyLDAvis.gensim.prepare] (https://pyldavis.readthedocs.io/en/latest/modules/API.html#pyLDAvis.prepare)"
   ]
  },
  {
   "cell_type": "code",
   "execution_count": 12,
   "metadata": {},
   "outputs": [
    {
     "data": {
      "text/html": [
       "\n",
       "<link rel=\"stylesheet\" type=\"text/css\" href=\"https://cdn.rawgit.com/bmabey/pyLDAvis/files/ldavis.v1.0.0.css\">\n",
       "\n",
       "\n",
       "<div id=\"ldavis_el3641403731375762489906648670\"></div>\n",
       "<script type=\"text/javascript\">\n",
       "\n",
       "var ldavis_el3641403731375762489906648670_data = {\"mdsDat\": {\"Freq\": [16.87563133239746, 16.552881240844727, 14.628727912902832, 14.216110229492188, 13.26433277130127, 12.704728126525879, 11.757583618164062], \"cluster\": [1, 1, 1, 1, 1, 1, 1], \"topics\": [1, 2, 3, 4, 5, 6, 7], \"x\": [-0.07704402928873252, 0.10202140429455947, -0.057613702010683936, -0.06269333017348314, 0.07942221692732013, 0.07233570559603984, -0.056428265345019796], \"y\": [-0.09970915679251569, -0.035662095060261266, -0.06936848725110634, 0.08588938496052166, 0.06093669400194278, -0.032830161101998726, 0.09074382124341768]}, \"tinfo\": {\"Category\": [\"Default\", \"Default\", \"Default\", \"Default\", \"Default\", \"Default\", \"Default\", \"Default\", \"Default\", \"Default\", \"Default\", \"Default\", \"Default\", \"Default\", \"Default\", \"Default\", \"Default\", \"Default\", \"Default\", \"Default\", \"Default\", \"Default\", \"Default\", \"Default\", \"Default\", \"Default\", \"Default\", \"Default\", \"Default\", \"Default\", \"Topic1\", \"Topic1\", \"Topic1\", \"Topic1\", \"Topic1\", \"Topic1\", \"Topic1\", \"Topic1\", \"Topic1\", \"Topic1\", \"Topic1\", \"Topic1\", \"Topic1\", \"Topic1\", \"Topic1\", \"Topic1\", \"Topic1\", \"Topic1\", \"Topic1\", \"Topic1\", \"Topic1\", \"Topic1\", \"Topic1\", \"Topic1\", \"Topic1\", \"Topic1\", \"Topic1\", \"Topic1\", \"Topic1\", \"Topic1\", \"Topic1\", \"Topic1\", \"Topic1\", \"Topic1\", \"Topic1\", \"Topic1\", \"Topic1\", \"Topic1\", \"Topic1\", \"Topic1\", \"Topic1\", \"Topic1\", \"Topic1\", \"Topic1\", \"Topic1\", \"Topic1\", \"Topic1\", \"Topic1\", \"Topic1\", \"Topic1\", \"Topic1\", \"Topic1\", \"Topic1\", \"Topic1\", \"Topic1\", \"Topic1\", \"Topic1\", \"Topic1\", \"Topic1\", \"Topic1\", \"Topic1\", \"Topic1\", \"Topic1\", \"Topic1\", \"Topic1\", \"Topic1\", \"Topic1\", \"Topic1\", \"Topic1\", \"Topic1\", \"Topic1\", \"Topic2\", \"Topic2\", \"Topic2\", \"Topic2\", \"Topic2\", \"Topic2\", \"Topic2\", \"Topic2\", \"Topic2\", \"Topic2\", \"Topic2\", \"Topic2\", \"Topic2\", \"Topic2\", \"Topic2\", \"Topic2\", \"Topic2\", \"Topic2\", \"Topic2\", \"Topic2\", \"Topic2\", \"Topic2\", \"Topic2\", \"Topic2\", \"Topic2\", \"Topic2\", \"Topic2\", \"Topic2\", \"Topic2\", \"Topic2\", \"Topic2\", \"Topic2\", \"Topic2\", \"Topic2\", \"Topic2\", \"Topic2\", \"Topic2\", \"Topic2\", \"Topic2\", \"Topic2\", \"Topic2\", \"Topic2\", \"Topic2\", \"Topic2\", \"Topic2\", \"Topic2\", \"Topic2\", \"Topic2\", \"Topic2\", \"Topic2\", \"Topic2\", \"Topic2\", \"Topic2\", \"Topic2\", \"Topic2\", \"Topic2\", \"Topic2\", \"Topic2\", \"Topic2\", \"Topic2\", \"Topic2\", \"Topic2\", \"Topic2\", \"Topic2\", \"Topic2\", \"Topic2\", \"Topic2\", \"Topic2\", \"Topic2\", \"Topic2\", \"Topic3\", \"Topic3\", \"Topic3\", \"Topic3\", \"Topic3\", \"Topic3\", \"Topic3\", \"Topic3\", \"Topic3\", \"Topic3\", \"Topic3\", \"Topic3\", \"Topic3\", \"Topic3\", \"Topic3\", \"Topic3\", \"Topic3\", \"Topic3\", \"Topic3\", \"Topic3\", \"Topic3\", \"Topic3\", \"Topic3\", \"Topic3\", \"Topic3\", \"Topic3\", \"Topic3\", \"Topic3\", \"Topic3\", \"Topic3\", \"Topic3\", \"Topic3\", \"Topic3\", \"Topic3\", \"Topic3\", \"Topic3\", \"Topic3\", \"Topic3\", \"Topic3\", \"Topic3\", \"Topic3\", \"Topic3\", \"Topic3\", \"Topic3\", \"Topic3\", \"Topic3\", \"Topic3\", \"Topic3\", \"Topic3\", \"Topic3\", \"Topic3\", \"Topic3\", \"Topic3\", \"Topic3\", \"Topic3\", \"Topic3\", \"Topic3\", \"Topic3\", \"Topic3\", \"Topic3\", \"Topic3\", \"Topic3\", \"Topic3\", \"Topic3\", \"Topic3\", \"Topic3\", \"Topic4\", \"Topic4\", \"Topic4\", \"Topic4\", \"Topic4\", \"Topic4\", \"Topic4\", \"Topic4\", \"Topic4\", \"Topic4\", \"Topic4\", \"Topic4\", \"Topic4\", \"Topic4\", \"Topic4\", \"Topic4\", \"Topic4\", \"Topic4\", \"Topic4\", \"Topic4\", \"Topic4\", \"Topic4\", \"Topic4\", \"Topic4\", \"Topic4\", \"Topic4\", \"Topic4\", \"Topic4\", \"Topic4\", \"Topic4\", \"Topic4\", \"Topic4\", \"Topic4\", \"Topic4\", \"Topic4\", \"Topic4\", \"Topic4\", \"Topic4\", \"Topic4\", \"Topic4\", \"Topic4\", \"Topic4\", \"Topic4\", \"Topic4\", \"Topic4\", \"Topic4\", \"Topic4\", \"Topic4\", \"Topic4\", \"Topic4\", \"Topic4\", \"Topic4\", \"Topic4\", \"Topic4\", \"Topic4\", \"Topic4\", \"Topic4\", \"Topic4\", \"Topic4\", \"Topic4\", \"Topic4\", \"Topic4\", \"Topic4\", \"Topic4\", \"Topic4\", \"Topic4\", \"Topic4\", \"Topic5\", \"Topic5\", \"Topic5\", \"Topic5\", \"Topic5\", \"Topic5\", \"Topic5\", \"Topic5\", \"Topic5\", \"Topic5\", \"Topic5\", \"Topic5\", \"Topic5\", \"Topic5\", \"Topic5\", \"Topic5\", \"Topic5\", \"Topic5\", \"Topic5\", \"Topic5\", \"Topic5\", \"Topic5\", \"Topic5\", \"Topic5\", \"Topic5\", \"Topic5\", \"Topic5\", \"Topic5\", \"Topic5\", \"Topic5\", \"Topic5\", \"Topic5\", \"Topic5\", \"Topic5\", \"Topic5\", \"Topic5\", \"Topic5\", \"Topic5\", \"Topic5\", \"Topic5\", \"Topic5\", \"Topic5\", \"Topic5\", \"Topic5\", \"Topic5\", \"Topic5\", \"Topic5\", \"Topic5\", \"Topic5\", \"Topic5\", \"Topic5\", \"Topic5\", \"Topic5\", \"Topic5\", \"Topic5\", \"Topic5\", \"Topic5\", \"Topic5\", \"Topic5\", \"Topic5\", \"Topic5\", \"Topic5\", \"Topic5\", \"Topic5\", \"Topic5\", \"Topic5\", \"Topic5\", \"Topic5\", \"Topic5\", \"Topic5\", \"Topic6\", \"Topic6\", \"Topic6\", \"Topic6\", \"Topic6\", \"Topic6\", \"Topic6\", \"Topic6\", \"Topic6\", \"Topic6\", \"Topic6\", \"Topic6\", \"Topic6\", \"Topic6\", \"Topic6\", \"Topic6\", \"Topic6\", \"Topic6\", \"Topic6\", \"Topic6\", \"Topic6\", \"Topic6\", \"Topic6\", \"Topic6\", \"Topic6\", \"Topic6\", \"Topic6\", \"Topic6\", \"Topic6\", \"Topic6\", \"Topic6\", \"Topic6\", \"Topic6\", \"Topic6\", \"Topic6\", \"Topic6\", \"Topic6\", \"Topic6\", \"Topic6\", \"Topic6\", \"Topic6\", \"Topic6\", \"Topic6\", \"Topic6\", \"Topic6\", \"Topic6\", \"Topic6\", \"Topic6\", \"Topic6\", \"Topic6\", \"Topic6\", \"Topic6\", \"Topic6\", \"Topic6\", \"Topic6\", \"Topic6\", \"Topic6\", \"Topic6\", \"Topic6\", \"Topic6\", \"Topic6\", \"Topic6\", \"Topic6\", \"Topic6\", \"Topic6\", \"Topic6\", \"Topic6\", \"Topic6\", \"Topic7\", \"Topic7\", \"Topic7\", \"Topic7\", \"Topic7\", \"Topic7\", \"Topic7\", \"Topic7\", \"Topic7\", \"Topic7\", \"Topic7\", \"Topic7\", \"Topic7\", \"Topic7\", \"Topic7\", \"Topic7\", \"Topic7\", \"Topic7\", \"Topic7\", \"Topic7\", \"Topic7\", \"Topic7\", \"Topic7\", \"Topic7\", \"Topic7\", \"Topic7\", \"Topic7\", \"Topic7\", \"Topic7\", \"Topic7\", \"Topic7\", \"Topic7\", \"Topic7\", \"Topic7\", \"Topic7\", \"Topic7\", \"Topic7\", \"Topic7\", \"Topic7\", \"Topic7\", \"Topic7\", \"Topic7\", \"Topic7\", \"Topic7\", \"Topic7\", \"Topic7\", \"Topic7\", \"Topic7\", \"Topic7\", \"Topic7\", \"Topic7\", \"Topic7\", \"Topic7\", \"Topic7\", \"Topic7\", \"Topic7\", \"Topic7\", \"Topic7\", \"Topic7\", \"Topic7\", \"Topic7\", \"Topic7\"], \"Freq\": [142.0, 68.0, 24.0, 42.0, 68.0, 87.0, 69.0, 105.0, 126.0, 93.0, 50.0, 64.0, 26.0, 47.0, 49.0, 42.0, 28.0, 25.0, 53.0, 63.0, 118.0, 107.0, 69.0, 26.0, 17.0, 60.0, 96.0, 26.0, 93.0, 26.0, 11.858687400817871, 10.22019100189209, 8.609477043151855, 8.609196662902832, 6.982484340667725, 6.982466220855713, 6.9738874435424805, 8.95861530303955, 7.165536403656006, 7.449763298034668, 5.350813388824463, 4.418405532836914, 4.416959285736084, 5.770135879516602, 4.070468425750732, 4.070408344268799, 35.93336868286133, 3.7210781574249268, 3.720449924468994, 3.720062494277954, 3.7195661067962646, 3.7190775871276855, 3.718616247177124, 3.7184667587280273, 3.7184371948242188, 3.718395233154297, 3.71795654296875, 3.7176477909088135, 6.4570722579956055, 5.344290733337402, 7.096014022827148, 9.035064697265625, 23.047496795654297, 9.561570167541504, 42.81535720825195, 6.994846343994141, 13.251911163330078, 11.803362846374512, 4.721220970153809, 3.9715685844421387, 7.679542541503906, 7.266779899597168, 10.415740966796875, 7.571994304656982, 36.403907775878906, 25.264387130737305, 8.30054759979248, 21.24409294128418, 12.149675369262695, 19.837846755981445, 35.0139274597168, 24.664653778076172, 19.663137435913086, 33.18547058105469, 15.247773170471191, 22.28130340576172, 30.341447830200195, 21.376529693603516, 19.40727996826172, 12.086074829101562, 13.167253494262695, 17.05879020690918, 22.798046112060547, 20.69746971130371, 25.646987915039062, 19.91434669494629, 13.62535572052002, 15.417403221130371, 12.15784740447998, 13.779427528381348, 14.426530838012695, 9.313721656799316, 8.955277442932129, 16.06379508972168, 9.15412712097168, 7.258628845214844, 7.25531005859375, 7.253654956817627, 7.2174787521362305, 6.655155658721924, 7.171771049499512, 5.9280476570129395, 5.565467834472656, 5.563889503479004, 5.563309192657471, 5.56090784072876, 5.559678554534912, 5.559187889099121, 13.59388542175293, 4.59595251083374, 3.8716089725494385, 3.870121479034424, 3.8687615394592285, 3.868772029876709, 3.868236780166626, 3.867323398590088, 3.867283582687378, 3.864602565765381, 3.8645575046539307, 3.8635659217834473, 3.8634252548217773, 9.921051025390625, 10.749574661254883, 8.002267837524414, 14.224074363708496, 35.10270309448242, 5.9271321296691895, 9.789056777954102, 17.65971565246582, 8.620356559753418, 5.312587738037109, 9.784921646118164, 31.71460723876953, 43.301849365234375, 10.955788612365723, 39.49518585205078, 13.63227653503418, 21.136831283569336, 8.999228477478027, 8.735897064208984, 8.449655532836914, 28.08529281616211, 16.23567771911621, 12.636658668518066, 17.568204879760742, 16.5844669342041, 19.08270835876465, 13.371041297912598, 10.532203674316406, 9.90930461883545, 15.059379577636719, 17.713346481323242, 13.145115852355957, 11.928585052490234, 13.377105712890625, 11.304512977600098, 11.061288833618164, 11.878151893615723, 10.15795612335205, 10.490681648254395, 10.584147453308105, 11.848114967346191, 7.115365505218506, 8.630586624145508, 7.76131534576416, 7.107492923736572, 5.808408737182617, 6.956555366516113, 5.454103946685791, 5.452040672302246, 5.447212219238281, 5.446207523345947, 5.445687770843506, 5.44106912612915, 7.112133026123047, 3.7938334941864014, 3.7937705516815186, 3.79270076751709, 3.7919790744781494, 3.791532516479492, 3.79074764251709, 3.7896649837493896, 3.787604808807373, 3.787245512008667, 3.7864789962768555, 3.7865993976593018, 3.7827234268188477, 3.436033248901367, 3.71035099029541, 5.890654563903809, 5.214998722076416, 13.68930721282959, 8.600173950195312, 73.00736236572266, 11.387529373168945, 16.608837127685547, 7.481826305389404, 35.825660705566406, 15.616934776306152, 55.23493957519531, 6.068000316619873, 10.47055435180664, 39.051849365234375, 5.452682018280029, 29.446651458740234, 41.627872467041016, 24.85969352722168, 21.410905838012695, 17.879621505737305, 13.341418266296387, 7.786710262298584, 19.25179672241211, 8.354766845703125, 18.135555267333984, 15.42971134185791, 10.22376537322998, 12.968870162963867, 17.073585510253906, 10.879515647888184, 11.397919654846191, 12.648585319519043, 10.857502937316895, 10.642197608947754, 9.705968856811523, 10.145783424377441, 9.930778503417969, 9.731106758117676, 8.912554740905762, 7.587452411651611, 7.231681823730469, 7.227666854858398, 7.226447105407715, 5.53725528717041, 5.535491943359375, 5.532410621643066, 10.624789237976074, 4.214101314544678, 4.2125043869018555, 3.8557286262512207, 9.746021270751953, 3.8550233840942383, 3.855025291442871, 3.854335308074951, 3.8543014526367188, 3.8532965183258057, 3.852684497833252, 3.8507754802703857, 3.85054612159729, 3.8477368354797363, 3.8458025455474854, 3.8441145420074463, 3.822221517562866, 3.7796268463134766, 10.892190933227539, 4.893486022949219, 21.368038177490234, 5.5425848960876465, 9.556559562683105, 10.968509674072266, 37.13262176513672, 12.834729194641113, 6.972891330718994, 6.494549751281738, 40.089237213134766, 8.322014808654785, 7.232271194458008, 5.062969207763672, 12.881331443786621, 6.235805034637451, 25.080102920532227, 6.5479416847229, 26.00602912902832, 18.715269088745117, 13.438224792480469, 7.454086780548096, 24.366790771484375, 9.500120162963867, 12.68065357208252, 21.539987564086914, 13.905389785766602, 17.080904006958008, 12.936161041259766, 15.239691734313965, 14.319764137268066, 17.190858840942383, 12.010266304016113, 12.526864051818848, 11.216300964355469, 11.968825340270996, 11.13709545135498, 11.766424179077148, 10.60297679901123, 9.960984230041504, 9.917082786560059, 10.669574737548828, 7.031395435333252, 7.0243730545043945, 5.742053985595703, 5.736541271209717, 5.386281490325928, 5.386020183563232, 5.38585901260376, 5.384763240814209, 4.099918842315674, 3.749380350112915, 3.7473418712615967, 3.7473502159118652, 3.746041774749756, 3.745938301086426, 3.7454986572265625, 3.7447123527526855, 3.7312402725219727, 3.6977105140686035, 3.396523952484131, 3.606698513031006, 2.80957293510437, 3.7423343658447266, 2.4585790634155273, 2.4582653045654297, 2.457737445831299, 2.4576146602630615, 3.744307518005371, 2.456778049468994, 2.4521677494049072, 18.70444107055664, 18.3172550201416, 7.026808738708496, 4.779836177825928, 4.1190972328186035, 4.337893962860107, 13.652510643005371, 5.65150785446167, 7.710333347320557, 6.144049644470215, 12.927104949951172, 10.288695335388184, 22.44087791442871, 18.5744686126709, 16.723909378051758, 9.710855484008789, 30.261938095092773, 16.12030792236328, 9.513128280639648, 22.73114776611328, 21.153833389282227, 7.044614791870117, 14.789389610290527, 14.38931941986084, 8.936410903930664, 12.338887214660645, 16.079532623291016, 10.973299980163574, 18.311203002929688, 11.138199806213379, 12.25640869140625, 12.722330093383789, 10.314979553222656, 14.609650611877441, 12.129354476928711, 10.402910232543945, 10.102373123168945, 11.984214782714844, 10.156447410583496, 9.74050521850586, 7.1371941566467285, 7.132165431976318, 7.126822471618652, 5.472062110900879, 5.466845989227295, 5.465981960296631, 4.874482154846191, 4.874382495880127, 7.133334636688232, 5.351286888122559, 4.1613545417785645, 4.160783290863037, 4.159916400909424, 7.558767318725586, 3.8041434288024902, 3.8041255474090576, 3.804039239883423, 3.802516460418701, 3.8007760047912598, 3.798997402191162, 3.7985148429870605, 3.798363208770752, 3.7952091693878174, 7.475378513336182, 5.42398738861084, 3.4472594261169434, 3.447242259979248, 3.7442243099212646, 3.7313320636749268, 4.874633312225342, 6.837299823760986, 7.752638339996338, 9.974936485290527, 9.790237426757812, 13.541362762451172, 8.918967247009277, 6.477963447570801, 8.465066909790039, 5.817128658294678, 12.56535530090332, 8.813191413879395, 4.242094993591309, 4.912778854370117, 6.061487197875977, 14.973783493041992, 8.874527931213379, 6.960128307342529, 8.59265422821045, 18.58719825744629, 23.99871826171875, 10.635910987854004, 9.231133460998535, 17.121349334716797, 14.654640197753906, 16.0880184173584, 9.591202735900879, 9.495484352111816, 11.706358909606934, 9.42725944519043, 9.511838912963867, 11.309148788452148, 10.130919456481934, 9.16370964050293, 8.81118106842041, 10.360782623291016, 9.216499328613281, 9.218131065368652, 8.588613510131836, 23.421110153198242, 8.391207695007324, 8.38980484008789, 5.564107418060303, 5.22599983215332, 3.9741432666778564, 7.839076519012451, 5.567598819732666, 3.6349070072174072, 3.6338651180267334, 3.6338484287261963, 3.632728099822998, 3.6322364807128906, 3.6314022541046143, 3.6309165954589844, 3.630810260772705, 3.6294260025024414, 3.6287219524383545, 3.6284468173980713, 3.627610683441162, 3.6223227977752686, 4.969598293304443, 3.587672233581543, 3.82318377494812, 3.531262159347534, 7.543210029602051, 3.474393844604492, 3.4763619899749756, 3.9728081226348877, 6.2542643547058105, 9.511751174926758, 10.301539421081543, 6.057744026184082, 5.912173271179199, 11.660760879516602, 9.535624504089355, 7.81405782699585, 7.604470252990723, 5.705414772033691, 13.89169692993164, 5.722538948059082, 11.745113372802734, 6.626750469207764, 18.212575912475586, 18.606456756591797, 14.245452880859375, 11.947458267211914, 10.812812805175781, 7.158663272857666, 14.479395866394043, 8.882925033569336, 14.508563995361328, 16.520130157470703, 9.684152603149414, 11.655755043029785, 11.77338695526123, 9.825284004211426, 9.999896049499512, 8.377360343933105, 9.632474899291992, 7.776900768280029, 8.420735359191895], \"Term\": [\"calgary\", \"close\", \"scotty\", \"recommend\", \"latest\", \"request\", \"click\", \"great\", \"like\", \"work\", \"interest\", \"anyone\", \"snow\", \"apply\", \"year\", \"team\", \"join\", \"birthday\", \"opening\", \"alberta\", \"want\", \"know\", \"good\", \"amaze\", \"ticket\", \"open\", \"need\", \"family\", \"make\", \"details\", \"podcast\", \"buying\", \"administrator\", \"platform\", \"hughes\", \"baker\", \"refugee\", \"comment\", \"credible\", \"youth\", \"inspire\", \"crap\", \"scientist\", \"dog\", \"toxic\", \"stats\", \"recommend\", \"negative\", \"operate\", \"medical\", \"christian\", \"title\", \"disturb\", \"advise\", \"destruction\", \"salon\", \"treatment\", \"wireless\", \"highly\", \"learning\", \"allow\", \"data\", \"join\", \"process\", \"anyone\", \"final\", \"olympic\", \"company\", \"wednesday\", \"comedy\", \"beer\", \"offer\", \"surprise\", \"leaders\", \"would\", \"check\", \"ride\", \"looking\", \"experience\", \"even\", \"make\", \"come\", \"team\", \"need\", \"park\", \"canada\", \"work\", \"opening\", \"going\", \"trump\", \"also\", \"much\", \"love\", \"latest\", \"calgary\", \"know\", \"start\", \"time\", \"fact\", \"back\", \"want\", \"congratulations\", \"poppy\", \"ticket\", \"management\", \"vaccination\", \"trade\", \"field\", \"fighting\", \"text\", \"incredibly\", \"lesson\", \"die\", \"colleague\", \"anywhere\", \"contribute\", \"agreement\", \"crowd\", \"american\", \"credit\", \"worm\", \"hopefully\", \"banking\", \"keeping\", \"address\", \"actor\", \"conscience\", \"steal\", \"farce\", \"present\", \"wings\", \"found\", \"election\", \"catch\", \"remember\", \"interest\", \"million\", \"inner\", \"family\", \"student\", \"unite\", \"break\", \"could\", \"know\", \"voting\", \"great\", \"another\", \"year\", \"brewing\", \"news\", \"member\", \"want\", \"thanks\", \"please\", \"still\", \"week\", \"time\", \"things\", \"spend\", \"do\", \"come\", \"make\", \"city\", \"years\", \"love\", \"check\", \"vote\", \"like\", \"long\", \"take\", \"people\", \"access\", \"estate\", \"yeah\", \"chair\", \"milk\", \"dumb\", \"university\", \"engineer\", \"reasonable\", \"four\", \"edge\", \"fitness\", \"pattern\", \"lighting\", \"supervisor\", \"valley\", \"banks\", \"ugly\", \"pour\", \"jeez\", \"thanksgiving\", \"cart\", \"heavy\", \"decade\", \"extremely\", \"athlete\", \"lace\", \"comfortable\", \"pumpkin\", \"role\", \"matter\", \"account\", \"calgary\", \"rally\", \"details\", \"lead\", \"click\", \"view\", \"like\", \"quick\", \"meeting\", \"work\", \"october\", \"latest\", \"want\", \"alberta\", \"opening\", \"apply\", \"report\", \"door\", \"good\", \"market\", \"need\", \"right\", \"show\", \"going\", \"great\", \"list\", \"take\", \"back\", \"best\", \"today\", \"canadian\", \"vote\", \"still\", \"happy\", \"values\", \"volunteer\", \"stream\", \"designer\", \"speech\", \"requirement\", \"income\", \"application\", \"health\", \"judges\", \"maximum\", \"movement\", \"streetlight\", \"tower\", \"mail\", \"impress\", \"instructional\", \"spell\", \"explore\", \"scenario\", \"horrible\", \"liquor\", \"simple\", \"conditions\", \"flavor\", \"anyway\", \"least\", \"property\", \"snow\", \"truly\", \"tree\", \"driver\", \"close\", \"garbage\", \"properly\", \"wind\", \"request\", \"girl\", \"own\", \"attack\", \"complete\", \"smoke\", \"good\", \"write\", \"people\", \"apply\", \"working\", \"hill\", \"love\", \"learn\", \"getting\", \"make\", \"city\", \"click\", \"looking\", \"latest\", \"open\", \"want\", \"last\", \"think\", \"right\", \"know\", \"would\", \"like\", \"need\", \"life\", \"today\", \"backlane\", \"duck\", \"skill\", \"alley\", \"education\", \"thats\", \"shoot\", \"joining\", \"belong\", \"malt\", \"entrepreneur\", \"border\", \"church\", \"intern\", \"usual\", \"anniversary\", \"moron\", \"accord\", \"domain\", \"hydrant\", \"financial\", \"bum\", \"min\", \"crack\", \"cut\", \"intent\", \"automotive\", \"self\", \"tie\", \"costs\", \"birthday\", \"amaze\", \"cheer\", \"refuse\", \"otherwise\", \"pull\", \"wait\", \"attention\", \"maintenance\", \"remind\", \"link\", \"season\", \"happy\", \"year\", \"team\", \"point\", \"great\", \"better\", \"fuck\", \"time\", \"close\", \"ready\", \"concern\", \"last\", \"enjoy\", \"first\", \"well\", \"go\", \"request\", \"next\", \"might\", \"help\", \"november\", \"back\", \"open\", \"list\", \"thank\", \"know\", \"game\", \"love\", \"sister\", \"old\", \"hook\", \"dare\", \"distance\", \"depression\", \"focus\", \"listening\", \"ponzi\", \"technical\", \"email\", \"risk\", \"local\", \"olympics\", \"belgian\", \"strip\", \"washing\", \"excuse\", \"creative\", \"absolute\", \"generally\", \"bracket\", \"beside\", \"worst\", \"boxing\", \"computer\", \"reduction\", \"survivor\", \"sexual\", \"lucky\", \"leave\", \"afternoon\", \"thinking\", \"effort\", \"question\", \"private\", \"fast\", \"chocolate\", \"obama\", \"idea\", \"message\", \"achieve\", \"car\", \"button\", \"canadian\", \"child\", \"coffee\", \"contact\", \"right\", \"like\", \"move\", \"find\", \"need\", \"back\", \"know\", \"home\", \"support\", \"people\", \"might\", \"thanks\", \"want\", \"would\", \"many\", \"look\", \"calgary\", \"vote\", \"come\", \"help\", \"scotty\", \"science\", \"vehicle\", \"numbers\", \"chicken\", \"bridgeland\", \"tire\", \"representative\", \"favour\", \"delivery\", \"operator\", \"qualify\", \"dangerous\", \"barlow\", \"facility\", \"introduce\", \"heading\", \"deerfoot\", \"intelligence\", \"consent\", \"consideration\", \"similar\", \"shepherd\", \"patient\", \"rely\", \"timing\", \"clinic\", \"unlikely\", \"wild\", \"beat\", \"safety\", \"walk\", \"review\", \"fossil\", \"awesome\", \"different\", \"order\", \"signal\", \"pic\", \"ever\", \"fuel\", \"sign\", \"traffic\", \"open\", \"alberta\", \"best\", \"support\", \"monday\", \"literally\", \"think\", \"iphone\", \"request\", \"calgary\", \"say\", \"good\", \"need\", \"vote\", \"right\", \"post\", \"great\", \"read\", \"people\"], \"Total\": [142.0, 68.0, 24.0, 42.0, 68.0, 87.0, 69.0, 105.0, 126.0, 93.0, 50.0, 64.0, 26.0, 47.0, 49.0, 42.0, 28.0, 25.0, 53.0, 63.0, 118.0, 107.0, 69.0, 26.0, 17.0, 60.0, 96.0, 26.0, 93.0, 26.0, 12.558993339538574, 10.928590774536133, 9.2980318069458, 9.298076629638672, 7.6676411628723145, 7.667642116546631, 7.667618274688721, 10.008909225463867, 8.01298999786377, 8.370383262634277, 6.037367343902588, 5.105288028717041, 5.1052727699279785, 6.737725257873535, 4.756141185760498, 4.756147384643555, 42.17189025878906, 4.407020092010498, 4.407054901123047, 4.407045841217041, 4.407044887542725, 4.407079696655273, 4.407071590423584, 4.407046794891357, 4.4070539474487305, 4.40710973739624, 4.407077789306641, 4.407085418701172, 7.686575412750244, 6.393311500549316, 8.500603675842285, 10.852551460266113, 28.578248977661133, 11.676254272460938, 64.32708740234375, 8.84847640991211, 18.55008316040039, 16.800151824951172, 5.819273471832275, 4.756868362426758, 10.383644104003906, 9.817096710205078, 15.266987800598145, 10.399871826171875, 78.6936264038086, 50.3304557800293, 11.827614784240723, 43.46665954589844, 20.003747940063477, 40.10334777832031, 93.141357421875, 57.56447982788086, 42.5732307434082, 96.4471206665039, 30.38812255859375, 56.354026794433594, 93.53742980957031, 53.9407844543457, 51.174564361572266, 21.408573150634766, 26.428823471069336, 45.046653747558594, 84.30801391601562, 68.99420928955078, 142.89511108398438, 107.44004821777344, 38.7557373046875, 76.5845718383789, 28.843488693237305, 74.49231719970703, 118.40728759765625, 10.00267219543457, 9.639673233032227, 17.49614906311035, 9.999354362487793, 7.943629741668701, 7.943490505218506, 7.943512439727783, 7.942997932434082, 7.337467670440674, 7.9432148933410645, 6.611102104187012, 6.24796724319458, 6.2479071617126465, 6.247894287109375, 6.247860431671143, 6.247735977172852, 6.247811317443848, 15.429655075073242, 5.278420448303223, 4.552135467529297, 4.55210018157959, 4.551999568939209, 4.552053928375244, 4.552026271820068, 4.551953315734863, 4.552003383636475, 4.551818370819092, 4.551939964294434, 4.551870346069336, 4.55189323425293, 12.142550468444824, 13.207742691040039, 9.722722053527832, 18.69074058532715, 50.21802520751953, 7.3297438621521, 12.950887680053711, 26.382953643798828, 11.623262405395508, 6.590333461761475, 14.249250411987305, 62.524391174316406, 107.44004821777344, 16.991273880004883, 105.73733520507812, 24.08611297607422, 49.37262725830078, 14.044880867004395, 13.710559844970703, 12.99866771697998, 118.40728759765625, 43.35331726074219, 28.10509490966797, 54.59193801879883, 51.516357421875, 76.5845718383789, 34.40167236328125, 20.401973724365234, 17.965328216552734, 57.56447982788086, 93.141357421875, 41.9731559753418, 37.96861267089844, 84.30801391601562, 50.3304557800293, 56.8380241394043, 126.19011688232422, 24.031949996948242, 49.03009796142578, 75.83228302001953, 12.789352416992188, 7.800501823425293, 9.462742805480957, 8.511054992675781, 7.800389289855957, 6.494494915008545, 7.797786712646484, 6.138601779937744, 6.138576030731201, 6.138751029968262, 6.1385931968688965, 6.138443470001221, 6.138111114501953, 8.157402038574219, 4.476788520812988, 4.47678804397583, 4.476796627044678, 4.476771831512451, 4.476779460906982, 4.476738452911377, 4.476864814758301, 4.476718902587891, 4.476756572723389, 4.476712226867676, 4.476898193359375, 4.476791858673096, 4.120894908905029, 4.477851867675781, 7.207320213317871, 6.486796855926514, 17.67930030822754, 11.588327407836914, 142.89511108398438, 16.443706512451172, 26.58730125427246, 10.180066108703613, 69.10498046875, 25.473899841308594, 126.19011688232422, 8.148902893066406, 16.66227912902832, 93.53742980957031, 7.174343585968018, 68.99420928955078, 118.40728759765625, 63.124454498291016, 53.9407844543457, 47.971832275390625, 30.499393463134766, 11.94815444946289, 69.71299743652344, 14.505980491638184, 96.4471206665039, 67.33539581298828, 27.633298873901367, 51.174564361572266, 105.73733520507812, 34.96358871459961, 49.03009796142578, 74.49231719970703, 47.07918167114258, 52.275970458984375, 35.538753509521484, 56.8380241394043, 54.59193801879883, 57.43508529663086, 9.604599952697754, 8.277000427246094, 7.915564060211182, 7.9155120849609375, 7.915337085723877, 6.226200580596924, 6.22623348236084, 6.226101875305176, 11.988627433776855, 4.8988847732543945, 4.898929119110107, 4.537271976470947, 11.47010612487793, 4.537230014801025, 4.537286281585693, 4.537274360656738, 4.5372538566589355, 4.537270545959473, 4.537166118621826, 4.537252902984619, 4.537173748016357, 4.537243843078613, 4.536768913269043, 4.537050724029541, 4.53682804107666, 4.5360026359558105, 13.194214820861816, 5.971773147583008, 26.495119094848633, 6.9324541091918945, 12.93823528289795, 15.648947715759277, 68.8736343383789, 19.31192970275879, 9.422094345092773, 8.703658103942871, 87.49674987792969, 12.403641700744629, 10.624593734741211, 6.570505142211914, 23.627378463745117, 9.072441101074219, 69.71299743652344, 9.777839660644531, 75.83228302001953, 47.971832275390625, 30.33346176147461, 12.061684608459473, 84.30801391601562, 18.631465911865234, 32.97154235839844, 93.141357421875, 41.9731559753418, 69.10498046875, 43.46665954589844, 68.99420928955078, 60.43067932128906, 118.40728759765625, 43.19154357910156, 66.16511535644531, 67.33539581298828, 107.44004821777344, 78.6936264038086, 126.19011688232422, 96.4471206665039, 44.44786071777344, 52.275970458984375, 11.355091094970703, 7.718521595001221, 7.718652725219727, 6.427877426147461, 6.427863121032715, 6.0760674476623535, 6.0760817527771, 6.0761823654174805, 6.076328754425049, 4.785497188568115, 4.43374490737915, 4.433728218078613, 4.433752059936523, 4.4337053298950195, 4.433772563934326, 4.433801651000977, 4.433748245239258, 4.433891773223877, 4.432246685028076, 4.082035064697266, 4.437400817871094, 3.494779586791992, 4.782956123352051, 3.1430633068084717, 3.143066644668579, 3.1430585384368896, 3.1430704593658447, 4.789705753326416, 3.1430935859680176, 3.143050193786621, 25.616670608520508, 26.481157302856445, 9.769515991210938, 6.442164897918701, 5.499074459075928, 5.856146335601807, 21.11168098449707, 7.858151435852051, 11.390097618103027, 8.794791221618652, 24.04374885559082, 18.03592872619629, 57.43508529663086, 49.37262725830078, 42.5732307434082, 18.784231185913086, 105.73733520507812, 40.70741653442383, 19.211782455444336, 76.5845718383789, 68.8736343383789, 12.599849700927734, 43.43458557128906, 43.19154357910156, 19.115516662597656, 34.13333511352539, 57.189884185791016, 28.03036117553711, 87.49674987792969, 29.986970901489258, 37.192710876464844, 45.15247344970703, 27.591346740722656, 74.49231719970703, 60.43067932128906, 34.96358871459961, 33.32233428955078, 107.44004821777344, 44.4118537902832, 84.30801391601562, 7.8214006423950195, 7.821472644805908, 7.821195125579834, 6.154604911804199, 6.154565811157227, 6.154587745666504, 5.558628082275391, 5.5586066246032715, 8.177206039428711, 6.155867576599121, 4.844737529754639, 4.844720363616943, 4.844728469848633, 8.885542869567871, 4.487769603729248, 4.487792015075684, 4.48780632019043, 4.487782955169678, 4.487722396850586, 4.487590312957764, 4.487790584564209, 4.487780570983887, 4.48753547668457, 8.889385223388672, 6.493518352508545, 4.130837440490723, 4.130836486816406, 4.4869184494018555, 4.486867904663086, 5.910334587097168, 8.524633407592773, 9.863998413085938, 13.212385177612305, 13.214794158935547, 19.344467163085938, 12.36430835723877, 8.513188362121582, 11.81285285949707, 7.5557942390441895, 20.051166534423828, 13.65014934539795, 5.195646286010742, 6.470824241638184, 8.845224380493164, 35.538753509521484, 16.23269271850586, 11.265714645385742, 16.793550491333008, 67.33539581298828, 126.19011688232422, 29.065242767333984, 22.79906463623047, 96.4471206665039, 74.49231719970703, 107.44004821777344, 37.75666809082031, 36.92649841308594, 75.83228302001953, 37.192710876464844, 43.35331726074219, 118.40728759765625, 78.6936264038086, 42.05189895629883, 38.64844512939453, 142.89511108398438, 56.8380241394043, 57.56447982788086, 45.15247344970703, 24.11150360107422, 9.10008430480957, 9.100564956665039, 6.256072521209717, 5.914955139160156, 4.6637163162231445, 9.23105239868164, 6.60761833190918, 4.322667598724365, 4.322731018066406, 4.322722911834717, 4.32273006439209, 4.322831153869629, 4.322833061218262, 4.3227925300598145, 4.322876930236816, 4.322954177856445, 4.32294225692749, 4.3229804039001465, 4.3229804039001465, 4.323184967041016, 5.931571006774902, 4.323988437652588, 4.673525333404541, 4.3293890953063965, 9.271712303161621, 4.3266801834106445, 4.332675457000732, 5.020735740661621, 8.008461952209473, 13.05296802520752, 15.442371368408203, 8.380449295043945, 8.252830505371094, 19.935062408447266, 16.111412048339844, 12.513738632202148, 12.396016120910645, 8.285802841186523, 32.47140884399414, 8.625785827636719, 28.777023315429688, 11.4209623336792, 60.43067932128906, 63.124454498291016, 47.07918167114258, 36.92649841308594, 31.01673126220703, 14.718718528747559, 66.16511535644531, 25.270261764526367, 87.49674987792969, 142.89511108398438, 36.27075958251953, 69.71299743652344, 96.4471206665039, 56.8380241394043, 67.33539581298828, 32.26226806640625, 105.73733520507812, 32.4743537902832, 75.83228302001953], \"loglift\": [30.0, 29.0, 28.0, 27.0, 26.0, 25.0, 24.0, 23.0, 22.0, 21.0, 20.0, 19.0, 18.0, 17.0, 16.0, 15.0, 14.0, 13.0, 12.0, 11.0, 10.0, 9.0, 8.0, 7.0, 6.0, 5.0, 4.0, 3.0, 2.0, 1.0, 1.7218999862670898, 1.7122999429702759, 1.7023999691009521, 1.702299952507019, 1.6857000589370728, 1.6857000589370728, 1.684499979019165, 1.6684000492095947, 1.6675000190734863, 1.6627999544143677, 1.6585999727249146, 1.6347999572753906, 1.6345000267028809, 1.6243000030517578, 1.6236000061035156, 1.6236000061035156, 1.6191999912261963, 1.6101000308990479, 1.6098999977111816, 1.6097999811172485, 1.6096999645233154, 1.6095999479293823, 1.6094000339508057, 1.6094000339508057, 1.6094000339508057, 1.6094000339508057, 1.6093000173568726, 1.6092000007629395, 1.6050000190734863, 1.600100040435791, 1.5987000465393066, 1.5959999561309814, 1.5642000436782837, 1.5794999599456787, 1.3722000122070312, 1.5441999435424805, 1.4429999589920044, 1.426300048828125, 1.570199966430664, 1.5988999605178833, 1.4775999784469604, 1.4785000085830688, 1.3969000577926636, 1.4620000123977661, 1.0083999633789062, 1.0901000499725342, 1.4251999855041504, 1.0634000301361084, 1.2806999683380127, 1.0753999948501587, 0.8008999824523926, 0.9318000078201294, 1.0068000555038452, 0.7124000191688538, 1.0896999835968018, 0.8514000177383423, 0.6535000205039978, 0.8536999821662903, 0.8097000122070312, 1.2075999975204468, 1.0825999975204468, 0.8083000183105469, 0.4715000092983246, 0.5752999782562256, 0.06159999966621399, 0.09380000084638596, 0.734000027179718, 0.17640000581741333, 0.9154000282287598, 0.09179999679327011, -0.32580000162124634, 1.7272000312805176, 1.725000023841858, 1.7131999731063843, 1.7102999687194824, 1.708400011062622, 1.7079999446868896, 1.707800030708313, 1.7028000354766846, 1.7009999752044678, 1.6964000463485718, 1.6895999908447266, 1.6828999519348145, 1.6827000379562378, 1.6826000213623047, 1.6821000576019287, 1.6819000244140625, 1.6818000078201294, 1.6719000339508057, 1.6601999998092651, 1.6367000341415405, 1.636299967765808, 1.6360000371932983, 1.6360000371932983, 1.6358000040054321, 1.635599970817566, 1.635599970817566, 1.6348999738693237, 1.6348999738693237, 1.6346999406814575, 1.634600043296814, 1.59660005569458, 1.5927000045776367, 1.6038999557495117, 1.5255000591278076, 1.440500020980835, 1.5861999988555908, 1.5187000036239624, 1.3971999883651733, 1.4996999502182007, 1.5830999612808228, 1.422700047492981, 1.1197999715805054, 0.8899000287055969, 1.3597999811172485, 0.8137999773025513, 1.2294000387191772, 0.9502000212669373, 1.3535000085830688, 1.3479000329971313, 1.367900013923645, 0.3596999943256378, 0.8163999915122986, 0.9993000030517578, 0.6647999882698059, 0.6651999950408936, 0.4090000092983246, 0.853600025177002, 1.1374000310897827, 1.2036000490188599, 0.4577000141143799, 0.1387999951839447, 0.6376000046730042, 0.6407999992370605, -0.04230000078678131, 0.3052000105381012, 0.16189999878406525, -0.5644999742507935, 0.9375, 0.2567000091075897, -0.17059999704360962, 1.8457000255584717, 1.830299973487854, 1.8301000595092773, 1.8300000429153442, 1.829200029373169, 1.8105000257492065, 1.8079999685287476, 1.8040000200271606, 1.8035999536514282, 1.8027000427246094, 1.8025000095367432, 1.80239999294281, 1.8015999794006348, 1.785099983215332, 1.756700038909912, 1.756600022315979, 1.7563999891281128, 1.7561999559402466, 1.75600004196167, 1.7559000253677368, 1.7554999589920044, 1.7549999952316284, 1.7548999786376953, 1.754699945449829, 1.754699945449829, 1.7537000179290771, 1.740399956703186, 1.7342000007629395, 1.7204999923706055, 1.7039999961853027, 1.6663999557495117, 1.6239999532699585, 1.250599980354309, 1.554800033569336, 1.45169997215271, 1.6141999959945679, 1.2652000188827515, 1.4328999519348145, 1.0959999561309814, 1.6273000240325928, 1.4575999975204468, 1.048699975013733, 1.6477999687194824, 1.0707000494003296, 0.876800000667572, 0.9902999997138977, 0.998199999332428, 0.9351999759674072, 1.0952999591827393, 1.49399995803833, 0.6353999972343445, 1.3704999685287476, 0.25110000371932983, 0.4487999975681305, 0.9279000163078308, 0.5494999885559082, 0.09880000352859497, 0.754800021648407, 0.46320000290870667, 0.14900000393390656, 0.4551999866962433, 0.3305000066757202, 0.6243000030517578, 0.19900000095367432, 0.21789999306201935, 0.1468999981880188, 1.8760000467300415, 1.863800048828125, 1.8603999614715576, 1.8598999977111816, 1.8596999645233154, 1.8335000276565552, 1.8331999778747559, 1.8327000141143799, 1.8300000429153442, 1.8001999855041504, 1.7998000383377075, 1.7879999876022339, 1.7878999710083008, 1.7878999710083008, 1.7877999544143677, 1.7877000570297241, 1.7877000570297241, 1.7874000072479248, 1.7872999906539917, 1.7867000102996826, 1.7867000102996826, 1.7860000133514404, 1.785599946975708, 1.785099983215332, 1.7793999910354614, 1.768399953842163, 1.7590999603271484, 1.7517000436782837, 1.735700011253357, 1.7269999980926514, 1.6477999687194824, 1.5953999757766724, 1.3329999446868896, 1.542199969291687, 1.6497999429702759, 1.6579999923706055, 1.170300006866455, 1.5516999959945679, 1.5662000179290771, 1.6901999711990356, 1.3442000150680542, 1.5758999586105347, 0.9284999966621399, 1.5498000383377075, 0.8805999755859375, 1.0095000267028809, 1.1366000175476074, 1.469499945640564, 0.7095000147819519, 1.2771999835968018, 0.995199978351593, 0.48660001158714294, 0.8460000157356262, 0.5530999898910522, 0.7387999892234802, 0.4406999945640564, 0.5109000205993652, 0.020999999716877937, 0.6708999872207642, 0.2865000069141388, 0.15850000083446503, -0.24379999935626984, -0.0044999998062849045, -0.42170000076293945, -0.257099986076355, 0.4551999866962433, 0.28850001096725464, 1.957800030708313, 1.926900029182434, 1.9257999658584595, 1.9072999954223633, 1.9062999486923218, 1.8996000289916992, 1.8995000123977661, 1.8995000123977661, 1.8992999792099, 1.8654999732971191, 1.8523999452590942, 1.8518999814987183, 1.8518999814987183, 1.8516000509262085, 1.8515000343322754, 1.8514000177383423, 1.851199984550476, 1.847599983215332, 1.8388999700546265, 1.8361999988555908, 1.8128000497817993, 1.801900029182434, 1.7747000455856323, 1.7745000123977661, 1.7742999792099, 1.7740999460220337, 1.7740999460220337, 1.773900032043457, 1.7736999988555908, 1.7719000577926636, 1.7056000232696533, 1.6514999866485596, 1.690600037574768, 1.72160005569458, 1.7310999631881714, 1.7200000286102295, 1.5842000246047974, 1.690500020980835, 1.6298999786376953, 1.6613999605178833, 1.3995000123977661, 1.458799958229065, 1.080299973487854, 1.0425000190734863, 1.0857000350952148, 1.3602999448776245, 0.7689999938011169, 1.0937999486923218, 1.317199945449829, 0.805400013923645, 0.8396000266075134, 1.4386999607086182, 0.9427000284194946, 0.9208999872207642, 1.2596999406814575, 1.0025999546051025, 0.7512999773025513, 1.0822999477386475, 0.4560000002384186, 1.0297000408172607, 0.9100000262260437, 0.7534000277519226, 1.0362000465393066, 0.3910999894142151, 0.4142000079154968, 0.8079000115394592, 0.8266000151634216, -0.17329999804496765, 0.544700026512146, -0.13809999823570251, 1.9716999530792236, 1.970900058746338, 1.9701999425888062, 1.9457000494003296, 1.944700002670288, 1.9444999694824219, 1.9319000244140625, 1.9318000078201294, 1.9265999794006348, 1.9230999946594238, 1.9111000299453735, 1.9110000133514404, 1.9107999801635742, 1.9014999866485596, 1.8978999853134155, 1.8978999853134155, 1.8978999853134155, 1.8975000381469727, 1.8970999717712402, 1.8966000080108643, 1.896399974822998, 1.896399974822998, 1.8955999612808228, 1.8899999856948853, 1.8832000494003296, 1.8823000192642212, 1.8823000192642212, 1.882200002670288, 1.8788000345230103, 1.8704999685287476, 1.8425999879837036, 1.8222999572753906, 1.782099962234497, 1.763200044631958, 1.7065000534057617, 1.7366000413894653, 1.7899999618530273, 1.7300000190734863, 1.8016999959945679, 1.595900058746338, 1.6256999969482422, 1.8603999614715576, 1.7877000570297241, 1.6852999925613403, 1.1988999843597412, 1.4594000577926636, 1.5815999507904053, 1.3931000232696533, 0.7760000228881836, 0.4034000039100647, 1.0578999519348145, 1.15910005569458, 0.3345000147819519, 0.4372999966144562, 0.16429999470710754, 0.6929000020027161, 0.7050999999046326, 0.19480000436306, 0.6906999945640564, 0.5462999939918518, -0.28529998660087585, 0.013199999928474426, 0.5394999980926514, 0.5846999883651733, -0.5608999729156494, 0.24400000274181366, 0.23149999976158142, 0.4036000072956085, 2.111599922180176, 2.0596001148223877, 2.0594000816345215, 2.0234999656677246, 2.0167999267578125, 1.9807000160217285, 1.9772000312805176, 1.9694000482559204, 1.9673999547958374, 1.9671000242233276, 1.9671000242233276, 1.9667999744415283, 1.966599941253662, 1.9664000272750854, 1.9663000106811523, 1.9661999940872192, 1.9658000469207764, 1.9656000137329102, 1.965499997138977, 1.9652999639511108, 1.9637999534606934, 1.9637000560760498, 1.9539999961853027, 1.9398000240325928, 1.936900019645691, 1.934399962425232, 1.9213000535964966, 1.9205000400543213, 1.906599998474121, 1.893399953842163, 1.8242000341415405, 1.73580002784729, 1.816100001335144, 1.8071000576019287, 1.6044000387191772, 1.6161999702453613, 1.669800043106079, 1.6519999504089355, 1.7675000429153442, 1.291599988937378, 1.730299949645996, 1.2445000410079956, 1.5963000059127808, 0.9412999749183655, 0.9190999865531921, 0.9452999830245972, 1.0123000144958496, 1.086899995803833, 1.4198999404907227, 0.6212000250816345, 1.0951999425888062, 0.34380000829696655, -0.016899999231100082, 0.8202000260353088, 0.3521000146865845, 0.03750000149011612, 0.3853999972343445, 0.23360000550746918, 0.7922999858856201, -0.2551000118255615, 0.7113999724388123, -0.05719999969005585], \"logprob\": [30.0, 29.0, 28.0, 27.0, 26.0, 25.0, 24.0, 23.0, 22.0, 21.0, 20.0, 19.0, 18.0, 17.0, 16.0, 15.0, 14.0, 13.0, 12.0, 11.0, 10.0, 9.0, 8.0, 7.0, 6.0, 5.0, 4.0, 3.0, 2.0, 1.0, -5.812099933624268, -5.9608001708984375, -6.132299900054932, -6.132299900054932, -6.341700077056885, -6.341700077056885, -6.342899799346924, -6.09250020980835, -6.315800189971924, -6.276899814605713, -6.607900142669678, -6.799300193786621, -6.799699783325195, -6.532400131225586, -6.881400108337402, -6.881400108337402, -4.703400135040283, -6.971099853515625, -6.97130012512207, -6.971399784088135, -6.971499919891357, -6.97160005569458, -6.971799850463867, -6.971799850463867, -6.971799850463867, -6.971799850463867, -6.97189998626709, -6.9720001220703125, -6.419899940490723, -6.609099864959717, -6.3256001472473145, -6.084000110626221, -5.147600173950195, -6.027400016784668, -4.528200149536133, -6.339900016784668, -5.701000213623047, -5.816699981689453, -6.732999801635742, -6.906000137329102, -6.246600151062012, -6.301799774169922, -5.941800117492676, -6.260700225830078, -4.690400123596191, -5.055699825286865, -6.168799877166748, -5.229000091552734, -5.787799835205078, -5.297500133514404, -4.729400157928467, -5.079699993133545, -5.306399822235107, -4.7829999923706055, -5.560699939727783, -5.181399822235107, -4.872600078582764, -5.222799777984619, -5.319499969482422, -5.793099880218506, -5.707399845123291, -5.448500156402588, -5.158400058746338, -5.255099773406982, -5.0406999588012695, -5.293700218200684, -5.6732001304626465, -5.549600124359131, -5.787099838256836, -5.661900043487549, -5.616000175476074, -6.034299850463867, -6.073599815368652, -5.489200115203857, -6.051599979400635, -6.283599853515625, -6.28410005569458, -6.284299850463867, -6.289299964904785, -6.3703999519348145, -6.2957000732421875, -6.486100196838379, -6.549200057983398, -6.549499988555908, -6.549600124359131, -6.550000190734863, -6.550300121307373, -6.5503997802734375, -5.656199932098389, -6.740600109100342, -6.912099838256836, -6.912499904632568, -6.912899971008301, -6.912899971008301, -6.913000106811523, -6.9131999015808105, -6.913300037384033, -6.913899898529053, -6.914000034332275, -6.9141998291015625, -6.914299964904785, -5.971099853515625, -5.890900135040283, -6.186100006103516, -5.610899925231934, -4.707499980926514, -6.486299991607666, -5.984499931335449, -5.394499778747559, -6.111700057983398, -6.595699787139893, -5.985000133514404, -4.809000015258789, -4.497600078582764, -5.8719000816345215, -4.589600086212158, -5.65339994430542, -5.214799880981445, -6.068699836730957, -6.098400115966797, -6.131700038909912, -4.930600166320801, -5.478600025177002, -5.7291998863220215, -5.399700164794922, -5.457300186157227, -5.316999912261963, -5.672699928283691, -5.911399841308594, -5.972300052642822, -5.553800106048584, -5.391499996185303, -5.689799785614014, -5.786900043487549, -5.672299861907959, -5.84060001373291, -5.862400054931641, -5.791100025177002, -5.947500228881836, -5.915299892425537, -5.906400203704834, -5.670100212097168, -6.179999828338623, -5.9868998527526855, -6.093100070953369, -6.181099891662598, -6.382900238037109, -6.202499866485596, -6.445899963378906, -6.446199893951416, -6.4471001625061035, -6.447299957275391, -6.447400093078613, -6.448299884796143, -6.1803998947143555, -6.808899879455566, -6.808899879455566, -6.809199810028076, -6.809299945831299, -6.809500217437744, -6.809700012207031, -6.809999942779541, -6.810500144958496, -6.8105998039245605, -6.810800075531006, -6.810800075531006, -6.811800003051758, -6.907899856567383, -6.831099987030029, -6.368899822235107, -6.490699768066406, -5.525599956512451, -5.990499973297119, -3.8517000675201416, -5.709700107574463, -5.332300186157227, -6.129799842834473, -4.563600063323975, -5.393899917602539, -4.1305999755859375, -6.339200019836426, -5.793700218200684, -4.47730016708374, -6.446100234985352, -4.759699821472168, -4.41349983215332, -4.928999900817871, -5.0782999992370605, -5.258600234985352, -5.551400184631348, -6.089799880981445, -5.184599876403809, -6.019400119781494, -5.2444000244140625, -5.405900001525879, -5.817500114440918, -5.579699993133545, -5.304699897766113, -5.75540018081665, -5.708799839019775, -5.604700088500977, -5.757400035858154, -5.777400016784668, -5.869500160217285, -5.825200080871582, -5.84660005569458, -5.8668999671936035, -5.926199913024902, -6.087100028991699, -6.1350998878479, -6.135700225830078, -6.135900020599365, -6.402100086212158, -6.402400016784668, -6.4029998779296875, -5.750400066375732, -6.67519998550415, -6.675600051879883, -6.764100074768066, -5.8368000984191895, -6.764200210571289, -6.764200210571289, -6.764400005340576, -6.764400005340576, -6.764699935913086, -6.764900207519531, -6.7652997970581055, -6.765399932861328, -6.76609992980957, -6.766600131988525, -6.767099857330322, -6.772799968719482, -6.783999919891357, -5.725599765777588, -6.525700092315674, -5.051700115203857, -6.401199817657471, -5.856400012969971, -5.718599796295166, -4.499100208282471, -5.561500072479248, -6.171599864959717, -6.242700099945068, -4.422500133514404, -5.994699954986572, -6.1350998878479, -6.491700172424316, -5.557799816131592, -6.283299922943115, -4.891499996185303, -6.234499931335449, -4.855299949645996, -5.184299945831299, -5.515500068664551, -6.104899883270264, -4.920400142669678, -5.862299919128418, -5.573500156402588, -5.043700218200684, -5.481299877166748, -5.275700092315674, -5.553599834442139, -5.389699935913086, -5.452000141143799, -5.269199848175049, -5.627900123596191, -5.585700035095215, -5.696300029754639, -5.63129997253418, -5.7032999992370605, -5.648399829864502, -5.752500057220459, -5.814899921417236, -5.819399833679199, -5.6768999099731445, -6.093900203704834, -6.094900131225586, -6.296500205993652, -6.297500133514404, -6.360499858856201, -6.360499858856201, -6.360499858856201, -6.360799789428711, -6.633399963378906, -6.722700119018555, -6.723299980163574, -6.723299980163574, -6.723599910736084, -6.723700046539307, -6.723800182342529, -6.723999977111816, -6.72760009765625, -6.736599922180176, -6.821599960327148, -6.761499881744385, -7.011300086975098, -6.724599838256836, -7.144700050354004, -7.144899845123291, -7.145100116729736, -7.145100116729736, -6.724100112915039, -7.145500183105469, -7.14739990234375, -5.115600109100342, -5.136499881744385, -6.094600200653076, -6.479899883270264, -6.628699779510498, -6.576900005340576, -5.4303998947143555, -6.312399864196777, -6.001800060272217, -6.228799819946289, -5.485000133514404, -5.7133002281188965, -4.9334001541137695, -5.122499942779541, -5.227499961853027, -5.771100044250488, -4.634399890899658, -5.264200210571289, -5.7916998863220215, -4.920599937438965, -4.992499828338623, -6.092100143432617, -5.350399971008301, -5.377799987792969, -5.8541998863220215, -5.531599998474121, -5.2667999267578125, -5.648900032043457, -5.1367998123168945, -5.633900165557861, -5.538300037384033, -5.500999927520752, -5.710700035095215, -5.362599849700928, -5.548699855804443, -5.702199935913086, -5.731599807739258, -5.560699939727783, -5.726200103759766, -5.76800012588501, -6.035900115966797, -6.036600112915039, -6.037399768829346, -6.301599979400635, -6.302499771118164, -6.302700042724609, -6.417200088500977, -6.417200088500977, -6.036399841308594, -6.32390022277832, -6.575399875640869, -6.575500011444092, -6.575699806213379, -5.978499889373779, -6.66510009765625, -6.66510009765625, -6.665200233459473, -6.665599822998047, -6.665999889373779, -6.666500091552734, -6.666600227355957, -6.666600227355957, -6.667500019073486, -5.98960018157959, -6.310400009155273, -6.763599872589111, -6.763599872589111, -6.681000232696533, -6.684500217437744, -6.417200088500977, -6.078800201416016, -5.953199863433838, -5.701099872589111, -5.719799995422363, -5.395500183105469, -5.813000202178955, -6.132800102233887, -5.865300178527832, -6.2403998374938965, -5.470300197601318, -5.824999809265137, -6.55620002746582, -6.40939998626709, -6.1992998123168945, -5.294899940490723, -5.817999839782715, -6.060999870300293, -5.850299835205078, -5.078700065612793, -4.823200225830078, -5.63700008392334, -5.778600215911865, -5.160900115966797, -5.316500186920166, -5.223100185394287, -5.7403998374938965, -5.750400066375732, -5.541100025177002, -5.757599830627441, -5.748700141906738, -5.5756001472473145, -5.6855998039245605, -5.785999774932861, -5.825200080871582, -5.6631999015808105, -5.780200004577637, -5.78000020980835, -5.850800037384033, -4.770100116729736, -5.796599864959717, -5.7967000007629395, -6.207399845123291, -6.270100116729736, -6.543900012969971, -5.86460018157959, -6.2067999839782715, -6.633200168609619, -6.633399963378906, -6.633500099182129, -6.633800029754639, -6.633900165557861, -6.634099960327148, -6.634300231933594, -6.634300231933594, -6.634699821472168, -6.634900093078613, -6.634900093078613, -6.635200023651123, -6.636600017547607, -6.320400238037109, -6.646200180053711, -6.582699775695801, -6.662099838256836, -5.90310001373291, -6.678299903869629, -6.677800178527832, -6.544300079345703, -6.0904998779296875, -5.671199798583984, -5.5914998054504395, -6.122399806976318, -6.146699905395508, -5.46750020980835, -5.668700218200684, -5.867800235748291, -5.894999980926514, -6.182300090789795, -5.292500019073486, -6.179299831390381, -5.460299968719482, -6.032599925994873, -5.021599769592285, -5.000199794769287, -5.267300128936768, -5.44320011138916, -5.543000221252441, -5.955399990081787, -5.250999927520752, -5.73960018157959, -5.249000072479248, -5.119200229644775, -5.653299808502197, -5.467899799346924, -5.457900047302246, -5.638800144195557, -5.621200084686279, -5.7982001304626465, -5.658599853515625, -5.872600078582764, -5.793000221252441]}, \"token.table\": {\"Topic\": [6, 3, 5, 1, 2, 3, 6, 6, 2, 2, 1, 1, 4, 6, 2, 1, 2, 3, 4, 5, 6, 7, 5, 1, 1, 2, 3, 4, 5, 6, 7, 1, 2, 4, 5, 6, 7, 2, 3, 5, 1, 2, 3, 4, 6, 1, 2, 3, 4, 5, 6, 7, 4, 2, 4, 2, 3, 4, 7, 3, 3, 4, 3, 5, 5, 1, 2, 4, 6, 7, 1, 2, 3, 4, 5, 6, 7, 5, 1, 2, 3, 7, 6, 7, 1, 3, 6, 5, 6, 1, 2, 3, 4, 5, 6, 7, 1, 2, 3, 4, 5, 6, 7, 3, 5, 6, 5, 6, 6, 2, 3, 5, 7, 2, 6, 7, 5, 1, 6, 1, 1, 2, 3, 4, 5, 6, 7, 1, 2, 3, 4, 5, 6, 7, 1, 2, 3, 4, 5, 6, 7, 6, 7, 3, 1, 2, 3, 1, 2, 4, 5, 6, 7, 4, 5, 7, 3, 4, 6, 7, 1, 5, 6, 1, 5, 1, 2, 3, 4, 5, 6, 1, 2, 3, 4, 5, 7, 7, 1, 2, 3, 4, 5, 6, 7, 2, 5, 6, 7, 2, 1, 2, 3, 4, 5, 6, 1, 3, 1, 1, 2, 3, 4, 5, 6, 7, 2, 4, 5, 6, 1, 2, 3, 4, 5, 6, 7, 4, 2, 2, 7, 7, 1, 2, 3, 4, 6, 2, 5, 1, 2, 3, 4, 5, 6, 7, 5, 1, 6, 1, 2, 2, 5, 7, 6, 1, 2, 3, 7, 7, 6, 4, 1, 1, 3, 4, 2, 1, 4, 5, 6, 7, 6, 1, 2, 3, 6, 1, 5, 1, 2, 3, 7, 4, 5, 5, 3, 3, 5, 4, 6, 2, 3, 7, 6, 3, 1, 3, 4, 5, 6, 5, 3, 1, 2, 3, 4, 5, 6, 7, 1, 2, 3, 4, 5, 6, 7, 6, 1, 4, 7, 4, 3, 7, 1, 2, 3, 4, 5, 6, 1, 2, 6, 7, 2, 1, 6, 7, 2, 2, 1, 5, 6, 5, 1, 2, 3, 4, 5, 6, 7, 1, 2, 3, 4, 5, 6, 7, 3, 4, 6, 3, 7, 1, 2, 4, 3, 2, 4, 5, 7, 2, 3, 7, 1, 2, 3, 4, 5, 6, 7, 1, 4, 6, 6, 1, 3, 4, 5, 7, 2, 4, 7, 1, 2, 3, 4, 5, 6, 7, 1, 2, 3, 4, 5, 6, 7, 1, 2, 3, 4, 5, 6, 7, 1, 2, 3, 4, 5, 6, 7, 1, 2, 3, 4, 5, 6, 7, 7, 4, 7, 3, 1, 2, 4, 5, 6, 7, 1, 4, 2, 3, 4, 1, 2, 3, 5, 6, 7, 6, 2, 4, 1, 5, 1, 2, 3, 6, 7, 4, 4, 2, 2, 5, 1, 4, 7, 5, 1, 2, 3, 4, 6, 7, 5, 7, 2, 3, 4, 5, 7, 3, 1, 2, 4, 5, 4, 2, 1, 2, 3, 4, 5, 6, 7, 3, 1, 2, 3, 4, 5, 7, 1, 3, 4, 7, 3, 6, 1, 4, 1, 2, 3, 4, 5, 6, 1, 3, 4, 5, 6, 2, 1, 2, 3, 4, 5, 6, 7, 3, 1, 2, 3, 4, 5, 6, 7, 1, 2, 3, 5, 6, 4, 1, 2, 3, 4, 5, 6, 7, 6, 1, 7, 6, 1, 2, 3, 4, 5, 6, 7, 1, 2, 3, 4, 5, 6, 7, 1, 2, 3, 4, 5, 6, 7, 1, 2, 3, 4, 5, 6, 7, 6, 4, 3, 5, 1, 2, 3, 4, 5, 6, 7, 5, 2, 1, 2, 3, 4, 5, 6, 7, 3, 5, 6, 7, 2, 3, 6, 4, 1, 2, 3, 5, 2, 4, 6, 7, 2, 4, 5, 6, 7, 1, 3, 4, 5, 6, 7, 3, 2, 5, 1, 3, 4, 5, 6, 7, 5, 2, 3, 4, 5, 6, 7, 4, 1, 2, 3, 4, 5, 6, 7, 1, 2, 3, 4, 5, 6, 7, 1, 1, 2, 6, 7, 1, 2, 3, 4, 5, 6, 7, 1, 2, 3, 5, 6, 7, 5, 6, 1, 3, 7, 1, 2, 6, 6, 1, 2, 4, 7, 6, 1, 2, 3, 4, 5, 6, 7, 1, 2, 3, 4, 5, 7, 1, 7, 1, 5, 7, 5, 6, 4, 5, 1, 2, 3, 6, 7, 3, 1, 2, 3, 4, 5, 6, 7, 4, 7, 1, 1, 2, 3, 4, 5, 6, 7, 1, 3, 4, 5, 6, 6, 2, 1, 2, 3, 4, 5, 6, 7, 3, 2, 2, 4, 6, 1, 4, 2, 4, 7, 4, 3, 5, 3, 6, 7, 1, 2, 3, 5, 6, 1, 3, 3, 5, 6, 1, 2, 3, 4, 5, 6, 7, 1, 2, 3, 5, 6, 3, 1, 2, 3, 4, 5, 7, 6, 1, 5, 6, 7, 1, 2, 4, 5, 7, 5, 6, 1, 2, 3, 4, 5, 6, 7, 1, 2, 3, 4, 5, 6, 7, 4, 4, 7, 1, 2, 3, 1, 2, 3, 4, 5, 6, 7, 6, 3, 5, 7, 1, 1, 2, 3, 4, 5, 7, 4, 7, 1, 7, 1, 2, 3, 4, 5, 7, 5, 6, 7, 5, 1, 2, 3, 4, 5, 6, 7, 2, 3, 4, 5, 6, 7, 4, 6, 7, 7, 4, 6, 5, 1, 3, 4, 6, 1, 3, 4, 4, 4, 2, 4, 5, 7, 1, 2, 3, 4, 5, 6, 7, 1, 2, 1, 2, 3, 4, 5, 6, 7, 4, 4, 7, 6, 2, 5, 3, 1, 2, 3, 4, 6, 7, 1, 5, 6, 1, 2, 3, 4, 5, 6, 7, 1, 2, 4, 5, 6, 2, 1, 2, 3, 4, 5, 6, 7, 1, 2, 3, 4, 5, 6, 7, 3, 5, 1, 2, 3, 5, 6, 7, 1, 2, 3, 4, 5, 6, 7, 4, 6, 2, 6, 5, 1, 2, 3, 4, 5, 6, 7, 4, 7, 7, 1, 1, 2, 3, 4, 5, 6, 7, 4, 1, 2, 1, 3, 4, 7, 1, 4, 7, 4, 1, 2, 3, 6, 7, 3, 2, 3, 7, 5, 2, 3, 4, 7, 1, 2, 3, 5, 6, 4, 1, 2, 3, 4, 5, 6, 7, 1, 2, 3, 4, 6, 7, 1, 3, 4, 5, 6, 7, 1, 2, 7, 1, 2, 3, 4, 5, 6, 7, 6, 1, 1, 2, 3, 4, 5, 6, 7, 1, 2, 3, 4, 5, 6, 7, 7, 1, 4, 2, 1, 1, 2, 3, 4, 5, 6, 7, 1, 2, 4, 5, 6, 7, 2, 3, 6, 1, 2, 3, 4, 5, 6, 7, 2, 3, 4, 5, 7, 3, 1, 2, 3, 5, 6, 7, 1, 2, 3, 4, 5, 6, 7, 1], \"Freq\": [0.8913469910621643, 0.9382805228233337, 0.9021419882774353, 0.08629372715950012, 0.08629372715950012, 0.7766435742378235, 0.08629372715950012, 0.7698753476142883, 0.8787436485290527, 0.878729522228241, 0.9679467678070068, 0.9076372981071472, 0.20275753736495972, 0.8110301494598389, 0.9603478908538818, 0.1425754874944687, 0.04752516373991966, 0.3960430324077606, 0.03168344125151634, 0.04752516373991966, 0.04752516373991966, 0.3009926974773407, 0.9334341287612915, 0.823470950126648, 0.4918872117996216, 0.037837475538253784, 0.037837475538253784, 0.037837475538253784, 0.15134990215301514, 0.07567495107650757, 0.18918737769126892, 0.07552540302276611, 0.11328809708356857, 0.07552540302276611, 0.679728627204895, 0.03776270151138306, 0.03776270151138306, 0.9073436856269836, 0.06481026113033295, 0.9021603465080261, 0.12455309927463531, 0.5812478065490723, 0.08303540199995041, 0.12455309927463531, 0.12455309927463531, 0.6684587001800537, 0.031091101467609406, 0.06218220293521881, 0.06218220293521881, 0.09327330440282822, 0.04663665220141411, 0.04663665220141411, 0.8818337321281433, 0.9603235721588135, 0.9636848568916321, 0.0833822637796402, 0.3752201795578003, 0.39606574177742004, 0.14591896533966064, 0.8934969902038574, 0.1521953046321869, 0.7609764933586121, 0.1272563934326172, 0.7635383605957031, 0.6363204717636108, 0.05016287416219711, 0.10032574832439423, 0.15048861503601074, 0.10032574832439423, 0.601954460144043, 0.1879388391971588, 0.10739362239837646, 0.17451463639736176, 0.10739362239837646, 0.20136304199695587, 0.20136304199695587, 0.040272608399391174, 0.9687284827232361, 0.9129273295402527, 0.8787347078323364, 0.893496036529541, 0.9253190755844116, 0.12486792355775833, 0.7492075562477112, 0.7704424262046814, 0.19261060655117035, 0.8913113474845886, 0.8228653073310852, 0.8913578391075134, 0.06372243165969849, 0.21240811049938202, 0.23364892601966858, 0.04248162358999252, 0.08496324717998505, 0.08496324717998505, 0.29737135767936707, 0.07369664311408997, 0.12282773852348328, 0.2210899293422699, 0.024565547704696655, 0.3930487632751465, 0.04913109540939331, 0.12282773852348328, 0.19518539309501648, 0.741704523563385, 0.039037078619003296, 0.9021753072738647, 0.7699986100196838, 0.8913092017173767, 0.7017912864685059, 0.14035825431346893, 0.07017912715673447, 0.07017912715673447, 0.6408028602600098, 0.28480127453804016, 0.8576850891113281, 0.8584232330322266, 0.22611071169376373, 0.6783321499824524, 0.9150310754776001, 0.181951642036438, 0.04898697882890701, 0.5108641982078552, 0.03499070182442665, 0.04198883846402168, 0.0699814036488533, 0.11896838247776031, 0.3903891444206238, 0.08872480690479279, 0.08872480690479279, 0.07097984105348587, 0.15970464050769806, 0.14195968210697174, 0.05323488265275955, 0.0281382966786623, 0.0281382966786623, 0.2813829779624939, 0.1125531867146492, 0.0281382966786623, 0.42207446694374084, 0.08441489189863205, 0.7726991176605225, 0.1545398235321045, 0.8935115337371826, 0.10285185277462006, 0.8228148221969604, 0.9399539828300476, 0.4967171251773834, 0.2185555398464203, 0.03973736986517906, 0.0993434265255928, 0.11921211332082748, 0.01986868493258953, 0.2047184258699417, 0.716514527797699, 0.8453149199485779, 0.12320815026760101, 0.18481221795082092, 0.5544366836547852, 0.06160407513380051, 0.16930711269378662, 0.08465355634689331, 0.6772284507751465, 0.9076376557350159, 0.9021704196929932, 0.14294850826263428, 0.30972176790237427, 0.047649502754211426, 0.33354651927948, 0.07147425413131714, 0.09529900550842285, 0.11576589941978455, 0.028941474854946136, 0.5209465622901917, 0.24600252509117126, 0.014470737427473068, 0.07235368341207504, 0.6933722496032715, 0.0580773763358593, 0.02903868816792965, 0.014519344083964825, 0.5372157096862793, 0.3049062192440033, 0.014519344083964825, 0.0435580313205719, 0.17752979695796967, 0.08876489847898483, 0.6213542819023132, 0.08876489847898483, 0.9603215456008911, 0.4342955946922302, 0.26057735085487366, 0.05211547017097473, 0.08685912191867828, 0.017371824011206627, 0.1563464105129242, 0.8408893346786499, 0.8932854533195496, 0.8991988897323608, 0.7142792344093323, 0.05952327325940132, 0.05952327325940132, 0.05952327325940132, 0.05952327325940132, 0.05952327325940132, 0.05952327325940132, 0.12697134912014008, 0.5502091646194458, 0.29626646637916565, 0.7262449860572815, 0.04604625329375267, 0.11511563509702682, 0.18418501317501068, 0.23023127019405365, 0.3453468978404999, 0.09209250658750534, 0.023023126646876335, 0.881630003452301, 0.8997595906257629, 0.8787339925765991, 0.9252875447273254, 0.9252437949180603, 0.05954666808247566, 0.23818667232990265, 0.11909333616495132, 0.05954666808247566, 0.5359200239181519, 0.9603287577629089, 0.6363245248794556, 0.12795007228851318, 0.5118002891540527, 0.031987518072128296, 0.11195630580186844, 0.047981273382902145, 0.12795007228851318, 0.031987518072128296, 0.6363219022750854, 0.7835013270378113, 0.8913207054138184, 0.8735815286636353, 0.9472530484199524, 0.9603363275527954, 0.6363212466239929, 0.925319492816925, 0.8123998045921326, 0.8292980790138245, 0.09214422851800919, 0.8935128450393677, 0.9252957105636597, 0.9253409504890442, 0.812402069568634, 0.8843395113945007, 0.9076358079910278, 0.225671648979187, 0.6394029855728149, 0.1128358244895935, 0.9603123068809509, 0.18620342016220093, 0.06206780672073364, 0.12413561344146729, 0.06206780672073364, 0.6206780672073364, 0.812404990196228, 0.9076321721076965, 0.5566277503967285, 0.22265109419822693, 0.1669883280992508, 0.890508234500885, 0.9024768471717834, 0.0836949348449707, 0.1673898696899414, 0.6695594787597656, 0.0836949348449707, 0.7029226422309875, 0.2556082308292389, 0.9069094061851501, 0.9238593578338623, 0.8145188689231873, 0.9334361553192139, 0.2270182967185974, 0.7567276358604431, 0.8328447937965393, 0.07571316510438919, 0.07571316510438919, 0.8256381154060364, 0.8145177364349365, 0.261567622423172, 0.05231352150440216, 0.05231352150440216, 0.47082170844078064, 0.05231352150440216, 0.9021719098091125, 0.897378146648407, 0.498711496591568, 0.09974229335784912, 0.07480672001838684, 0.07480672001838684, 0.04987114667892456, 0.09974229335784912, 0.09974229335784912, 0.030796322971582413, 0.2155742645263672, 0.2155742645263672, 0.030796322971582413, 0.030796322971582413, 0.061592645943164825, 0.4311485290527344, 0.8913087248802185, 0.5998876094818115, 0.3499344289302826, 0.04999063163995743, 0.8816075921058655, 0.8934757709503174, 0.9253277778625488, 0.4160384237766266, 0.06933973729610443, 0.06933973729610443, 0.2773589491844177, 0.10400960594415665, 0.034669868648052216, 0.07580652087926865, 0.6822587251663208, 0.22741957008838654, 0.03790326043963432, 0.8787462115287781, 0.11746480315923691, 0.7047888040542603, 0.925354540348053, 0.8812222480773926, 0.8812793493270874, 0.7910966277122498, 0.11301380395889282, 0.11301380395889282, 0.9014285802841187, 0.08772289752960205, 0.08772289752960205, 0.043861448764801025, 0.1754457950592041, 0.08772289752960205, 0.39475303888320923, 0.1754457950592041, 0.0878906175494194, 0.02929687313735485, 0.0585937462747097, 0.2343749850988388, 0.3515624701976776, 0.0878906175494194, 0.1464843600988388, 0.8145387172698975, 0.881673276424408, 0.8995025157928467, 0.12117055058479309, 0.7270233035087585, 0.08235502243041992, 0.8235502243041992, 0.08235502243041992, 0.8144979476928711, 0.05205139145255089, 0.10410278290510178, 0.5205138921737671, 0.31230834126472473, 0.11593146622180939, 0.11593146622180939, 0.6955888271331787, 0.18013209104537964, 0.13509906828403473, 0.13509906828403473, 0.022516511380672455, 0.22516511380672455, 0.1576155722141266, 0.1576155722141266, 0.2589073181152344, 0.6731590628623962, 0.051781464368104935, 0.8913071751594543, 0.24263347685337067, 0.12131673842668533, 0.3942793905735016, 0.1819751113653183, 0.06065836921334267, 0.16124296188354492, 0.6449718475341797, 0.16124296188354492, 0.03567560017108917, 0.17837801575660706, 0.07135120034217834, 0.1427024006843567, 0.3924316167831421, 0.1427024006843567, 0.07135120034217834, 0.37127819657325745, 0.11724574863910675, 0.2540324628353119, 0.09770479053258896, 0.058622874319553375, 0.039081916213035583, 0.039081916213035583, 0.07172263413667679, 0.04303358122706413, 0.27254602313041687, 0.35861319303512573, 0.028689054772257805, 0.05737810954451561, 0.17213432490825653, 0.01891479454934597, 0.36883848905563354, 0.16077575087547302, 0.009457397274672985, 0.283721923828125, 0.06620178371667862, 0.094573974609375, 0.12187672406435013, 0.12187672406435013, 0.17410960793495178, 0.08705480396747589, 0.3830411434173584, 0.08705480396747589, 0.01741096004843712, 0.9252931475639343, 0.917536199092865, 0.08341238647699356, 0.8935040235519409, 0.1550302654504776, 0.11073590815067291, 0.11073590815067291, 0.28791335225105286, 0.1993246227502823, 0.1550302654504776, 0.7805817127227783, 0.1300969421863556, 0.08290715515613556, 0.24872148036956787, 0.5803501009941101, 0.2648538649082184, 0.23836849629878998, 0.07945616543292999, 0.10594154894351959, 0.2648538649082184, 0.026485387235879898, 0.8950038552284241, 0.8787152767181396, 0.8816061019897461, 0.9129274487495422, 0.7349275350570679, 0.09974481910467148, 0.09974481910467148, 0.14961722493171692, 0.6483413577079773, 0.04987240955233574, 0.8815865516662598, 0.9636644721031189, 0.8812552690505981, 0.7721478343009949, 0.23164434731006622, 0.8281755447387695, 0.8815905451774597, 0.9252875447273254, 0.6363228559494019, 0.019913168624043465, 0.6969609260559082, 0.09956584125757217, 0.059739504009485245, 0.03982633724808693, 0.09956584125757217, 0.9021799564361572, 0.9253097176551819, 0.15828882157802582, 0.039572205394506454, 0.31657764315605164, 0.11871661990880966, 0.3561498522758484, 0.8935076594352722, 0.8048079013824463, 0.13996659219264984, 0.03499164804816246, 0.8228850960731506, 0.8165123462677002, 0.878724217414856, 0.18615032732486725, 0.4002231955528259, 0.027922548353672028, 0.11169019341468811, 0.11169019341468811, 0.14892026782035828, 0.009307516738772392, 0.7279971837997437, 0.11576340347528458, 0.20837412774562836, 0.023152681067585945, 0.27783215045928955, 0.32413753867149353, 0.04630536213517189, 0.3043733835220337, 0.4203251302242279, 0.21740955114364624, 0.04348190873861313, 0.6876183152198792, 0.19646237790584564, 0.7692402601242065, 0.19231006503105164, 0.05367264151573181, 0.10734528303146362, 0.05367264151573181, 0.5367264151573181, 0.16101792454719543, 0.16101792454719543, 0.7820672988891602, 0.07579079270362854, 0.8336986899375916, 0.11730709671974182, 0.8211497068405151, 0.9075642824172974, 0.20248442888259888, 0.13498961925506592, 0.08999308198690414, 0.22498270869255066, 0.13498961925506592, 0.1574878990650177, 0.04499654099345207, 0.8581163287162781, 0.0633964091539383, 0.09509461373090744, 0.4358502924442291, 0.09509461373090744, 0.07132095843553543, 0.19018922746181488, 0.05547185614705086, 0.0415908508002758, 0.3327268064022064, 0.0415908508002758, 0.5406810641288757, 0.0415908508002758, 0.8815924525260925, 0.028601182624697685, 0.11440473049879074, 0.31461301445961, 0.028601182624697685, 0.28601184487342834, 0.11440473049879074, 0.14300592243671417, 0.8995059728622437, 0.47558489441871643, 0.47558489441871643, 0.8256396651268005, 0.04161127284169197, 0.4161127209663391, 0.12483381479978561, 0.04161127284169197, 0.12483381479978561, 0.04161127284169197, 0.20805636048316956, 0.18111982941627502, 0.1552455723285675, 0.12937131524085999, 0.10349705070257187, 0.025874262675642967, 0.23286835849285126, 0.18111982941627502, 0.4831289052963257, 0.0920245572924614, 0.0460122786462307, 0.2990798056125641, 0.02300613932311535, 0.02300613932311535, 0.02300613932311535, 0.2728091776371002, 0.15419648587703705, 0.05930634215474129, 0.2846704423427582, 0.11861268430948257, 0.09489014744758606, 0.011861268430948257, 0.8459758162498474, 0.8815842270851135, 0.26338666677474976, 0.7023645043373108, 0.3757729232311249, 0.19325464963912964, 0.021472739055752754, 0.23620012402534485, 0.03220910578966141, 0.08589095622301102, 0.06441821157932281, 0.8358588218688965, 0.9000580906867981, 0.2140212506055832, 0.1426808387041092, 0.16646097600460052, 0.047560278326272964, 0.16646097600460052, 0.2140212506055832, 0.047560278326272964, 0.551496684551239, 0.13787417113780975, 0.20681124925613403, 0.06893708556890488, 0.056563325226306915, 0.791886568069458, 0.11312665045261383, 0.816504955291748, 0.9076374769210815, 0.06001579761505127, 0.6001579761505127, 0.30007898807525635, 0.6154477000236511, 0.07693096250295639, 0.07693096250295639, 0.15386192500591278, 0.1465185433626175, 0.07325927168130875, 0.07325927168130875, 0.6593334674835205, 0.07325927168130875, 0.08066096901893616, 0.16132193803787231, 0.026886988431215286, 0.32264387607574463, 0.24198289215564728, 0.13443493843078613, 0.8973910808563232, 0.8185824751853943, 0.8363028764724731, 0.2901659607887268, 0.1289626508951187, 0.06448132544755936, 0.09672199189662933, 0.06448132544755936, 0.35464730858802795, 0.9021711945533752, 0.2408374845981598, 0.10321606695652008, 0.10321606695652008, 0.1376214176416397, 0.3784589171409607, 0.03440535441040993, 0.881587028503418, 0.37738651037216187, 0.19979286193847656, 0.06659761816263199, 0.13319523632526398, 0.044398415833711624, 0.08879683166742325, 0.08879683166742325, 0.34215641021728516, 0.05184188112616539, 0.18663077056407928, 0.11405213177204132, 0.010368376038968563, 0.17626239359378815, 0.12442050874233246, 0.9076427817344666, 0.07293648272752762, 0.656428337097168, 0.14587296545505524, 0.14587296545505524, 0.20008689165115356, 0.20008689165115356, 0.10004344582557678, 0.03334781527519226, 0.36682596802711487, 0.06669563055038452, 0.03334781527519226, 0.21745948493480682, 0.18121623992919922, 0.1449729949235916, 0.36243247985839844, 0.0362432487308979, 0.9590681791305542, 0.13234876096248627, 0.7940925359725952, 0.13938558101654053, 0.6969278454780579, 0.13938558101654053, 0.7130417823791504, 0.10186310857534409, 0.10186310857534409, 0.8949721455574036, 0.7008054852485657, 0.10781622678041458, 0.05390811339020729, 0.10781622678041458, 0.900338888168335, 0.1323830932378769, 0.06619154661893845, 0.06619154661893845, 0.23167040944099426, 0.19857463240623474, 0.01654788665473461, 0.2978619635105133, 0.38931581377983093, 0.01853884756565094, 0.38931581377983093, 0.12977193295955658, 0.01853884756565094, 0.03707769513130188, 0.9076356291770935, 0.9253426790237427, 0.07991217076778412, 0.15982434153556824, 0.639297366142273, 0.7273951172828674, 0.18184877932071686, 0.6588487029075623, 0.18824249505996704, 0.4936138987541199, 0.13163037598133087, 0.29616835713386536, 0.06581518799066544, 0.8558849692344666, 0.8145828247070312, 0.15824395418167114, 0.14505694806575775, 0.05274798348546028, 0.3428618907928467, 0.05274798348546028, 0.15824395418167114, 0.10549596697092056, 0.12068836390972137, 0.7241302132606506, 0.9679421186447144, 0.24906516075134277, 0.4625495970249176, 0.03558073565363884, 0.07116147130727768, 0.03558073565363884, 0.03558073565363884, 0.10674221068620682, 0.9554905891418457, 0.1597084254026413, 0.21294456720352173, 0.5323614478111267, 0.10647228360176086, 0.8560380935668945, 0.9336416125297546, 0.2789636552333832, 0.12398384511470795, 0.09298788011074066, 0.06199192255735397, 0.12398384511470795, 0.06199192255735397, 0.2479676902294159, 0.8934994339942932, 0.8787596225738525, 0.16175591945648193, 0.08087795972824097, 0.7279016375541687, 0.8564390540122986, 0.17128780484199524, 0.10613351315259933, 0.7429345846176147, 0.10613351315259933, 0.8372722864151001, 0.17076076567173004, 0.6830430626869202, 0.8324869275093079, 0.13874782621860504, 0.9253411293029785, 0.051694367080926895, 0.10338873416185379, 0.051694367080926895, 0.15508310496807098, 0.7237211465835571, 0.12271590530872345, 0.7362954616546631, 0.6689489483833313, 0.1824406236410141, 0.121627077460289, 0.184761181473732, 0.12317412346601486, 0.15396764874458313, 0.21555471420288086, 0.030793530866503716, 0.030793530866503716, 0.24634824693202972, 0.07936602830886841, 0.07936602830886841, 0.15873205661773682, 0.5555621981620789, 0.07936602830886841, 0.8145211338996887, 0.8536491990089417, 0.02371247671544552, 0.04742495343089104, 0.02371247671544552, 0.02371247671544552, 0.04742495343089104, 0.7262451648712158, 0.9129301905632019, 0.776136577129364, 0.15522731840610504, 0.9239178895950317, 0.05350242927670479, 0.7490339875221252, 0.05350242927670479, 0.05350242927670479, 0.10700485855340958, 0.6822220087051392, 0.2274073362350464, 0.032787539064884186, 0.13115015625953674, 0.42623797059059143, 0.06557507812976837, 0.19672521948814392, 0.13115015625953674, 0.9080427885055542, 0.04571598395705223, 0.05714498087763786, 0.05714498087763786, 0.4571598470211029, 0.2057219296693802, 0.011428995989263058, 0.1714349389076233, 0.9636695384979248, 0.11932534724473953, 0.7159520387649536, 0.6763831973075867, 0.16909579932689667, 0.08454789966344833, 0.04455308988690376, 0.10395721346139908, 0.2227654606103897, 0.1633613258600235, 0.02970205992460251, 0.2821695804595947, 0.14851030707359314, 0.8256410360336304, 0.7707964777946472, 0.22983278334140778, 0.7661092877388, 0.9076243042945862, 0.22056333720684052, 0.27570417523384094, 0.05514083430171013, 0.08271125704050064, 0.08271125704050064, 0.27570417523384094, 0.881590723991394, 0.879112720489502, 0.7835036516189575, 0.9539015293121338, 0.05544488504528999, 0.16633465886116028, 0.11088977009057999, 0.05544488504528999, 0.5544488430023193, 0.05544488504528999, 0.8351243734359741, 0.8914904594421387, 0.9250718355178833, 0.8228987455368042, 0.25331756472587585, 0.03618822246789932, 0.3618822395801544, 0.10856466740369797, 0.03618822246789932, 0.03618822246789932, 0.10856466740369797, 0.10424983501434326, 0.10424983501434326, 0.03474994748830795, 0.20849967002868652, 0.1389997899532318, 0.41699934005737305, 0.32268431782722473, 0.08067107945680618, 0.6453686356544495, 0.8429470062255859, 0.8816847801208496, 0.8949803709983826, 0.9068940281867981, 0.1102239191532135, 0.1102239191532135, 0.661343514919281, 0.1102239191532135, 0.11322840303182602, 0.07548560202121735, 0.7925988435745239, 0.8843590617179871, 0.8815872669219971, 0.5391635298728943, 0.0490148663520813, 0.2940891981124878, 0.1470445990562439, 0.3612368404865265, 0.20642104744911194, 0.025802630931138992, 0.12901315093040466, 0.051605261862277985, 0.10321052372455597, 0.12901315093040466, 0.8410168290138245, 0.8787696957588196, 0.09158861637115479, 0.32971900701522827, 0.18317723274230957, 0.12822405993938446, 0.05495316907763481, 0.09158861637115479, 0.12822405993938446, 0.8843336701393127, 0.8718315362930298, 0.0871831551194191, 0.8913068771362305, 0.7743092775344849, 0.1720687299966812, 0.89349764585495, 0.08124247193336487, 0.027080824598670006, 0.10832329839468002, 0.1895657628774643, 0.2437274158000946, 0.3249698877334595, 0.65500807762146, 0.26200321316719055, 0.8914804458618164, 0.18356071412563324, 0.20395635068416595, 0.22435198724269867, 0.1427694410085678, 0.04079126939177513, 0.1427694410085678, 0.04079126939177513, 0.46977877616882324, 0.07046681642532349, 0.07046681642532349, 0.39931195974349976, 0.8122332096099854, 0.954007625579834, 0.09002970904111862, 0.18005941808223724, 0.030009903013706207, 0.12003961205482483, 0.3000990152359009, 0.09002970904111862, 0.18005941808223724, 0.04613257199525833, 0.36906057596206665, 0.023066285997629166, 0.09226514399051666, 0.2075965702533722, 0.23066285252571106, 0.04613257199525833, 0.8934824466705322, 0.822900652885437, 0.08720505982637405, 0.37788861989974976, 0.08720505982637405, 0.20347848534584045, 0.20347848534584045, 0.02906835451722145, 0.15113703906536102, 0.12090963870286942, 0.13602334260940552, 0.19647815823554993, 0.07556851953268051, 0.10579593479633331, 0.21159186959266663, 0.22705967724323273, 0.7568656206130981, 0.9144869446754456, 0.05715543404221535, 0.6363157629966736, 0.19586190581321716, 0.24809174239635468, 0.03917238116264343, 0.06528729945421219, 0.3003215789794922, 0.09140222519636154, 0.06528729945421219, 0.1078549399971962, 0.8628395199775696, 0.8666400909423828, 0.9076305031776428, 0.09564623981714249, 0.15303398668766022, 0.21042172610759735, 0.19129247963428497, 0.15303398668766022, 0.11477548629045486, 0.07651699334383011, 0.8815951347351074, 0.8410179018974304, 0.8812246918678284, 0.17511659860610962, 0.08755829930305481, 0.17511659860610962, 0.6129080653190613, 0.9076309204101562, 0.7729029059410095, 0.2318708747625351, 0.8654943704605103, 0.5605230927467346, 0.09342052042484283, 0.18684104084968567, 0.04671026021242142, 0.09342052042484283, 0.8935009837150574, 0.7586869597434998, 0.8976905941963196, 0.692412793636322, 0.9021662473678589, 0.8812092542648315, 0.8934977650642395, 0.937050998210907, 0.8790662884712219, 0.07851172983646393, 0.11776759475469589, 0.6280938386917114, 0.07851172983646393, 0.039255864918231964, 0.9665337204933167, 0.08796928077936172, 0.19353240728378296, 0.17593856155872345, 0.052781566977500916, 0.15834470093250275, 0.15834470093250275, 0.17593856155872345, 0.11770747601985931, 0.647391140460968, 0.05885373800992966, 0.05885373800992966, 0.05885373800992966, 0.05885373800992966, 0.09473428130149841, 0.14210142195224762, 0.04736714065074921, 0.6631399989128113, 0.04736714065074921, 0.04736714065074921, 0.12951378524303436, 0.19427068531513214, 0.647568941116333, 0.11823596805334091, 0.23647193610668182, 0.35470789670944214, 0.14357224106788635, 0.03378170356154442, 0.09289968758821487, 0.01689085178077221, 0.891304075717926, 0.8592137694358826, 0.07764524221420288, 0.32999226450920105, 0.15529048442840576, 0.17470179498195648, 0.17470179498195648, 0.05823393166065216, 0.01941131055355072, 0.17485609650611877, 0.10491365939378738, 0.13988487422466278, 0.12239927053451538, 0.27976974844932556, 0.13988487422466278, 0.034971218556165695, 0.7966960072517395, 0.11489421874284744, 0.6893653273582458, 0.8787552118301392, 0.9076293110847473, 0.32072722911834717, 0.03207272291183472, 0.4169453978538513, 0.09621816873550415, 0.03207272291183472, 0.06414544582366943, 0.03207272291183472, 0.032966893166303635, 0.0989006832242012, 0.42856961488723755, 0.13186757266521454, 0.0989006832242012, 0.1978013664484024, 0.8787084817886353, 0.11249371618032455, 0.7874560356140137, 0.4574703276157379, 0.10166007280349731, 0.05083003640174866, 0.1397826075553894, 0.07624505460262299, 0.12707509100437164, 0.05083003640174866, 0.10227207839488983, 0.10227207839488983, 0.7159045338630676, 0.10227207839488983, 0.10227207839488983, 0.9510984420776367, 0.12152482569217682, 0.42533689737319946, 0.020254136994481087, 0.3848286271095276, 0.020254136994481087, 0.020254136994481087, 0.10535017400979996, 0.31605052947998047, 0.07901263236999512, 0.1316877156496048, 0.10535017400979996, 0.07901263236999512, 0.18436281383037567, 0.8362818956375122], \"Term\": [\"absolute\", \"access\", \"accord\", \"account\", \"account\", \"account\", \"account\", \"achieve\", \"actor\", \"address\", \"administrator\", \"advise\", \"afternoon\", \"afternoon\", \"agreement\", \"alberta\", \"alberta\", \"alberta\", \"alberta\", \"alberta\", \"alberta\", \"alberta\", \"alley\", \"allow\", \"also\", \"also\", \"also\", \"also\", \"also\", \"also\", \"also\", \"amaze\", \"amaze\", \"amaze\", \"amaze\", \"amaze\", \"amaze\", \"american\", \"american\", \"anniversary\", \"another\", \"another\", \"another\", \"another\", \"another\", \"anyone\", \"anyone\", \"anyone\", \"anyone\", \"anyone\", \"anyone\", \"anyone\", \"anyway\", \"anywhere\", \"application\", \"apply\", \"apply\", \"apply\", \"apply\", \"athlete\", \"attack\", \"attack\", \"attention\", \"attention\", \"automotive\", \"awesome\", \"awesome\", \"awesome\", \"awesome\", \"awesome\", \"back\", \"back\", \"back\", \"back\", \"back\", \"back\", \"back\", \"backlane\", \"baker\", \"banking\", \"banks\", \"barlow\", \"beat\", \"beat\", \"beer\", \"beer\", \"belgian\", \"belong\", \"beside\", \"best\", \"best\", \"best\", \"best\", \"best\", \"best\", \"best\", \"better\", \"better\", \"better\", \"better\", \"better\", \"better\", \"better\", \"birthday\", \"birthday\", \"birthday\", \"border\", \"boxing\", \"bracket\", \"break\", \"break\", \"break\", \"break\", \"brewing\", \"brewing\", \"bridgeland\", \"bum\", \"button\", \"button\", \"buying\", \"calgary\", \"calgary\", \"calgary\", \"calgary\", \"calgary\", \"calgary\", \"calgary\", \"canada\", \"canada\", \"canada\", \"canada\", \"canada\", \"canada\", \"canada\", \"canadian\", \"canadian\", \"canadian\", \"canadian\", \"canadian\", \"canadian\", \"canadian\", \"car\", \"car\", \"cart\", \"catch\", \"catch\", \"chair\", \"check\", \"check\", \"check\", \"check\", \"check\", \"check\", \"cheer\", \"cheer\", \"chicken\", \"child\", \"child\", \"child\", \"child\", \"chocolate\", \"chocolate\", \"chocolate\", \"christian\", \"church\", \"city\", \"city\", \"city\", \"city\", \"city\", \"city\", \"click\", \"click\", \"click\", \"click\", \"click\", \"click\", \"clinic\", \"close\", \"close\", \"close\", \"close\", \"close\", \"close\", \"close\", \"coffee\", \"coffee\", \"coffee\", \"coffee\", \"colleague\", \"come\", \"come\", \"come\", \"come\", \"come\", \"come\", \"comedy\", \"comfortable\", \"comment\", \"company\", \"company\", \"company\", \"company\", \"company\", \"company\", \"company\", \"complete\", \"complete\", \"complete\", \"computer\", \"concern\", \"concern\", \"concern\", \"concern\", \"concern\", \"concern\", \"concern\", \"conditions\", \"congratulations\", \"conscience\", \"consent\", \"consideration\", \"contact\", \"contact\", \"contact\", \"contact\", \"contact\", \"contribute\", \"costs\", \"could\", \"could\", \"could\", \"could\", \"could\", \"could\", \"could\", \"crack\", \"crap\", \"creative\", \"credible\", \"credit\", \"crowd\", \"cut\", \"dangerous\", \"dare\", \"data\", \"data\", \"decade\", \"deerfoot\", \"delivery\", \"depression\", \"designer\", \"destruction\", \"details\", \"details\", \"details\", \"die\", \"different\", \"different\", \"different\", \"different\", \"different\", \"distance\", \"disturb\", \"do\", \"do\", \"do\", \"dog\", \"domain\", \"door\", \"door\", \"door\", \"door\", \"driver\", \"driver\", \"duck\", \"dumb\", \"edge\", \"education\", \"effort\", \"effort\", \"election\", \"election\", \"election\", \"email\", \"engineer\", \"enjoy\", \"enjoy\", \"enjoy\", \"enjoy\", \"enjoy\", \"entrepreneur\", \"estate\", \"even\", \"even\", \"even\", \"even\", \"even\", \"even\", \"even\", \"ever\", \"ever\", \"ever\", \"ever\", \"ever\", \"ever\", \"ever\", \"excuse\", \"experience\", \"experience\", \"experience\", \"explore\", \"extremely\", \"facility\", \"fact\", \"fact\", \"fact\", \"fact\", \"fact\", \"fact\", \"family\", \"family\", \"family\", \"family\", \"farce\", \"fast\", \"fast\", \"favour\", \"field\", \"fighting\", \"final\", \"final\", \"final\", \"financial\", \"find\", \"find\", \"find\", \"find\", \"find\", \"find\", \"find\", \"first\", \"first\", \"first\", \"first\", \"first\", \"first\", \"first\", \"fitness\", \"flavor\", \"focus\", \"fossil\", \"fossil\", \"found\", \"found\", \"found\", \"four\", \"fuck\", \"fuck\", \"fuck\", \"fuck\", \"fuel\", \"fuel\", \"fuel\", \"game\", \"game\", \"game\", \"game\", \"game\", \"game\", \"game\", \"garbage\", \"garbage\", \"garbage\", \"generally\", \"getting\", \"getting\", \"getting\", \"getting\", \"getting\", \"girl\", \"girl\", \"girl\", \"go\", \"go\", \"go\", \"go\", \"go\", \"go\", \"go\", \"going\", \"going\", \"going\", \"going\", \"going\", \"going\", \"going\", \"good\", \"good\", \"good\", \"good\", \"good\", \"good\", \"good\", \"great\", \"great\", \"great\", \"great\", \"great\", \"great\", \"great\", \"happy\", \"happy\", \"happy\", \"happy\", \"happy\", \"happy\", \"happy\", \"heading\", \"health\", \"health\", \"heavy\", \"help\", \"help\", \"help\", \"help\", \"help\", \"help\", \"highly\", \"highly\", \"hill\", \"hill\", \"hill\", \"home\", \"home\", \"home\", \"home\", \"home\", \"home\", \"hook\", \"hopefully\", \"horrible\", \"hughes\", \"hydrant\", \"idea\", \"idea\", \"idea\", \"idea\", \"idea\", \"impress\", \"income\", \"incredibly\", \"inner\", \"inner\", \"inspire\", \"instructional\", \"intelligence\", \"intent\", \"interest\", \"interest\", \"interest\", \"interest\", \"interest\", \"interest\", \"intern\", \"introduce\", \"iphone\", \"iphone\", \"iphone\", \"iphone\", \"iphone\", \"jeez\", \"join\", \"join\", \"join\", \"joining\", \"judges\", \"keeping\", \"know\", \"know\", \"know\", \"know\", \"know\", \"know\", \"know\", \"lace\", \"last\", \"last\", \"last\", \"last\", \"last\", \"last\", \"latest\", \"latest\", \"latest\", \"latest\", \"lead\", \"lead\", \"leaders\", \"leaders\", \"learn\", \"learn\", \"learn\", \"learn\", \"learn\", \"learn\", \"learning\", \"least\", \"least\", \"leave\", \"leave\", \"lesson\", \"life\", \"life\", \"life\", \"life\", \"life\", \"life\", \"life\", \"lighting\", \"like\", \"like\", \"like\", \"like\", \"like\", \"like\", \"like\", \"link\", \"link\", \"link\", \"link\", \"link\", \"liquor\", \"list\", \"list\", \"list\", \"list\", \"list\", \"list\", \"list\", \"listening\", \"literally\", \"literally\", \"local\", \"long\", \"long\", \"long\", \"long\", \"long\", \"long\", \"long\", \"look\", \"look\", \"look\", \"look\", \"look\", \"look\", \"look\", \"looking\", \"looking\", \"looking\", \"looking\", \"looking\", \"looking\", \"looking\", \"love\", \"love\", \"love\", \"love\", \"love\", \"love\", \"love\", \"lucky\", \"mail\", \"maintenance\", \"maintenance\", \"make\", \"make\", \"make\", \"make\", \"make\", \"make\", \"make\", \"malt\", \"management\", \"many\", \"many\", \"many\", \"many\", \"many\", \"many\", \"many\", \"market\", \"market\", \"market\", \"market\", \"matter\", \"matter\", \"matter\", \"maximum\", \"medical\", \"meeting\", \"meeting\", \"meeting\", \"member\", \"member\", \"member\", \"member\", \"message\", \"message\", \"message\", \"message\", \"message\", \"might\", \"might\", \"might\", \"might\", \"might\", \"might\", \"milk\", \"million\", \"min\", \"monday\", \"monday\", \"monday\", \"monday\", \"monday\", \"monday\", \"moron\", \"move\", \"move\", \"move\", \"move\", \"move\", \"move\", \"movement\", \"much\", \"much\", \"much\", \"much\", \"much\", \"much\", \"much\", \"need\", \"need\", \"need\", \"need\", \"need\", \"need\", \"need\", \"negative\", \"news\", \"news\", \"news\", \"news\", \"next\", \"next\", \"next\", \"next\", \"next\", \"next\", \"next\", \"november\", \"november\", \"november\", \"november\", \"november\", \"numbers\", \"obama\", \"obama\", \"october\", \"october\", \"october\", \"offer\", \"offer\", \"offer\", \"old\", \"olympic\", \"olympic\", \"olympic\", \"olympic\", \"olympics\", \"open\", \"open\", \"open\", \"open\", \"open\", \"open\", \"open\", \"opening\", \"opening\", \"opening\", \"opening\", \"opening\", \"opening\", \"operate\", \"operator\", \"order\", \"order\", \"order\", \"otherwise\", \"otherwise\", \"own\", \"own\", \"park\", \"park\", \"park\", \"park\", \"patient\", \"pattern\", \"people\", \"people\", \"people\", \"people\", \"people\", \"people\", \"people\", \"pic\", \"pic\", \"platform\", \"please\", \"please\", \"please\", \"please\", \"please\", \"please\", \"please\", \"podcast\", \"point\", \"point\", \"point\", \"point\", \"ponzi\", \"poppy\", \"post\", \"post\", \"post\", \"post\", \"post\", \"post\", \"post\", \"pour\", \"present\", \"private\", \"private\", \"private\", \"process\", \"process\", \"properly\", \"properly\", \"properly\", \"property\", \"pull\", \"pull\", \"pumpkin\", \"pumpkin\", \"qualify\", \"question\", \"question\", \"question\", \"question\", \"question\", \"quick\", \"quick\", \"rally\", \"rally\", \"rally\", \"read\", \"read\", \"read\", \"read\", \"read\", \"read\", \"read\", \"ready\", \"ready\", \"ready\", \"ready\", \"ready\", \"reasonable\", \"recommend\", \"recommend\", \"recommend\", \"recommend\", \"recommend\", \"recommend\", \"reduction\", \"refugee\", \"refuse\", \"refuse\", \"rely\", \"remember\", \"remember\", \"remember\", \"remember\", \"remember\", \"remind\", \"remind\", \"report\", \"report\", \"report\", \"report\", \"report\", \"report\", \"representative\", \"request\", \"request\", \"request\", \"request\", \"request\", \"request\", \"request\", \"requirement\", \"review\", \"review\", \"ride\", \"ride\", \"ride\", \"right\", \"right\", \"right\", \"right\", \"right\", \"right\", \"right\", \"risk\", \"role\", \"safety\", \"safety\", \"salon\", \"say\", \"say\", \"say\", \"say\", \"say\", \"say\", \"scenario\", \"science\", \"scientist\", \"scotty\", \"season\", \"season\", \"season\", \"season\", \"season\", \"season\", \"self\", \"sexual\", \"shepherd\", \"shoot\", \"show\", \"show\", \"show\", \"show\", \"show\", \"show\", \"show\", \"sign\", \"sign\", \"sign\", \"sign\", \"sign\", \"sign\", \"signal\", \"signal\", \"signal\", \"similar\", \"simple\", \"sister\", \"skill\", \"smoke\", \"smoke\", \"smoke\", \"smoke\", \"snow\", \"snow\", \"snow\", \"speech\", \"spell\", \"spend\", \"spend\", \"spend\", \"spend\", \"start\", \"start\", \"start\", \"start\", \"start\", \"start\", \"start\", \"stats\", \"steal\", \"still\", \"still\", \"still\", \"still\", \"still\", \"still\", \"still\", \"stream\", \"streetlight\", \"streetlight\", \"strip\", \"student\", \"student\", \"supervisor\", \"support\", \"support\", \"support\", \"support\", \"support\", \"support\", \"surprise\", \"surprise\", \"survivor\", \"take\", \"take\", \"take\", \"take\", \"take\", \"take\", \"take\", \"team\", \"team\", \"team\", \"team\", \"technical\", \"text\", \"thank\", \"thank\", \"thank\", \"thank\", \"thank\", \"thank\", \"thank\", \"thanks\", \"thanks\", \"thanks\", \"thanks\", \"thanks\", \"thanks\", \"thanks\", \"thanksgiving\", \"thats\", \"things\", \"things\", \"things\", \"things\", \"things\", \"things\", \"think\", \"think\", \"think\", \"think\", \"think\", \"think\", \"think\", \"thinking\", \"thinking\", \"ticket\", \"ticket\", \"tie\", \"time\", \"time\", \"time\", \"time\", \"time\", \"time\", \"time\", \"timing\", \"timing\", \"tire\", \"title\", \"today\", \"today\", \"today\", \"today\", \"today\", \"today\", \"today\", \"tower\", \"toxic\", \"trade\", \"traffic\", \"traffic\", \"traffic\", \"traffic\", \"treatment\", \"tree\", \"tree\", \"truly\", \"trump\", \"trump\", \"trump\", \"trump\", \"trump\", \"ugly\", \"unite\", \"university\", \"unlikely\", \"usual\", \"vaccination\", \"valley\", \"values\", \"vehicle\", \"view\", \"view\", \"view\", \"view\", \"view\", \"volunteer\", \"vote\", \"vote\", \"vote\", \"vote\", \"vote\", \"vote\", \"vote\", \"voting\", \"voting\", \"voting\", \"voting\", \"voting\", \"voting\", \"wait\", \"wait\", \"wait\", \"wait\", \"wait\", \"wait\", \"walk\", \"walk\", \"walk\", \"want\", \"want\", \"want\", \"want\", \"want\", \"want\", \"want\", \"washing\", \"wednesday\", \"week\", \"week\", \"week\", \"week\", \"week\", \"week\", \"week\", \"well\", \"well\", \"well\", \"well\", \"well\", \"well\", \"well\", \"wild\", \"wind\", \"wind\", \"wings\", \"wireless\", \"work\", \"work\", \"work\", \"work\", \"work\", \"work\", \"work\", \"working\", \"working\", \"working\", \"working\", \"working\", \"working\", \"worm\", \"worst\", \"worst\", \"would\", \"would\", \"would\", \"would\", \"would\", \"would\", \"would\", \"write\", \"write\", \"write\", \"write\", \"write\", \"yeah\", \"year\", \"year\", \"year\", \"year\", \"year\", \"year\", \"years\", \"years\", \"years\", \"years\", \"years\", \"years\", \"years\", \"youth\"]}, \"R\": 30, \"lambda.step\": 0.01, \"plot.opts\": {\"xlab\": \"PC1\", \"ylab\": \"PC2\"}, \"topic.order\": [2, 6, 1, 4, 5, 7, 3]};\n",
       "\n",
       "function LDAvis_load_lib(url, callback){\n",
       "  var s = document.createElement('script');\n",
       "  s.src = url;\n",
       "  s.async = true;\n",
       "  s.onreadystatechange = s.onload = callback;\n",
       "  s.onerror = function(){console.warn(\"failed to load library \" + url);};\n",
       "  document.getElementsByTagName(\"head\")[0].appendChild(s);\n",
       "}\n",
       "\n",
       "if(typeof(LDAvis) !== \"undefined\"){\n",
       "   // already loaded: just create the visualization\n",
       "   !function(LDAvis){\n",
       "       new LDAvis(\"#\" + \"ldavis_el3641403731375762489906648670\", ldavis_el3641403731375762489906648670_data);\n",
       "   }(LDAvis);\n",
       "}else if(typeof define === \"function\" && define.amd){\n",
       "   // require.js is available: use it to load d3/LDAvis\n",
       "   require.config({paths: {d3: \"https://cdnjs.cloudflare.com/ajax/libs/d3/3.5.5/d3.min\"}});\n",
       "   require([\"d3\"], function(d3){\n",
       "      window.d3 = d3;\n",
       "      LDAvis_load_lib(\"https://cdn.rawgit.com/bmabey/pyLDAvis/files/ldavis.v1.0.0.js\", function(){\n",
       "        new LDAvis(\"#\" + \"ldavis_el3641403731375762489906648670\", ldavis_el3641403731375762489906648670_data);\n",
       "      });\n",
       "    });\n",
       "}else{\n",
       "    // require.js not available: dynamically load d3 & LDAvis\n",
       "    LDAvis_load_lib(\"https://cdnjs.cloudflare.com/ajax/libs/d3/3.5.5/d3.min.js\", function(){\n",
       "         LDAvis_load_lib(\"https://cdn.rawgit.com/bmabey/pyLDAvis/files/ldavis.v1.0.0.js\", function(){\n",
       "                 new LDAvis(\"#\" + \"ldavis_el3641403731375762489906648670\", ldavis_el3641403731375762489906648670_data);\n",
       "            })\n",
       "         });\n",
       "}\n",
       "</script>"
      ],
      "text/plain": [
       "<IPython.core.display.HTML object>"
      ]
     },
     "execution_count": 12,
     "metadata": {},
     "output_type": "execute_result"
    }
   ],
   "source": [
    "lda_display = pyLDAvis.gensim.prepare(ldamodel, corpus, dictionary,sort_topics=True)\n",
    "pyLDAvis.display(lda_display)"
   ]
  },
  {
   "cell_type": "markdown",
   "metadata": {},
   "source": [
    "####  Excersise: try diffrent days, try modifying stopwords, number of topics  and min_len /max_len in `gensim.utils.simple_preprocess`"
   ]
  },
  {
   "cell_type": "markdown",
   "metadata": {
    "collapsed": true
   },
   "source": [
    "##  Conclusion\n"
   ]
  },
  {
   "cell_type": "code",
   "execution_count": null,
   "metadata": {},
   "outputs": [],
   "source": []
  }
 ],
 "metadata": {
  "kernelspec": {
   "display_name": "Python 3",
   "language": "python",
   "name": "python3"
  },
  "language_info": {
   "codemirror_mode": {
    "name": "ipython",
    "version": 3
   },
   "file_extension": ".py",
   "mimetype": "text/x-python",
   "name": "python",
   "nbconvert_exporter": "python",
   "pygments_lexer": "ipython3",
   "version": "3.6.5"
  },
  "nbTranslate": {
   "displayLangs": [
    "*"
   ],
   "hotkey": "alt-t",
   "langInMainMenu": true,
   "sourceLang": "en",
   "targetLang": "fr",
   "useGoogleTranslate": true
  }
 },
 "nbformat": 4,
 "nbformat_minor": 2
}

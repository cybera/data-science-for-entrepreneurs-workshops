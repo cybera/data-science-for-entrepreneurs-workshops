{
 "cells": [
  {
   "cell_type": "markdown",
   "metadata": {},
   "source": [
    "# Graph Analysis For Lead Generation/Targeted Advertising\n",
    "\n",
    "So far we've managed to collect a lot of Twitter data, explore that data, and eventually create a topic model of tweets in order to sort tweets based on what was being discussed in that particular tweet. Of course, that only takes us so far. We now know which users are talking about a particular topic, but how do we use this data to generate leads or for advertising purposes? \n",
    "\n",
    "Well, we have already identified users which write tweets relevant to a topic of our choosing - how do we then take these users and find others with a shared interest? Well, we can take a look at the people who follow those users. With enough data - we can discover which users have the most reach - which users are most \"influential\" around a topic of our choosing. In this case, we have to define these relationships on a graph.\n",
    "\n",
    "As we're missing tweets which did not include a location tag, this analysis will demonstrate how we may \n",
    "\n",
    "## Special Note\n",
    "\n",
    "We don't recommend you use any conclusions from this notebook you may draw for anything but a learning experience. Due to time and accessibility constraints, we're working with a highly truncated data set of Twitter followers/tweets. As such, any conclusions and analysis in this notebook are \"correct\" within the scope of the dataset we used here - but in reality this analysis is considerably limited. The methodologies used however, could be easily expanded to a larger, more complete, data set from which realistic conclusions can be drawn. \n",
    "\n",
    "## Blurb about graphs probably\n",
    "\n",
    "1. Graphs have nodes and edges\n",
    "2. they show how things are related i guess\n",
    "3. direced and un directed\n",
    "4. You can call people edge lords\n",
    "\n",
    "\n",
    "\n",
    "---"
   ]
  },
  {
   "cell_type": "code",
   "execution_count": null,
   "metadata": {},
   "outputs": [],
   "source": [
    "# Fresh installs of packages users won't have here (also restart kernel for them )"
   ]
  },
  {
   "cell_type": "code",
   "execution_count": 148,
   "metadata": {},
   "outputs": [],
   "source": [
    "import matplotlib.pyplot as plt\n",
    "%matplotlib inline\n",
    "from collections import Counter\n",
    "import json\n",
    "import pandas as pd\n",
    "import time\n",
    "import networkx as nx\n",
    "from pyvis import network as net \n",
    "from operator import itemgetter\n",
    "from collections import OrderedDict\n",
    "import numpy as np"
   ]
  },
  {
   "cell_type": "markdown",
   "metadata": {},
   "source": [
    "# Getting User Information \n",
    "\n",
    "In the previous notebook, we identified users which were tweeting in specific topics. From this, it is clear that these users are interested in our topic of interest based on the content that they typically tweet. Now, we could certainly target those users with our content/advertisements/proposals - however they may not have our desired outreach. Not to mention, there may be too many of them and ideally we'd like to have to deliver our content directly to the fewest number of people possible - while reaching the maximum number of people. To do this task, we first grab a list of each of our identified \"topic users\" followers. \n",
    "\n",
    "**Note: Due to API limitations of free Twitter services, we only gather up to 250 followers for each user**\n",
    "\n",
    "Our first step is to download the user information that we gathered using [this twitter bot](UserInfoGather.ipynb), which is stored as a JSON (JavaScript Object Notation) object. Let's download it and look at the data that we have available on each Twitter user. In this case, we've downloaded up to 250 followers of each user which had a tweet appear in a given topic more than once. In this way, we can see up two degrees of separation between each of our \"influencers\" as identified by our topic model. However, we note again that by only gathering up to 250 of each users followers we're presented with a significantly limited data set. "
   ]
  },
  {
   "cell_type": "code",
   "execution_count": 2,
   "metadata": {},
   "outputs": [
    {
     "data": {
      "text/plain": [
       "{'blocked_by': False,\n",
       " 'blocking': False,\n",
       " 'contributors_enabled': False,\n",
       " 'created_at': 'Sat Jan 12 17:27:25 +0000 2019',\n",
       " 'default_profile': False,\n",
       " 'default_profile_image': False,\n",
       " 'description': '😸*ridi si sapis*🦉 ____ 🇨🇦Ye Olde Diogenes💡 ___ 🌈\"Thunder on! Stride on, Democracy! Strike with vengeful stroke!\"~Whitman🗽 ___ 🎶\"Just like that bluebird\"~Bowie⚡️',\n",
       " 'entities': {'description': {'urls': []}},\n",
       " 'favourites_count': 7320,\n",
       " 'follow_request_sent': False,\n",
       " 'followers_count': 17,\n",
       " 'following': False,\n",
       " 'friends_count': 177,\n",
       " 'geo_enabled': False,\n",
       " 'has_extended_profile': False,\n",
       " 'id': 1084139799525707776,\n",
       " 'id_str': '1084139799525707776',\n",
       " 'is_translation_enabled': False,\n",
       " 'is_translator': False,\n",
       " 'lang': 'en',\n",
       " 'listed_count': 0,\n",
       " 'live_following': False,\n",
       " 'location': 'Canada gally11saku',\n",
       " 'muting': False,\n",
       " 'name': 'clowncarbuncle_519EM',\n",
       " 'notifications': False,\n",
       " 'profile_background_color': '000000',\n",
       " 'profile_background_image_url': 'http://abs.twimg.com/images/themes/theme1/bg.png',\n",
       " 'profile_background_image_url_https': 'https://abs.twimg.com/images/themes/theme1/bg.png',\n",
       " 'profile_background_tile': False,\n",
       " 'profile_banner_url': 'https://pbs.twimg.com/profile_banners/1084139799525707776/1547332897',\n",
       " 'profile_image_url': 'http://pbs.twimg.com/profile_images/1084140063297097734/dgUY-UOz_normal.jpg',\n",
       " 'profile_image_url_https': 'https://pbs.twimg.com/profile_images/1084140063297097734/dgUY-UOz_normal.jpg',\n",
       " 'profile_link_color': '1B95E0',\n",
       " 'profile_sidebar_border_color': '000000',\n",
       " 'profile_sidebar_fill_color': '000000',\n",
       " 'profile_text_color': '000000',\n",
       " 'profile_use_background_image': False,\n",
       " 'protected': False,\n",
       " 'screen_name': 'si_ridi',\n",
       " 'status': {'contributors': None,\n",
       "  'coordinates': None,\n",
       "  'created_at': 'Mon Feb 25 07:17:36 +0000 2019',\n",
       "  'entities': {'hashtags': [],\n",
       "   'symbols': [],\n",
       "   'urls': [],\n",
       "   'user_mentions': [{'id': 3344423229,\n",
       "     'id_str': '3344423229',\n",
       "     'indices': [0, 10],\n",
       "     'name': 'Brendan Karet 🚮',\n",
       "     'screen_name': 'bad_takes'}]},\n",
       "  'favorite_count': 0,\n",
       "  'favorited': False,\n",
       "  'geo': None,\n",
       "  'id': 1099931401837834240,\n",
       "  'id_str': '1099931401837834240',\n",
       "  'in_reply_to_screen_name': 'bad_takes',\n",
       "  'in_reply_to_status_id': 1099747926824439808,\n",
       "  'in_reply_to_status_id_str': '1099747926824439808',\n",
       "  'in_reply_to_user_id': 3344423229,\n",
       "  'in_reply_to_user_id_str': '3344423229',\n",
       "  'is_quote_status': False,\n",
       "  'lang': 'en',\n",
       "  'place': None,\n",
       "  'retweet_count': 0,\n",
       "  'retweeted': False,\n",
       "  'source': '<a href=\"http://twitter.com\" rel=\"nofollow\">Twitter Web Client</a>',\n",
       "  'text': '@bad_takes I prefer mind extra-crunchy.',\n",
       "  'truncated': False},\n",
       " 'statuses_count': 63,\n",
       " 'time_zone': None,\n",
       " 'translator_type': 'none',\n",
       " 'url': None,\n",
       " 'utc_offset': None,\n",
       " 'verified': False}"
      ]
     },
     "execution_count": 2,
     "metadata": {},
     "output_type": "execute_result"
    }
   ],
   "source": [
    "with open('topic_users.json') as json_data:\n",
    "    followers_dict = json.load(json_data)\n",
    "    \n",
    "key = list(followers_dict.keys())[0]\n",
    "followers_dict[key][0]"
   ]
  },
  {
   "cell_type": "markdown",
   "metadata": {},
   "source": [
    "Where we actually have a lot of information about each user provided. From their profile picture, to their profile customization settings. Essentially what we have is a text description of each users public profile information. \n",
    "\n",
    "\n",
    "## Data Format \n",
    "\n",
    "In the above data set we have what is known as a `dictionary` where in we can access information based on a named key. In the data set above, our dictionary is formatted as such\n",
    "\n",
    "```python3\n",
    "    {\n",
    "        'User1' : [\"UserObject11, UserObject12, ..., UserObject1N],\n",
    "        'User2' : [\"UserObject21, UserObject22, ..., UserObject2N],\n",
    "        ...\n",
    "        'UserN' : [\"UserObjectN1, UserObjectN2, ..., UserObjectNN]\n",
    "    }\n",
    "```\n",
    "Where the `\"UserN\"` strings are the screen name of users we identified within our topic model, and the list after the colon is the list of that users followers user JSON object.\n",
    "\n",
    "\n",
    "## Where do our users reside? \n",
    "\n",
    "There's a lot of analysis we could do using this information - however for the most part we are only going to look at user names and follower relations. However, it is also important to take a look at the information each user has provided us in terms of their location. This is done in the cell below. "
   ]
  },
  {
   "cell_type": "code",
   "execution_count": 3,
   "metadata": {},
   "outputs": [
    {
     "data": {
      "image/png": "[encoded data removed]",
      "text/plain": [
       "<Figure size 864x576 with 1 Axes>"
      ]
     },
     "metadata": {
      "needs_background": "light"
     },
     "output_type": "display_data"
    }
   ],
   "source": [
    "locs = []\n",
    "\n",
    "for users in followers_dict.keys():\n",
    "    for follower in followers_dict[users]:\n",
    "        locs.append(follower['location'].lower())\n",
    "\n",
    "locations_counted = Counter(locs).most_common()\n",
    "\n",
    "y = []\n",
    "x = []\n",
    "for i in range(len(locations_counted)):\n",
    "    if locations_counted[i][1] > 50:\n",
    "        x.append(locations_counted[i][0])\n",
    "        y.append(locations_counted[i][1])\n",
    "\n",
    "plt.figure(figsize=(12,8))\n",
    "plt.barh(x[::-1],y[::-1]) \n",
    "plt.xlabel(\"Location Count\", size = 16)\n",
    "plt.ylabel(\"Location\", size = 16)\n",
    "plt.title(\"User Locations (Count > 50)\",size = 20)\n",
    "plt.show()"
   ]
  },
  {
   "cell_type": "markdown",
   "metadata": {},
   "source": [
    "Where the first bar with no label is the users who have not provided their location to Twitter's public data - and therefore we don't get to know their location. But for the most part these locations make sense - the majority with listed locations are from Alberta, our search box. However, we have other user locations in the above. These are likely the result of either tourists, or someone deciding to tweet from a location they are not currently in, as Twitter provides this functionality. \n",
    "\n",
    "# Finding your \"Influencers\" \n",
    "\n",
    "Certainly, we could take the naive approach and simply look for the user in our data set with the most followers like so"
   ]
  },
  {
   "cell_type": "code",
   "execution_count": 325,
   "metadata": {},
   "outputs": [
    {
     "name": "stdout",
     "output_type": "stream",
     "text": [
      "Zubes21\n",
      "RealOZPodcast\n",
      "ZachBoychuk\n",
      "Totaly followers of our top 10 users 22741483\n"
     ]
    },
    {
     "data": {
      "text/plain": [
       "[('benlandis', 3405548),\n",
       " ('MixMastaKing', 2743606),\n",
       " ('Broncos', 2637358),\n",
       " ('6BillionPeople', 2392746),\n",
       " ('ferhatgocer', 2303699),\n",
       " ('SiriouslySusan', 2124429),\n",
       " ('shwood', 1822504),\n",
       " ('KameronBennett', 1796334),\n",
       " ('MurrayNewlands', 1777564),\n",
       " ('CynthiaLIVE', 1737695)]"
      ]
     },
     "execution_count": 325,
     "metadata": {},
     "output_type": "execute_result"
    }
   ],
   "source": [
    "\n",
    "follower_count = {}\n",
    "for users in followers_dict.keys():\n",
    "    for follower in followers_dict[users]:\n",
    "        follower_count[follower['screen_name']]  = follower['followers_count']\n",
    "            \n",
    "        if users == \"RedMilePodcast\":\n",
    "            a = follower['screen_name']\n",
    "            if \"Z\" in a:\n",
    "                print(a)\n",
    "        \n",
    "\n",
    "power_users = sorted(follower_count.items(), key=itemgetter(1), reverse=True)[:10]\n",
    "power_users_counts =np.sum([i[1] for i in power_users])\n",
    "\n",
    "\n",
    "print(\"Totaly followers of our top 10 users\", power_users_counts)\n",
    "power_users"
   ]
  },
  {
   "cell_type": "markdown",
   "metadata": {},
   "source": [
    "Where the users above have 22,741,483 followers in total, nearly the population of Canada. However, an approach like this has some major disadvantages. \n",
    "\n",
    "\n",
    "1. If we wanted to run advertising through them, it would likely be expensive\n",
    "2. If we wanted to target them with advertising, it is probable that they don't use this account for anything but personal tweets/paid advertisement, and they will not re-tweet our content. \n",
    "3. It is likely their audiences are _not_ local to Alberta (where we're considering) \n",
    "4. Without paying for _a lot_ of data, we have no idea how much overlap of our user base we have - we won't know how many _unique_ people already \n",
    "\n",
    "\n",
    "However, it also has one major advantage:\n",
    "\n",
    "\n",
    "1. We'd be done our analysis already.\n",
    "\n",
    "\n",
    "For our purposes however, we'd like to do a couple of things\n",
    "\n",
    "1. Reach as many users from our data set as possible as we already have a strong reason to believe they're interested in the topic of interest already \n",
    "2. Identify the users that are most important to _our_ data set\n",
    "    * Use these users to reach as many people in the data set as possible\n",
    "    \n",
    "In order to do this, we're going to put our data on a graph. To be precise - two graphs to compare analysis. Our first will be a _directed_ graph where the follower-followee relationship is explicitly stated on the graph, and the second will be an _undirected_ graph, where only connections are made specific. Putting our data on the graph is done with the `networkx` graph package of python and done in the cell below. These graphs will allow us to quickly explore the relationships between all of our users and their followers, and use those relationships to derive some insights\n"
   ]
  },
  {
   "cell_type": "code",
   "execution_count": 302,
   "metadata": {},
   "outputs": [
    {
     "name": "stdout",
     "output_type": "stream",
     "text": [
      "Directed graph -- nodes: 12426 edges: 13293\n",
      "Undirected graph -- nodes: 12426 edges: 13282\n"
     ]
    }
   ],
   "source": [
    "network_vis = {}\n",
    "\n",
    "# Iterate over the users identified in our topic model \n",
    "for users in followers_dict.keys():\n",
    "    # Put their followers \n",
    "    user_names = []\n",
    "    for follower in followers_dict[users]:\n",
    "        # Only want screen name, not the whole user object \n",
    "        user_names.append(follower['screen_name']) \n",
    "    network_vis[users] = np.array(user_names)\n",
    "    \n",
    "# our directed graph\n",
    "directed_graph = nx.MultiDiGraph(network_vis)\n",
    "# our undirected graph \n",
    "undirected_graph = nx.Graph(network_vis)\n",
    "\n",
    "print(\"Directed graph -- nodes:\", directed_graph.number_of_nodes(), \"edges:\", directed_graph.number_of_edges())\n",
    "print(\"Undirected graph -- nodes:\", undirected_graph.number_of_nodes(), \"edges:\", undirected_graph.number_of_edges())"
   ]
  },
  {
   "cell_type": "markdown",
   "metadata": {},
   "source": [
    "From the above output, the number of nodes represents the number of users in our data set, and the number of edges is the number of relationships between those nodes. Let's get a sense for how connected our graphs are in order to quantify how these nodes are related. First, let's calculate the density of our graphs - a measure of overall connectivity. A density of 1 would imply that our graph is fully connected, and a density of 0 would imply our graph is not at all connected. Density is calculated using the following \n",
    "\n",
    "The density for undirected graphs is\n",
    "\n",
    "$$d = \\frac{2m}{n(n-1)},$$\n",
    "and for directed graphs is\n",
    "\n",
    "$$d = \\frac{m}{n(n-1)},$$\n",
    "where $n$ is the number of nodes and $m$ is the number of edges in the graph $G$. Note the factor of $2$ in the undirected graph is a result of the edges \"going both ways\" \n",
    "\n"
   ]
  },
  {
   "cell_type": "code",
   "execution_count": 291,
   "metadata": {},
   "outputs": [
    {
     "name": "stdout",
     "output_type": "stream",
     "text": [
      "Directed graph density 8.605957327742408e-05\n",
      "Undirected graph density 0.00017205437679999197\n"
     ]
    }
   ],
   "source": [
    "print(\"Directed graph density\", nx.density(directed_graph))\n",
    "print(\"Undirected graph density\", nx.density(undirected_graph))"
   ]
  },
  {
   "cell_type": "markdown",
   "metadata": {},
   "source": [
    "Where our graphs are _very_ low density. This is not surprising as we only gathered one degree of separation worth of data (direct followers), and as such we're missing the overall connectivity of many of the user relationships.\n",
    "\n",
    "## Which Nodes Are Most Influential? \n",
    "\n",
    "For our analysis there are two different metrics with which we can assess the importance of a given node. The easiest one to understand "
   ]
  },
  {
   "cell_type": "code",
   "execution_count": 303,
   "metadata": {},
   "outputs": [
    {
     "name": "stdout",
     "output_type": "stream",
     "text": [
      "Out Degree, Equivalent to number of followers\n",
      " [('montrealdesign', 250), ('Tkachukyou', 250), ('nattyroons', 250), ('sam_corea', 250), ('JC_in_Calgary', 250), ('Kinger999', 250), ('ericcbarnes', 250), ('CanadianUnikorn', 250), ('CrazySteveC', 250), ('JasonP_YYC', 250), ('VincentRule', 250), ('TSN1260', 250), ('MykAussie', 250), ('jeffmadams', 250), ('bramhabs98', 250), ('Malicelast', 250), ('YoitsYohane', 250), ('LeafsBottleGang', 250), ('IanIdeaman7', 250), ('PrismaticHab', 250), ('OilersNerdAlert', 250), ('daviest', 250), ('Fan960Wills', 250), ('jaonesix', 250), ('TeamLG3', 250), ('MTLShaggy', 250), ('WCSportsCA', 250), ('Oil_Drop', 250), ('TommyChong840', 250), ('TheRealJimmyJam', 250)]\n",
      "\n",
      "In Degree, Equivalent to number of people following \n",
      " [('AzorcanGlobal', 12), ('ZachBoychuk', 9), ('WTPuckHockey', 9), ('BobbyNickParody', 8), ('SpencerWeaver13', 7), ('TrackerFlames', 7), ('sidepix', 7), ('TLaboucan72', 6), ('dale_l_sheehan', 6), ('ChuckinNucksPod', 6), ('flamestrades', 6), ('FanofYYC', 6), ('PantsDonkey', 5), ('ohmyhabs', 5), ('Miaka65560219', 5), ('thehockeyprobe', 5), ('SeattleHockey5', 5), ('DJordatron', 5), ('ThePuck77', 5), ('spiderhead3', 5), ('noahadler1', 5), ('chernia_john', 5), ('EverythingOile1', 5), ('Sebstown', 5), ('StanfordJer', 5), ('Snakebite350', 5), ('Ade780', 5), ('JC_in_Calgary', 4), ('fakederekwills', 4), ('James53490786', 4)]\n",
      "\n",
      "Degree, equivalent to followers and following\n",
      " [('Tkachukyou', 252), ('JC_in_Calgary', 252), ('sam_corea', 251), ('CrazySteveC', 251), ('Fan960Wills', 251), ('TommyChong840', 251), ('zjlaing', 251), ('ChadMulligan', 251), ('montrealdesign', 250), ('nattyroons', 250), ('Kinger999', 250), ('ericcbarnes', 250), ('CanadianUnikorn', 250), ('JasonP_YYC', 250), ('VincentRule', 250), ('MykAussie', 250), ('jeffmadams', 250), ('bramhabs98', 250), ('YoitsYohane', 250), ('LeafsBottleGang', 250), ('IanIdeaman7', 250), ('PrismaticHab', 250), ('OilersNerdAlert', 250), ('daviest', 250), ('TeamLG3', 250), ('MTLShaggy', 250), ('WCSportsCA', 250), ('Oil_Drop', 250), ('TheRealJimmyJam', 250), ('PatriciaPitsel', 250)]\n"
     ]
    }
   ],
   "source": [
    "\n",
    "print(\"Out Degree, Equivalent to number of followers\\n\" ,sorted(directed_graph.out_degree(), key=lambda x:x[1], reverse=True)[:30])\n",
    "print()\n",
    "print(\"In Degree, Equivalent to number of people following \\n\", sorted(directed_graph.in_degree(), key=lambda x:x[1], reverse=True)[:30])\n",
    "print()\n",
    "print(\"Degree, equivalent to followers and following\\n\", sorted(undirected_graph.degree(), key=lambda x:x[1], reverse=True)[:30])\n"
   ]
  },
  {
   "cell_type": "code",
   "execution_count": 304,
   "metadata": {},
   "outputs": [
    {
     "data": {
      "text/plain": [
       "['JC_in_Calgary',\n",
       " 'ChinookArchYYC',\n",
       " 'Tkachukyou',\n",
       " 'jaonesix',\n",
       " 'CrazySteveC',\n",
       " 'zjlaing',\n",
       " 'RedMilePodcast',\n",
       " 'Kinger999',\n",
       " 'Oil_Drop',\n",
       " 'OilersNerdAlert',\n",
       " 'sam_corea',\n",
       " 'emiily_morrison',\n",
       " 'ChadMulligan',\n",
       " 'VincentRule',\n",
       " 'TeamLG3',\n",
       " 'MarcMnM',\n",
       " 'SpencerWeaver13',\n",
       " 'TrackerFlames',\n",
       " 'flamestrades',\n",
       " 'noahadler1',\n",
       " 'FanofYYC',\n",
       " 'TSN1260',\n",
       " 'Artman101a',\n",
       " 'turkeynator_85',\n",
       " 'fakederekwills',\n",
       " 'ChuckinNucksPod',\n",
       " 'wdl09',\n",
       " 'StanfordJer',\n",
       " 'SeattleHockey5',\n",
       " 'thehockeyprobe']"
      ]
     },
     "execution_count": 304,
     "metadata": {},
     "output_type": "execute_result"
    }
   ],
   "source": [
    "\n",
    "list(OrderedDict(sorted(nx.eigenvector_centrality_numpy(undirected_graph).items(), key=itemgetter(1),reverse=True)).keys())[:30]"
   ]
  },
  {
   "cell_type": "code",
   "execution_count": 349,
   "metadata": {},
   "outputs": [
    {
     "ename": "KeyError",
     "evalue": "'ZachBoychuk'",
     "output_type": "error",
     "traceback": [
      "\u001b[0;31m---------------------------------------------------------------------------\u001b[0m",
      "\u001b[0;31mKeyError\u001b[0m                                  Traceback (most recent call last)",
      "\u001b[0;32m<ipython-input-349-3fa179b67319>\u001b[0m in \u001b[0;36m<module>\u001b[0;34m()\u001b[0m\n\u001b[0;32m----> 1\u001b[0;31m \u001b[0mfollowers_dict\u001b[0m\u001b[0;34m[\u001b[0m\u001b[0;34m'ZachBoychuk'\u001b[0m\u001b[0;34m]\u001b[0m\u001b[0;34m\u001b[0m\u001b[0m\n\u001b[0m",
      "\u001b[0;31mKeyError\u001b[0m: 'ZachBoychuk'"
     ]
    }
   ],
   "source": [
    "followers_dict['ZachBoychuk']"
   ]
  },
  {
   "cell_type": "code",
   "execution_count": 436,
   "metadata": {
    "scrolled": false
   },
   "outputs": [
    {
     "name": "stdout",
     "output_type": "stream",
     "text": [
      "Too many nodes for reasonable graph\n"
     ]
    }
   ],
   "source": [
    "\n",
    "# Without reverse it is their followers, with reverse it is who they follow\n",
    "\n",
    "\n",
    "person = 'JC_in_Calgary'\n",
    "to_reverse = False\n",
    "if to_reverse:\n",
    "    ego_graph = nx.ego_graph(directed_graph.reverse() ,person, radius=1, undirected=False, center=True)\n",
    "else:\n",
    "    ego_graph = nx.ego_graph(directed_graph ,person, radius=2, undirected=False, center=True)\n",
    "if len(ego_graph.nodes()) > 500:\n",
    "    print(\"Too many nodes for reasonable graph\")\n",
    "    ego_graph = None\n",
    "   \n"
   ]
  },
  {
   "cell_type": "code",
   "execution_count": 432,
   "metadata": {},
   "outputs": [
    {
     "data": {
      "text/html": [
       "\n",
       "        <iframe\n",
       "            width=\"900\"\n",
       "            height=\"500\"\n",
       "            src=\"example.html\"\n",
       "            frameborder=\"0\"\n",
       "            allowfullscreen\n",
       "        ></iframe>\n",
       "        "
      ],
      "text/plain": [
       "<IPython.lib.display.IFrame at 0x130564eb8>"
      ]
     },
     "execution_count": 432,
     "metadata": {},
     "output_type": "execute_result"
    }
   ],
   "source": [
    "\n",
    "G = net.Network(\"500\", \"900\", notebook=True, directed=True)\n",
    "    \n",
    "if person not in followers_dict.keys():\n",
    "     G.from_nx(ego_graph.reverse())\n",
    "# reversed here for arrow labels        \n",
    "elif to_reverse:\n",
    "    G.from_nx(ego_graph)\n",
    "else:\n",
    "    G.from_nx(ego_graph.reverse())\n",
    "grad = gradient ('#85C1E9', \"#E59866\", len(G.nodes))\n",
    "for i, node in enumerate(G.nodes):\n",
    "    #node['size'] = degree_dict[node['title']]\n",
    "    node['color'] = grad[i]\n",
    "    \n",
    "\n",
    "for i, edge in enumerate(G.edges):\n",
    "    edge['title'] = \"Follows\"\n",
    "\n",
    "\n",
    "G.show_buttons(filter_=['physics'])\n",
    "G.repulsion(node_distance=200)\n",
    "G.prep_notebook()\n",
    "G.show(\"example.html\")\n"
   ]
  },
  {
   "cell_type": "code",
   "execution_count": null,
   "metadata": {},
   "outputs": [],
   "source": []
  },
  {
   "cell_type": "code",
   "execution_count": 12,
   "metadata": {},
   "outputs": [],
   "source": [
    "# convert HEX-code to decimal\n",
    "def hex2rgb(color):\n",
    "    return tuple(int(color.lstrip('#')[i:i+2], 16) for i in (0, 2 ,4))\n",
    "\n",
    "# Decimal number to HEX str\n",
    "def dec2hex(n):\n",
    "    n = int(n)\n",
    "    if (n > 16):\n",
    "        return str(hex(n).split('x')[-1])\n",
    "    else:\n",
    "        return \"0\" + str(hex(n).split('x')[-1])\n",
    "\n",
    "# Gradient starting at color \"start\" to color \"stop\" with \"steps\" colors\n",
    "# Not include start and stop colors to result\n",
    "def gradient(start, stop, steps):\n",
    "    out = []\n",
    "    r = hex2rgb(start)[0]\n",
    "    g = hex2rgb(start)[1]\n",
    "    b = hex2rgb(start)[2]\n",
    "    r_step = (hex2rgb(stop)[0] - r) / steps\n",
    "    g_step = (hex2rgb(stop)[1] - g) / steps \n",
    "    b_step = (hex2rgb(stop)[2] - b) / steps \n",
    "    for i in range(steps):\n",
    "        r = r + r_step\n",
    "        g = g + g_step\n",
    "        b = b + b_step\n",
    "        out.append(\"#\" + dec2hex(r) + dec2hex(g) + dec2hex(b))\n",
    "    return out\n",
    "# Gradient for blue with 50 steps\n",
    "mycolor = \"#000011\"\n",
    "grad = gradient (mycolor, \"#0000ff\",50)"
   ]
  },
  {
   "cell_type": "code",
   "execution_count": 145,
   "metadata": {},
   "outputs": [],
   "source": [
    "user_list = ['montrealdesign',\n",
    " 'Tkachukyou',\n",
    " 'nattyroons',\n",
    " 'sam_corea',\n",
    " 'JC_in_Calgary',\n",
    " 'Kinger999',\n",
    " 'ericcbarnes',\n",
    " 'CanadianUnikorn',\n",
    " 'CrazySteveC',\n",
    " 'AdamRiz',\n",
    " 'RedMilePodcast',\n",
    " 'JasonP_YYC',\n",
    " 'VincentRule',\n",
    " 'TSN1260',\n",
    " 'xnduiw',\n",
    " 'thebove',\n",
    " 'MykAussie',\n",
    " 'jeffmadams',\n",
    " 'bramhabs98',\n",
    " 'Malicelast',\n",
    " 'YoitsYohane',\n",
    " 'LeafsBottleGang',\n",
    " 'jessmayumba85',\n",
    " 'VM_102914',\n",
    " 'IanIdeaman7',\n",
    " 'james_tinney',\n",
    " 'PrismaticHab',\n",
    " 'yuskiwxs',\n",
    " 'OilersNerdAlert',\n",
    " 'House_O_Sin',\n",
    " 'JamesBarnsley30',\n",
    " 'daviest',\n",
    " 'Fan960Wills',\n",
    " 'jaonesix',\n",
    " 'TeamLG3',\n",
    " 'MTLShaggy',\n",
    " 'MarcMnM',\n",
    " 'avvy73',\n",
    " 'DonaldsonG61',\n",
    " 'acevolleyclub',\n",
    " 'WCSportsCA',\n",
    " 'Oil_Drop',\n",
    " 'TommyChong840',\n",
    " 'TheRealJimmyJam',\n",
    " 'PatriciaPitsel',\n",
    " 'Teresa_Sturgess',\n",
    " 'zjlaing',\n",
    " 'Swizzlerz',\n",
    " 'Royal_Conquest',\n",
    " 'MechkeysCA',\n",
    " 'emiily_morrison',\n",
    " 'ChadMulligan',\n",
    " 'Artman101a',\n",
    " 'BackwordssirhC',\n",
    " 'ClarkeRaodi123',\n",
    " 'ChinookArchYYC',\n",
    " 'stevensandor',\n",
    " 'AmpedAthletes',\n",
    " 'CBHABAARangers',\n",
    " 'turkeynator_85',\n",
    " 'mathayles',\n",
    " 'scottstilesgolf',\n",
    " 'DebatingEminem',\n",
    " 'rottenscoundral',\n",
    " 'kunuks',\n",
    " 'BradWal42541517']"
   ]
  },
  {
   "cell_type": "code",
   "execution_count": 261,
   "metadata": {},
   "outputs": [],
   "source": [
    "paths = []\n",
    "nope = []\n",
    "count = 0\n",
    "user_list = list(OrderedDict(sorted(nx.eigenvector_centrality_numpy(directed_graph).items(), key=itemgetter(1),reverse=True)).keys())[:50]\n",
    "\n",
    "for i, user1 in enumerate(user_list):\n",
    "    for j, user2 in enumerate(user_list):\n",
    "        if i == j:\n",
    "            continue\n",
    "        try:\n",
    "            has_path = nx.has_path(directed_graph,user1, user2)\n",
    "        except Exception as e:\n",
    "            print(e)\n",
    "            \n",
    "        if has_path:\n",
    "            p = nx.shortest_path(directed_graph, source=user1, target=user2)\n",
    "            paths.append(list(p))\n",
    "        if not has_path:\n",
    "            pass\n",
    "\n",
    "\n",
    "path = g.subgraph([item for sublist in paths for item in sublist])\n"
   ]
  },
  {
   "cell_type": "code",
   "execution_count": null,
   "metadata": {},
   "outputs": [],
   "source": []
  },
  {
   "cell_type": "code",
   "execution_count": 262,
   "metadata": {},
   "outputs": [
    {
     "data": {
      "text/html": [
       "\n",
       "        <iframe\n",
       "            width=\"1000\"\n",
       "            height=\"750\"\n",
       "            src=\"example3.html\"\n",
       "            frameborder=\"0\"\n",
       "            allowfullscreen\n",
       "        ></iframe>\n",
       "        "
      ],
      "text/plain": [
       "<IPython.lib.display.IFrame at 0x122b80400>"
      ]
     },
     "execution_count": 262,
     "metadata": {},
     "output_type": "execute_result"
    }
   ],
   "source": [
    "\n",
    "G = net.Network(\"750\", \"1000\", notebook=True, directed=False)\n",
    "G.from_nx(path)\n",
    "grad = gradient ('#6f2f7B', \"#99fbb3\", len(G.nodes))\n",
    "for i, node in enumerate(G.nodes):\n",
    "    #node['size'] = degree_dict[node['title']]\n",
    "    node['color'] = grad[i]\n",
    "\n",
    "G.show_buttons(filter_=['physics'])\n",
    "G.repulsion(node_distance=200)\n",
    "G.prep_notebook()\n",
    "G.show(\"example3.html\")\n"
   ]
  },
  {
   "cell_type": "code",
   "execution_count": 271,
   "metadata": {},
   "outputs": [],
   "source": [
    "path2 = nx.Graph(path)\n",
    "graphs = list(nx.connected_component_subgraphs(path2))\n",
    "\n",
    "G = net.Network(\"750\", \"1000\", notebook=True, directed=False)\n",
    "G.from_nx(graphs[0])\n",
    "grad = gradient ('#6f2f7B', \"#99fbb3\", len(G.nodes))\n",
    "for i, node in enumerate(G.nodes):\n",
    "    #node['size'] = degree_dict[node['title']]\n",
    "    node['color'] = grad[i]\n",
    "\n",
    "G.show_buttons(filter_=['physics'])\n",
    "G.repulsion(node_distance=200)\n",
    "G.prep_notebook()\n",
    "#G.show(\"example4.html\")\n"
   ]
  },
  {
   "cell_type": "code",
   "execution_count": 188,
   "metadata": {},
   "outputs": [
    {
     "data": {
      "text/plain": [
       "4002"
      ]
     },
     "execution_count": 188,
     "metadata": {},
     "output_type": "execute_result"
    }
   ],
   "source": [
    "targets = t #list(graphs[0].nodes())\n",
    "range_of_influence = targets \n",
    "\n",
    "for node in targets:\n",
    "    try:\n",
    "        followers = g.neighbors(node)\n",
    "    except:\n",
    "        break\n",
    "    range_of_influence.append(list(followers))\n",
    "    \n",
    "range_of_influence = set([item for sublist in range_of_influence for item in sublist])\n",
    "range_of_influence = list(range_of_influence)\n",
    "\n",
    "subby = g.subgraph(range_of_influence)\n",
    "\n",
    "G = net.Network(\"750\", \"1000\", notebook=True, directed=True)\n",
    "G.from_nx(subby)\n",
    "grad = gradient ('#6f2f7B', \"#99fbb3\", len(G.nodes))\n",
    "for i, node in enumerate(G.nodes):\n",
    "    #node['size'] = degree_dict[node['title']]\n",
    "    node['color'] = grad[i]\n",
    "\n",
    "G.show_buttons(filter_=['physics'])\n",
    "G.repulsion(node_distance=200)\n",
    "G.prep_notebook()\n",
    "G.show(\"example5.html\")\n",
    "len(subby.nodes())"
   ]
  },
  {
   "cell_type": "code",
   "execution_count": 180,
   "metadata": {},
   "outputs": [
    {
     "data": {
      "text/plain": [
       "[<matplotlib.lines.Line2D at 0x1268b3550>]"
      ]
     },
     "execution_count": 180,
     "metadata": {},
     "output_type": "execute_result"
    },
    {
     "data": {
      "image/png": "[encoded data removed]",
      "text/plain": [
       "<Figure size 432x288 with 1 Axes>"
      ]
     },
     "metadata": {
      "needs_background": "light"
     },
     "output_type": "display_data"
    }
   ],
   "source": [
    "users_met = []\n",
    "range_of_influence = []\n",
    "for i in range(5,200):\n",
    "    targets = list(OrderedDict(sorted(nx.eigenvector_centrality_numpy(g2).items(),\n",
    "                                        key=itemgetter(1),\n",
    "                                        reverse=True)).keys())[:i]\n",
    "    for node in targets:\n",
    "        try:\n",
    "            followers = g.neighbors(node)\n",
    "        except:\n",
    "            break\n",
    "\n",
    "        range_of_influence.append(list(followers))\n",
    "    \n",
    "    range_of_influence = set([item for sublist in range_of_influence for item in sublist])\n",
    "    range_of_influence = list(range_of_influence)\n",
    "    subby = g.subgraph(range_of_influence)\n",
    "    users_met.append(len(subby.nodes()))\n",
    "    \n",
    "plt.plot(users_met)\n",
    "    \n",
    "    "
   ]
  },
  {
   "cell_type": "code",
   "execution_count": 257,
   "metadata": {},
   "outputs": [],
   "source": [
    "targets = list(OrderedDict(sorted(nx.eigenvector_centrality_numpy(g2).items(),\n",
    "                                        key=itemgetter(1),\n",
    "                                        reverse=True)).keys())[:50]\n",
    "\n",
    "for node in targets:\n",
    "    try:\n",
    "        followers = g.neighbors(node)\n",
    "    except:\n",
    "        break\n",
    "\n",
    "    range_of_influence.append(list(followers))\n",
    "\n",
    "range_of_influence = set([item for sublist in range_of_influence for item in sublist])\n",
    "range_of_influence = list(range_of_influence)\n",
    "subby = g.subgraph(range_of_influence)\n",
    "\n",
    "\n",
    "one = sorted(subby.degree(), key=lambda x:x[1], reverse=True)[:30]\n",
    "one_nodes = [i[0] for i in one]\n",
    "\n",
    "two = sorted(undirected_graph.degree(), key=lambda x:x[1], reverse=True)[:30]\n",
    "two_nodes = [i[0] for i in two]"
   ]
  },
  {
   "cell_type": "code",
   "execution_count": 260,
   "metadata": {},
   "outputs": [
    {
     "data": {
      "text/plain": [
       "5845"
      ]
     },
     "execution_count": 260,
     "metadata": {},
     "output_type": "execute_result"
    }
   ],
   "source": [
    "\n",
    "for node in one_nodes:\n",
    "    try:\n",
    "        followers = g.neighbors(node)\n",
    "    except:\n",
    "        break\n",
    "\n",
    "    range_of_influence.append(list(followers))\n",
    "\n",
    "range_of_influence = set([item for sublist in range_of_influence for item in sublist])\n",
    "range_of_influence = list(range_of_influence)\n",
    "subby = g.subgraph(range_of_influence)\n",
    "len(subby.nodes())"
   ]
  },
  {
   "cell_type": "code",
   "execution_count": 249,
   "metadata": {},
   "outputs": [
    {
     "data": {
      "text/plain": [
       "['dale_l_sheehan',\n",
       " 'ZachBoychuk',\n",
       " 'AzorcanGlobal',\n",
       " 'BobbyNickParody',\n",
       " 'TrackerFlames',\n",
       " 'sidepix',\n",
       " 'SpencerWeaver13',\n",
       " 'TLaboucan72',\n",
       " 'WTPuckHockey',\n",
       " 'ChuckinNucksPod']"
      ]
     },
     "execution_count": 249,
     "metadata": {},
     "output_type": "execute_result"
    }
   ],
   "source": [
    "list(set(two_nodes) - set(one_nodes))\n"
   ]
  },
  {
   "cell_type": "code",
   "execution_count": 250,
   "metadata": {
    "lang": "en"
   },
   "outputs": [
    {
     "data": {
      "text/plain": [
       "['turkeynator_85',\n",
       " 'JC_in_Calgary',\n",
       " 'TeamLG3',\n",
       " 'sam_corea',\n",
       " 'Oil_Drop',\n",
       " 'Kinger999',\n",
       " 'ChadMulligan',\n",
       " 'zjlaing',\n",
       " 'CrazySteveC',\n",
       " 'Tkachukyou']"
      ]
     },
     "execution_count": 250,
     "metadata": {},
     "output_type": "execute_result"
    }
   ],
   "source": [
    "list(set(one_nodes) - set(two_nodes))"
   ]
  },
  {
   "cell_type": "markdown",
   "metadata": {
    "lang": "fr"
   },
   "source": [
    "list (set (un _nœuds) - set (deux_ nœuds))"
   ]
  },
  {
   "cell_type": "code",
   "execution_count": 251,
   "metadata": {},
   "outputs": [
    {
     "data": {
      "text/plain": [
       "['JC_in_Calgary',\n",
       " 'Tkachukyou',\n",
       " 'zjlaing',\n",
       " 'CrazySteveC',\n",
       " 'sam_corea',\n",
       " 'ChadMulligan',\n",
       " 'Kinger999',\n",
       " 'TeamLG3',\n",
       " 'turkeynator_85',\n",
       " 'Oil_Drop']"
      ]
     },
     "execution_count": 251,
     "metadata": {},
     "output_type": "execute_result"
    }
   ],
   "source": [
    "one_nodes"
   ]
  },
  {
   "cell_type": "code",
   "execution_count": 252,
   "metadata": {},
   "outputs": [
    {
     "data": {
      "text/plain": [
       "['AzorcanGlobal',\n",
       " 'ZachBoychuk',\n",
       " 'WTPuckHockey',\n",
       " 'BobbyNickParody',\n",
       " 'SpencerWeaver13',\n",
       " 'TrackerFlames',\n",
       " 'sidepix',\n",
       " 'TLaboucan72',\n",
       " 'dale_l_sheehan',\n",
       " 'ChuckinNucksPod']"
      ]
     },
     "execution_count": 252,
     "metadata": {},
     "output_type": "execute_result"
    }
   ],
   "source": [
    "two_nodes"
   ]
  }
 ],
 "metadata": {
  "kernelspec": {
   "display_name": "Python 3",
   "language": "python",
   "name": "python3"
  },
  "language_info": {
   "codemirror_mode": {
    "name": "ipython",
    "version": 3
   },
   "file_extension": ".py",
   "mimetype": "text/x-python",
   "name": "python",
   "nbconvert_exporter": "python",
   "pygments_lexer": "ipython3",
   "version": "3.6.5"
  },
  "nbTranslate": {
   "displayLangs": [
    "*"
   ],
   "hotkey": "alt-t",
   "langInMainMenu": true,
   "sourceLang": "en",
   "targetLang": "fr",
   "useGoogleTranslate": true
  }
 },
 "nbformat": 4,
 "nbformat_minor": 2
}
